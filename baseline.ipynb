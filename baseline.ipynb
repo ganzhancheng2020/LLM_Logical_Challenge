{
 "cells": [
  {
   "cell_type": "code",
   "execution_count": 1,
   "id": "9a37796c-69e7-4502-ab82-3aceca1f7fbf",
   "metadata": {
    "ExecutionIndicator": {
     "show": true
    },
    "execution": {
     "iopub.execute_input": "2024-08-11T07:58:03.557727Z",
     "iopub.status.busy": "2024-08-11T07:58:03.557497Z",
     "iopub.status.idle": "2024-08-11T07:58:04.520456Z",
     "shell.execute_reply": "2024-08-11T07:58:04.519782Z",
     "shell.execute_reply.started": "2024-08-11T07:58:03.557710Z"
    },
    "tags": []
   },
   "outputs": [],
   "source": [
    "from multiprocessing import Process, Manager\n",
    "import json\n",
    "import os\n",
    "from pprint import pprint\n",
    "import re\n",
    "from tqdm import tqdm\n",
    "import random\n",
    "\n",
    "import uuid\n",
    "import openai\n",
    "import tiktoken\n",
    "import json\n",
    "import numpy as np\n",
    "import requests\n",
    "from retry import retry\n",
    "from scipy import sparse\n",
    "#from rank_bm25 import BM25Okapi\n",
    "#import jieba\n",
    "from http import HTTPStatus\n",
    "import dashscope\n",
    "from dotenv import dotenv_values\n",
    "config = dotenv_values('.env')"
   ]
  },
  {
   "cell_type": "code",
   "execution_count": 3,
   "id": "308473de-f20e-41b6-a57d-af5e553a9866",
   "metadata": {
    "ExecutionIndicator": {
     "show": false
    },
    "execution": {
     "iopub.execute_input": "2024-08-11T07:58:04.527602Z",
     "iopub.status.busy": "2024-08-11T07:58:04.527171Z",
     "iopub.status.idle": "2024-08-11T07:58:04.531445Z",
     "shell.execute_reply": "2024-08-11T07:58:04.531004Z",
     "shell.execute_reply.started": "2024-08-11T07:58:04.527586Z"
    },
    "tags": []
   },
   "outputs": [],
   "source": [
    "MODEL_NAME = 'qwen2-7b-instruct'\n",
    "dashscope.api_key = config['qwen_key'],\n",
    "\n",
    "@retry(delay=60, tries=3)\n",
    "def call_qwen_api(MODEL_NAME, query):\n",
    "    messages = [\n",
    "        {'role': 'user', 'content': query}]\n",
    "    response = dashscope.Generation.call(\n",
    "        MODEL_NAME,\n",
    "        messages=messages,\n",
    "        result_format='message',  # set the result is message format.\n",
    "    )\n",
    "    if response.status_code == HTTPStatus.OK:\n",
    "        #print(response)\n",
    "        return response['output']['choices'][0]['message']['content']\n",
    "    else:\n",
    "        print('Request id: %s, Status code: %s, error code: %s, error message: %s' % (\n",
    "            response.request_id, response.status_code,\n",
    "            response.code, response.message\n",
    "        ))\n",
    "        raise Exception()"
   ]
  },
  {
   "cell_type": "code",
   "execution_count": 4,
   "id": "5424028d-b0a0-48ed-ba5d-6cf39445ba8f",
   "metadata": {
    "execution": {
     "iopub.execute_input": "2024-08-11T07:58:04.532340Z",
     "iopub.status.busy": "2024-08-11T07:58:04.532047Z",
     "iopub.status.idle": "2024-08-11T07:58:04.535213Z",
     "shell.execute_reply": "2024-08-11T07:58:04.534799Z",
     "shell.execute_reply.started": "2024-08-11T07:58:04.532319Z"
    },
    "tags": []
   },
   "outputs": [],
   "source": [
    "def get_prompt(problem, question, options):\n",
    "\n",
    "    options = '\\n'.join(f\"{'ABCDEFG'[i]}. {o}\" for i, o in enumerate(options))\n",
    "\n",
    "    prompt = f\"\"\"你是一个逻辑推理专家，擅长解决逻辑推理问题。以下是一个逻辑推理的题目，形式为单项选择题。所有的问题都是（close-world assumption）闭世界假设，即未观测事实都为假。请逐步分析问题并在最后一行输出答案，最后一行的格式为\"答案是：A\"。题目如下：\n",
    "\n",
    "### 题目:\n",
    "{problem}\n",
    "\n",
    "### 问题:\n",
    "{question}\n",
    "{options}\n",
    "\"\"\"\n",
    "\n",
    "    return prompt"
   ]
  },
  {
   "cell_type": "code",
   "execution_count": 5,
   "id": "f7734a4a-4754-4155-a020-8a8f1d81a3c6",
   "metadata": {
    "execution": {
     "iopub.execute_input": "2024-08-11T07:58:04.536732Z",
     "iopub.status.busy": "2024-08-11T07:58:04.536483Z",
     "iopub.status.idle": "2024-08-11T07:58:04.539052Z",
     "shell.execute_reply": "2024-08-11T07:58:04.538597Z",
     "shell.execute_reply.started": "2024-08-11T07:58:04.536717Z"
    },
    "tags": []
   },
   "outputs": [],
   "source": [
    "def extract(input_text):\n",
    "    ans_pattern = re.compile(r\"答案是：(.)\", re.S)\n",
    "\n",
    "    problems = ans_pattern.findall(input_text)\n",
    "    return problems[0]"
   ]
  },
  {
   "cell_type": "code",
   "execution_count": 6,
   "id": "107a3ec7-4e77-47ec-8622-cac15253eda8",
   "metadata": {
    "execution": {
     "iopub.execute_input": "2024-08-11T07:58:04.539726Z",
     "iopub.status.busy": "2024-08-11T07:58:04.539580Z",
     "iopub.status.idle": "2024-08-11T07:58:04.543131Z",
     "shell.execute_reply": "2024-08-11T07:58:04.542682Z",
     "shell.execute_reply.started": "2024-08-11T07:58:04.539712Z"
    },
    "tags": []
   },
   "outputs": [],
   "source": [
    "def produce(data, MODEL_NAME, return_list, pid):\n",
    "    tqdm1 = tqdm\n",
    "    for task in tqdm1(data):\n",
    "            problem = task['problem']\n",
    "            for question in task['questions']:\n",
    "\n",
    "                prompt = get_prompt(problem, \n",
    "                                    question['question'], \n",
    "                                    question['options'],\n",
    "                                    )\n",
    "\n",
    "                response = call_qwen_api(MODEL_NAME, prompt)\n",
    "                try:\n",
    "                    extract_response = extract(response)\n",
    "                    question[MODEL_NAME] = extract_response\n",
    "                    if pid == 0:\n",
    "                        pprint(extract_response)\n",
    "                    break\n",
    "                except:\n",
    "                    pass\n",
    "            \n",
    "            return_list.append(task)"
   ]
  },
  {
   "cell_type": "code",
   "execution_count": 7,
   "id": "cdb0e780-bc1d-412c-8edc-759aa12c6ab3",
   "metadata": {
    "execution": {
     "iopub.execute_input": "2024-08-11T07:58:04.543950Z",
     "iopub.status.busy": "2024-08-11T07:58:04.543703Z",
     "iopub.status.idle": "2024-08-11T07:58:04.549084Z",
     "shell.execute_reply": "2024-08-11T07:58:04.548678Z",
     "shell.execute_reply.started": "2024-08-11T07:58:04.543935Z"
    },
    "tags": []
   },
   "outputs": [],
   "source": [
    "def main(ifn, ofn):\n",
    "    # 如果输出文件已经存在，则不进行处理\n",
    "    if os.path.exists(ofn):\n",
    "        pass\n",
    "\n",
    "    # 设置进程池大小\n",
    "    POOL_SIZE = 5\n",
    "    data = []\n",
    "\n",
    "    # 读取输入文件\n",
    "    with open(ifn) as reader:\n",
    "        for line in reader:\n",
    "            # 解析每一行JSON数据\n",
    "            sample = json.loads(line)\n",
    "            data.append(sample)\n",
    "\n",
    "    # 打乱数据顺序\n",
    "    random.shuffle(data)\n",
    "\n",
    "    # 将数据分割成POOL_SIZE个子列表\n",
    "    datas = [data[i::POOL_SIZE] for i in range(POOL_SIZE)]\n",
    "\n",
    "    # 使用Manager创建一个共享对象\n",
    "    with Manager() as manager:\n",
    "        # 创建一个共享列表，用于存储所有进程的结果\n",
    "        return_list = manager.list()\n",
    "\n",
    "        # 创建进程列表\n",
    "        producers = []\n",
    "        for i in range(POOL_SIZE):\n",
    "            # 创建每个进程，传递数据子集、模型名称、结果列表和进程编号\n",
    "            p = Process(target=produce,\n",
    "                        args=(datas[i],  # 数据子集\n",
    "                              MODEL_NAME,  # 模型名称\n",
    "                              return_list,  # 共享结果列表\n",
    "                              i,  # 进程编号\n",
    "                              )\n",
    "                        )\n",
    "            producers.append(p)\n",
    "\n",
    "        # 启动所有进程\n",
    "        for p in producers:\n",
    "            p.start()\n",
    "\n",
    "        # 等待所有进程完成\n",
    "        for p in producers:\n",
    "            p.join()\n",
    "\n",
    "        # 输出结果列表的长度\n",
    "        print(len(return_list))\n",
    "\n",
    "        # 写入输出文件\n",
    "        with open(ofn, 'w') as writer:\n",
    "            for sample in return_list:\n",
    "                # 将结果写入文件\n",
    "                writer.write(json.dumps(sample, ensure_ascii=False))\n",
    "                writer.write('\\n')\n",
    "\n",
    "    # 输出任务完成的消息\n",
    "    print(\"All tasks finished!\")\n",
    "\n",
    "    # 调用评估函数\n",
    "    evaluate(ofn)"
   ]
  },
  {
   "cell_type": "code",
   "execution_count": 8,
   "id": "5266c650-e79a-478d-b6a7-ea68b856aa81",
   "metadata": {
    "execution": {
     "iopub.execute_input": "2024-08-11T07:58:04.549988Z",
     "iopub.status.busy": "2024-08-11T07:58:04.549648Z",
     "iopub.status.idle": "2024-08-11T07:58:04.553109Z",
     "shell.execute_reply": "2024-08-11T07:58:04.552713Z",
     "shell.execute_reply.started": "2024-08-11T07:58:04.549973Z"
    },
    "tags": []
   },
   "outputs": [],
   "source": [
    "def evaluate(ofn):\n",
    "    data = []\n",
    "    with open(ofn) as reader:\n",
    "        for line in reader:\n",
    "            sample = json.loads(line)\n",
    "            data.append(sample)\n",
    "\n",
    "    pse = 0\n",
    "    cnt = 0\n",
    "    tot = 0\n",
    "    for task in data:\n",
    "        for question in task['questions']:\n",
    "            \n",
    "            if MODEL_NAME in question:\n",
    "                tot += 1\n",
    "                cnt += question[MODEL_NAME] == question['answer']\n",
    "            else:\n",
    "                pse += 1\n",
    "\n",
    "    print(cnt, tot, cnt/tot, pse)"
   ]
  },
  {
   "cell_type": "code",
   "execution_count": 9,
   "id": "12c56d9c-ffd8-468d-9e7e-b7e881c914d1",
   "metadata": {
    "ExecutionIndicator": {
     "show": true
    },
    "execution": {
     "iopub.execute_input": "2024-08-11T07:58:04.553899Z",
     "iopub.status.busy": "2024-08-11T07:58:04.553676Z",
     "iopub.status.idle": "2024-08-11T07:58:59.846444Z",
     "shell.execute_reply": "2024-08-11T07:58:59.845886Z",
     "shell.execute_reply.started": "2024-08-11T07:58:04.553885Z"
    },
    "tags": []
   },
   "outputs": [
    {
     "name": "stdout",
     "output_type": "stream",
     "text": [
      "C\n"
     ]
    },
    {
     "name": "stderr",
     "output_type": "stream",
     "text": [
      "  0%|          | 0/100 [00:00<?, ?it/s]"
     ]
    },
    {
     "name": "stdout",
     "output_type": "stream",
     "text": [
      "'A'\n"
     ]
    },
    {
     "name": "stderr",
     "output_type": "stream",
     "text": [
      "  1%|          | 1/100 [00:02<04:21,  2.65s/it]"
     ]
    },
    {
     "name": "stdout",
     "output_type": "stream",
     "text": [
      "'B'\n"
     ]
    },
    {
     "name": "stderr",
     "output_type": "stream",
     "text": [
      "  2%|▏         | 2/100 [00:06<05:21,  3.28s/it]"
     ]
    },
    {
     "name": "stdout",
     "output_type": "stream",
     "text": [
      "'B'\n"
     ]
    },
    {
     "name": "stderr",
     "output_type": "stream",
     "text": [
      "  3%|▎         | 3/100 [00:12<06:22,  3.94s/it]"
     ]
    },
    {
     "name": "stdout",
     "output_type": "stream",
     "text": [
      "'没'\n"
     ]
    },
    {
     "name": "stderr",
     "output_type": "stream",
     "text": [
      " 10%|█         | 10/100 [00:23<03:13,  2.14s/it]"
     ]
    },
    {
     "name": "stdout",
     "output_type": "stream",
     "text": [
      "'这'\n"
     ]
    },
    {
     "name": "stderr",
     "output_type": "stream",
     "text": [
      " 10%|█         | 10/100 [00:26<02:52,  1.92s/it]"
     ]
    },
    {
     "name": "stdout",
     "output_type": "stream",
     "text": [
      "'C'\n"
     ]
    },
    {
     "name": "stderr",
     "output_type": "stream",
     "text": [
      " 13%|█▎        | 13/100 [00:29<02:55,  2.02s/it]"
     ]
    },
    {
     "name": "stdout",
     "output_type": "stream",
     "text": [
      "'B'\n"
     ]
    },
    {
     "name": "stderr",
     "output_type": "stream",
     "text": [
      "  9%|▉         | 9/100 [00:33<05:23,  3.56s/it]]"
     ]
    },
    {
     "name": "stdout",
     "output_type": "stream",
     "text": [
      "Request id: bf06bd7e-4543-9fc2-bffb-5edc0c733343, Status code: 429, error code: Throttling.RateQuota, error message: Requests rate limit exceeded, please try again later.\n"
     ]
    },
    {
     "name": "stderr",
     "output_type": "stream",
     "text": [
      " 15%|█▌        | 15/100 [00:33<03:01,  2.14s/it]"
     ]
    },
    {
     "name": "stdout",
     "output_type": "stream",
     "text": [
      "Request id: b40214e0-dd7c-9eee-b5fa-be73cb4f3da8, Status code: 429, error code: Throttling.RateQuota, error message: Requests rate limit exceeded, please try again later.\n"
     ]
    },
    {
     "name": "stderr",
     "output_type": "stream",
     "text": [
      " 14%|█▍        | 14/100 [00:35<03:20,  2.33s/it]"
     ]
    },
    {
     "name": "stdout",
     "output_type": "stream",
     "text": [
      "'无'\n"
     ]
    },
    {
     "name": "stderr",
     "output_type": "stream",
     "text": [
      "  8%|▊         | 8/100 [00:35<07:29,  4.89s/it]"
     ]
    },
    {
     "name": "stdout",
     "output_type": "stream",
     "text": [
      "Request id: ad2bbcf9-c8e3-9f8d-bfff-ecc65012bc52, Status code: 429, error code: Throttling.RateQuota, error message: Requests rate limit exceeded, please try again later.\n",
      "Request id: 69c1a308-95ae-9682-98ae-5aa1292fb43e, Status code: 429, error code: Throttling.RateQuota, error message: Requests rate limit exceeded, please try again later.\n",
      "Request id: be920a42-3bf3-9ba9-bcb1-6b307133d8ab, Status code: 429, error code: Throttling.RateQuota, error message: Requests rate limit exceeded, please try again later.\n",
      "Request id: e9a3d280-4b82-9d4c-a214-802567be6fb2, Status code: 429, error code: Throttling.RateQuota, error message: Requests rate limit exceeded, please try again later.\n",
      "Request id: 58a9aa22-9dde-905a-80d2-75b40b6e61c3, Status code: 429, error code: Throttling.RateQuota, error message: Requests rate limit exceeded, please try again later.\n",
      "Request id: eaf9c9c7-fc86-94e7-bad9-2f51a582748d, Status code: 429, error code: Throttling.RateQuota, error message: Requests rate limit exceeded, please try again later.\n",
      "Request id: 2f4be3b8-9a1f-91a8-881f-aa0b72086756, Status code: 429, error code: Throttling.RateQuota, error message: Requests rate limit exceeded, please try again later.\n"
     ]
    },
    {
     "name": "stderr",
     "output_type": "stream",
     "text": [
      "  9%|▉         | 9/100 [00:39<06:41,  4.42s/it]\n",
      "Process Process-3:\n",
      "Traceback (most recent call last):\n",
      "  File \"/usr/local/lib/python3.10/multiprocessing/process.py\", line 314, in _bootstrap\n",
      "    self.run()\n",
      "  File \"/usr/local/lib/python3.10/multiprocessing/process.py\", line 108, in run\n",
      "    self._target(*self._args, **self._kwargs)\n",
      "  File \"/tmp/ipykernel_5276/3504293755.py\", line 12, in produce\n",
      "    response = call_qwen_api(MODEL_NAME, prompt)\n",
      "  File \"<decorator-gen-20>\", line 2, in call_qwen_api\n",
      "  File \"/usr/local/lib/python3.10/site-packages/retry/api.py\", line 73, in retry_decorator\n",
      "    return __retry_internal(partial(f, *args, **kwargs), exceptions, tries, delay, max_delay, backoff, jitter,\n",
      "  File \"/usr/local/lib/python3.10/site-packages/retry/api.py\", line 33, in __retry_internal\n",
      "    return f()\n",
      "  File \"/tmp/ipykernel_5276/3893397532.py\", line 21, in call_qwen_api\n",
      "    raise Exception()\n",
      "Exception\n"
     ]
    },
    {
     "name": "stdout",
     "output_type": "stream",
     "text": [
      "Request id: 49644b24-362a-9914-a2ea-208dd319f87c, Status code: 429, error code: Throttling.RateQuota, error message: Requests rate limit exceeded, please try again later.\n"
     ]
    },
    {
     "name": "stderr",
     "output_type": "stream",
     "text": [
      " 15%|█▌        | 15/100 [00:40<03:48,  2.69s/it]\n",
      "Process Process-6:\n",
      "Traceback (most recent call last):\n",
      "  File \"/usr/local/lib/python3.10/multiprocessing/process.py\", line 314, in _bootstrap\n",
      "    self.run()\n",
      "  File \"/usr/local/lib/python3.10/multiprocessing/process.py\", line 108, in run\n",
      "    self._target(*self._args, **self._kwargs)\n",
      "  File \"/tmp/ipykernel_5276/3504293755.py\", line 12, in produce\n",
      "    response = call_qwen_api(MODEL_NAME, prompt)\n",
      "  File \"<decorator-gen-20>\", line 2, in call_qwen_api\n",
      "  File \"/usr/local/lib/python3.10/site-packages/retry/api.py\", line 73, in retry_decorator\n",
      "    return __retry_internal(partial(f, *args, **kwargs), exceptions, tries, delay, max_delay, backoff, jitter,\n",
      "  File \"/usr/local/lib/python3.10/site-packages/retry/api.py\", line 33, in __retry_internal\n",
      "    return f()\n",
      "  File \"/tmp/ipykernel_5276/3893397532.py\", line 21, in call_qwen_api\n",
      "    raise Exception()\n",
      "Exception\n"
     ]
    },
    {
     "name": "stdout",
     "output_type": "stream",
     "text": [
      "Request id: 5fa555cc-6b1a-9d00-aeb3-ff1d919dc522, Status code: 429, error code: Throttling.RateQuota, error message: Requests rate limit exceeded, please try again later.\n"
     ]
    },
    {
     "name": "stderr",
     "output_type": "stream",
     "text": [
      "  8%|▊         | 8/100 [00:41<08:01,  5.23s/it]\n",
      "Process Process-2:\n",
      "Traceback (most recent call last):\n",
      "  File \"/usr/local/lib/python3.10/multiprocessing/process.py\", line 314, in _bootstrap\n",
      "    self.run()\n",
      "  File \"/usr/local/lib/python3.10/multiprocessing/process.py\", line 108, in run\n",
      "    self._target(*self._args, **self._kwargs)\n",
      "  File \"/tmp/ipykernel_5276/3504293755.py\", line 12, in produce\n",
      "    response = call_qwen_api(MODEL_NAME, prompt)\n",
      "  File \"<decorator-gen-20>\", line 2, in call_qwen_api\n",
      "  File \"/usr/local/lib/python3.10/site-packages/retry/api.py\", line 73, in retry_decorator\n",
      "    return __retry_internal(partial(f, *args, **kwargs), exceptions, tries, delay, max_delay, backoff, jitter,\n",
      "  File \"/usr/local/lib/python3.10/site-packages/retry/api.py\", line 33, in __retry_internal\n",
      "    return f()\n",
      "  File \"/tmp/ipykernel_5276/3893397532.py\", line 21, in call_qwen_api\n",
      "    raise Exception()\n",
      "Exception\n"
     ]
    },
    {
     "name": "stdout",
     "output_type": "stream",
     "text": [
      "Request id: 8c8f9be7-4e51-9d6d-be84-2c89c0bae0a6, Status code: 429, error code: Throttling.RateQuota, error message: Requests rate limit exceeded, please try again later.\n"
     ]
    },
    {
     "name": "stderr",
     "output_type": "stream",
     "text": [
      " 14%|█▍        | 14/100 [00:42<04:18,  3.01s/it]\n",
      "Process Process-4:\n",
      "Traceback (most recent call last):\n",
      "  File \"/usr/local/lib/python3.10/multiprocessing/process.py\", line 314, in _bootstrap\n",
      "    self.run()\n",
      "  File \"/usr/local/lib/python3.10/multiprocessing/process.py\", line 108, in run\n",
      "    self._target(*self._args, **self._kwargs)\n",
      "  File \"/tmp/ipykernel_5276/3504293755.py\", line 12, in produce\n",
      "    response = call_qwen_api(MODEL_NAME, prompt)\n",
      "  File \"<decorator-gen-20>\", line 2, in call_qwen_api\n",
      "  File \"/usr/local/lib/python3.10/site-packages/retry/api.py\", line 73, in retry_decorator\n",
      "    return __retry_internal(partial(f, *args, **kwargs), exceptions, tries, delay, max_delay, backoff, jitter,\n",
      "  File \"/usr/local/lib/python3.10/site-packages/retry/api.py\", line 33, in __retry_internal\n",
      "    return f()\n",
      "  File \"/tmp/ipykernel_5276/3893397532.py\", line 21, in call_qwen_api\n",
      "    raise Exception()\n",
      "Exception\n",
      " 13%|█▎        | 13/100 [00:48<09:50,  6.78s/it]"
     ]
    },
    {
     "name": "stdout",
     "output_type": "stream",
     "text": [
      "Request id: 4a232a8c-f2cf-9256-8e45-08fa9adb493e, Status code: 429, error code: Throttling.RateQuota, error message: Requests rate limit exceeded, please try again later.\n",
      "Request id: 68e80911-7d0b-9cba-b0d6-105c62cb296b, Status code: 429, error code: Throttling.RateQuota, error message: Requests rate limit exceeded, please try again later.\n",
      "Request id: 44658085-add7-9af0-9dc8-267d4524e92a, Status code: 429, error code: Throttling.RateQuota, error message: Requests rate limit exceeded, please try again later.\n"
     ]
    },
    {
     "name": "stderr",
     "output_type": "stream",
     "text": [
      " 13%|█▎        | 13/100 [00:55<06:09,  4.25s/it]\n",
      "Process Process-5:\n",
      "Traceback (most recent call last):\n",
      "  File \"/usr/local/lib/python3.10/multiprocessing/process.py\", line 314, in _bootstrap\n",
      "    self.run()\n",
      "  File \"/usr/local/lib/python3.10/multiprocessing/process.py\", line 108, in run\n",
      "    self._target(*self._args, **self._kwargs)\n",
      "  File \"/tmp/ipykernel_5276/3504293755.py\", line 12, in produce\n",
      "    response = call_qwen_api(MODEL_NAME, prompt)\n",
      "  File \"<decorator-gen-20>\", line 2, in call_qwen_api\n",
      "  File \"/usr/local/lib/python3.10/site-packages/retry/api.py\", line 73, in retry_decorator\n",
      "    return __retry_internal(partial(f, *args, **kwargs), exceptions, tries, delay, max_delay, backoff, jitter,\n",
      "  File \"/usr/local/lib/python3.10/site-packages/retry/api.py\", line 33, in __retry_internal\n",
      "    return f()\n",
      "  File \"/tmp/ipykernel_5276/3893397532.py\", line 21, in call_qwen_api\n",
      "    raise Exception()\n",
      "Exception\n"
     ]
    },
    {
     "name": "stdout",
     "output_type": "stream",
     "text": [
      "59\n",
      "All tasks finished!\n",
      "45 59 0.7627118644067796 95\n"
     ]
    }
   ],
   "source": [
    "if __name__ == '__main__':\n",
    "\n",
    "    a = extract(\"\"\"根据欧几里得算法，逐步解析计算两个数6和7的最大公约数（gcd）的步骤如下：\n",
    "\n",
    "1. 判断6和7是否相等：不相等。\n",
    "2. 判断6和7大小关系，7 > 6，所以用更大的数7减去较小的数6得到结果1。\n",
    "3. 现在计算6和1的最大公约数。\n",
    "4. 6 > 1，根据算法用更大的数6减去较小的数1得到结果5。\n",
    "5. 再计算5和1的最大公约数。\n",
    "6. 5 > 1，用5减去1得到结果4。\n",
    "7. 再计算4和1的最大公约数。\n",
    "8. 4 > 1，用4减去1得到结果3。\n",
    "9. 再计算3和1的最大公约数。\n",
    "10. 3 > 1，用3减去1得到结果2。\n",
    "11. 再计算2和1的最大公约数。\n",
    "12. 2 > 1，用2减去1得到结果1。\n",
    "13. 最后计算1和1的最大公约数，两数相等，gcd即为这两个数，也就是1。\n",
    "\n",
    "因此，6和7的最大公约数是1。\n",
    "\n",
    "答案是：C.\"\"\")\n",
    "\n",
    "    print(a)\n",
    "    main('data/round1_train_data.jsonl', 'result/qwen.jsonl')"
   ]
  }
 ],
 "metadata": {
  "kernelspec": {
   "display_name": "Python 3 (ipykernel)",
   "language": "python",
   "name": "python3"
  },
  "language_info": {
   "codemirror_mode": {
    "name": "ipython",
    "version": 3
   },
   "file_extension": ".py",
   "mimetype": "text/x-python",
   "name": "python",
   "nbconvert_exporter": "python",
   "pygments_lexer": "ipython3",
   "version": "3.10.14"
  }
 },
 "nbformat": 4,
 "nbformat_minor": 5
}
