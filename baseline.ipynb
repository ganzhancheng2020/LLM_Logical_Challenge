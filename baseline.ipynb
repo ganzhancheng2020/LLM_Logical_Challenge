{
 "cells": [
  {
   "cell_type": "code",
   "execution_count": 1,
   "id": "9a37796c-69e7-4502-ab82-3aceca1f7fbf",
   "metadata": {
    "ExecutionIndicator": {
     "show": true
    },
    "execution": {
     "iopub.execute_input": "2024-08-16T17:13:21.301837Z",
     "iopub.status.busy": "2024-08-16T17:13:21.301613Z",
     "iopub.status.idle": "2024-08-16T17:13:22.187499Z",
     "shell.execute_reply": "2024-08-16T17:13:22.186993Z",
     "shell.execute_reply.started": "2024-08-16T17:13:21.301819Z"
    },
    "tags": []
   },
   "outputs": [],
   "source": [
    "from multiprocessing import Process, Manager\n",
    "import json\n",
    "import os\n",
    "from pprint import pprint\n",
    "import re\n",
    "from tqdm import tqdm\n",
    "import random\n",
    "\n",
    "import uuid\n",
    "import openai\n",
    "import tiktoken\n",
    "import json\n",
    "import numpy as np\n",
    "import requests\n",
    "from retry import retry\n",
    "from scipy import sparse\n",
    "#from rank_bm25 import BM25Okapi\n",
    "#import jieba\n",
    "from http import HTTPStatus\n",
    "import dashscope\n",
    "from dotenv import dotenv_values\n",
    "config = dotenv_values('.env')"
   ]
  },
  {
   "cell_type": "code",
   "execution_count": 2,
   "id": "308473de-f20e-41b6-a57d-af5e553a9866",
   "metadata": {
    "ExecutionIndicator": {
     "show": true
    },
    "execution": {
     "iopub.execute_input": "2024-08-16T17:13:22.188733Z",
     "iopub.status.busy": "2024-08-16T17:13:22.188437Z",
     "iopub.status.idle": "2024-08-16T17:13:22.192722Z",
     "shell.execute_reply": "2024-08-16T17:13:22.192296Z",
     "shell.execute_reply.started": "2024-08-16T17:13:22.188715Z"
    },
    "tags": []
   },
   "outputs": [],
   "source": [
    "MODEL_NAME = 'qwen-max'\n",
    "dashscope.api_key = config['qwen_key'],\n",
    "\n",
    "@retry(delay=60, tries=3)\n",
    "def call_qwen_api(MODEL_NAME, query):\n",
    "    messages = [\n",
    "        {'role': 'user', 'content': query}]\n",
    "    response = dashscope.Generation.call(\n",
    "        MODEL_NAME,\n",
    "        messages=messages,\n",
    "        result_format='message',  # set the result is message format.\n",
    "    )\n",
    "    if response.status_code == HTTPStatus.OK:\n",
    "        #print(response)\n",
    "        return response['output']['choices'][0]['message']['content']\n",
    "    else:\n",
    "        print('Request id: %s, Status code: %s, error code: %s, error message: %s' % (\n",
    "            response.request_id, response.status_code,\n",
    "            response.code, response.message\n",
    "        ))\n",
    "        raise Exception()"
   ]
  },
  {
   "cell_type": "code",
   "execution_count": 3,
   "id": "5424028d-b0a0-48ed-ba5d-6cf39445ba8f",
   "metadata": {
    "ExecutionIndicator": {
     "show": true
    },
    "execution": {
     "iopub.execute_input": "2024-08-16T17:13:22.193611Z",
     "iopub.status.busy": "2024-08-16T17:13:22.193348Z",
     "iopub.status.idle": "2024-08-16T17:13:22.196482Z",
     "shell.execute_reply": "2024-08-16T17:13:22.196056Z",
     "shell.execute_reply.started": "2024-08-16T17:13:22.193596Z"
    },
    "tags": []
   },
   "outputs": [],
   "source": [
    "def get_prompt(problem, question, options):\n",
    "\n",
    "    options = '\\n'.join(f\"{'ABCDEFG'[i]}. {o}\" for i, o in enumerate(options))\n",
    "\n",
    "    prompt = f\"\"\"你是一个逻辑推理专家，擅长解决逻辑推理问题。以下是一个逻辑推理的题目，形式为单项选择题。所有的问题都是（close-world assumption）闭世界假设，即未观测事实都为假。请逐步分析问题并在最后一行输出答案，最后一行的格式为\"答案是：A\"。题目如下：\n",
    "\n",
    "### 题目:\n",
    "{problem}\n",
    "### 问题:\n",
    "{question}\n",
    "### 选项:\n",
    "{options}\n",
    "\"\"\"\n",
    "\n",
    "    return prompt"
   ]
  },
  {
   "cell_type": "code",
   "execution_count": 4,
   "id": "f7734a4a-4754-4155-a020-8a8f1d81a3c6",
   "metadata": {
    "ExecutionIndicator": {
     "show": true
    },
    "execution": {
     "iopub.execute_input": "2024-08-16T17:13:22.197384Z",
     "iopub.status.busy": "2024-08-16T17:13:22.197117Z",
     "iopub.status.idle": "2024-08-16T17:13:22.200399Z",
     "shell.execute_reply": "2024-08-16T17:13:22.199985Z",
     "shell.execute_reply.started": "2024-08-16T17:13:22.197368Z"
    },
    "tags": []
   },
   "outputs": [],
   "source": [
    "def extract(input_text):\n",
    "    ans_pattern = re.compile(r\"答案是：(.*)\", re.S)\n",
    "\n",
    "    # 使用 findall 方法找到所有匹配的字符串\n",
    "    problems = ans_pattern.findall(input_text)\n",
    "\n",
    "    # 提取答案中出现的所有可能的答案字母\n",
    "    possible_answers = \"ABCDEFG\"  # 假设可能的答案字母是 A, B, C, D\n",
    "    answers = [match for match in problems[0] if match in possible_answers]\n",
    "\n",
    "#     print(answers)  # 输出：['A']\n",
    "#     ans_pattern = re.compile(r\"答案是：(.)\", re.S)\n",
    "#     problems = ans_pattern.findall(input_text)\n",
    "    if len(answers) == 0:\n",
    "        return ''\n",
    "        \n",
    "    return answers[0]"
   ]
  },
  {
   "cell_type": "code",
   "execution_count": 5,
   "id": "107a3ec7-4e77-47ec-8622-cac15253eda8",
   "metadata": {
    "ExecutionIndicator": {
     "show": true
    },
    "execution": {
     "iopub.execute_input": "2024-08-16T17:13:22.202113Z",
     "iopub.status.busy": "2024-08-16T17:13:22.201885Z",
     "iopub.status.idle": "2024-08-16T17:13:22.205600Z",
     "shell.execute_reply": "2024-08-16T17:13:22.205156Z",
     "shell.execute_reply.started": "2024-08-16T17:13:22.202097Z"
    },
    "tags": []
   },
   "outputs": [],
   "source": [
    "def produce(data, MODEL_NAME, return_list, pid):\n",
    "    tqdm1 = tqdm\n",
    "    for task in tqdm1(data):\n",
    "            problem = task['problem']\n",
    "            for question in task['questions']:\n",
    "\n",
    "                prompt = get_prompt(problem, \n",
    "                                    question['question'],\n",
    "                                    question['options'],\n",
    "                                    )\n",
    "\n",
    "                response = call_qwen_api(MODEL_NAME, prompt)\n",
    "                question['qwen_respond'] = response\n",
    "                extract_response = extract(response)\n",
    "                question[MODEL_NAME] = extract_response\n",
    "                \n",
    "                # try:\n",
    "                #     attemp = 1\n",
    "                #     while attemp <= 3:\n",
    "                #         #print(f'try：{attemp}')\n",
    "                #         extract_response = extract(response)\n",
    "                #         question[MODEL_NAME] = extract_response\n",
    "                #         if question[MODEL_NAME] == '':\n",
    "                #             print(f'wtrong response：{response}')\n",
    "                #             attemp += 1\n",
    "                #             continue\n",
    "                #         else:\n",
    "                #             attemp = 4\n",
    "                #     # if pid == 0:\n",
    "                #     #     pprint(extract_response)\n",
    "                #     # break\n",
    "                # except:\n",
    "                #     pass\n",
    "            return_list.append(task)"
   ]
  },
  {
   "cell_type": "code",
   "execution_count": 6,
   "id": "cdb0e780-bc1d-412c-8edc-759aa12c6ab3",
   "metadata": {
    "ExecutionIndicator": {
     "show": true
    },
    "execution": {
     "iopub.execute_input": "2024-08-16T17:13:22.206591Z",
     "iopub.status.busy": "2024-08-16T17:13:22.206233Z",
     "iopub.status.idle": "2024-08-16T17:13:22.211073Z",
     "shell.execute_reply": "2024-08-16T17:13:22.210653Z",
     "shell.execute_reply.started": "2024-08-16T17:13:22.206576Z"
    },
    "tags": []
   },
   "outputs": [],
   "source": [
    "def main(data, ofn):\n",
    "    # 如果输出文件已经存在，则不进行处理\n",
    "    # if os.path.exists(ofn):\n",
    "    #     pass\n",
    "\n",
    "    # 设置进程池大小\n",
    "    POOL_SIZE = 5\n",
    "    #data = []\n",
    "\n",
    "    # 将数据分割成POOL_SIZE个子列表\n",
    "    datas = [data[i::POOL_SIZE] for i in range(POOL_SIZE)]\n",
    "\n",
    "    # 使用Manager创建一个共享对象\n",
    "    with Manager() as manager:\n",
    "        # 创建一个共享列表，用于存储所有进程的结果\n",
    "        return_list = manager.list()\n",
    "\n",
    "        # 创建进程列表\n",
    "        producers = []\n",
    "        for i in range(POOL_SIZE):\n",
    "            # 创建每个进程，传递数据子集、模型名称、结果列表和进程编号\n",
    "            p = Process(target=produce,\n",
    "                        args=(datas[i],  # 数据子集\n",
    "                              MODEL_NAME,  # 模型名称\n",
    "                              return_list,  # 共享结果列表\n",
    "                              i,  # 进程编号\n",
    "                              )\n",
    "                        )\n",
    "            producers.append(p)\n",
    "\n",
    "        # 启动所有进程\n",
    "        for p in producers:\n",
    "            p.start()\n",
    "\n",
    "        # 等待所有进程完成\n",
    "        for p in producers:\n",
    "            p.join()\n",
    "\n",
    "        # 输出结果列表的长度\n",
    "        print(len(return_list))\n",
    "\n",
    "        # 写入输出文件\n",
    "        with open(ofn, 'w') as writer:\n",
    "            for sample in return_list:\n",
    "                # 将结果写入文件\n",
    "                writer.write(json.dumps(sample, ensure_ascii=False))\n",
    "                writer.write('\\n')\n",
    "\n",
    "    # 输出任务完成的消息\n",
    "    print(\"All tasks finished!\")\n",
    "\n",
    "    # 调用评估函数\n",
    "    evaluate(ofn)"
   ]
  },
  {
   "cell_type": "code",
   "execution_count": 7,
   "id": "5266c650-e79a-478d-b6a7-ea68b856aa81",
   "metadata": {
    "execution": {
     "iopub.execute_input": "2024-08-16T17:13:22.211959Z",
     "iopub.status.busy": "2024-08-16T17:13:22.211709Z",
     "iopub.status.idle": "2024-08-16T17:13:22.215495Z",
     "shell.execute_reply": "2024-08-16T17:13:22.215064Z",
     "shell.execute_reply.started": "2024-08-16T17:13:22.211944Z"
    },
    "tags": []
   },
   "outputs": [],
   "source": [
    "def evaluate(ofn):\n",
    "    data = []\n",
    "    with open(ofn) as reader:\n",
    "        for line in reader:\n",
    "            sample = json.loads(line)\n",
    "            data.append(sample)\n",
    "\n",
    "    pse = 0\n",
    "    cnt = 0\n",
    "    tot = 0\n",
    "    for task in data:\n",
    "        for question in task['questions']:\n",
    "            \n",
    "            if MODEL_NAME in question:\n",
    "                tot += 1\n",
    "                cnt += question[MODEL_NAME] == question['answer']\n",
    "            else:\n",
    "                pse += 1\n",
    "\n",
    "    print(cnt, tot, cnt/tot, pse)"
   ]
  },
  {
   "cell_type": "code",
   "execution_count": 8,
   "id": "b4b0fdf1-f702-4977-b5fe-3c1eb6c0b1b3",
   "metadata": {
    "ExecutionIndicator": {
     "show": true
    },
    "execution": {
     "iopub.execute_input": "2024-08-16T17:13:22.216323Z",
     "iopub.status.busy": "2024-08-16T17:13:22.216087Z",
     "iopub.status.idle": "2024-08-16T17:13:22.219093Z",
     "shell.execute_reply": "2024-08-16T17:13:22.218650Z",
     "shell.execute_reply.started": "2024-08-16T17:13:22.216308Z"
    },
    "tags": []
   },
   "outputs": [],
   "source": [
    "def read_file(ifn):\n",
    "    # 读取输入文件\n",
    "    data=[]\n",
    "    with open(ifn) as reader:\n",
    "        for line in reader:\n",
    "            # 解析每一行JSON数据\n",
    "            sample = json.loads(line)\n",
    "            data.append(sample)\n",
    "\n",
    "    # 打乱数据顺序\n",
    "    #random.shuffle(data)\n",
    "    return data"
   ]
  },
  {
   "cell_type": "code",
   "execution_count": null,
   "id": "12c56d9c-ffd8-468d-9e7e-b7e881c914d1",
   "metadata": {
    "ExecutionIndicator": {
     "show": true
    },
    "execution": {
     "iopub.execute_input": "2024-08-16T17:16:40.229487Z",
     "iopub.status.busy": "2024-08-16T17:16:40.229126Z"
    },
    "tags": []
   },
   "outputs": [
    {
     "name": "stderr",
     "output_type": "stream",
     "text": [
      "0it [00:00, ?it/s]\n",
      "0it [00:00, ?it/s]/1 [00:00<?, ?it/s]\n",
      "0it [00:00, ?it/s]\n",
      "100%|██████████| 1/1 [00:51<00:00, 51.93s/it]\n"
     ]
    }
   ],
   "source": [
    "if __name__ == '__main__':\n",
    "\n",
    "    a = extract(\"\"\"根据欧几里得算法，逐步解析计算两个数6和7的最大公约数（gcd）的步骤如下：\n",
    "\n",
    "1. 判断6和7是否相等：不相等。\n",
    "2. 判断6和7大小关系，7 > 6，所以用更大的数7减去较小的数6得到结果1。\n",
    "3. 现在计算6和1的最大公约数。\n",
    "4. 6 > 1，根据算法用更大的数6减去较小的数1得到结果5。\n",
    "5. 再计算5和1的最大公约数。\n",
    "6. 5 > 1，用5减去1得到结果4。\n",
    "7. 再计算4和1的最大公约数。\n",
    "8. 4 > 1，用4减去1得到结果3。\n",
    "9. 再计算3和1的最大公约数。\n",
    "10. 3 > 1，用3减去1得到结果2。\n",
    "11. 再计算2和1的最大公约数。\n",
    "12. 2 > 1，用2减去1得到结果1。\n",
    "13. 最后计算1和1的最大公约数，两数相等，gcd即为这两个数，也就是1。\n",
    "\n",
    "因此，6和7的最大公约数是1。\n",
    "\n",
    "答案是：应该是阿飞.\"\"\")\n",
    "    # data = read_file('data/round1_train_data.jsonl')\n",
    "    # main(data[:2],'result/qwen.jsonl')\n",
    "\n",
    "    vaild_file = read_file('data/output.jsonl')\n",
    "    main(vaild_file[:2],'result/qwen_vaild.jsonl')"
   ]
  },
  {
   "cell_type": "code",
   "execution_count": 10,
   "id": "1e2b9fc2-90d2-4fa6-a8a9-ee950cc22a53",
   "metadata": {
    "ExecutionIndicator": {
     "show": true
    },
    "execution": {
     "iopub.execute_input": "2024-08-16T17:14:00.359013Z",
     "iopub.status.busy": "2024-08-16T17:14:00.358764Z",
     "iopub.status.idle": "2024-08-16T17:14:00.363104Z",
     "shell.execute_reply": "2024-08-16T17:14:00.362664Z",
     "shell.execute_reply.started": "2024-08-16T17:14:00.358994Z"
    },
    "tags": []
   },
   "outputs": [],
   "source": [
    "def validate_answers(file):\n",
    "    validated_problem_sets = []\n",
    "    \n",
    "    for data in file:\n",
    "        if 'promble' in data:\n",
    "            data['problem'] = data.pop('promble')\n",
    "        problem = data['problem']\n",
    "        questions = data['questions']\n",
    "        _id = data['id']\n",
    "        \n",
    "        validated_questions = []\n",
    "        for question in questions:\n",
    "            answer = question['answer']\n",
    "            # 检查答案是否为大写字母\n",
    "            if len(answer) == 1 and answer.isupper():\n",
    "                validated_questions.append(question)\n",
    "            else:\n",
    "                print(f\"Invalid answer '{answer}' for question: {question['question']}\")\n",
    "        \n",
    "        # 创建一个新的问题集字典，只包含有效的问题\n",
    "        validated_problem_set = {\n",
    "            'problem': problem,\n",
    "            'questions': validated_questions,\n",
    "            'id': _id\n",
    "        }\n",
    "        validated_problem_sets.append(validated_problem_set)\n",
    "    \n",
    "    return validated_problem_sets"
   ]
  },
  {
   "cell_type": "code",
   "execution_count": 11,
   "id": "1f697481-7d04-4cd3-bdf6-c84117bc3905",
   "metadata": {
    "execution": {
     "iopub.execute_input": "2024-08-16T17:14:00.363899Z",
     "iopub.status.busy": "2024-08-16T17:14:00.363714Z",
     "iopub.status.idle": "2024-08-16T17:14:00.366797Z",
     "shell.execute_reply": "2024-08-16T17:14:00.366358Z",
     "shell.execute_reply.started": "2024-08-16T17:14:00.363884Z"
    },
    "tags": []
   },
   "outputs": [],
   "source": [
    "import json\n",
    "def write_jsonl(results, filename):\n",
    "    with open(f'data/{filename}.jsonl', 'w',encoding='utf-8') as outfile:\n",
    "        for entry in results:\n",
    "            json.dump(entry, outfile, ensure_ascii=False)\n",
    "            outfile.write('\\n')"
   ]
  },
  {
   "cell_type": "code",
   "execution_count": 12,
   "id": "5da3a221-f4dd-497f-89cc-b24b4a13e917",
   "metadata": {
    "ExecutionIndicator": {
     "show": true
    },
    "execution": {
     "iopub.execute_input": "2024-08-16T17:14:00.367685Z",
     "iopub.status.busy": "2024-08-16T17:14:00.367425Z",
     "iopub.status.idle": "2024-08-16T17:14:00.402133Z",
     "shell.execute_reply": "2024-08-16T17:14:00.401731Z",
     "shell.execute_reply.started": "2024-08-16T17:14:00.367664Z"
    },
    "tags": []
   },
   "outputs": [
    {
     "name": "stdout",
     "output_type": "stream",
     "text": [
      "Invalid answer 'Henry' for question: 选择题 5：\n",
      "如果从Henry和Tom中选择一人去参加仅限单身人士的活动，应选择谁？\n",
      "Invalid answer '无法确定' for question: 选择题 6：\n",
      "是否存在第三位未提及的男性角色是单身汉的可能性？\n",
      "Invalid answer '无正确选项' for question: 选择题 4：\n",
      "在两个列表中，哪个数字是唯一同时出现在两个列表开头和结尾位置的数字？\n",
      "Invalid answer '无直接答案，但根据信息推断John可能喜欢Julie（金发且富有），但选项中没有直接匹配项，因为问题设计需调整以符合逻辑推理框架。' for question: 选择题 4：**\n",
      "哪位女性符合John的喜好标准？\n",
      "Invalid answer '否' for question: 选择题 5：\n",
      "列表处理规则是否保留偶数位置的元素？\n",
      "Invalid answer '不能' for question: 选择题 4:\n",
      "物品B能否直接拿到而不需要移动A？\n",
      "Invalid answer '威尔士' for question: 选择题 5：\n",
      "如果还有第三个人Emma被标记为Welch，Emma来自哪个国家？\n",
      "Invalid answer '否' for question: 选择题 6：\n",
      "假设出现第四个人Frank，未给出他的标记，Frank有可能既不是威尔士也不是苏格兰人吗？\n",
      "Invalid answer '是' for question: 选择题 6：\n",
      "是否存在一个人没有恋人？\n",
      "Invalid answer '否' for question: 选择题 7：\n",
      "Mary 是否喜欢 John？\n",
      "Invalid answer '1-4' for question: 选择题 4：\n",
      "哪两点之间的路径权重总和最大？\n",
      "Invalid answer '1' for question: 选择题 5：\n",
      "从点3到点5的最短路径权重是多少？\n",
      "Invalid answer '是' for question: 选择题 3:\n",
      "是否可以从 Nancy 通过直达或换乘到达 Saarbruecken？\n",
      "Invalid answer '是' for question: 选择题 4:\n",
      "是否存在一条路线，可以从 Freyming 直达或换乘到达 StAvold？\n",
      "Invalid answer '否' for question: 选择题 5:\n",
      "Dudweiler 能否通过直达或一次换乘连接到 Fahlquemont？\n",
      "Invalid answer '是' for question: 选择题 6：\n",
      "Charlotte 是否喜欢除了 Justin 以外的其他人？\n",
      "Invalid answer '是' for question: 选择题 7：\n",
      "Bob 是否知道有人喜欢他？\n",
      "Invalid answer '否' for question: 选择题 6：\n",
      "假设游戏从状态5开始，且轮到Min，Min能否通过一次操作确保自己的胜利？\n",
      "Invalid answer '是' for question: 选择题 5：\n",
      "拥有绿色和双图案的项目之间是否存在相似关系？\n",
      "Invalid answer '是' for question: 选择题 6：\n",
      "项目 A 与项目 F 是否在颜色和图案上相似？\n",
      "Invalid answer '是' for question: 选择题 7：\n",
      "项目 B 与 D 是否拥有相同的颜色和图案？\n",
      "Invalid answer '否' for question: 选择题 7：\n",
      "判断结构 [1, [2, nil, [3]], [4]] 是否为二叉树？\n",
      "Invalid answer '牛>猫' for question: 选择题 7：\n",
      "牛和猫的大小关系如何？\n",
      "Invalid answer '是' for question: 选择题 3：\n",
      "是否存在一条路线，可以直接或间接从圣阿沃尔德到达南希？\n",
      "Invalid answer '2次' for question: 选择题 5：\n",
      "从杜德维勒出发，能否最终到达南希，如果能，请问至少需要换乘几次？\n",
      "Invalid answer '是' for question: 选择题 4：如果某一行已经被填为[9, 2, 7]，请问这一行是否满足横向之和为18的条件？\n",
      "Invalid answer '不能' for question: 选择题 6：\n",
      "如果方块g位于坐标(2,1)，它能被摄像机看见吗？\n",
      "Invalid answer '会' for question: 选择题 6:\n",
      "如果海格不是巫师，弗农姨父会讨厌他吗？\n",
      "Invalid answer '会' for question: 选择题 7:\n",
      "假设存在另一个角色张三，他是巫师且未与达力有过交集，那么佩妮姨妈会讨厌张三吗？\n",
      "Invalid answer 'Joop' for question: 选择题 5：\n",
      "Joop 和 Joris，谁更年轻？\n",
      "Invalid answer '3月' for question: 选择题 6：\n",
      "Jan 的生日在耶稣之后的哪个月份？\n",
      "Invalid answer 'Joop' for question: 选择题 7：\n",
      "在这四人中，谁的生日最接近新年？\n",
      "Invalid answer 'unknown' for question: 选择题 5：\n",
      "如果一个学生的成绩是‘优秀’而非具体分数，他的等级应标记为什么？\n",
      "Invalid answer '未知' for question: 选择题 4：\n",
      "哪位嫌疑人被确定使用了烛台作为凶器？\n",
      "Invalid answer '不是' for question: 选择题 3：\n",
      "“b”是不是Vincent会喜欢的食物？\n",
      "Invalid answer '不是' for question: 选择题 4：\n",
      "“d”是否满足Vincent喜欢食物的条件？\n",
      "Invalid answer '不能' for question: 选择题 5：\n",
      "如果Vincent喜欢“a”，那么“a”能不能是“大凯胡纳汉堡”？\n"
     ]
    }
   ],
   "source": [
    "file = read_file('data/output.jsonl')\n",
    "vaild_file = validate_answers(file)\n",
    "write_jsonl(vaild_file,\"valid_data_500\")"
   ]
  }
 ],
 "metadata": {
  "kernelspec": {
   "display_name": "Python 3 (ipykernel)",
   "language": "python",
   "name": "python3"
  },
  "language_info": {
   "codemirror_mode": {
    "name": "ipython",
    "version": 3
   },
   "file_extension": ".py",
   "mimetype": "text/x-python",
   "name": "python",
   "nbconvert_exporter": "python",
   "pygments_lexer": "ipython3",
   "version": "3.10.14"
  }
 },
 "nbformat": 4,
 "nbformat_minor": 5
}
