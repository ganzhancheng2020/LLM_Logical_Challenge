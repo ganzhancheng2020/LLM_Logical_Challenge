{
 "cells": [
  {
   "cell_type": "code",
   "execution_count": 5,
   "id": "9a37796c-69e7-4502-ab82-3aceca1f7fbf",
   "metadata": {
    "ExecutionIndicator": {
     "show": true
    },
    "execution": {
     "iopub.execute_input": "2024-08-17T06:57:08.876640Z",
     "iopub.status.busy": "2024-08-17T06:57:08.876310Z",
     "iopub.status.idle": "2024-08-17T06:57:09.690143Z",
     "shell.execute_reply": "2024-08-17T06:57:09.689615Z",
     "shell.execute_reply.started": "2024-08-17T06:57:08.876622Z"
    },
    "tags": []
   },
   "outputs": [],
   "source": [
    "from multiprocessing import Process, Manager\n",
    "import json\n",
    "import os\n",
    "from pprint import pprint\n",
    "import re\n",
    "from tqdm import tqdm\n",
    "import random\n",
    "\n",
    "import uuid\n",
    "import openai\n",
    "import tiktoken\n",
    "import json\n",
    "import numpy as np\n",
    "import requests\n",
    "from retry import retry\n",
    "from scipy import sparse\n",
    "#from rank_bm25 import BM25Okapi\n",
    "#import jieba\n",
    "from http import HTTPStatus\n",
    "import dashscope\n",
    "from dotenv import dotenv_values\n",
    "config = dotenv_values('.env')"
   ]
  },
  {
   "cell_type": "code",
   "execution_count": 9,
   "id": "308473de-f20e-41b6-a57d-af5e553a9866",
   "metadata": {
    "ExecutionIndicator": {
     "show": true
    },
    "execution": {
     "iopub.execute_input": "2024-08-17T05:02:46.954082Z",
     "iopub.status.busy": "2024-08-17T05:02:46.953678Z",
     "iopub.status.idle": "2024-08-17T05:02:46.958340Z",
     "shell.execute_reply": "2024-08-17T05:02:46.957828Z",
     "shell.execute_reply.started": "2024-08-17T05:02:46.954063Z"
    },
    "tags": []
   },
   "outputs": [],
   "source": [
    "MODEL_NAME = 'qwen-max'\n",
    "dashscope.api_key = config['qwen_key'],\n",
    "\n",
    "@retry(delay=60, tries=3)\n",
    "def call_qwen_api(MODEL_NAME, query):\n",
    "    messages = [\n",
    "        {'role': 'user', 'content': query}]\n",
    "    response = dashscope.Generation.call(\n",
    "        MODEL_NAME,\n",
    "        messages=messages,\n",
    "        result_format='message',  # set the result is message format.\n",
    "    )\n",
    "    if response.status_code == HTTPStatus.OK:\n",
    "        #print(response)\n",
    "        return response['output']['choices'][0]['message']['content']\n",
    "    else:\n",
    "        print('Request id: %s, Status code: %s, error code: %s, error message: %s' % (\n",
    "            response.request_id, response.status_code,\n",
    "            response.code, response.message\n",
    "        ))\n",
    "        raise Exception()"
   ]
  },
  {
   "cell_type": "code",
   "execution_count": 11,
   "id": "5424028d-b0a0-48ed-ba5d-6cf39445ba8f",
   "metadata": {
    "ExecutionIndicator": {
     "show": true
    },
    "execution": {
     "iopub.execute_input": "2024-08-17T07:00:24.325694Z",
     "iopub.status.busy": "2024-08-17T07:00:24.325365Z",
     "iopub.status.idle": "2024-08-17T07:00:24.329414Z",
     "shell.execute_reply": "2024-08-17T07:00:24.328906Z",
     "shell.execute_reply.started": "2024-08-17T07:00:24.325676Z"
    },
    "tags": []
   },
   "outputs": [],
   "source": [
    "def get_prompt(problem, question, options):\n",
    "\n",
    "    options = '\\n'.join(f\"{'ABCDEFG'[i]}. {o}\" for i, o in enumerate(options))\n",
    "\n",
    "    prompt = f\"\"\"你是一个逻辑推理专家，擅长解决逻辑推理问题。以下是一个逻辑推理的题目，形式为单项选择题。所有的问题都是（close-world assumption）闭世界假设，即未观测事实都为假。请逐步分析问题并在最后一行输出答案，最后一行的格式为\"答案是：A\"。题目如下：\n",
    "\n",
    "### 题目:\n",
    "{problem}\n",
    "### 问题:\n",
    "{question}\n",
    "### 选项:\n",
    "{options}\n",
    "\"\"\"\n",
    "\n",
    "    return prompt"
   ]
  },
  {
   "cell_type": "code",
   "execution_count": 19,
   "id": "f7734a4a-4754-4155-a020-8a8f1d81a3c6",
   "metadata": {
    "ExecutionIndicator": {
     "show": true
    },
    "execution": {
     "iopub.execute_input": "2024-08-17T02:27:35.064505Z",
     "iopub.status.busy": "2024-08-17T02:27:35.064209Z",
     "iopub.status.idle": "2024-08-17T02:27:35.067979Z",
     "shell.execute_reply": "2024-08-17T02:27:35.067545Z",
     "shell.execute_reply.started": "2024-08-17T02:27:35.064487Z"
    },
    "tags": []
   },
   "outputs": [],
   "source": [
    "def extract(input_text):\n",
    "    ans_pattern = re.compile(r\"答案是：(.*)\", re.S)\n",
    "\n",
    "    # 使用 findall 方法找到所有匹配的字符串\n",
    "    problems = ans_pattern.findall(input_text)\n",
    "    if len(problems) == 0:\n",
    "        return '提取失败'\n",
    "\n",
    "    # 提取答案中出现的所有可能的答案字母\n",
    "    possible_answers = \"ABCDEFG\"  # 假设可能的答案字母是 A, B, C, D\n",
    "    \n",
    "    answers = [match for match in problems[0] if match in possible_answers]\n",
    "\n",
    "#     print(answers)  # 输出：['A']\n",
    "#     ans_pattern = re.compile(r\"答案是：(.)\", re.S)\n",
    "#     problems = ans_pattern.findall(input_text)\n",
    "    if len(answers) == 0:\n",
    "        return '提取失败'\n",
    "        \n",
    "    return answers[0]"
   ]
  },
  {
   "cell_type": "code",
   "execution_count": 20,
   "id": "107a3ec7-4e77-47ec-8622-cac15253eda8",
   "metadata": {
    "ExecutionIndicator": {
     "show": true
    },
    "execution": {
     "iopub.execute_input": "2024-08-17T02:27:37.457159Z",
     "iopub.status.busy": "2024-08-17T02:27:37.456834Z",
     "iopub.status.idle": "2024-08-17T02:27:37.461261Z",
     "shell.execute_reply": "2024-08-17T02:27:37.460757Z",
     "shell.execute_reply.started": "2024-08-17T02:27:37.457139Z"
    },
    "tags": []
   },
   "outputs": [],
   "source": [
    "def produce(data, MODEL_NAME, return_list, pid):\n",
    "    tqdm1 = tqdm\n",
    "    for task in tqdm1(data):\n",
    "            problem = task['problem']\n",
    "            for question in task['questions']:\n",
    "\n",
    "                prompt = get_prompt(problem, \n",
    "                                    question['question'],\n",
    "                                    question['options'],\n",
    "                                    )\n",
    "\n",
    "                response = call_qwen_api(MODEL_NAME, prompt)\n",
    "                question['qwen_respond'] = response\n",
    "                extract_response = extract(response)\n",
    "                question[MODEL_NAME] = extract_response\n",
    "                \n",
    "                # try:\n",
    "                #     attemp = 1\n",
    "                #     while attemp <= 3:\n",
    "                #         #print(f'try：{attemp}')\n",
    "                #         extract_response = extract(response)\n",
    "                #         question[MODEL_NAME] = extract_response\n",
    "                #         if question[MODEL_NAME] == '':\n",
    "                #             print(f'wtrong response：{response}')\n",
    "                #             attemp += 1\n",
    "                #             continue\n",
    "                #         else:\n",
    "                #             attemp = 4\n",
    "                #     # if pid == 0:\n",
    "                #     #     pprint(extract_response)\n",
    "                #     # break\n",
    "                # except:\n",
    "                #     pass\n",
    "            return_list.append(task)"
   ]
  },
  {
   "cell_type": "code",
   "execution_count": 21,
   "id": "cdb0e780-bc1d-412c-8edc-759aa12c6ab3",
   "metadata": {
    "ExecutionIndicator": {
     "show": true
    },
    "execution": {
     "iopub.execute_input": "2024-08-17T02:27:40.473821Z",
     "iopub.status.busy": "2024-08-17T02:27:40.473513Z",
     "iopub.status.idle": "2024-08-17T02:27:40.478931Z",
     "shell.execute_reply": "2024-08-17T02:27:40.478399Z",
     "shell.execute_reply.started": "2024-08-17T02:27:40.473802Z"
    },
    "tags": []
   },
   "outputs": [],
   "source": [
    "def main(data, ofn):\n",
    "    # 如果输出文件已经存在，则不进行处理\n",
    "    # if os.path.exists(ofn):\n",
    "    #     pass\n",
    "\n",
    "    # 设置进程池大小\n",
    "    POOL_SIZE = 5\n",
    "    #data = []\n",
    "\n",
    "    # 将数据分割成POOL_SIZE个子列表\n",
    "    datas = [data[i::POOL_SIZE] for i in range(POOL_SIZE)]\n",
    "\n",
    "    # 使用Manager创建一个共享对象\n",
    "    with Manager() as manager:\n",
    "        # 创建一个共享列表，用于存储所有进程的结果\n",
    "        return_list = manager.list()\n",
    "\n",
    "        # 创建进程列表\n",
    "        producers = []\n",
    "        for i in range(POOL_SIZE):\n",
    "            # 创建每个进程，传递数据子集、模型名称、结果列表和进程编号\n",
    "            p = Process(target=produce,\n",
    "                        args=(datas[i],  # 数据子集\n",
    "                              MODEL_NAME,  # 模型名称\n",
    "                              return_list,  # 共享结果列表\n",
    "                              i,  # 进程编号\n",
    "                              )\n",
    "                        )\n",
    "            producers.append(p)\n",
    "\n",
    "        # 启动所有进程\n",
    "        for p in producers:\n",
    "            p.start()\n",
    "\n",
    "        # 等待所有进程完成\n",
    "        for p in producers:\n",
    "            p.join()\n",
    "\n",
    "        # 输出结果列表的长度\n",
    "        print(len(return_list))\n",
    "\n",
    "        # 写入输出文件\n",
    "        with open(ofn, 'w') as writer:\n",
    "            for sample in return_list:\n",
    "                # 将结果写入文件\n",
    "                writer.write(json.dumps(sample, ensure_ascii=False))\n",
    "                writer.write('\\n')\n",
    "\n",
    "    # 输出任务完成的消息\n",
    "    print(\"All tasks finished!\")\n",
    "\n",
    "    # 调用评估函数\n",
    "    evaluate(ofn)"
   ]
  },
  {
   "cell_type": "code",
   "execution_count": 22,
   "id": "5266c650-e79a-478d-b6a7-ea68b856aa81",
   "metadata": {
    "execution": {
     "iopub.execute_input": "2024-08-17T02:27:43.941457Z",
     "iopub.status.busy": "2024-08-17T02:27:43.941007Z",
     "iopub.status.idle": "2024-08-17T02:27:43.944990Z",
     "shell.execute_reply": "2024-08-17T02:27:43.944540Z",
     "shell.execute_reply.started": "2024-08-17T02:27:43.941435Z"
    },
    "tags": []
   },
   "outputs": [],
   "source": [
    "def evaluate(ofn):\n",
    "    data = []\n",
    "    with open(ofn) as reader:\n",
    "        for line in reader:\n",
    "            sample = json.loads(line)\n",
    "            data.append(sample)\n",
    "\n",
    "    pse = 0\n",
    "    cnt = 0\n",
    "    tot = 0\n",
    "    for task in data:\n",
    "        for question in task['questions']:\n",
    "            \n",
    "            if MODEL_NAME in question:\n",
    "                tot += 1\n",
    "                cnt += question[MODEL_NAME] == question['answer']\n",
    "            else:\n",
    "                pse += 1\n",
    "\n",
    "    print(cnt, tot, cnt/tot, pse)"
   ]
  },
  {
   "cell_type": "code",
   "execution_count": 2,
   "id": "b4b0fdf1-f702-4977-b5fe-3c1eb6c0b1b3",
   "metadata": {
    "ExecutionIndicator": {
     "show": true
    },
    "execution": {
     "iopub.execute_input": "2024-08-17T06:56:23.053349Z",
     "iopub.status.busy": "2024-08-17T06:56:23.053021Z",
     "iopub.status.idle": "2024-08-17T06:56:23.056427Z",
     "shell.execute_reply": "2024-08-17T06:56:23.056000Z",
     "shell.execute_reply.started": "2024-08-17T06:56:23.053330Z"
    },
    "tags": []
   },
   "outputs": [],
   "source": [
    "def read_file(ifn):\n",
    "    # 读取输入文件\n",
    "    data=[]\n",
    "    with open(ifn) as reader:\n",
    "        for line in reader:\n",
    "            # 解析每一行JSON数据\n",
    "            sample = json.loads(line)\n",
    "            data.append(sample)\n",
    "\n",
    "    # 打乱数据顺序\n",
    "    #random.shuffle(data)\n",
    "    return data"
   ]
  },
  {
   "cell_type": "code",
   "execution_count": 1,
   "id": "d0a72684-ae99-430d-91c2-0792475c47b5",
   "metadata": {
    "execution": {
     "iopub.execute_input": "2024-08-17T05:02:03.381776Z",
     "iopub.status.busy": "2024-08-17T05:02:03.381450Z",
     "iopub.status.idle": "2024-08-17T05:02:03.388897Z",
     "shell.execute_reply": "2024-08-17T05:02:03.388435Z",
     "shell.execute_reply.started": "2024-08-17T05:02:03.381751Z"
    },
    "tags": []
   },
   "outputs": [],
   "source": [
    "def validate_qwen_answers(file):\n",
    "    validated_problem_sets = []\n",
    "    \n",
    "    for data in file:\n",
    "        if 'promble' in data:\n",
    "            data['problem'] = data.pop('promble')\n",
    "        problem = data['problem']\n",
    "        questions = data['questions']\n",
    "        _id = data['id']\n",
    "        \n",
    "        validated_questions = []\n",
    "        for question in questions:\n",
    "            answer = question['answer']\n",
    "            # 检查答案是否为大写字母\n",
    "            if len(answer) == 1 and answer.isupper() and question[MODEL_NAME] == question['answer']:\n",
    "                validated_questions.append(question)\n",
    "            else:\n",
    "                print(f\"Invalid answer '{answer}' for question: {question['question']}\")\n",
    "        \n",
    "        # 创建一个新的问题集字典，只包含有效的问题\n",
    "        validated_problem_set = {\n",
    "            'problem': problem,\n",
    "            'questions': validated_questions,\n",
    "            'id': _id\n",
    "        }\n",
    "        validated_problem_sets.append(validated_problem_set)\n",
    "    \n",
    "    return validated_problem_sets"
   ]
  },
  {
   "cell_type": "code",
   "execution_count": 2,
   "id": "1e2b9fc2-90d2-4fa6-a8a9-ee950cc22a53",
   "metadata": {
    "ExecutionIndicator": {
     "show": true
    },
    "execution": {
     "iopub.execute_input": "2024-08-17T05:02:05.942094Z",
     "iopub.status.busy": "2024-08-17T05:02:05.941776Z",
     "iopub.status.idle": "2024-08-17T05:02:05.946519Z",
     "shell.execute_reply": "2024-08-17T05:02:05.946032Z",
     "shell.execute_reply.started": "2024-08-17T05:02:05.942076Z"
    },
    "tags": []
   },
   "outputs": [],
   "source": [
    "def validate_answers(file):\n",
    "    validated_problem_sets = []\n",
    "    \n",
    "    for data in file:\n",
    "        if 'promble' in data:\n",
    "            data['problem'] = data.pop('promble')\n",
    "        problem = data['problem']\n",
    "        questions = data['questions']\n",
    "        _id = data['id']\n",
    "        \n",
    "        validated_questions = []\n",
    "        for question in questions:\n",
    "            answer = question['answer']\n",
    "            # 检查答案是否为大写字母\n",
    "            if len(answer) == 1 and answer.isupper():\n",
    "                validated_questions.append(question)\n",
    "            else:\n",
    "                print(f\"Invalid answer '{answer}' for question: {question['question']}\")\n",
    "        \n",
    "        # 创建一个新的问题集字典，只包含有效的问题\n",
    "        validated_problem_set = {\n",
    "            'problem': problem,\n",
    "            'questions': validated_questions,\n",
    "            'id': _id\n",
    "        }\n",
    "        validated_problem_sets.append(validated_problem_set)\n",
    "    \n",
    "    return validated_problem_sets"
   ]
  },
  {
   "cell_type": "code",
   "execution_count": 27,
   "id": "1f697481-7d04-4cd3-bdf6-c84117bc3905",
   "metadata": {
    "ExecutionIndicator": {
     "show": true
    },
    "execution": {
     "iopub.execute_input": "2024-08-17T07:14:15.882986Z",
     "iopub.status.busy": "2024-08-17T07:14:15.882645Z",
     "iopub.status.idle": "2024-08-17T07:14:15.886707Z",
     "shell.execute_reply": "2024-08-17T07:14:15.886232Z",
     "shell.execute_reply.started": "2024-08-17T07:14:15.882967Z"
    },
    "tags": []
   },
   "outputs": [],
   "source": [
    "import json\n",
    "def write_jsonl(results, filename):\n",
    "    with open(f'data/{filename}.jsonl', 'w',encoding='utf-8') as outfile:\n",
    "        for entry in results:\n",
    "            json.dump(entry, outfile, ensure_ascii=False)\n",
    "            outfile.write('\\n')\n",
    "            \n",
    "def write_json(data, filename):\n",
    "    with open(f'data/{filename}.json', 'w',encoding='utf-8') as file:\n",
    "        json.dump(data, file, ensure_ascii=False)"
   ]
  },
  {
   "cell_type": "code",
   "execution_count": 28,
   "id": "cc27f0ee-ee2e-48c9-8fb2-2129ae114a03",
   "metadata": {
    "ExecutionIndicator": {
     "show": true
    },
    "execution": {
     "iopub.execute_input": "2024-08-17T05:50:31.231310Z",
     "iopub.status.busy": "2024-08-17T05:50:31.230952Z",
     "iopub.status.idle": "2024-08-17T05:50:31.235594Z",
     "shell.execute_reply": "2024-08-17T05:50:31.235077Z",
     "shell.execute_reply.started": "2024-08-17T05:50:31.231291Z"
    },
    "tags": []
   },
   "outputs": [],
   "source": [
    "def g8_answers(file):\n",
    "    validated_problem_sets = []\n",
    "    for data in file:\n",
    "\n",
    "        problem = data['problem']\n",
    "        questions = data['questions']\n",
    "        _id = data['id']\n",
    "        validated_questions = []\n",
    "        for question in questions:\n",
    "            if 'solution' in question:\n",
    "                s = question['answer']\n",
    "                answer = f'答案是：{s}'\n",
    "                question['qwen_respond'] = question.pop('solution') + answer\n",
    "            validated_questions.append(question)\n",
    "        # 创建一个新的问题集字典，只包含有效的问题\n",
    "        validated_problem_set = {\n",
    "            'problem': problem,\n",
    "            'questions': validated_questions,\n",
    "            'id': _id\n",
    "        }\n",
    "        validated_problem_sets.append(validated_problem_set)\n",
    "    return validated_problem_sets"
   ]
  },
  {
   "cell_type": "code",
   "execution_count": 15,
   "id": "1fca62e4-e375-40c5-8e8b-e0715ced5ca5",
   "metadata": {
    "ExecutionIndicator": {
     "show": true
    },
    "execution": {
     "iopub.execute_input": "2024-08-17T07:02:14.535476Z",
     "iopub.status.busy": "2024-08-17T07:02:14.535142Z",
     "iopub.status.idle": "2024-08-17T07:02:14.538955Z",
     "shell.execute_reply": "2024-08-17T07:02:14.538499Z",
     "shell.execute_reply.started": "2024-08-17T07:02:14.535457Z"
    },
    "tags": []
   },
   "outputs": [],
   "source": [
    "def train_format(file):\n",
    "    train_datas = []\n",
    "    for data in file:\n",
    "        problem = data['problem']\n",
    "        questions = data['questions']\n",
    "        _id = data['id']\n",
    "        for question in questions:\n",
    "            train_data ={\n",
    "                'instuction': get_prompt(problem, question['question'], question['options']),\n",
    "                'input': \"\",\n",
    "                'output': question['qwen_respond']\n",
    "            }\n",
    "            train_datas.append(train_data)\n",
    "    return train_datas"
   ]
  },
  {
   "cell_type": "code",
   "execution_count": null,
   "id": "12c56d9c-ffd8-468d-9e7e-b7e881c914d1",
   "metadata": {
    "ExecutionIndicator": {
     "show": true
    },
    "tags": []
   },
   "outputs": [],
   "source": [
    "if __name__ == '__main__':\n",
    "\n",
    "    a = extract(\"\"\"根据欧几里得算法，逐步解析计算两个数6和7的最大公约数（gcd）的步骤如下：\n",
    "\n",
    "1. 判断6和7是否相等：不相等。\n",
    "2. 判断6和7大小关系，7 > 6，所以用更大的数7减去较小的数6得到结果1。\n",
    "3. 现在计算6和1的最大公约数。\n",
    "4. 6 > 1，根据算法用更大的数6减去较小的数1得到结果5。\n",
    "5. 再计算5和1的最大公约数。\n",
    "6. 5 > 1，用5减去1得到结果4。\n",
    "7. 再计算4和1的最大公约数。\n",
    "8. 4 > 1，用4减去1得到结果3。\n",
    "9. 再计算3和1的最大公约数。\n",
    "10. 3 > 1，用3减去1得到结果2。\n",
    "11. 再计算2和1的最大公约数。\n",
    "12. 2 > 1，用2减去1得到结果1。\n",
    "13. 最后计算1和1的最大公约数，两数相等，gcd即为这两个数，也就是1。\n",
    "\n",
    "因此，6和7的最大公约数是1。\n",
    "\n",
    "答案是：应该是阿飞.\"\"\")\n",
    "    # data = read_file('data/round1_train_data.jsonl')\n",
    "    # main(data[:2],'result/qwen.jsonl')\n",
    "\n",
    "    vaild_file = read_file('data/valid_data_500.jsonl')\n",
    "    main(vaild_file, 'result/qwen_vaild.jsonl')"
   ]
  },
  {
   "cell_type": "code",
   "execution_count": 31,
   "id": "5da3a221-f4dd-497f-89cc-b24b4a13e917",
   "metadata": {
    "ExecutionIndicator": {
     "show": true
    },
    "execution": {
     "iopub.execute_input": "2024-08-17T07:17:58.971632Z",
     "iopub.status.busy": "2024-08-17T07:17:58.971294Z",
     "iopub.status.idle": "2024-08-17T07:17:59.010803Z",
     "shell.execute_reply": "2024-08-17T07:17:59.010201Z",
     "shell.execute_reply.started": "2024-08-17T07:17:58.971612Z"
    },
    "tags": []
   },
   "outputs": [],
   "source": [
    "file = read_file('data/qwen_valid_data_500.jsonl')\n",
    "qwen_train = train_format(file)\n",
    "write_json(qwen_train, \"qwen_train_data_1697\")\n",
    "# vaild_file = validate_qwen_answers(file)\n",
    "# write_jsonl(vaild_file,\"qwen_valid_data_500\")"
   ]
  }
 ],
 "metadata": {
  "kernelspec": {
   "display_name": "Python 3 (ipykernel)",
   "language": "python",
   "name": "python3"
  },
  "language_info": {
   "codemirror_mode": {
    "name": "ipython",
    "version": 3
   },
   "file_extension": ".py",
   "mimetype": "text/x-python",
   "name": "python",
   "nbconvert_exporter": "python",
   "pygments_lexer": "ipython3",
   "version": "3.10.8"
  }
 },
 "nbformat": 4,
 "nbformat_minor": 5
}
