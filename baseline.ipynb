{
 "cells": [
  {
   "cell_type": "code",
   "execution_count": 8,
   "id": "9a37796c-69e7-4502-ab82-3aceca1f7fbf",
   "metadata": {
    "ExecutionIndicator": {
     "show": true
    },
    "execution": {
     "iopub.execute_input": "2024-08-17T05:02:44.388921Z",
     "iopub.status.busy": "2024-08-17T05:02:44.388572Z",
     "iopub.status.idle": "2024-08-17T05:02:45.267367Z",
     "shell.execute_reply": "2024-08-17T05:02:45.266803Z",
     "shell.execute_reply.started": "2024-08-17T05:02:44.388897Z"
    },
    "tags": []
   },
   "outputs": [],
   "source": [
    "from multiprocessing import Process, Manager\n",
    "import json\n",
    "import os\n",
    "from pprint import pprint\n",
    "import re\n",
    "from tqdm import tqdm\n",
    "import random\n",
    "\n",
    "import uuid\n",
    "import openai\n",
    "import tiktoken\n",
    "import json\n",
    "import numpy as np\n",
    "import requests\n",
    "from retry import retry\n",
    "from scipy import sparse\n",
    "#from rank_bm25 import BM25Okapi\n",
    "#import jieba\n",
    "from http import HTTPStatus\n",
    "import dashscope\n",
    "from dotenv import dotenv_values\n",
    "config = dotenv_values('.env')"
   ]
  },
  {
   "cell_type": "code",
   "execution_count": 9,
   "id": "308473de-f20e-41b6-a57d-af5e553a9866",
   "metadata": {
    "ExecutionIndicator": {
     "show": true
    },
    "execution": {
     "iopub.execute_input": "2024-08-17T05:02:46.954082Z",
     "iopub.status.busy": "2024-08-17T05:02:46.953678Z",
     "iopub.status.idle": "2024-08-17T05:02:46.958340Z",
     "shell.execute_reply": "2024-08-17T05:02:46.957828Z",
     "shell.execute_reply.started": "2024-08-17T05:02:46.954063Z"
    },
    "tags": []
   },
   "outputs": [],
   "source": [
    "MODEL_NAME = 'qwen-max'\n",
    "dashscope.api_key = config['qwen_key'],\n",
    "\n",
    "@retry(delay=60, tries=3)\n",
    "def call_qwen_api(MODEL_NAME, query):\n",
    "    messages = [\n",
    "        {'role': 'user', 'content': query}]\n",
    "    response = dashscope.Generation.call(\n",
    "        MODEL_NAME,\n",
    "        messages=messages,\n",
    "        result_format='message',  # set the result is message format.\n",
    "    )\n",
    "    if response.status_code == HTTPStatus.OK:\n",
    "        #print(response)\n",
    "        return response['output']['choices'][0]['message']['content']\n",
    "    else:\n",
    "        print('Request id: %s, Status code: %s, error code: %s, error message: %s' % (\n",
    "            response.request_id, response.status_code,\n",
    "            response.code, response.message\n",
    "        ))\n",
    "        raise Exception()"
   ]
  },
  {
   "cell_type": "code",
   "execution_count": 18,
   "id": "5424028d-b0a0-48ed-ba5d-6cf39445ba8f",
   "metadata": {
    "ExecutionIndicator": {
     "show": true
    },
    "execution": {
     "iopub.execute_input": "2024-08-17T02:27:33.146772Z",
     "iopub.status.busy": "2024-08-17T02:27:33.146470Z",
     "iopub.status.idle": "2024-08-17T02:27:33.150185Z",
     "shell.execute_reply": "2024-08-17T02:27:33.149732Z",
     "shell.execute_reply.started": "2024-08-17T02:27:33.146754Z"
    },
    "tags": []
   },
   "outputs": [],
   "source": [
    "def get_prompt(problem, question, options):\n",
    "\n",
    "    options = '\\n'.join(f\"{'ABCDEFG'[i]}. {o}\" for i, o in enumerate(options))\n",
    "\n",
    "    prompt = f\"\"\"你是一个逻辑推理专家，擅长解决逻辑推理问题。以下是一个逻辑推理的题目，形式为单项选择题。所有的问题都是（close-world assumption）闭世界假设，即未观测事实都为假。请逐步分析问题并在最后一行输出答案，最后一行的格式为\"答案是：A\"。题目如下：\n",
    "\n",
    "### 题目:\n",
    "{problem}\n",
    "### 问题:\n",
    "{question}\n",
    "### 选项:\n",
    "{options}\n",
    "\"\"\"\n",
    "\n",
    "    return prompt"
   ]
  },
  {
   "cell_type": "code",
   "execution_count": 19,
   "id": "f7734a4a-4754-4155-a020-8a8f1d81a3c6",
   "metadata": {
    "ExecutionIndicator": {
     "show": true
    },
    "execution": {
     "iopub.execute_input": "2024-08-17T02:27:35.064505Z",
     "iopub.status.busy": "2024-08-17T02:27:35.064209Z",
     "iopub.status.idle": "2024-08-17T02:27:35.067979Z",
     "shell.execute_reply": "2024-08-17T02:27:35.067545Z",
     "shell.execute_reply.started": "2024-08-17T02:27:35.064487Z"
    },
    "tags": []
   },
   "outputs": [],
   "source": [
    "def extract(input_text):\n",
    "    ans_pattern = re.compile(r\"答案是：(.*)\", re.S)\n",
    "\n",
    "    # 使用 findall 方法找到所有匹配的字符串\n",
    "    problems = ans_pattern.findall(input_text)\n",
    "    if len(problems) == 0:\n",
    "        return '提取失败'\n",
    "\n",
    "    # 提取答案中出现的所有可能的答案字母\n",
    "    possible_answers = \"ABCDEFG\"  # 假设可能的答案字母是 A, B, C, D\n",
    "    \n",
    "    answers = [match for match in problems[0] if match in possible_answers]\n",
    "\n",
    "#     print(answers)  # 输出：['A']\n",
    "#     ans_pattern = re.compile(r\"答案是：(.)\", re.S)\n",
    "#     problems = ans_pattern.findall(input_text)\n",
    "    if len(answers) == 0:\n",
    "        return '提取失败'\n",
    "        \n",
    "    return answers[0]"
   ]
  },
  {
   "cell_type": "code",
   "execution_count": 20,
   "id": "107a3ec7-4e77-47ec-8622-cac15253eda8",
   "metadata": {
    "ExecutionIndicator": {
     "show": true
    },
    "execution": {
     "iopub.execute_input": "2024-08-17T02:27:37.457159Z",
     "iopub.status.busy": "2024-08-17T02:27:37.456834Z",
     "iopub.status.idle": "2024-08-17T02:27:37.461261Z",
     "shell.execute_reply": "2024-08-17T02:27:37.460757Z",
     "shell.execute_reply.started": "2024-08-17T02:27:37.457139Z"
    },
    "tags": []
   },
   "outputs": [],
   "source": [
    "def produce(data, MODEL_NAME, return_list, pid):\n",
    "    tqdm1 = tqdm\n",
    "    for task in tqdm1(data):\n",
    "            problem = task['problem']\n",
    "            for question in task['questions']:\n",
    "\n",
    "                prompt = get_prompt(problem, \n",
    "                                    question['question'],\n",
    "                                    question['options'],\n",
    "                                    )\n",
    "\n",
    "                response = call_qwen_api(MODEL_NAME, prompt)\n",
    "                question['qwen_respond'] = response\n",
    "                extract_response = extract(response)\n",
    "                question[MODEL_NAME] = extract_response\n",
    "                \n",
    "                # try:\n",
    "                #     attemp = 1\n",
    "                #     while attemp <= 3:\n",
    "                #         #print(f'try：{attemp}')\n",
    "                #         extract_response = extract(response)\n",
    "                #         question[MODEL_NAME] = extract_response\n",
    "                #         if question[MODEL_NAME] == '':\n",
    "                #             print(f'wtrong response：{response}')\n",
    "                #             attemp += 1\n",
    "                #             continue\n",
    "                #         else:\n",
    "                #             attemp = 4\n",
    "                #     # if pid == 0:\n",
    "                #     #     pprint(extract_response)\n",
    "                #     # break\n",
    "                # except:\n",
    "                #     pass\n",
    "            return_list.append(task)"
   ]
  },
  {
   "cell_type": "code",
   "execution_count": 21,
   "id": "cdb0e780-bc1d-412c-8edc-759aa12c6ab3",
   "metadata": {
    "ExecutionIndicator": {
     "show": true
    },
    "execution": {
     "iopub.execute_input": "2024-08-17T02:27:40.473821Z",
     "iopub.status.busy": "2024-08-17T02:27:40.473513Z",
     "iopub.status.idle": "2024-08-17T02:27:40.478931Z",
     "shell.execute_reply": "2024-08-17T02:27:40.478399Z",
     "shell.execute_reply.started": "2024-08-17T02:27:40.473802Z"
    },
    "tags": []
   },
   "outputs": [],
   "source": [
    "def main(data, ofn):\n",
    "    # 如果输出文件已经存在，则不进行处理\n",
    "    # if os.path.exists(ofn):\n",
    "    #     pass\n",
    "\n",
    "    # 设置进程池大小\n",
    "    POOL_SIZE = 5\n",
    "    #data = []\n",
    "\n",
    "    # 将数据分割成POOL_SIZE个子列表\n",
    "    datas = [data[i::POOL_SIZE] for i in range(POOL_SIZE)]\n",
    "\n",
    "    # 使用Manager创建一个共享对象\n",
    "    with Manager() as manager:\n",
    "        # 创建一个共享列表，用于存储所有进程的结果\n",
    "        return_list = manager.list()\n",
    "\n",
    "        # 创建进程列表\n",
    "        producers = []\n",
    "        for i in range(POOL_SIZE):\n",
    "            # 创建每个进程，传递数据子集、模型名称、结果列表和进程编号\n",
    "            p = Process(target=produce,\n",
    "                        args=(datas[i],  # 数据子集\n",
    "                              MODEL_NAME,  # 模型名称\n",
    "                              return_list,  # 共享结果列表\n",
    "                              i,  # 进程编号\n",
    "                              )\n",
    "                        )\n",
    "            producers.append(p)\n",
    "\n",
    "        # 启动所有进程\n",
    "        for p in producers:\n",
    "            p.start()\n",
    "\n",
    "        # 等待所有进程完成\n",
    "        for p in producers:\n",
    "            p.join()\n",
    "\n",
    "        # 输出结果列表的长度\n",
    "        print(len(return_list))\n",
    "\n",
    "        # 写入输出文件\n",
    "        with open(ofn, 'w') as writer:\n",
    "            for sample in return_list:\n",
    "                # 将结果写入文件\n",
    "                writer.write(json.dumps(sample, ensure_ascii=False))\n",
    "                writer.write('\\n')\n",
    "\n",
    "    # 输出任务完成的消息\n",
    "    print(\"All tasks finished!\")\n",
    "\n",
    "    # 调用评估函数\n",
    "    evaluate(ofn)"
   ]
  },
  {
   "cell_type": "code",
   "execution_count": 22,
   "id": "5266c650-e79a-478d-b6a7-ea68b856aa81",
   "metadata": {
    "execution": {
     "iopub.execute_input": "2024-08-17T02:27:43.941457Z",
     "iopub.status.busy": "2024-08-17T02:27:43.941007Z",
     "iopub.status.idle": "2024-08-17T02:27:43.944990Z",
     "shell.execute_reply": "2024-08-17T02:27:43.944540Z",
     "shell.execute_reply.started": "2024-08-17T02:27:43.941435Z"
    },
    "tags": []
   },
   "outputs": [],
   "source": [
    "def evaluate(ofn):\n",
    "    data = []\n",
    "    with open(ofn) as reader:\n",
    "        for line in reader:\n",
    "            sample = json.loads(line)\n",
    "            data.append(sample)\n",
    "\n",
    "    pse = 0\n",
    "    cnt = 0\n",
    "    tot = 0\n",
    "    for task in data:\n",
    "        for question in task['questions']:\n",
    "            \n",
    "            if MODEL_NAME in question:\n",
    "                tot += 1\n",
    "                cnt += question[MODEL_NAME] == question['answer']\n",
    "            else:\n",
    "                pse += 1\n",
    "\n",
    "    print(cnt, tot, cnt/tot, pse)"
   ]
  },
  {
   "cell_type": "code",
   "execution_count": 5,
   "id": "b4b0fdf1-f702-4977-b5fe-3c1eb6c0b1b3",
   "metadata": {
    "ExecutionIndicator": {
     "show": true
    },
    "execution": {
     "iopub.execute_input": "2024-08-17T05:02:15.488684Z",
     "iopub.status.busy": "2024-08-17T05:02:15.488318Z",
     "iopub.status.idle": "2024-08-17T05:02:15.491829Z",
     "shell.execute_reply": "2024-08-17T05:02:15.491363Z",
     "shell.execute_reply.started": "2024-08-17T05:02:15.488665Z"
    },
    "tags": []
   },
   "outputs": [],
   "source": [
    "def read_file(ifn):\n",
    "    # 读取输入文件\n",
    "    data=[]\n",
    "    with open(ifn) as reader:\n",
    "        for line in reader:\n",
    "            # 解析每一行JSON数据\n",
    "            sample = json.loads(line)\n",
    "            data.append(sample)\n",
    "\n",
    "    # 打乱数据顺序\n",
    "    #random.shuffle(data)\n",
    "    return data"
   ]
  },
  {
   "cell_type": "code",
   "execution_count": 25,
   "id": "12c56d9c-ffd8-468d-9e7e-b7e881c914d1",
   "metadata": {
    "ExecutionIndicator": {
     "show": true
    },
    "execution": {
     "iopub.execute_input": "2024-08-17T02:32:21.156107Z",
     "iopub.status.busy": "2024-08-17T02:32:21.155722Z",
     "iopub.status.idle": "2024-08-17T04:12:17.987468Z",
     "shell.execute_reply": "2024-08-17T04:12:17.986997Z",
     "shell.execute_reply.started": "2024-08-17T02:32:21.156088Z"
    },
    "tags": []
   },
   "outputs": [
    {
     "name": "stderr",
     "output_type": "stream",
     "text": [
      "  1%|          | 1/100 [01:56<3:12:26, 116.63s/it]"
     ]
    },
    {
     "name": "stdout",
     "output_type": "stream",
     "text": [
      "Request id: 11dc4bce-41fb-95d5-8373-64ea6ea579ae, Status code: 429, error code: Throttling.RateQuota, error message: Requests rate limit exceeded, please try again later.\n"
     ]
    },
    {
     "name": "stderr",
     "output_type": "stream",
     "text": [
      "  4%|▍         | 4/100 [03:39<1:11:16, 44.55s/it] "
     ]
    },
    {
     "name": "stdout",
     "output_type": "stream",
     "text": [
      "Request id: ed6c79a1-510e-9984-8441-aa71855504be, Status code: 429, error code: Throttling.RateQuota, error message: Requests rate limit exceeded, please try again later.\n"
     ]
    },
    {
     "name": "stderr",
     "output_type": "stream",
     "text": [
      "  6%|▌         | 6/100 [04:35<1:01:32, 39.28s/it]"
     ]
    },
    {
     "name": "stdout",
     "output_type": "stream",
     "text": [
      "Request id: 63529b29-4299-9fe7-ac5c-ff675fc1c27e, Status code: 429, error code: Throttling.RateQuota, error message: Requests rate limit exceeded, please try again later.\n"
     ]
    },
    {
     "name": "stderr",
     "output_type": "stream",
     "text": [
      "  6%|▌         | 6/100 [05:23<1:19:21, 50.65s/it]"
     ]
    },
    {
     "name": "stdout",
     "output_type": "stream",
     "text": [
      "Request id: adec2cc4-36aa-97ae-89a7-05979a172393, Status code: 400, error code: DataInspectionFailed, error message: Output data may contain inappropriate content.\n"
     ]
    },
    {
     "name": "stderr",
     "output_type": "stream",
     "text": [
      "  8%|▊         | 8/100 [07:21<1:46:50, 69.68s/it]"
     ]
    },
    {
     "name": "stdout",
     "output_type": "stream",
     "text": [
      "Request id: c45d1c1e-705e-98b4-bf45-4af28a5bb44d, Status code: 400, error code: DataInspectionFailed, error message: Output data may contain inappropriate content.\n"
     ]
    },
    {
     "name": "stderr",
     "output_type": "stream",
     "text": [
      " 10%|█         | 10/100 [08:28<1:13:08, 48.76s/it]"
     ]
    },
    {
     "name": "stdout",
     "output_type": "stream",
     "text": [
      "Request id: 82fc2e0b-2c78-9591-9cfa-42b4dd6b3962, Status code: 429, error code: Throttling.RateQuota, error message: Requests rate limit exceeded, please try again later.\n"
     ]
    },
    {
     "name": "stderr",
     "output_type": "stream",
     "text": [
      " 12%|█▏        | 12/100 [09:17<1:10:43, 48.22s/it]"
     ]
    },
    {
     "name": "stdout",
     "output_type": "stream",
     "text": [
      "Request id: 4475ee85-4af8-91a6-acf1-b3e8ebf12852, Status code: 400, error code: DataInspectionFailed, error message: Output data may contain inappropriate content.\n"
     ]
    },
    {
     "name": "stderr",
     "output_type": "stream",
     "text": [
      "  7%|▋         | 7/100 [09:19<2:03:49, 79.88s/it]\n",
      "Process Process-12:\n",
      "Traceback (most recent call last):\n",
      "  File \"/usr/local/lib/python3.10/multiprocessing/process.py\", line 314, in _bootstrap\n",
      "    self.run()\n",
      "  File \"/usr/local/lib/python3.10/multiprocessing/process.py\", line 108, in run\n",
      "    self._target(*self._args, **self._kwargs)\n",
      "  File \"/tmp/ipykernel_548/2464839891.py\", line 12, in produce\n",
      "    response = call_qwen_api(MODEL_NAME, prompt)\n",
      "  File \"<decorator-gen-22>\", line 2, in call_qwen_api\n",
      "  File \"/usr/local/lib/python3.10/site-packages/retry/api.py\", line 73, in retry_decorator\n",
      "    return __retry_internal(partial(f, *args, **kwargs), exceptions, tries, delay, max_delay, backoff, jitter,\n",
      "  File \"/usr/local/lib/python3.10/site-packages/retry/api.py\", line 33, in __retry_internal\n",
      "    return f()\n",
      "  File \"/tmp/ipykernel_548/1098796623.py\", line 21, in call_qwen_api\n",
      "    raise Exception()\n",
      "Exception\n",
      " 21%|██        | 21/100 [20:07<1:31:35, 69.56s/it] "
     ]
    },
    {
     "name": "stdout",
     "output_type": "stream",
     "text": [
      "Request id: d34db93f-e0d0-9f3b-b45c-b2b0f9b74e38, Status code: 429, error code: Throttling.RateQuota, error message: Requests rate limit exceeded, please try again later.\n"
     ]
    },
    {
     "name": "stderr",
     "output_type": "stream",
     "text": [
      " 28%|██▊       | 28/100 [28:24<1:01:20, 51.12s/it]"
     ]
    },
    {
     "name": "stdout",
     "output_type": "stream",
     "text": [
      "Request id: a01e1467-7b2b-90ef-bdb6-a94b99db48d5, Status code: 429, error code: Throttling.RateQuota, error message: Requests rate limit exceeded, please try again later.\n",
      "Request id: a61073d9-b0b0-9ebf-b0fe-b4f868e2c3c7, Status code: 429, error code: Throttling.RateQuota, error message: Requests rate limit exceeded, please try again later.\n"
     ]
    },
    {
     "name": "stderr",
     "output_type": "stream",
     "text": [
      " 43%|████▎     | 43/100 [32:57<35:16, 37.13s/it]   "
     ]
    },
    {
     "name": "stdout",
     "output_type": "stream",
     "text": [
      "Request id: 2a52c090-5723-92d8-8092-00dd5e74bfeb, Status code: 429, error code: Throttling.RateQuota, error message: Requests rate limit exceeded, please try again later.\n"
     ]
    },
    {
     "name": "stderr",
     "output_type": "stream",
     "text": [
      " 35%|███▌      | 35/100 [34:25<46:51, 43.25s/it]  "
     ]
    },
    {
     "name": "stdout",
     "output_type": "stream",
     "text": [
      "Request id: 7deab613-d333-97d3-aa19-b67a801677a7, Status code: 429, error code: Throttling.RateQuota, error message: Requests rate limit exceeded, please try again later.\n",
      "Request id: ede86708-5071-92ce-b21a-ab1dde8e21a2, Status code: 429, error code: Throttling.RateQuota, error message: Requests rate limit exceeded, please try again later.\n"
     ]
    },
    {
     "name": "stderr",
     "output_type": "stream",
     "text": [
      " 40%|████      | 40/100 [35:33<55:26, 55.45s/it]"
     ]
    },
    {
     "name": "stdout",
     "output_type": "stream",
     "text": [
      "Request id: eb0aa7f3-ec0c-93f6-93b7-26db28f28f40, Status code: 429, error code: Throttling.RateQuota, error message: Requests rate limit exceeded, please try again later.\n"
     ]
    },
    {
     "name": "stderr",
     "output_type": "stream",
     "text": [
      " 44%|████▍     | 44/100 [38:38<42:21, 45.39s/it]t]"
     ]
    },
    {
     "name": "stdout",
     "output_type": "stream",
     "text": [
      "Request id: a72eae47-4f20-960c-adb0-8d89d3993aec, Status code: 429, error code: Throttling.RateQuota, error message: Requests rate limit exceeded, please try again later.\n"
     ]
    },
    {
     "name": "stderr",
     "output_type": "stream",
     "text": [
      " 50%|█████     | 50/100 [47:27<32:23, 38.87s/it]  "
     ]
    },
    {
     "name": "stdout",
     "output_type": "stream",
     "text": [
      "Request id: 006e5351-6a94-992b-9895-a717885e509e, Status code: 429, error code: Throttling.RateQuota, error message: Requests rate limit exceeded, please try again later.\n"
     ]
    },
    {
     "name": "stderr",
     "output_type": "stream",
     "text": [
      " 60%|██████    | 60/100 [51:58<35:30, 53.26s/it]  "
     ]
    },
    {
     "name": "stdout",
     "output_type": "stream",
     "text": [
      "Request id: 9733b136-ce06-9fab-9a1b-9311a791243d, Status code: 429, error code: Throttling.RateQuota, error message: Requests rate limit exceeded, please try again later.\n"
     ]
    },
    {
     "name": "stderr",
     "output_type": "stream",
     "text": [
      " 72%|███████▏  | 72/100 [1:07:11<26:28, 56.73s/it]"
     ]
    },
    {
     "name": "stdout",
     "output_type": "stream",
     "text": [
      "Request id: a47c83ea-016b-9bf8-af5e-f15ba7b21355, Status code: 429, error code: Throttling.RateQuota, error message: Requests rate limit exceeded, please try again later.\n"
     ]
    },
    {
     "name": "stderr",
     "output_type": "stream",
     "text": [
      " 81%|████████  | 81/100 [1:10:07<24:00, 75.82s/it]"
     ]
    },
    {
     "name": "stdout",
     "output_type": "stream",
     "text": [
      "Request id: 97e5b7b7-7aa2-90f7-a7fa-589902e3fa04, Status code: 429, error code: Throttling.RateQuota, error message: Requests rate limit exceeded, please try again later.\n"
     ]
    },
    {
     "name": "stderr",
     "output_type": "stream",
     "text": [
      " 77%|███████▋  | 77/100 [1:10:08<23:52, 62.30s/it]"
     ]
    },
    {
     "name": "stdout",
     "output_type": "stream",
     "text": [
      "Request id: 8dc9e050-6294-9fe5-842e-593c4a28b6d3, Status code: 429, error code: Throttling.RateQuota, error message: Requests rate limit exceeded, please try again later.\n",
      "Request id: db44897a-a163-97d4-b4fe-81f1864c3bd1, Status code: 429, error code: Throttling.RateQuota, error message: Requests rate limit exceeded, please try again later.\n"
     ]
    },
    {
     "name": "stderr",
     "output_type": "stream",
     "text": [
      " 92%|█████████▏| 92/100 [1:12:54<04:07, 30.94s/it]"
     ]
    },
    {
     "name": "stdout",
     "output_type": "stream",
     "text": [
      "Request id: f2b81cd8-d6d5-9fce-8f82-ab3cd96c4d1f, Status code: 429, error code: Throttling.RateQuota, error message: Requests rate limit exceeded, please try again later.\n"
     ]
    },
    {
     "name": "stderr",
     "output_type": "stream",
     "text": [
      "100%|██████████| 100/100 [1:21:12<00:00, 48.72s/it]\n",
      "100%|██████████| 100/100 [1:24:56<00:00, 50.96s/it]\n",
      "100%|██████████| 100/100 [1:35:34<00:00, 57.34s/it]\n",
      "100%|██████████| 100/100 [1:39:56<00:00, 59.97s/it]\n"
     ]
    },
    {
     "name": "stdout",
     "output_type": "stream",
     "text": [
      "407\n",
      "All tasks finished!\n",
      "1697 2247 0.7552291944815309 0\n"
     ]
    }
   ],
   "source": [
    "if __name__ == '__main__':\n",
    "\n",
    "    a = extract(\"\"\"根据欧几里得算法，逐步解析计算两个数6和7的最大公约数（gcd）的步骤如下：\n",
    "\n",
    "1. 判断6和7是否相等：不相等。\n",
    "2. 判断6和7大小关系，7 > 6，所以用更大的数7减去较小的数6得到结果1。\n",
    "3. 现在计算6和1的最大公约数。\n",
    "4. 6 > 1，根据算法用更大的数6减去较小的数1得到结果5。\n",
    "5. 再计算5和1的最大公约数。\n",
    "6. 5 > 1，用5减去1得到结果4。\n",
    "7. 再计算4和1的最大公约数。\n",
    "8. 4 > 1，用4减去1得到结果3。\n",
    "9. 再计算3和1的最大公约数。\n",
    "10. 3 > 1，用3减去1得到结果2。\n",
    "11. 再计算2和1的最大公约数。\n",
    "12. 2 > 1，用2减去1得到结果1。\n",
    "13. 最后计算1和1的最大公约数，两数相等，gcd即为这两个数，也就是1。\n",
    "\n",
    "因此，6和7的最大公约数是1。\n",
    "\n",
    "答案是：应该是阿飞.\"\"\")\n",
    "    # data = read_file('data/round1_train_data.jsonl')\n",
    "    # main(data[:2],'result/qwen.jsonl')\n",
    "\n",
    "    vaild_file = read_file('data/valid_data_500.jsonl')\n",
    "    main(vaild_file, 'result/qwen_vaild.jsonl')"
   ]
  },
  {
   "cell_type": "code",
   "execution_count": 1,
   "id": "d0a72684-ae99-430d-91c2-0792475c47b5",
   "metadata": {
    "execution": {
     "iopub.execute_input": "2024-08-17T05:02:03.381776Z",
     "iopub.status.busy": "2024-08-17T05:02:03.381450Z",
     "iopub.status.idle": "2024-08-17T05:02:03.388897Z",
     "shell.execute_reply": "2024-08-17T05:02:03.388435Z",
     "shell.execute_reply.started": "2024-08-17T05:02:03.381751Z"
    },
    "tags": []
   },
   "outputs": [],
   "source": [
    "def validate_qwen_answers(file):\n",
    "    validated_problem_sets = []\n",
    "    \n",
    "    for data in file:\n",
    "        if 'promble' in data:\n",
    "            data['problem'] = data.pop('promble')\n",
    "        problem = data['problem']\n",
    "        questions = data['questions']\n",
    "        _id = data['id']\n",
    "        \n",
    "        validated_questions = []\n",
    "        for question in questions:\n",
    "            answer = question['answer']\n",
    "            # 检查答案是否为大写字母\n",
    "            if len(answer) == 1 and answer.isupper() and question[MODEL_NAME] == question['answer']:\n",
    "                validated_questions.append(question)\n",
    "            else:\n",
    "                print(f\"Invalid answer '{answer}' for question: {question['question']}\")\n",
    "        \n",
    "        # 创建一个新的问题集字典，只包含有效的问题\n",
    "        validated_problem_set = {\n",
    "            'problem': problem,\n",
    "            'questions': validated_questions,\n",
    "            'id': _id\n",
    "        }\n",
    "        validated_problem_sets.append(validated_problem_set)\n",
    "    \n",
    "    return validated_problem_sets"
   ]
  },
  {
   "cell_type": "code",
   "execution_count": 2,
   "id": "1e2b9fc2-90d2-4fa6-a8a9-ee950cc22a53",
   "metadata": {
    "ExecutionIndicator": {
     "show": true
    },
    "execution": {
     "iopub.execute_input": "2024-08-17T05:02:05.942094Z",
     "iopub.status.busy": "2024-08-17T05:02:05.941776Z",
     "iopub.status.idle": "2024-08-17T05:02:05.946519Z",
     "shell.execute_reply": "2024-08-17T05:02:05.946032Z",
     "shell.execute_reply.started": "2024-08-17T05:02:05.942076Z"
    },
    "tags": []
   },
   "outputs": [],
   "source": [
    "def validate_answers(file):\n",
    "    validated_problem_sets = []\n",
    "    \n",
    "    for data in file:\n",
    "        if 'promble' in data:\n",
    "            data['problem'] = data.pop('promble')\n",
    "        problem = data['problem']\n",
    "        questions = data['questions']\n",
    "        _id = data['id']\n",
    "        \n",
    "        validated_questions = []\n",
    "        for question in questions:\n",
    "            answer = question['answer']\n",
    "            # 检查答案是否为大写字母\n",
    "            if len(answer) == 1 and answer.isupper():\n",
    "                validated_questions.append(question)\n",
    "            else:\n",
    "                print(f\"Invalid answer '{answer}' for question: {question['question']}\")\n",
    "        \n",
    "        # 创建一个新的问题集字典，只包含有效的问题\n",
    "        validated_problem_set = {\n",
    "            'problem': problem,\n",
    "            'questions': validated_questions,\n",
    "            'id': _id\n",
    "        }\n",
    "        validated_problem_sets.append(validated_problem_set)\n",
    "    \n",
    "    return validated_problem_sets"
   ]
  },
  {
   "cell_type": "code",
   "execution_count": 3,
   "id": "1f697481-7d04-4cd3-bdf6-c84117bc3905",
   "metadata": {
    "execution": {
     "iopub.execute_input": "2024-08-17T05:02:08.506268Z",
     "iopub.status.busy": "2024-08-17T05:02:08.505929Z",
     "iopub.status.idle": "2024-08-17T05:02:08.509475Z",
     "shell.execute_reply": "2024-08-17T05:02:08.508991Z",
     "shell.execute_reply.started": "2024-08-17T05:02:08.506250Z"
    },
    "tags": []
   },
   "outputs": [],
   "source": [
    "import json\n",
    "def write_jsonl(results, filename):\n",
    "    with open(f'data/{filename}.jsonl', 'w',encoding='utf-8') as outfile:\n",
    "        for entry in results:\n",
    "            json.dump(entry, outfile, ensure_ascii=False)\n",
    "            outfile.write('\\n')"
   ]
  },
  {
   "cell_type": "code",
   "execution_count": null,
   "id": "5da3a221-f4dd-497f-89cc-b24b4a13e917",
   "metadata": {
    "ExecutionIndicator": {
     "show": true
    },
    "tags": []
   },
   "outputs": [],
   "source": [
    "file = read_file('result/qwen_vaild.jsonl')\n",
    "vaild_file = validate_qwen_answers(file)\n",
    "write_jsonl(vaild_file,\"qwen_valid_data_500\")"
   ]
  },
  {
   "cell_type": "code",
   "execution_count": 28,
   "id": "cc27f0ee-ee2e-48c9-8fb2-2129ae114a03",
   "metadata": {
    "ExecutionIndicator": {
     "show": true
    },
    "execution": {
     "iopub.execute_input": "2024-08-17T05:50:31.231310Z",
     "iopub.status.busy": "2024-08-17T05:50:31.230952Z",
     "iopub.status.idle": "2024-08-17T05:50:31.235594Z",
     "shell.execute_reply": "2024-08-17T05:50:31.235077Z",
     "shell.execute_reply.started": "2024-08-17T05:50:31.231291Z"
    },
    "tags": []
   },
   "outputs": [],
   "source": [
    "def g8_answers(file):\n",
    "    validated_problem_sets = []\n",
    "    for data in file:\n",
    "\n",
    "        problem = data['problem']\n",
    "        questions = data['questions']\n",
    "        _id = data['id']\n",
    "        validated_questions = []\n",
    "        for question in questions:\n",
    "            if 'solution' in question:\n",
    "                s = question['answer']\n",
    "                answer = f'答案是：{s}'\n",
    "                question['qwen_respond'] = question.pop('solution') + answer\n",
    "            validated_questions.append(question)\n",
    "        # 创建一个新的问题集字典，只包含有效的问题\n",
    "        validated_problem_set = {\n",
    "            'problem': problem,\n",
    "            'questions': validated_questions,\n",
    "            'id': _id\n",
    "        }\n",
    "        validated_problem_sets.append(validated_problem_set)\n",
    "    return validated_problem_sets"
   ]
  }
 ],
 "metadata": {
  "kernelspec": {
   "display_name": "Python 3 (ipykernel)",
   "language": "python",
   "name": "python3"
  },
  "language_info": {
   "codemirror_mode": {
    "name": "ipython",
    "version": 3
   },
   "file_extension": ".py",
   "mimetype": "text/x-python",
   "name": "python",
   "nbconvert_exporter": "python",
   "pygments_lexer": "ipython3",
   "version": "3.10.14"
  }
 },
 "nbformat": 4,
 "nbformat_minor": 5
}
