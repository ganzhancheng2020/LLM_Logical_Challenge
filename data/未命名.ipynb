{
 "cells": [
  {
   "cell_type": "code",
   "execution_count": null,
   "id": "8da676cb-cb22-4db2-89a3-8c874346b139",
   "metadata": {},
   "outputs": [],
   "source": [
    "def data_to_train_format(file):\n",
    "    train_data = []\n",
    "    \n",
    "    for data in file:\n",
    "        if 'promble' in data:\n",
    "            data['problem'] = data.pop('promble')\n",
    "        problem = data['problem']\n",
    "        questions = data['questions']\n",
    "        _id = data['id']\n",
    "        \n",
    "        validated_questions = []\n",
    "        for question in questions:\n",
    "            answer = question['answer']\n",
    "            # 检查答案是否为大写字母\n",
    "            if len(answer) == 1 and answer.isupper():\n",
    "                validated_questions.append(question)\n",
    "            else:\n",
    "                print(f\"Invalid answer '{answer}' for question: {question['question']}\")\n",
    "        \n",
    "        # 创建一个新的问题集字典，只包含有效的问题\n",
    "        validated_problem_set = {\n",
    "            'problem': problem,\n",
    "            'questions': validated_questions,\n",
    "            'id': _id\n",
    "        }\n",
    "        train_data.append(validated_problem_set)\n",
    "\n",
    "    return train_data"
   ]
  },
  {
   "cell_type": "code",
   "execution_count": null,
   "id": "24ba53b0-5276-41a4-aa39-f0ec7259b733",
   "metadata": {},
   "outputs": [],
   "source": []
  }
 ],
 "metadata": {
  "kernelspec": {
   "display_name": "Python 3 (ipykernel)",
   "language": "python",
   "name": "python3"
  },
  "language_info": {
   "codemirror_mode": {
    "name": "ipython",
    "version": 3
   },
   "file_extension": ".py",
   "mimetype": "text/x-python",
   "name": "python",
   "nbconvert_exporter": "python",
   "pygments_lexer": "ipython3",
   "version": "3.10.14"
  }
 },
 "nbformat": 4,
 "nbformat_minor": 5
}
