{
 "cells": [
  {
   "cell_type": "code",
   "execution_count": 1,
   "id": "5f3645f3-134f-480a-93a7-271bce6255bc",
   "metadata": {
    "ExecutionIndicator": {
     "show": true
    },
    "execution": {
     "iopub.execute_input": "2024-08-16T03:01:48.538032Z",
     "iopub.status.busy": "2024-08-16T03:01:48.537894Z",
     "iopub.status.idle": "2024-08-16T03:01:48.711021Z",
     "shell.execute_reply": "2024-08-16T03:01:48.710562Z",
     "shell.execute_reply.started": "2024-08-16T03:01:48.538016Z"
    },
    "tags": []
   },
   "outputs": [],
   "source": [
    "import json\n",
    "from http import HTTPStatus\n",
    "import dashscope\n",
    "from dotenv import dotenv_values\n",
    "from retry import retry\n",
    "config = dotenv_values('.env')"
   ]
  },
  {
   "cell_type": "code",
   "execution_count": 2,
   "id": "54ac6800-b185-4661-9624-6ed32ba9eb78",
   "metadata": {
    "ExecutionIndicator": {
     "show": true
    },
    "execution": {
     "iopub.execute_input": "2024-08-16T03:01:48.712329Z",
     "iopub.status.busy": "2024-08-16T03:01:48.712078Z",
     "iopub.status.idle": "2024-08-16T03:01:48.716112Z",
     "shell.execute_reply": "2024-08-16T03:01:48.715733Z",
     "shell.execute_reply.started": "2024-08-16T03:01:48.712313Z"
    },
    "tags": []
   },
   "outputs": [],
   "source": [
    "MODEL_NAME = 'qwen-max'\n",
    "dashscope.api_key = config['qwen_key'],\n",
    "\n",
    "@retry(delay=60, tries=3)\n",
    "def call_qwen_api(MODEL_NAME, query):\n",
    "    messages = [\n",
    "        {'role': 'user', 'content': query}]\n",
    "    response = dashscope.Generation.call(\n",
    "        MODEL_NAME,\n",
    "        messages=messages,\n",
    "        result_format='message',  # set the result is message format.\n",
    "    )\n",
    "    if response.status_code == HTTPStatus.OK:\n",
    "        #print(response)\n",
    "        return response['output']['choices'][0]['message']['content']\n",
    "    else:\n",
    "        print('Request id: %s, Status code: %s, error code: %s, error message: %s' % (\n",
    "            response.request_id, response.status_code,\n",
    "            response.code, response.message\n",
    "        ))\n",
    "        raise Exception()"
   ]
  },
  {
   "cell_type": "code",
   "execution_count": 3,
   "id": "4eb180cf-37a6-494f-b70b-7ff5499ba919",
   "metadata": {
    "execution": {
     "iopub.execute_input": "2024-08-16T03:01:48.716760Z",
     "iopub.status.busy": "2024-08-16T03:01:48.716613Z",
     "iopub.status.idle": "2024-08-16T03:01:48.719757Z",
     "shell.execute_reply": "2024-08-16T03:01:48.719375Z",
     "shell.execute_reply.started": "2024-08-16T03:01:48.716736Z"
    },
    "tags": []
   },
   "outputs": [],
   "source": [
    "def get_prompt(problem, question, options):\n",
    "\n",
    "    options = '\\n'.join(f\"{'ABCDEFG'[i]}. {o}\" for i, o in enumerate(options))\n",
    "\n",
    "    prompt = f\"\"\"你是一个逻辑推理专家，擅长解决逻辑推理问题。以下是一个逻辑推理的题目，形式为单项选择题。所有的问题都是（close-world assumption）闭世界假设，即未观测事实都为假。请逐步分析问题并在最后一行输出答案，最后一行的格式为\"答案是：A\"。题目如下：\n",
    "\n",
    "### 题目:\n",
    "{problem}\n",
    "\n",
    "### 问题:\n",
    "{question}\n",
    "{options}\n",
    "\"\"\"\n",
    "\n",
    "    return prompt"
   ]
  },
  {
   "cell_type": "code",
   "execution_count": 4,
   "id": "a8c92f03-4807-4cc4-826f-d8f24e673fc1",
   "metadata": {
    "ExecutionIndicator": {
     "show": false
    },
    "execution": {
     "iopub.execute_input": "2024-08-16T03:01:48.720506Z",
     "iopub.status.busy": "2024-08-16T03:01:48.720260Z",
     "iopub.status.idle": "2024-08-16T03:01:48.722865Z",
     "shell.execute_reply": "2024-08-16T03:01:48.722483Z",
     "shell.execute_reply.started": "2024-08-16T03:01:48.720491Z"
    },
    "tags": []
   },
   "outputs": [],
   "source": [
    "def get_question_prompt(data):\n",
    "    prompt = f\"\"\"你是一个逻辑推理问题出题专家，以下JSON是一个problem，对应一些子问题。除了这些子问题外再生成三个其他子问题，保持格式一致并给出参考答案。answer格式为子母序号：\"A\"\n",
    "### promble如下：\n",
    "{data}\n",
    "### 输出格式如下:\n",
    "{{\n",
    "problem:\n",
    "questions:[\n",
    "question:\n",
    "options:[]\n",
    "answer:\n",
    "]\n",
    "id:\n",
    "}}\n",
    "\"\"\"\n",
    "    return prompt\n"
   ]
  },
  {
   "cell_type": "code",
   "execution_count": 5,
   "id": "781a25fa-0782-4192-a175-535727cfd590",
   "metadata": {
    "ExecutionIndicator": {
     "show": true
    },
    "execution": {
     "iopub.execute_input": "2024-08-16T03:01:48.723584Z",
     "iopub.status.busy": "2024-08-16T03:01:48.723385Z",
     "iopub.status.idle": "2024-08-16T03:01:48.726113Z",
     "shell.execute_reply": "2024-08-16T03:01:48.725696Z",
     "shell.execute_reply.started": "2024-08-16T03:01:48.723569Z"
    },
    "tags": []
   },
   "outputs": [],
   "source": [
    "def read_file(ifn):\n",
    "    # 读取输入文件\n",
    "    data = []\n",
    "    with open(ifn) as reader:\n",
    "        for line in reader:\n",
    "            # 解析每一行JSON数据\n",
    "            sample = json.loads(line)\n",
    "            data.append(sample)\n",
    "\n",
    "    return data"
   ]
  },
  {
   "cell_type": "code",
   "execution_count": 16,
   "id": "42de68a5-927e-4662-8760-de361646a961",
   "metadata": {
    "ExecutionIndicator": {
     "show": true
    },
    "execution": {
     "iopub.execute_input": "2024-08-16T04:48:51.866123Z",
     "iopub.status.busy": "2024-08-16T04:48:51.865807Z",
     "iopub.status.idle": "2024-08-16T04:48:51.869700Z",
     "shell.execute_reply": "2024-08-16T04:48:51.869240Z",
     "shell.execute_reply.started": "2024-08-16T04:48:51.866105Z"
    },
    "tags": []
   },
   "outputs": [],
   "source": [
    "def write_jsonl(results, filename):\n",
    "    with open(f'data/{filename}.jsonl', 'w',encoding='utf-8') as outfile:\n",
    "        for entry in results:\n",
    "            json.dump(entry, outfile, ensure_ascii=False)\n",
    "            outfile.write('\\n')\n",
    "            \n",
    "def write_json(data, filename):\n",
    "    with open(f'data/{filename}.json', 'w',encoding='utf-8') as file:\n",
    "        json.dump(data, file, ensure_ascii=False)"
   ]
  },
  {
   "cell_type": "code",
   "execution_count": 7,
   "id": "fd3648ae-b808-48fa-9c89-e9f6e93831ed",
   "metadata": {
    "ExecutionIndicator": {
     "show": true
    },
    "execution": {
     "iopub.execute_input": "2024-08-16T03:01:48.731118Z",
     "iopub.status.busy": "2024-08-16T03:01:48.730914Z",
     "iopub.status.idle": "2024-08-16T03:01:48.734435Z",
     "shell.execute_reply": "2024-08-16T03:01:48.734047Z",
     "shell.execute_reply.started": "2024-08-16T03:01:48.731104Z"
    },
    "tags": []
   },
   "outputs": [],
   "source": [
    "import re\n",
    "\n",
    "\n",
    "def extract_json(response):\n",
    "    # 使用正则表达式匹配 JSON 数据\n",
    "    match = re.search(r'```json\\s*(.*?)\\s*```', response, re.DOTALL)\n",
    "    if match:\n",
    "        # 如果找到了 JSON 数据，则返回清理后的 JSON 字符串\n",
    "        return match.group(1).strip()\n",
    "    else:\n",
    "        # 如果没有找到 JSON 数据，则返回原始响应\n",
    "        return response\n",
    "\n",
    "\n",
    "def process_data(data):\n",
    "    query = get_question_prompt(data)\n",
    "    respond = ''\n",
    "    try:\n",
    "        respond = call_qwen_api(MODEL_NAME, query)\n",
    "        # 清理 JSON 字符串\n",
    "        respond = extract_json(respond)\n",
    "        # 解析 JSON 字符串\n",
    "        data = json.loads(respond)\n",
    "    except Exception as e:\n",
    "        #print(respond)\n",
    "        print(f\"Error: {str(e)}\")\n",
    "    return data"
   ]
  },
  {
   "cell_type": "code",
   "execution_count": 8,
   "id": "eaa4fe23-812b-47c9-9548-fbf126ad49cb",
   "metadata": {
    "ExecutionIndicator": {
     "show": false
    },
    "execution": {
     "iopub.execute_input": "2024-08-16T03:01:48.735163Z",
     "iopub.status.busy": "2024-08-16T03:01:48.734986Z",
     "iopub.status.idle": "2024-08-16T03:01:48.746262Z",
     "shell.execute_reply": "2024-08-16T03:01:48.745861Z",
     "shell.execute_reply.started": "2024-08-16T03:01:48.735149Z"
    },
    "tags": []
   },
   "outputs": [],
   "source": [
    "file = read_file('data/round1_train_data.jsonl')"
   ]
  },
  {
   "cell_type": "code",
   "execution_count": null,
   "id": "fa5c4abb-d27a-483f-8ebe-5fbd798ca388",
   "metadata": {
    "ExecutionIndicator": {
     "show": true
    },
    "tags": []
   },
   "outputs": [],
   "source": [
    "from tqdm import tqdm\n",
    "import concurrent.futures\n",
    "#file = file[:5]\n",
    "\n",
    "# 并行批量处理\n",
    "def batch_process_questions(file, max_workers=5):\n",
    "    with concurrent.futures.ThreadPoolExecutor(max_workers=max_workers) as executor:\n",
    "        futures = [executor.submit(process_data, data) for data in file]\n",
    "        results = [future.result() for future in tqdm(concurrent.futures.as_completed(futures), total=len(file))]\n",
    "    return results\n",
    "\n",
    "results = batch_process_questions(file)\n",
    "\n",
    "write_json(results,\"output\")"
   ]
  },
  {
   "cell_type": "code",
   "execution_count": 17,
   "id": "56aada78-c2bb-425b-ad5f-a677410285d6",
   "metadata": {
    "ExecutionIndicator": {
     "show": true
    },
    "execution": {
     "iopub.execute_input": "2024-08-16T04:48:57.003723Z",
     "iopub.status.busy": "2024-08-16T04:48:57.003413Z",
     "iopub.status.idle": "2024-08-16T04:48:57.032659Z",
     "shell.execute_reply": "2024-08-16T04:48:57.032236Z",
     "shell.execute_reply.started": "2024-08-16T04:48:57.003702Z"
    },
    "tags": []
   },
   "outputs": [],
   "source": [
    "write_jsonl(results,\"output\")"
   ]
  },
  {
   "cell_type": "code",
   "execution_count": null,
   "id": "1c2b31ee-dfe3-4a87-809f-91134b2ff699",
   "metadata": {},
   "outputs": [],
   "source": [
    "import random\n",
    "\n",
    "def generate_option_and_answer(correct_answer):\n",
    "    # Determine the range based on the number of digits in the correct answer\n",
    "    if correct_answer < 10:\n",
    "        range_start, range_end = 1, 10\n",
    "    elif correct_answer < 100:\n",
    "        range_start, range_end = 10, 100\n",
    "    else:\n",
    "        range_start, range_end = 100, 1000\n",
    "    \n",
    "    # Generate 4 random options including the correct answer\n",
    "    options = [correct_answer]\n",
    "    while len(options) < 4:\n",
    "        option = random.randint(range_start, range_end)\n",
    "        if option not in options:\n",
    "            options.append(option)\n",
    "    random.shuffle(options)\n",
    "    \n",
    "    # Find the correct answer's index (0-based)\n",
    "    answer_index = options.index(correct_answer)\n",
    "    \n",
    "    # Create answer \"A\" as the correct option's index (1-based)\n",
    "    answer = chr(65 + answer_index)\n",
    "    \n",
    "    return {\n",
    "        \"options\": options,\n",
    "        \"answer\": answer\n",
    "    }\n",
    "\n",
    "# Example usage\n",
    "correct_answer = 42\n",
    "result = generate_option_and_answer(correct_answer)\n",
    "print(\"Options:\", result[\"options\"])\n",
    "print(\"Answer:\", result[\"answer\"])\n"
   ]
  },
  {
   "cell_type": "code",
   "execution_count": null,
   "id": "febeb826-9e36-47d9-aa65-f23119d40b74",
   "metadata": {
    "tags": []
   },
   "outputs": [],
   "source": [
    "#数据集下载\n",
    "from modelscope.msdatasets import MsDataset\n",
    "ds =  MsDataset.load('modelscope/gsm8k', subset_name='main', split='train')\n",
    "#您可按需配置 subset_name、split，参照“快速使用”示例代码"
   ]
  },
  {
   "cell_type": "code",
   "execution_count": 3,
   "id": "4beab580-ffea-427b-a6fe-f78cfcf2cc04",
   "metadata": {
    "ExecutionIndicator": {
     "show": false
    },
    "execution": {
     "iopub.execute_input": "2024-08-16T06:20:02.013260Z",
     "iopub.status.busy": "2024-08-16T06:20:02.012894Z",
     "iopub.status.idle": "2024-08-16T06:20:02.016603Z",
     "shell.execute_reply": "2024-08-16T06:20:02.016176Z",
     "shell.execute_reply.started": "2024-08-16T06:20:02.013238Z"
    },
    "tags": []
   },
   "outputs": [
    {
     "data": {
      "text/plain": [
       "7473"
      ]
     },
     "execution_count": 3,
     "metadata": {},
     "output_type": "execute_result"
    }
   ],
   "source": [
    "def gsm8k_to_problem(data):\n",
    "    \n",
    "    \n",
    "    \n",
    "    \n",
    "    return {\n",
    "        \"options\": options,\n",
    "        \"answer\": answer\n",
    "    }"
   ]
  },
  {
   "cell_type": "code",
   "execution_count": 6,
   "id": "aeeda411-89b9-46cd-b3ce-b15177d12c66",
   "metadata": {
    "ExecutionIndicator": {
     "show": false
    },
    "execution": {
     "iopub.execute_input": "2024-08-16T07:13:01.576316Z",
     "iopub.status.busy": "2024-08-16T07:13:01.576076Z",
     "iopub.status.idle": "2024-08-16T07:13:01.581979Z",
     "shell.execute_reply": "2024-08-16T07:13:01.581447Z",
     "shell.execute_reply.started": "2024-08-16T07:13:01.576293Z"
    },
    "tags": []
   },
   "outputs": [
    {
     "data": {
      "text/plain": [
       "['Natalia sold clips to 48 of her friends in April, and then she sold half as many clips in May',\n",
       " ' How many clips did Natalia sell altogether in April and May?']"
      ]
     },
     "execution_count": 6,
     "metadata": {},
     "output_type": "execute_result"
    }
   ],
   "source": [
    "sentance = ds[0]['question'].split('.')\n"
   ]
  }
 ],
 "metadata": {
  "kernelspec": {
   "display_name": "Python 3 (ipykernel)",
   "language": "python",
   "name": "python3"
  },
  "language_info": {
   "codemirror_mode": {
    "name": "ipython",
    "version": 3
   },
   "file_extension": ".py",
   "mimetype": "text/x-python",
   "name": "python",
   "nbconvert_exporter": "python",
   "pygments_lexer": "ipython3",
   "version": "3.10.14"
  }
 },
 "nbformat": 4,
 "nbformat_minor": 5
}
