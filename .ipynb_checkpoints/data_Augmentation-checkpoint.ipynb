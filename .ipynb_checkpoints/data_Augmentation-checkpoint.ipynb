{
 "cells": [
  {
   "cell_type": "code",
   "execution_count": 1,
   "id": "5f3645f3-134f-480a-93a7-271bce6255bc",
   "metadata": {
    "ExecutionIndicator": {
     "show": true
    },
    "execution": {
     "iopub.execute_input": "2024-08-16T01:52:06.246757Z",
     "iopub.status.busy": "2024-08-16T01:52:06.246511Z",
     "iopub.status.idle": "2024-08-16T01:52:06.419476Z",
     "shell.execute_reply": "2024-08-16T01:52:06.419070Z",
     "shell.execute_reply.started": "2024-08-16T01:52:06.246730Z"
    },
    "tags": []
   },
   "outputs": [],
   "source": [
    "import json\n",
    "from http import HTTPStatus\n",
    "import dashscope\n",
    "from dotenv import dotenv_values\n",
    "from retry import retry\n",
    "config = dotenv_values('.env')"
   ]
  },
  {
   "cell_type": "code",
   "execution_count": 2,
   "id": "54ac6800-b185-4661-9624-6ed32ba9eb78",
   "metadata": {
    "ExecutionIndicator": {
     "show": true
    },
    "execution": {
     "iopub.execute_input": "2024-08-16T01:52:06.420813Z",
     "iopub.status.busy": "2024-08-16T01:52:06.420408Z",
     "iopub.status.idle": "2024-08-16T01:52:06.424418Z",
     "shell.execute_reply": "2024-08-16T01:52:06.424032Z",
     "shell.execute_reply.started": "2024-08-16T01:52:06.420794Z"
    },
    "tags": []
   },
   "outputs": [],
   "source": [
    "MODEL_NAME = 'qwen-max'\n",
    "dashscope.api_key = config['qwen_key'],\n",
    "\n",
    "@retry(delay=60, tries=3)\n",
    "def call_qwen_api(MODEL_NAME, query):\n",
    "    messages = [\n",
    "        {'role': 'user', 'content': query}]\n",
    "    response = dashscope.Generation.call(\n",
    "        MODEL_NAME,\n",
    "        messages=messages,\n",
    "        result_format='message',  # set the result is message format.\n",
    "    )\n",
    "    if response.status_code == HTTPStatus.OK:\n",
    "        #print(response)\n",
    "        return response['output']['choices'][0]['message']['content']\n",
    "    else:\n",
    "        print('Request id: %s, Status code: %s, error code: %s, error message: %s' % (\n",
    "            response.request_id, response.status_code,\n",
    "            response.code, response.message\n",
    "        ))\n",
    "        raise Exception()"
   ]
  },
  {
   "cell_type": "code",
   "execution_count": 3,
   "id": "4eb180cf-37a6-494f-b70b-7ff5499ba919",
   "metadata": {
    "execution": {
     "iopub.execute_input": "2024-08-16T01:52:06.425246Z",
     "iopub.status.busy": "2024-08-16T01:52:06.425004Z",
     "iopub.status.idle": "2024-08-16T01:52:06.428142Z",
     "shell.execute_reply": "2024-08-16T01:52:06.427722Z",
     "shell.execute_reply.started": "2024-08-16T01:52:06.425230Z"
    },
    "tags": []
   },
   "outputs": [],
   "source": [
    "def get_prompt(problem, question, options):\n",
    "\n",
    "    options = '\\n'.join(f\"{'ABCDEFG'[i]}. {o}\" for i, o in enumerate(options))\n",
    "\n",
    "    prompt = f\"\"\"你是一个逻辑推理专家，擅长解决逻辑推理问题。以下是一个逻辑推理的题目，形式为单项选择题。所有的问题都是（close-world assumption）闭世界假设，即未观测事实都为假。请逐步分析问题并在最后一行输出答案，最后一行的格式为\"答案是：A\"。题目如下：\n",
    "\n",
    "### 题目:\n",
    "{problem}\n",
    "\n",
    "### 问题:\n",
    "{question}\n",
    "{options}\n",
    "\"\"\"\n",
    "\n",
    "    return prompt"
   ]
  },
  {
   "cell_type": "code",
   "execution_count": 4,
   "id": "a8c92f03-4807-4cc4-826f-d8f24e673fc1",
   "metadata": {
    "ExecutionIndicator": {
     "show": false
    },
    "execution": {
     "iopub.execute_input": "2024-08-16T01:52:06.428950Z",
     "iopub.status.busy": "2024-08-16T01:52:06.428704Z",
     "iopub.status.idle": "2024-08-16T01:52:06.431234Z",
     "shell.execute_reply": "2024-08-16T01:52:06.430823Z",
     "shell.execute_reply.started": "2024-08-16T01:52:06.428935Z"
    },
    "tags": []
   },
   "outputs": [],
   "source": [
    "def get_question_prompt(data):\n",
    "    prompt = f\"\"\"你是一个逻辑推理问题出题专家，以下json是一个problem，对应一些子问题。除了这些子问题外再生成三个其他子问题，保持格式一致并给出参考答案。\n",
    "### promble如下：\n",
    "{data}\n",
    "### 输出格式如下:\n",
    "{{\n",
    "promble:\n",
    "questions:[\n",
    "question:\n",
    "options:[]\n",
    "answer:\n",
    "]\n",
    "}}\n",
    "\"\"\"\n",
    "    return prompt\n"
   ]
  },
  {
   "cell_type": "code",
   "execution_count": 5,
   "id": "781a25fa-0782-4192-a175-535727cfd590",
   "metadata": {
    "ExecutionIndicator": {
     "show": true
    },
    "execution": {
     "iopub.execute_input": "2024-08-16T01:52:06.431970Z",
     "iopub.status.busy": "2024-08-16T01:52:06.431742Z",
     "iopub.status.idle": "2024-08-16T01:52:06.434611Z",
     "shell.execute_reply": "2024-08-16T01:52:06.434234Z",
     "shell.execute_reply.started": "2024-08-16T01:52:06.431955Z"
    },
    "tags": []
   },
   "outputs": [],
   "source": [
    "def read_file(ifn):\n",
    "    # 读取输入文件\n",
    "    data = []\n",
    "    with open(ifn) as reader:\n",
    "        for line in reader:\n",
    "            # 解析每一行JSON数据\n",
    "            sample = json.loads(line)\n",
    "            data.append(sample)\n",
    "\n",
    "    return data"
   ]
  },
  {
   "cell_type": "code",
   "execution_count": 32,
   "id": "42de68a5-927e-4662-8760-de361646a961",
   "metadata": {
    "ExecutionIndicator": {
     "show": true
    },
    "execution": {
     "iopub.execute_input": "2024-08-16T02:39:51.447612Z",
     "iopub.status.busy": "2024-08-16T02:39:51.447293Z",
     "iopub.status.idle": "2024-08-16T02:39:51.451045Z",
     "shell.execute_reply": "2024-08-16T02:39:51.450599Z",
     "shell.execute_reply.started": "2024-08-16T02:39:51.447592Z"
    },
    "tags": []
   },
   "outputs": [],
   "source": [
    "def write_jsonl(results, filename):\n",
    "    with open(f'data/{filename}.json', 'w',encoding='utf-8') as outfile:\n",
    "        for entry in results:\n",
    "            json.dump(entry, outfile, ensure_ascii=False)\n",
    "            outfile.write('\\n')\n",
    "            \n",
    "def write_json(data, filename):\n",
    "    with open(f'data/{filename}.json', 'w',encoding='utf-8') as file:\n",
    "        json.dump(data, file)"
   ]
  },
  {
   "cell_type": "code",
   "execution_count": 7,
   "id": "fd3648ae-b808-48fa-9c89-e9f6e93831ed",
   "metadata": {
    "ExecutionIndicator": {
     "show": false
    },
    "execution": {
     "iopub.execute_input": "2024-08-16T01:52:06.439201Z",
     "iopub.status.busy": "2024-08-16T01:52:06.438957Z",
     "iopub.status.idle": "2024-08-16T01:52:06.442662Z",
     "shell.execute_reply": "2024-08-16T01:52:06.442237Z",
     "shell.execute_reply.started": "2024-08-16T01:52:06.439186Z"
    },
    "tags": []
   },
   "outputs": [],
   "source": [
    "import re\n",
    "\n",
    "\n",
    "def extract_json(response):\n",
    "    # 使用正则表达式匹配 JSON 数据\n",
    "    match = re.search(r'```json\\s*(.*?)\\s*```', response, re.DOTALL)\n",
    "    if match:\n",
    "        # 如果找到了 JSON 数据，则返回清理后的 JSON 字符串\n",
    "        return match.group(1).strip()\n",
    "    else:\n",
    "        # 如果没有找到 JSON 数据，则返回原始响应\n",
    "        return response\n",
    "\n",
    "\n",
    "def process_data(data):\n",
    "    query = get_question_prompt(data)\n",
    "    respond = ''\n",
    "    try:\n",
    "        respond = call_qwen_api(MODEL_NAME, query)\n",
    "        # 清理 JSON 字符串\n",
    "        respond = extract_json(respond)\n",
    "        # 解析 JSON 字符串\n",
    "        data = json.loads(respond)\n",
    "    except Exception as e:\n",
    "        #print(respond)\n",
    "        print(f\"Error: {str(e)}\")\n",
    "    return data"
   ]
  },
  {
   "cell_type": "code",
   "execution_count": 8,
   "id": "eaa4fe23-812b-47c9-9548-fbf126ad49cb",
   "metadata": {
    "ExecutionIndicator": {
     "show": false
    },
    "execution": {
     "iopub.execute_input": "2024-08-16T01:52:06.443403Z",
     "iopub.status.busy": "2024-08-16T01:52:06.443202Z",
     "iopub.status.idle": "2024-08-16T01:52:06.452090Z",
     "shell.execute_reply": "2024-08-16T01:52:06.451636Z",
     "shell.execute_reply.started": "2024-08-16T01:52:06.443389Z"
    },
    "tags": []
   },
   "outputs": [],
   "source": [
    "file = read_file('data/round1_train_data.jsonl')"
   ]
  },
  {
   "cell_type": "code",
   "execution_count": 9,
   "id": "fa5c4abb-d27a-483f-8ebe-5fbd798ca388",
   "metadata": {
    "ExecutionIndicator": {
     "show": false
    },
    "execution": {
     "iopub.execute_input": "2024-08-16T01:52:06.452867Z",
     "iopub.status.busy": "2024-08-16T01:52:06.452607Z",
     "iopub.status.idle": "2024-08-16T01:52:57.194955Z",
     "shell.execute_reply": "2024-08-16T01:52:57.194499Z",
     "shell.execute_reply.started": "2024-08-16T01:52:06.452852Z"
    },
    "tags": []
   },
   "outputs": [
    {
     "name": "stderr",
     "output_type": "stream",
     "text": [
      " 80%|████████  | 4/5 [00:48<00:07,  7.14s/it]"
     ]
    },
    {
     "name": "stdout",
     "output_type": "stream",
     "text": [
      "{\n",
      "\"problem\": \"在安大略省，我们有关于不同城市及它们之间位置关系的信息。我们知道各个城市的人口以及哪些城市在给定的城市西边。以下是我们已知的信息：\\n\\n- 布兰普顿的人口是590000。\\n- 汉密尔顿的人口是540000。\\n- 金斯顿的人口是130000。\\n- 基奇纳的人口是230000。\\n- 伦敦的人口是380000。\\n- 马克翰的人口是330000。\\n- 密西沙加的人口是720000。\\n- 渥太华的人口是930000。\\n- 多伦多的人口是2700000。\\n- 旺市的人口是310000。\\n- 温莎的人口是220000。\\n\\n并且我们知道以下城市在彼此的西边：\\n\\n- 温莎在伦敦的西边。\\n- 伦敦在汉密尔顿的西边。\\n- 汉密尔顿在密西沙加的西边。\\n- 密西沙加在多伦多的西边。\\n- 多伦多在金斯顿的西边。\\n- 金斯顿在渥太华的西边。\\n- 旺市在马克翰的西边。\\n\\n还有些城市位于其他城市的北边：\\n\\n- 布兰普顿在密西沙加的北边。\\n- 基奇纳在伦敦的北边。\\n- 旺市在多伦多的北边。\\n\\n根据以上信息，回答以下选择题：\",\n",
      "\"questions\": [\n",
      "{\n",
      "\"question\": \"选择题 1：\\n位于布兰普顿以西的城市是哪一个？\",\n",
      "\"options\": ['多伦多', '金斯顿', '渥太华', '汉密尔顿'],\n",
      "\"answer\": 'D'\n",
      "},\n",
      "{\n",
      "\"question\": \"选择题 2：\\n哪个城市的人口最多，且没有城市直接位于其西边？\",\n",
      "\"options\": ['多伦多', '温莎', '基奇纳', '布兰普顿'],\n",
      "\"answer\": 'A'\n",
      "},\n",
      "{\n",
      "\"question\": \"选择题 3：\\n哪个城市既不在任何其他城市西边，也不在任何城市北边？\",\n",
      "\"options\": ['金斯顿', '汉密尔顿', '基奇纳', '马克翰'],\n",
      "\"answer\": 'C'\n",
      "},\n",
      "{\n",
      "\"question\": \"选择题 4：\\n哪两个城市之间存在直接的南-北关系，同时没有其他城市位于它们之间的东西方向上？\",\n",
      "\"options\": [['布兰普顿-密西沙加', '基奇纳-伦敦', '旺市-多伦多', '温莎-伦敦']],\n",
      "\"answer\": 'C'\n",
      "}\n",
      "],\n",
      "\"id\": \"round1_train_data_004\"\n",
      "}\n",
      "Error: Expecting value: line 6 column 13 (char 565)\n"
     ]
    },
    {
     "name": "stderr",
     "output_type": "stream",
     "text": [
      "100%|██████████| 5/5 [00:50<00:00, 10.15s/it]\n"
     ]
    }
   ],
   "source": [
    "from tqdm import tqdm\n",
    "import concurrent.futures\n",
    "#file = file[:5]\n",
    "\n",
    "# 并行批量处理\n",
    "def batch_process_questions(file, max_workers=5):\n",
    "    with concurrent.futures.ThreadPoolExecutor(max_workers=max_workers) as executor:\n",
    "        futures = [executor.submit(process_data, data) for data in file]\n",
    "        results = [future.result() for future in tqdm(concurrent.futures.as_completed(futures), total=len(file))]\n",
    "    return results\n",
    "\n",
    "results = batch_process_questions(file)\n",
    "\n",
    "write_jsonl(results)"
   ]
  },
  {
   "cell_type": "code",
   "execution_count": 15,
   "id": "8ce44156-fef8-411c-b8ed-5733ac546165",
   "metadata": {
    "ExecutionIndicator": {
     "show": false
    },
    "execution": {
     "iopub.execute_input": "2024-08-16T02:27:51.256814Z",
     "iopub.status.busy": "2024-08-16T02:27:51.256518Z",
     "iopub.status.idle": "2024-08-16T02:27:51.264119Z",
     "shell.execute_reply": "2024-08-16T02:27:51.263350Z",
     "shell.execute_reply.started": "2024-08-16T02:27:51.256790Z"
    },
    "tags": []
   },
   "outputs": [],
   "source": [
    "string = '''json{\n",
    "\"problem\": \"在安大略省，我们有关于不同城市及它们之间位置关系的信息。我们知道各个城市的人口以及哪些城市在给定的城市西边。以下是我们已知的信息：\\n\\n- 布兰普顿的人口是590000。\\n- 汉密尔顿的人口是540000。\\n- 金斯顿的人口是130000。\\n- 基奇纳的人口是230000。\\n- 伦敦的人口是380000。\\n- 马克翰的人口是330000。\\n- 密西沙加的人口是720000。\\n- 渥太华的人口是930000。\\n- 多伦多的人口是2700000。\\n- 旺市的人口是310000。\\n- 温莎的人口是220000。\\n\\n并且我们知道以下城市在彼此的西边：\\n\\n- 温莎在伦敦的西边。\\n- 伦敦在汉密尔顿的西边。\\n- 汉密尔顿在密西沙加的西边。\\n- 密西沙加在多伦多的西边。\\n- 多伦多在金斯顿的西边。\\n- 金斯顿在渥太华的西边。\\n- 旺市在马克翰的西边。\\n\\n还有些城市位于其他城市的北边：\\n\\n- 布兰普顿在密西沙加的北边。\\n- 基奇纳在伦敦的北边。\\n- 旺市在多伦多的北边。\\n\\n根据以上信息，回答以下选择题：\",\n",
    "\"questions\": [\n",
    "{\n",
    "\"question\": \"选择题 1：\\n位于布兰普顿以西的城市是哪一个？\",\n",
    "\"options\": ['多伦多', '金斯顿', '渥太华', '汉密尔顿'],\n",
    "\"answer\": 'D'\n",
    "},\n",
    "{\n",
    "\"question\": \"选择题 2：\\n哪个城市的人口最多，且没有城市直接位于其西边？\",\n",
    "\"options\": ['多伦多', '温莎', '基奇纳', '布兰普顿'],\n",
    "\"answer\": 'A'\n",
    "},\n",
    "{\n",
    "\"question\": \"选择题 3：\\n哪个城市既不在任何其他城市西边，也不在任何城市北边？\",\n",
    "\"options\": ['金斯顿', '汉密尔顿', '基奇纳', '马克翰'],\n",
    "\"answer\": 'C'\n",
    "},\n",
    "{\n",
    "\"question\": \"选择题 4：\\n哪两个城市之间存在直接的南-北关系，同时没有其他城市位于它们之间的东西方向上？\",\n",
    "\"options\": [['布兰普顿-密西沙加', '基奇纳-伦敦', '旺市-多伦多', '温莎-伦敦']],\n",
    "\"answer\": 'C'\n",
    "}\n",
    "],\n",
    "\"id\": \"round1_train_data_004\"\n",
    "}'''"
   ]
  },
  {
   "cell_type": "code",
   "execution_count": 20,
   "id": "5fe3890a-a5dd-426c-a7ee-3facbba4fdee",
   "metadata": {
    "ExecutionIndicator": {
     "show": true
    },
    "execution": {
     "iopub.execute_input": "2024-08-16T02:30:08.731088Z",
     "iopub.status.busy": "2024-08-16T02:30:08.730787Z",
     "iopub.status.idle": "2024-08-16T02:30:08.733663Z",
     "shell.execute_reply": "2024-08-16T02:30:08.733247Z",
     "shell.execute_reply.started": "2024-08-16T02:30:08.731069Z"
    },
    "tags": []
   },
   "outputs": [],
   "source": [
    "s = extract_json(string)"
   ]
  },
  {
   "cell_type": "code",
   "execution_count": 33,
   "id": "d2d5cd60-c836-4d7a-ac2f-4d755a4538c0",
   "metadata": {
    "ExecutionIndicator": {
     "show": true
    },
    "execution": {
     "iopub.execute_input": "2024-08-16T02:39:56.281561Z",
     "iopub.status.busy": "2024-08-16T02:39:56.281238Z",
     "iopub.status.idle": "2024-08-16T02:39:56.284509Z",
     "shell.execute_reply": "2024-08-16T02:39:56.284090Z",
     "shell.execute_reply.started": "2024-08-16T02:39:56.281542Z"
    },
    "tags": []
   },
   "outputs": [],
   "source": [
    "write_json(results,\"output\")"
   ]
  }
 ],
 "metadata": {
  "kernelspec": {
   "display_name": "Python 3 (ipykernel)",
   "language": "python",
   "name": "python3"
  },
  "language_info": {
   "codemirror_mode": {
    "name": "ipython",
    "version": 3
   },
   "file_extension": ".py",
   "mimetype": "text/x-python",
   "name": "python",
   "nbconvert_exporter": "python",
   "pygments_lexer": "ipython3",
   "version": "3.10.14"
  }
 },
 "nbformat": 4,
 "nbformat_minor": 5
}
