{
 "cells": [
  {
   "cell_type": "code",
   "execution_count": 9,
   "id": "5f3645f3-134f-480a-93a7-271bce6255bc",
   "metadata": {
    "ExecutionIndicator": {
     "show": true
    },
    "execution": {
     "iopub.execute_input": "2024-08-15T10:20:03.562902Z",
     "iopub.status.busy": "2024-08-15T10:20:03.562502Z",
     "iopub.status.idle": "2024-08-15T10:20:03.567953Z",
     "shell.execute_reply": "2024-08-15T10:20:03.566922Z",
     "shell.execute_reply.started": "2024-08-15T10:20:03.562870Z"
    },
    "tags": []
   },
   "outputs": [],
   "source": [
    "import json\n",
    "from http import HTTPStatus\n",
    "import dashscope\n",
    "from dotenv import dotenv_values\n",
    "from retry import retry\n",
    "config = dotenv_values('.env')"
   ]
  },
  {
   "cell_type": "code",
   "execution_count": 10,
   "id": "54ac6800-b185-4661-9624-6ed32ba9eb78",
   "metadata": {
    "execution": {
     "iopub.execute_input": "2024-08-15T10:20:04.722729Z",
     "iopub.status.busy": "2024-08-15T10:20:04.722412Z",
     "iopub.status.idle": "2024-08-15T10:20:04.726823Z",
     "shell.execute_reply": "2024-08-15T10:20:04.726377Z",
     "shell.execute_reply.started": "2024-08-15T10:20:04.722709Z"
    },
    "tags": []
   },
   "outputs": [],
   "source": [
    "MODEL_NAME = 'qwen2-7b-instruct'\n",
    "dashscope.api_key = config['qwen_key'],\n",
    "\n",
    "@retry(delay=60, tries=3)\n",
    "def call_qwen_api(MODEL_NAME, query):\n",
    "    messages = [\n",
    "        {'role': 'user', 'content': query}]\n",
    "    response = dashscope.Generation.call(\n",
    "        MODEL_NAME,\n",
    "        messages=messages,\n",
    "        result_format='message',  # set the result is message format.\n",
    "    )\n",
    "    if response.status_code == HTTPStatus.OK:\n",
    "        #print(response)\n",
    "        return response['output']['choices'][0]['message']['content']\n",
    "    else:\n",
    "        print('Request id: %s, Status code: %s, error code: %s, error message: %s' % (\n",
    "            response.request_id, response.status_code,\n",
    "            response.code, response.message\n",
    "        ))\n",
    "        raise Exception()"
   ]
  },
  {
   "cell_type": "code",
   "execution_count": 11,
   "id": "4eb180cf-37a6-494f-b70b-7ff5499ba919",
   "metadata": {
    "execution": {
     "iopub.execute_input": "2024-08-15T10:20:21.885501Z",
     "iopub.status.busy": "2024-08-15T10:20:21.885185Z",
     "iopub.status.idle": "2024-08-15T10:20:21.888832Z",
     "shell.execute_reply": "2024-08-15T10:20:21.888416Z",
     "shell.execute_reply.started": "2024-08-15T10:20:21.885482Z"
    },
    "tags": []
   },
   "outputs": [],
   "source": [
    "def get_prompt(problem, question, options):\n",
    "\n",
    "    options = '\\n'.join(f\"{'ABCDEFG'[i]}. {o}\" for i, o in enumerate(options))\n",
    "\n",
    "    prompt = f\"\"\"你是一个逻辑推理专家，擅长解决逻辑推理问题。以下是一个逻辑推理的题目，形式为单项选择题。所有的问题都是（close-world assumption）闭世界假设，即未观测事实都为假。请逐步分析问题并在最后一行输出答案，最后一行的格式为\"答案是：A\"。题目如下：\n",
    "\n",
    "### 题目:\n",
    "{problem}\n",
    "\n",
    "### 问题:\n",
    "{question}\n",
    "{options}\n",
    "\"\"\"\n",
    "\n",
    "    return prompt"
   ]
  },
  {
   "cell_type": "code",
   "execution_count": 22,
   "id": "a8c92f03-4807-4cc4-826f-d8f24e673fc1",
   "metadata": {
    "ExecutionIndicator": {
     "show": false
    },
    "execution": {
     "iopub.execute_input": "2024-08-15T10:36:40.179319Z",
     "iopub.status.busy": "2024-08-15T10:36:40.178966Z",
     "iopub.status.idle": "2024-08-15T10:36:40.182433Z",
     "shell.execute_reply": "2024-08-15T10:36:40.181971Z",
     "shell.execute_reply.started": "2024-08-15T10:36:40.179297Z"
    },
    "tags": []
   },
   "outputs": [],
   "source": [
    "def get_question_prompt(data):\n",
    "    prompt = f\"\"\"\n",
    "# Role \n",
    "你是一个逻辑推理问题出题专家。以下是一个包含问题的 JSON 数据。请在原有子问题的基础上，额外生成三个新的子问题，保持格式一致并给出参考答案。\n",
    "\n",
    "## Skills\n",
    "1. 逻辑推理问题的设计与编写\n",
    "2. 生成符合既定格式的题目\n",
    "3. 提供高质量的参考答案\n",
    "\n",
    "## Rules\n",
    "1. 新生成的子问题需与原有问题逻辑一致。\n",
    "2. 保持 JSON 数据的格式统一。\n",
    "3. 提供的参考答案应清晰、准确。\n",
    "\n",
    "## Workflows\n",
    "1. 分析现有的 JSON 数据及其子问题。\n",
    "2. 设计三个新的逻辑推理子问题。\n",
    "3. 编写对应的参考答案。\n",
    "4. 确保格式的一致性与准确性。\n",
    "\n",
    "## Example\n",
    "{data}\n",
    "\"\"\"\n",
    "    return prompt\n"
   ]
  },
  {
   "cell_type": "code",
   "execution_count": 12,
   "id": "781a25fa-0782-4192-a175-535727cfd590",
   "metadata": {
    "ExecutionIndicator": {
     "show": false
    },
    "execution": {
     "iopub.execute_input": "2024-08-15T10:20:23.348912Z",
     "iopub.status.busy": "2024-08-15T10:20:23.348618Z",
     "iopub.status.idle": "2024-08-15T10:20:23.351922Z",
     "shell.execute_reply": "2024-08-15T10:20:23.351518Z",
     "shell.execute_reply.started": "2024-08-15T10:20:23.348894Z"
    },
    "tags": []
   },
   "outputs": [],
   "source": [
    "def read_file(ifn):\n",
    "    # 读取输入文件\n",
    "    data = []\n",
    "    with open(ifn) as reader:\n",
    "        for line in reader:\n",
    "            # 解析每一行JSON数据\n",
    "            sample = json.loads(line)\n",
    "            data.append(sample)\n",
    "\n",
    "    return data"
   ]
  },
  {
   "cell_type": "markdown",
   "id": "36854b9f-cc5a-4934-baf2-f795885a7965",
   "metadata": {},
   "source": []
  },
  {
   "cell_type": "code",
   "execution_count": 13,
   "id": "eaa4fe23-812b-47c9-9548-fbf126ad49cb",
   "metadata": {
    "execution": {
     "iopub.execute_input": "2024-08-15T10:21:00.065318Z",
     "iopub.status.busy": "2024-08-15T10:21:00.065001Z",
     "iopub.status.idle": "2024-08-15T10:21:00.076824Z",
     "shell.execute_reply": "2024-08-15T10:21:00.076297Z",
     "shell.execute_reply.started": "2024-08-15T10:21:00.065299Z"
    },
    "tags": []
   },
   "outputs": [],
   "source": [
    "data = read_file('data/round1_train_data.jsonl')"
   ]
  },
  {
   "cell_type": "code",
   "execution_count": 15,
   "id": "1a2ae3ad-6e09-4083-b01f-d712760ac815",
   "metadata": {
    "ExecutionIndicator": {
     "show": false
    },
    "execution": {
     "iopub.execute_input": "2024-08-15T10:21:24.429233Z",
     "iopub.status.busy": "2024-08-15T10:21:24.428899Z",
     "iopub.status.idle": "2024-08-15T10:21:24.432829Z",
     "shell.execute_reply": "2024-08-15T10:21:24.432391Z",
     "shell.execute_reply.started": "2024-08-15T10:21:24.429206Z"
    },
    "tags": []
   },
   "outputs": [
    {
     "data": {
      "text/plain": [
       "'\\n    # Role \\n    你是一个逻辑推理问题出题专家。以下是一个包含问题的 JSON 数据。请在原有子问题的基础上，额外生成三个新的子问题，保持格式一致并给出参考答案。\\n\\n    ## Skills\\n    1. 逻辑推理问题的设计与编写\\n    2. 生成符合既定格式的题目\\n    3. 提供高质量的参考答案\\n\\n    ## Rules\\n    1. 新生成的子问题需与原有问题逻辑一致。\\n    2. 保持 JSON 数据的格式统一。\\n    3. 提供的参考答案应清晰、准确。\\n\\n    ## Workflows\\n    1. 分析现有的 JSON 数据及其子问题。\\n    2. 设计三个新的逻辑推理子问题。\\n    3. 编写对应的参考答案。\\n    4. 确保格式的一致性与准确性。\\n\\n    ## Example\\n    {\\'problem\\': \\'有一个英文到法文的词汇表，包含以下对应词汇：\\\\n\\\\n1. the -> le\\\\n2. cat -> chat\\\\n3. jumps -> sauts\\\\n4. over -> sur\\\\n5. moon -> lune\\\\n6. cow -> vache\\\\n7. plays -> jouer\\\\n8. fiddle -> violon\\\\n9. egg -> bougre\\\\n10. falls -> des chutes\\\\n11. off -> de\\\\n12. wall -> mur\\\\n\\\\n根据这个词汇表，翻译以下英文句子成法文：\\', \\'questions\\': [{\\'question\\': \\'选择题 1：\\\\n英文句子 \"the cat jumps over the moon\" 翻译成法文是：\\', \\'options\\': [\\'le chat saute sur la lune\\', \\'le chat sauts sur le lune\\', \\'le sauts chat sur le lune\\', \\'le chat sauts sur le lune\\'], \\'answer\\': \\'D\\'}, {\\'question\\': \\'选择题 2：\\\\n英文句子 \"the cow plays the fiddle\" 翻译成法文是：\\', \\'options\\': [\\'le vache jouer le violon\\', \\'le jouer vache le violon\\', \\'le vache jouer la vièle\\', \\'la vache joue le violon\\'], \\'answer\\': \\'A\\'}, {\\'question\\': \\'选择题 3：\\\\n英文句子 \"the egg falls off the wall\" 翻译成法文是：\\', \\'options\\': [\\'le bougre des chutes de le mur\\', \\'le oeuf tombe de le mur\\', \\'le bougre tomber de le mur\\', \\'des chutes le bougre de le mur\\'], \\'answer\\': \\'A\\'}], \\'id\\': \\'round1_train_data_000\\'}\\n    '"
      ]
     },
     "execution_count": 23,
     "metadata": {},
     "output_type": "execute_result"
    }
   ],
   "source": [
    "get_question_prompt(data[0])"
   ]
  }
 ],
 "metadata": {
  "kernelspec": {
   "display_name": "Python 3 (ipykernel)",
   "language": "python",
   "name": "python3"
  },
  "language_info": {
   "codemirror_mode": {
    "name": "ipython",
    "version": 3
   },
   "file_extension": ".py",
   "mimetype": "text/x-python",
   "name": "python",
   "nbconvert_exporter": "python",
   "pygments_lexer": "ipython3",
   "version": "3.10.14"
  }
 },
 "nbformat": 4,
 "nbformat_minor": 5
}
