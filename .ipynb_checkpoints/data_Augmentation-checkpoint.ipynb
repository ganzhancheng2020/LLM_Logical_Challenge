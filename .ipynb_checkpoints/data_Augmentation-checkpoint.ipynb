{
 "cells": [
  {
   "cell_type": "code",
   "execution_count": 1,
   "id": "5f3645f3-134f-480a-93a7-271bce6255bc",
   "metadata": {
    "ExecutionIndicator": {
     "show": true
    },
    "execution": {
     "iopub.execute_input": "2024-08-15T15:49:00.153414Z",
     "iopub.status.busy": "2024-08-15T15:49:00.153275Z",
     "iopub.status.idle": "2024-08-15T15:49:00.319978Z",
     "shell.execute_reply": "2024-08-15T15:49:00.319566Z",
     "shell.execute_reply.started": "2024-08-15T15:49:00.153398Z"
    },
    "tags": []
   },
   "outputs": [],
   "source": [
    "import json\n",
    "from http import HTTPStatus\n",
    "import dashscope\n",
    "from dotenv import dotenv_values\n",
    "from retry import retry\n",
    "config = dotenv_values('.env')"
   ]
  },
  {
   "cell_type": "code",
   "execution_count": 2,
   "id": "54ac6800-b185-4661-9624-6ed32ba9eb78",
   "metadata": {
    "ExecutionIndicator": {
     "show": true
    },
    "execution": {
     "iopub.execute_input": "2024-08-15T15:49:00.321215Z",
     "iopub.status.busy": "2024-08-15T15:49:00.320966Z",
     "iopub.status.idle": "2024-08-15T15:49:00.325232Z",
     "shell.execute_reply": "2024-08-15T15:49:00.324794Z",
     "shell.execute_reply.started": "2024-08-15T15:49:00.321198Z"
    },
    "tags": []
   },
   "outputs": [],
   "source": [
    "MODEL_NAME = 'qwen-plus'\n",
    "dashscope.api_key = config['qwen_key'],\n",
    "\n",
    "@retry(delay=60, tries=3)\n",
    "def call_qwen_api(MODEL_NAME, query):\n",
    "    messages = [\n",
    "        {'role': 'user', 'content': query}]\n",
    "    response = dashscope.Generation.call(\n",
    "        MODEL_NAME,\n",
    "        messages=messages,\n",
    "        result_format='message',  # set the result is message format.\n",
    "    )\n",
    "    if response.status_code == HTTPStatus.OK:\n",
    "        #print(response)\n",
    "        return response['output']['choices'][0]['message']['content']\n",
    "    else:\n",
    "        print('Request id: %s, Status code: %s, error code: %s, error message: %s' % (\n",
    "            response.request_id, response.status_code,\n",
    "            response.code, response.message\n",
    "        ))\n",
    "        raise Exception()"
   ]
  },
  {
   "cell_type": "code",
   "execution_count": 3,
   "id": "4eb180cf-37a6-494f-b70b-7ff5499ba919",
   "metadata": {
    "execution": {
     "iopub.execute_input": "2024-08-15T15:49:00.326066Z",
     "iopub.status.busy": "2024-08-15T15:49:00.325814Z",
     "iopub.status.idle": "2024-08-15T15:49:00.328982Z",
     "shell.execute_reply": "2024-08-15T15:49:00.328552Z",
     "shell.execute_reply.started": "2024-08-15T15:49:00.326050Z"
    },
    "tags": []
   },
   "outputs": [],
   "source": [
    "def get_prompt(problem, question, options):\n",
    "\n",
    "    options = '\\n'.join(f\"{'ABCDEFG'[i]}. {o}\" for i, o in enumerate(options))\n",
    "\n",
    "    prompt = f\"\"\"你是一个逻辑推理专家，擅长解决逻辑推理问题。以下是一个逻辑推理的题目，形式为单项选择题。所有的问题都是（close-world assumption）闭世界假设，即未观测事实都为假。请逐步分析问题并在最后一行输出答案，最后一行的格式为\"答案是：A\"。题目如下：\n",
    "\n",
    "### 题目:\n",
    "{problem}\n",
    "\n",
    "### 问题:\n",
    "{question}\n",
    "{options}\n",
    "\"\"\"\n",
    "\n",
    "    return prompt"
   ]
  },
  {
   "cell_type": "code",
   "execution_count": 4,
   "id": "a8c92f03-4807-4cc4-826f-d8f24e673fc1",
   "metadata": {
    "ExecutionIndicator": {
     "show": false
    },
    "execution": {
     "iopub.execute_input": "2024-08-15T15:49:00.329742Z",
     "iopub.status.busy": "2024-08-15T15:49:00.329512Z",
     "iopub.status.idle": "2024-08-15T15:49:00.331899Z",
     "shell.execute_reply": "2024-08-15T15:49:00.331491Z",
     "shell.execute_reply.started": "2024-08-15T15:49:00.329728Z"
    },
    "tags": []
   },
   "outputs": [],
   "source": [
    "def get_question_prompt(data):\n",
    "    prompt = f\"\"\"你是一个逻辑推理问题出题专家，以下json是一个problem，对应一些子问题。除了这些子问题外再生成三个其他子问题，保持格式一致并给出参考答案。\n",
    "### promble如下：\n",
    "{data}\n",
    "### 输出格式如下:\n",
    "{{\n",
    "promble:\n",
    "questions:[\n",
    "question:\n",
    "options:[]\n",
    "]\n",
    "}}\n",
    "\"\"\"\n",
    "    return prompt\n"
   ]
  },
  {
   "cell_type": "code",
   "execution_count": 5,
   "id": "781a25fa-0782-4192-a175-535727cfd590",
   "metadata": {
    "ExecutionIndicator": {
     "show": true
    },
    "execution": {
     "iopub.execute_input": "2024-08-15T15:49:00.332637Z",
     "iopub.status.busy": "2024-08-15T15:49:00.332397Z",
     "iopub.status.idle": "2024-08-15T15:49:00.335030Z",
     "shell.execute_reply": "2024-08-15T15:49:00.334648Z",
     "shell.execute_reply.started": "2024-08-15T15:49:00.332622Z"
    },
    "tags": []
   },
   "outputs": [],
   "source": [
    "def read_file(ifn):\n",
    "    # 读取输入文件\n",
    "    data = []\n",
    "    with open(ifn) as reader:\n",
    "        for line in reader:\n",
    "            # 解析每一行JSON数据\n",
    "            sample = json.loads(line)\n",
    "            data.append(sample)\n",
    "\n",
    "    return data"
   ]
  },
  {
   "cell_type": "code",
   "execution_count": 6,
   "id": "42de68a5-927e-4662-8760-de361646a961",
   "metadata": {
    "ExecutionIndicator": {
     "show": true
    },
    "execution": {
     "iopub.execute_input": "2024-08-15T15:49:00.335780Z",
     "iopub.status.busy": "2024-08-15T15:49:00.335579Z",
     "iopub.status.idle": "2024-08-15T15:49:00.338432Z",
     "shell.execute_reply": "2024-08-15T15:49:00.338069Z",
     "shell.execute_reply.started": "2024-08-15T15:49:00.335766Z"
    },
    "tags": []
   },
   "outputs": [],
   "source": [
    "def write_jsonl(data):\n",
    "    with open('data/output.jsonl', 'w', encoding='utf-8') as file:\n",
    "        for item in data:\n",
    "            json.dump(item, file)\n",
    "            file.write('\\n')"
   ]
  },
  {
   "cell_type": "code",
   "execution_count": 7,
   "id": "fd3648ae-b808-48fa-9c89-e9f6e93831ed",
   "metadata": {
    "ExecutionIndicator": {
     "show": false
    },
    "execution": {
     "iopub.execute_input": "2024-08-15T15:49:00.339771Z",
     "iopub.status.busy": "2024-08-15T15:49:00.339562Z",
     "iopub.status.idle": "2024-08-15T15:49:00.342965Z",
     "shell.execute_reply": "2024-08-15T15:49:00.342545Z",
     "shell.execute_reply.started": "2024-08-15T15:49:00.339756Z"
    },
    "tags": []
   },
   "outputs": [],
   "source": [
    "import re\n",
    "\n",
    "\n",
    "def extract_json(response):\n",
    "    # 使用正则表达式匹配 JSON 数据\n",
    "    match = re.search(r'```json\\s*(.*?)\\s*```', response, re.DOTALL)\n",
    "    if match:\n",
    "        # 如果找到了 JSON 数据，则返回清理后的 JSON 字符串\n",
    "        return match.group(1).strip()\n",
    "    else:\n",
    "        # 如果没有找到 JSON 数据，则返回原始响应\n",
    "        return response\n",
    "\n",
    "\n",
    "def process_data(data):\n",
    "    query = get_question_prompt(data)\n",
    "    respond = ''\n",
    "    try:\n",
    "        respond = call_qwen_api(MODEL_NAME, query)\n",
    "        # 清理 JSON 字符串\n",
    "        extract_json(respond)\n",
    "        # 解析 JSON 字符串\n",
    "        data = json.loads(respond)\n",
    "    except Exception as e:\n",
    "        print(respond)\n",
    "        print(f\"Error: {str(e)}\")\n",
    "    return data"
   ]
  },
  {
   "cell_type": "code",
   "execution_count": 8,
   "id": "eaa4fe23-812b-47c9-9548-fbf126ad49cb",
   "metadata": {
    "ExecutionIndicator": {
     "show": false
    },
    "execution": {
     "iopub.execute_input": "2024-08-15T15:49:00.343831Z",
     "iopub.status.busy": "2024-08-15T15:49:00.343482Z",
     "iopub.status.idle": "2024-08-15T15:49:00.352249Z",
     "shell.execute_reply": "2024-08-15T15:49:00.351848Z",
     "shell.execute_reply.started": "2024-08-15T15:49:00.343816Z"
    },
    "tags": []
   },
   "outputs": [],
   "source": [
    "file = read_file('data/round1_train_data.jsonl')"
   ]
  },
  {
   "cell_type": "code",
   "execution_count": 9,
   "id": "fa5c4abb-d27a-483f-8ebe-5fbd798ca388",
   "metadata": {
    "ExecutionIndicator": {
     "show": true
    },
    "execution": {
     "iopub.execute_input": "2024-08-15T15:49:00.353020Z",
     "iopub.status.busy": "2024-08-15T15:49:00.352783Z",
     "iopub.status.idle": "2024-08-15T15:49:52.806058Z",
     "shell.execute_reply": "2024-08-15T15:49:52.805619Z",
     "shell.execute_reply.started": "2024-08-15T15:49:00.353006Z"
    },
    "tags": []
   },
   "outputs": [
    {
     "name": "stderr",
     "output_type": "stream",
     "text": [
      " 20%|██        | 1/5 [00:25<01:43, 25.96s/it]"
     ]
    },
    {
     "name": "stdout",
     "output_type": "stream",
     "text": [
      "Sure, here are three additional sub-questions based on the given vocabulary table:\n",
      "\n",
      "```json\n",
      "{\n",
      "  'problem': '有一个英文到法文的词汇表，包含以下对应词汇：\\n\\n1. the -> le\\n2. cat -> chat\\n3. jumps -> sauts\\n4. over -> sur\\n5. moon -> lune\\n6. cow -> vache\\n7. plays -> jouer\\n8. fiddle -> violon\\n9. egg -> bougre\\n10. falls -> des chutes\\n11. off -> de\\n12. wall -> mur\\n\\n根据这个词汇表，翻译以下英文句子成法文：',\n",
      "  'questions': [\n",
      "    {\n",
      "      'question': '选择题 1：\\n英文句子 \"the cat jumps over the moon\" 翻译成法文是：',\n",
      "      'options': ['le chat saute sur la lune', 'le chat sauts sur le lune', 'le sauts chat sur le lune', 'le chat sauts sur le lune'],\n",
      "      'answer': 'A'\n",
      "    },\n",
      "    {\n",
      "      'question': '选择题 2：\\n英文句子 \"the cow plays the fiddle\" 翻译成法文是：',\n",
      "      'options': ['le vache jouer le violon', 'le jouer vache le violon', 'le vache jouer la vièle', 'la vache joue le violon'],\n",
      "      'answer': 'D' // Note: Corrected option D to match proper French grammar and spelling.\n",
      "    },\n",
      "    {\n",
      "      'question': '选择题 3：\\n英文句子 \"the egg falls off the wall\" 翻译成法文是：',\n",
      "      'options': ['le bougre des chutes de le mur', 'le oeuf tombe de le mur', 'le bougre tomber de le mur', 'des chutes le bougre de le mur'],\n",
      "      'answer': 'B' // Note: Option B is the closest to correct but should be \"le bougre tombe de le mur\".\n",
      "    },\n",
      "    {\n",
      "      'question': '选择题 4：\\n英文句子 \"the egg jumps over the wall\" 翻译成法文是：',\n",
      "      'options': ['le bougre saute sur le mur', 'le bougre sautes sur le mur', 'le saute bougre sur le mur', 'le bougre saute sur le mure'],\n",
      "      'answer': 'A'\n",
      "    },\n",
      "    {\n",
      "      'question': '选择题 5：\\n英文句子 \"the cat plays the fiddle\" 翻译成法文是：',\n",
      "      'options': ['le chat joue le violon', 'le chat jouer le violon', 'le chat joue la vièle', 'le chat jouer la vièle'],\n",
      "      'answer': 'A'\n",
      "    },\n",
      "    {\n",
      "      'question': '选择题 6：\\n英文句子 \"the cow falls off the wall\" 翻译成法文是：',\n",
      "      'options': ['la vache des chutes de le mur', 'la vache tombe de le mur', 'la vache tomber de le mur', 'des chutes la vache de le mur'],\n",
      "      'answer': 'B'\n",
      "    }\n",
      "  ],\n",
      "  'id': 'round1_train_data_000'\n",
      "}\n",
      "```\n",
      "\n",
      "Please note that in questions 2 and 3, I've corrected the answer options and answers to better match the proper French grammar and spelling.\n",
      "Error: Expecting value: line 1 column 1 (char 0)\n"
     ]
    },
    {
     "name": "stderr",
     "output_type": "stream",
     "text": [
      " 40%|████      | 2/5 [00:30<00:40, 13.53s/it]"
     ]
    },
    {
     "name": "stdout",
     "output_type": "stream",
     "text": [
      "根据给定的问题和已有的信息，我们可以继续设计新的子问题来进一步测试逻辑推理能力。以下是三个新增的选择题及其对应的选项与参考答案：\n",
      "\n",
      "```json\n",
      "{\n",
      "  'problem': '在一场山地自行车比赛中，四位选手分别取得了第一、第二、第三和第四名。不同的颜色代表不同的排名。下面是一些关于这场比赛和选手排名的信息：\\n\\n1. Alan 名列第一。\\n2. 第二名的选手穿红色服装。\\n3. John 没有穿黄色服装。\\n4. 第四名的选手穿蓝色服装。\\n5. Steve 的排名和他的服装色是相同的名次。\\n6. Kev 的名次排在 Steve 前面。\\n7. 第二名的选手穿的不是青色。\\n8. 黄色服穿的选手的成绩排在绿色服穿的选手前面。\\n9. 确保每四个参数中的所有元素都不相同和符合排名顺序。\\n\\n根据上述信息， 回答以下选择题：',\n",
      "  'questions': [\n",
      "    {\n",
      "      'question': '选择题 1: 根据比赛结果，排在第二名之后的可能是哪些名次？',\n",
      "      'options': ['第一名 第三名', '第三名 第四名'],\n",
      "      'answer': 'B'\n",
      "    },\n",
      "    {\n",
      "      'question': '选择题 2: 第一名是不是在第三名之前？',\n",
      "      'options': ['是', '否'],\n",
      "      'answer': 'A'\n",
      "    },\n",
      "    {\n",
      "      'question': '选择题 3: 第一名是不是在第一名之前？',\n",
      "      'options': ['是', '否'],\n",
      "      'answer': 'B'\n",
      "    },\n",
      "    {\n",
      "      'question': '选择题 4: 第一名是不是在第四名之前？',\n",
      "      'options': ['是', '否'],\n",
      "      'answer': 'A'\n",
      "    },\n",
      "    {\n",
      "      'question': '选择题 5: John 可能穿着什么颜色的服装？',\n",
      "      'options': ['黄色', '红色', '蓝色', '青色'],\n",
      "      'answer': 'C'\n",
      "    },\n",
      "    {\n",
      "      'question': '选择题 6: Steve 的名次可能是多少？',\n",
      "      'options': ['第一名', '第二名', '第三名', '第四名'],\n",
      "      'answer': 'C'\n",
      "    },\n",
      "    {\n",
      "      'question': '选择题 7: Kev 的服装颜色可能是哪种？',\n",
      "      'options': ['黄色', '红色', '绿色', '蓝色'],\n",
      "      'answer': 'A'\n",
      "    }\n",
      "  ],\n",
      "  'id': 'round1_train_data_002'\n",
      "}\n",
      "```\n",
      "\n",
      "### 解析：\n",
      "- **选择题 5**: 根据第 3 条信息，“John 没有穿黄色服装”，排除黄色；根据第 2 条信息，“第二名的选手穿红色服装”，排除红色；根据第 4 条信息，“第四名的选手穿蓝色服装”，排除蓝色。因此，John 只可能穿剩下的颜色——青色或绿色。但由于第 7 条信息指出“第二名的选手穿的不是青色”，而根据第 2 条信息第二名选手穿的是红色，所以 John 不会是第二名，排除青色。因此 John 可能穿着**蓝色**服装。\n",
      "  \n",
      "- **选择题 6**: 根据第 5 条信息，“Steve 的排名和他的服装色是相同的名次”。考虑到 Steve 不能是第一名（因为 Alan 是第一名），并且第二名的选手穿红色服装（排除了 Steve 为第二名的可能性），同时第四名的选手穿蓝色服装（排除了 Steve 为第四名的可能性）。因此 Steve 只能是**第三名**。\n",
      "\n",
      "- **选择题 7**: 根据第 6 条信息，“Kev 的名次排在 Steve 前面”，且 Steve 的名次只能是第三名（从上一题得出结论），这意味着 Kev 的名次可以是第一或第二。由于第一名由 Alan 占据，Kev 只能是第二名。根据第 2 条信息，“第二名的选手穿红色服装”，排除红色；根据第 8 条信息，“黄色服穿的选手的成绩排在绿色服穿的选手前面”，以及 Kev 排在第二名的事实，意味着 Kev 不能穿绿色服装，否则他的成绩会比黄色服装的选手低。因此 Kev 可能穿着**黄色**服装。\n",
      "Error: Expecting value: line 1 column 1 (char 0)\n"
     ]
    },
    {
     "name": "stderr",
     "output_type": "stream",
     "text": [
      " 60%|██████    | 3/5 [00:35<00:19,  9.53s/it]"
     ]
    },
    {
     "name": "stdout",
     "output_type": "stream",
     "text": [
      "Based on the given information, here are three additional sub-questions in the same format:\n",
      "\n",
      "```json\n",
      "{\n",
      "  'problem': '在安大略省，我们有关于不同城市及它们之间位置关系的信息。我们知道各个城市的人口以及哪些城市在给定的城市西边。以下是我们已知的信息：\\n\\n- 布兰普顿的人口是590000。\\n- 汉密尔顿的人口是540000。\\n- 金斯顿的人口是130000。\\n- 基奇纳的人口是230000。\\n- 伦敦的人口是380000。\\n- 马克翰的人口是330000。\\n- 密西沙加的人口是720000。\\n- 渥太华的人口是930000。\\n- 多伦多的人口是2700000。\\n- 旺市的人口是310000。\\n- 温莎的人口是220000。\\n\\n并且我们知道以下城市在彼此的西边：\\n\\n- 温莎在伦敦的西边。\\n- 伦敦在汉密尔顿的西边。\\n- 汉密尔顿在密西沙加的西边。\\n- 密西沙加在多伦多的西边。\\n- 多伦多在金斯顿的西边。\\n- 金斯顿在渥太华的西边。\\n- 旺市在马克翰的西边。\\n\\n还有些城市位于其他城市的北边：\\n\\n- 布兰普顿在密西沙加的北边。\\n- 基奇纳在伦敦的北边。\\n- 旺市在多伦多的北边。\\n\\n根据以上信息，回答以下选择题：',\n",
      "  'questions': [\n",
      "    {'question': '选择题 1：\\n位于布兰普顿以西的城市是哪一个？', 'options': ['多伦多', '金斯顿', '渥太华', '汉密尔顿'], 'answer': 'D'},\n",
      "    {'question': '选择题 2：\\n哪个城市位于基奇纳的西边且人口超过200,000？', 'options': ['伦敦', '温莎', '汉密尔顿', '金斯顿'], 'answer': 'A'},\n",
      "    {'question': '选择题 3：\\n哪个城市既位于多伦多的北边又人口少于350,000？', 'options': ['旺市', '马克翰', '汉密尔顿', '密西沙加'], 'answer': 'A'},\n",
      "    {'question': '选择题 4：\\n位于温莎以东且人口最少的城市是哪一个？', 'options': ['伦敦', '汉密尔顿', '金斯顿', '渥太华'], 'answer': 'C'}\n",
      "  ],\n",
      "  'id': 'round1_train_data_004'\n",
      "}\n",
      "```\n",
      "\n",
      "**Explanation:**\n",
      "\n",
      "- **Question 2**: \"Which city is west of Kitchener and has a population greater than 200,000?\"\n",
      "  - Based on the information provided, London is west of Kitchener and its population is 380,000, which is more than 200,000.\n",
      "  - **Answer**: A (London)\n",
      "\n",
      "- **Question 3**: \"Which city is north of Toronto and has a population less than 350,000?\"\n",
      "  - Vaughan is north of Toronto and its population is 310,000, which is less than 350,000.\n",
      "  - **Answer**: A (Vaughan)\n",
      "\n",
      "- **Question 4**: \"Which city is east of Windsor and has the smallest population?\"\n",
      "  - Among the options, Kingston (population 130,000) is east of Windsor and has the smallest population among the listed cities.\n",
      "  - **Answer**: C (Kingston)\n",
      "Error: Expecting value: line 1 column 1 (char 0)\n"
     ]
    },
    {
     "name": "stderr",
     "output_type": "stream",
     "text": [
      " 80%|████████  | 4/5 [00:45<00:09,  9.70s/it]"
     ]
    },
    {
     "name": "stdout",
     "output_type": "stream",
     "text": [
      "在原有问题的基础上，我们可以添加以下三个子问题：\n",
      "\n",
      "```json\n",
      "{\n",
      "  \"problem\": \"有一组程序可以用来计算两个数的最小公倍数（LCM）。该程序使用了最大公约数（GCD）来帮助计算。具体过程如下：\\n1. 如果两个数相等，则它们的GCD就是其中任意一个数。\\n2. 如果第一个数小于第二个数，则用第二个数减去第一个数，并对新结果递归地计算GCD。\\n3. 如果第一个数大于第二个数，则交换两个数并递归地计算GCD。\\n\\n基于此GCD的计算，我们可以通过以下公式计算两个数的LCM：\\[ \\\\text{LCM}(x, y) = \\\\frac{x}{\\\\text{GCD}(x, y)} \\\\times y \\\\]\\n\\n根据上述原理，请回答以下选择题：\",\n",
      "  \"questions\": [\n",
      "    {\"question\": \"选择题 1：\\n已知一个数和9的最小公倍数是9，这个数是多少？\", \"options\": [\"1\", \"3\", \"6\", \"9\"], \"answer\": \"D\"},\n",
      "    {\"question\": \"选择题 2：\\n7和2的最小公倍数是8，这个说法正确吗？\", \"options\": [\"正确\", \"错误\", \"取决于7和2的最大公约数\", \"以上都不对\"], \"answer\": \"B\"},\n",
      "    {\"question\": \"选择题 3：\\n3和9的最小公倍数是3，这个说法正确吗？\", \"options\": [\"正确\", \"错误\", \"取决于3和9的最大公约数\", \"以上都不对\"], \"answer\": \"B\"},\n",
      "    {\"question\": \"选择题 4：\\n3和4的最小公倍数是3，这个说法正确吗？\", \"options\": [\"正确\", \"错误\", \"取决于3和4的最大公约数\", \"以上都不对\"], \"answer\": \"B\"},\n",
      "    {\"question\": \"选择题 5：\\n如果两个数的最大公约数为1，那么这两个数的最小公倍数是什么？\", \"options\": [\"等于两个数的乘积\", \"等于两个数中的较小者\", \"等于两个数中的较大者\", \"无法确定\"], \"answer\": \"A\"},\n",
      "    {\"question\": \"选择题 6：\\n12和18的最小公倍数是多少？\", \"options\": [\"36\", \"72\", \"18\", \"3\"], \"answer\": \"A\"},\n",
      "    {\"question\": \"选择题 7：\\n给定两个不同的质数p和q，它们的最小公倍数是什么？\", \"options\": [\"pq\", \"p+q\", \"p\", \"q\"], \"answer\": \"A\"}\n",
      "  ],\n",
      "  \"id\": \"round1_train_data_003\"\n",
      "}\n",
      "```\n",
      "\n",
      "### 解析：\n",
      "- **选择题 5**:\n",
      "  - 当两个数的最大公约数为1时，意味着这两个数互质，因此它们的最小公倍数就是它们的乘积。故正确答案为\"A\"。\n",
      "\n",
      "- **选择题 6**:\n",
      "  - 首先找出12和18的最大公约数，即6。然后根据LCM的计算公式 \\(\\text{LCM}(x, y) = \\frac{x \\times y}{\\text{GCD}(x, y)}\\)，可得 \\(\\text{LCM}(12, 18) = \\frac{12 \\times 18}{6} = 36\\)。故正确答案为\"A\"。\n",
      "\n",
      "- **选择题 7**:\n",
      "  - 对于任何两个不同的质数p和q，它们之间没有除了1以外的公约数，所以它们的最大公约数是1。根据LCM的定义，它们的最小公倍数就是它们的乘积pq。故正确答案为\"A\"。\n",
      "Error: Expecting value: line 1 column 1 (char 0)\n"
     ]
    },
    {
     "name": "stderr",
     "output_type": "stream",
     "text": [
      "100%|██████████| 5/5 [00:52<00:00, 10.49s/it]"
     ]
    },
    {
     "name": "stdout",
     "output_type": "stream",
     "text": [
      "根据给定的问题结构，我们可以继续设计与原问题相关的其他子问题。为了保持一致性，这里将设计三个新的选择题，并给出相应的选项及参考答案。\n",
      "\n",
      "```json\n",
      "{\n",
      "  'problem': '有一个方程的系数分别为A, B和C，下面是一些已知的规则：\\n\\n1. 如果B^2 - 4AC = 0，则方程有一个实数解。\\n2. 如果B^2 - 4AC > 0，则方程有两个不同的实数解。\\n3. 如果B^2 - 4AC < 0，则方程有两个不同的复数解。\\n\\n根据以上规则，回答以下选择题：',\n",
      "  'questions': [\n",
      "    {\n",
      "      'question': '选择题 1：\\n当系数A=7, B=9, C=5时，方程的解是什么？',\n",
      "      'options': ['-1.2857142857142858', '0', \"'+(-0.6428571428571429, *(0.5486532677049005, i))' 和 '-(-0.6428571428571429, *(0.5486532677049005, i))'\", '2.2857142857142856'],\n",
      "      'answer': 'C'\n",
      "    },\n",
      "    {\n",
      "      'question': '选择题 2：\\n当系数A=7, B=9, C=5时，方程是否有解为6？',\n",
      "      'options': ['是', '否'],\n",
      "      'answer': 'B'\n",
      "    },\n",
      "    {\n",
      "      'question': '选择题 3：\\n当系数A=7, B=9, C=5时，方程是否有解为8？',\n",
      "      'options': ['是', '否'],\n",
      "      'answer': 'B'\n",
      "    },\n",
      "    {\n",
      "      'question': '选择题 4：\\n当系数A=7, B=6, C=0时，方程是否有解为6？',\n",
      "      'options': ['是', '否'],\n",
      "      'answer': 'B'\n",
      "    },\n",
      "    {\n",
      "      'question': '选择题 5：\\n当系数A=2, B=4, C=2时，方程有几个实数解？',\n",
      "      'options': ['没有', '一个', '两个', '无法确定'],\n",
      "      'answer': 'B'\n",
      "    },\n",
      "    {\n",
      "      'question': '选择题 6：\\n当系数A=1, B=0, C=-4时，方程的解是否都是实数？',\n",
      "      'options': ['是', '否'],\n",
      "      'answer': 'A'\n",
      "    },\n",
      "    {\n",
      "      'question': '选择题 7：\\n当系数A=1, B=2, C=5时，方程的解类型是什么？',\n",
      "      'options': ['两个不同的实数解', '一个实数解', '两个不同的复数解', '无解'],\n",
      "      'answer': 'C'\n",
      "    }\n",
      "  ],\n",
      "  'id': 'round1_train_data_001'\n",
      "}\n",
      "```\n",
      "\n",
      "对于新增的三个子问题，解释如下：\n",
      "\n",
      "- **选择题 5**：当系数A=2, B=4, C=2时，计算判别式\\(B^2 - 4AC = 4^2 - 4 \\cdot 2 \\cdot 2 = 16 - 16 = 0\\)，因此根据题目中的规则1，方程有一个实数解。所以正确答案是“一个”（选项B）。\n",
      "  \n",
      "- **选择题 6**：当系数A=1, B=0, C=-4时，计算判别式\\(B^2 - 4AC = 0^2 - 4 \\cdot 1 \\cdot (-4) = 16\\)，大于0，因此根据题目中的规则2，方程有两个不同的实数解。所以正确答案是“是”（选项A）。\n",
      "\n",
      "- **选择题 7**：当系数A=1, B=2, C=5时，计算判别式\\(B^2 - 4AC = 2^2 - 4 \\cdot 1 \\cdot 5 = 4 - 20 = -16\\)，小于0，因此根据题目中的规则3，方程有两个不同的复数解。所以正确答案是“两个不同的复数解”（选项C）。\n",
      "Error: Expecting value: line 1 column 1 (char 0)\n"
     ]
    },
    {
     "name": "stderr",
     "output_type": "stream",
     "text": [
      "\n"
     ]
    }
   ],
   "source": [
    "from tqdm import tqdm\n",
    "import concurrent.futures\n",
    "file = file[:5]\n",
    "\n",
    "# 并行批量处理\n",
    "def batch_process_questions(file, max_workers=5):\n",
    "    with concurrent.futures.ThreadPoolExecutor(max_workers=max_workers) as executor:\n",
    "        futures = [executor.submit(process_data, data) for data in file]\n",
    "        results = [future.result() for future in tqdm(concurrent.futures.as_completed(futures), total=len(file))]\n",
    "    return results\n",
    "\n",
    "results = batch_process_questions(file)\n",
    "\n",
    "write_jsonl(results)"
   ]
  },
  {
   "cell_type": "code",
   "execution_count": null,
   "id": "c2c8fd37-c64c-4c6b-943a-b5847ff337bb",
   "metadata": {},
   "outputs": [],
   "source": []
  }
 ],
 "metadata": {
  "kernelspec": {
   "display_name": "Python 3 (ipykernel)",
   "language": "python",
   "name": "python3"
  },
  "language_info": {
   "codemirror_mode": {
    "name": "ipython",
    "version": 3
   },
   "file_extension": ".py",
   "mimetype": "text/x-python",
   "name": "python",
   "nbconvert_exporter": "python",
   "pygments_lexer": "ipython3",
   "version": "3.10.14"
  }
 },
 "nbformat": 4,
 "nbformat_minor": 5
}
