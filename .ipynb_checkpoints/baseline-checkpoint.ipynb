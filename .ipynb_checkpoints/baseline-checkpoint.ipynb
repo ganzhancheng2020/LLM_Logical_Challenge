{
 "cells": [
  {
   "cell_type": "code",
   "execution_count": 12,
   "id": "9a37796c-69e7-4502-ab82-3aceca1f7fbf",
   "metadata": {
    "ExecutionIndicator": {
     "show": true
    },
    "execution": {
     "iopub.execute_input": "2024-08-11T09:45:23.957657Z",
     "iopub.status.busy": "2024-08-11T09:45:23.957264Z",
     "iopub.status.idle": "2024-08-11T09:45:23.961699Z",
     "shell.execute_reply": "2024-08-11T09:45:23.961210Z",
     "shell.execute_reply.started": "2024-08-11T09:45:23.957635Z"
    },
    "tags": []
   },
   "outputs": [],
   "source": [
    "from multiprocessing import Process, Manager\n",
    "import json\n",
    "import os\n",
    "from pprint import pprint\n",
    "import re\n",
    "from tqdm import tqdm\n",
    "import random\n",
    "\n",
    "import uuid\n",
    "import openai\n",
    "import tiktoken\n",
    "import json\n",
    "import numpy as np\n",
    "import requests\n",
    "from retry import retry\n",
    "from scipy import sparse\n",
    "#from rank_bm25 import BM25Okapi\n",
    "#import jieba\n",
    "from http import HTTPStatus\n",
    "import dashscope\n",
    "from dotenv import dotenv_values\n",
    "config = dotenv_values('.env')"
   ]
  },
  {
   "cell_type": "code",
   "execution_count": 13,
   "id": "308473de-f20e-41b6-a57d-af5e553a9866",
   "metadata": {
    "ExecutionIndicator": {
     "show": false
    },
    "execution": {
     "iopub.execute_input": "2024-08-11T09:45:28.620447Z",
     "iopub.status.busy": "2024-08-11T09:45:28.620105Z",
     "iopub.status.idle": "2024-08-11T09:45:28.624703Z",
     "shell.execute_reply": "2024-08-11T09:45:28.624223Z",
     "shell.execute_reply.started": "2024-08-11T09:45:28.620427Z"
    },
    "tags": []
   },
   "outputs": [],
   "source": [
    "MODEL_NAME = 'qwen2-7b-instruct'\n",
    "dashscope.api_key = config['qwen_key'],\n",
    "\n",
    "@retry(delay=60, tries=3)\n",
    "def call_qwen_api(MODEL_NAME, query):\n",
    "    messages = [\n",
    "        {'role': 'user', 'content': query}]\n",
    "    response = dashscope.Generation.call(\n",
    "        MODEL_NAME,\n",
    "        messages=messages,\n",
    "        result_format='message',  # set the result is message format.\n",
    "    )\n",
    "    if response.status_code == HTTPStatus.OK:\n",
    "        #print(response)\n",
    "        return response['output']['choices'][0]['message']['content']\n",
    "    else:\n",
    "        print('Request id: %s, Status code: %s, error code: %s, error message: %s' % (\n",
    "            response.request_id, response.status_code,\n",
    "            response.code, response.message\n",
    "        ))\n",
    "        raise Exception()"
   ]
  },
  {
   "cell_type": "code",
   "execution_count": 14,
   "id": "5424028d-b0a0-48ed-ba5d-6cf39445ba8f",
   "metadata": {
    "execution": {
     "iopub.execute_input": "2024-08-11T09:45:33.100302Z",
     "iopub.status.busy": "2024-08-11T09:45:33.099964Z",
     "iopub.status.idle": "2024-08-11T09:45:33.103646Z",
     "shell.execute_reply": "2024-08-11T09:45:33.103174Z",
     "shell.execute_reply.started": "2024-08-11T09:45:33.100272Z"
    },
    "tags": []
   },
   "outputs": [],
   "source": [
    "def get_prompt(problem, question, options):\n",
    "\n",
    "    options = '\\n'.join(f\"{'ABCDEFG'[i]}. {o}\" for i, o in enumerate(options))\n",
    "\n",
    "    prompt = f\"\"\"你是一个逻辑推理专家，擅长解决逻辑推理问题。以下是一个逻辑推理的题目，形式为单项选择题。所有的问题都是（close-world assumption）闭世界假设，即未观测事实都为假。请逐步分析问题并在最后一行输出答案，最后一行的格式为\"答案是：A\"。题目如下：\n",
    "\n",
    "### 题目:\n",
    "{problem}\n",
    "\n",
    "### 问题:\n",
    "{question}\n",
    "{options}\n",
    "\"\"\"\n",
    "\n",
    "    return prompt"
   ]
  },
  {
   "cell_type": "code",
   "execution_count": 49,
   "id": "f7734a4a-4754-4155-a020-8a8f1d81a3c6",
   "metadata": {
    "ExecutionIndicator": {
     "show": true
    },
    "execution": {
     "iopub.execute_input": "2024-08-11T10:16:36.628088Z",
     "iopub.status.busy": "2024-08-11T10:16:36.627733Z",
     "iopub.status.idle": "2024-08-11T10:16:36.631883Z",
     "shell.execute_reply": "2024-08-11T10:16:36.631424Z",
     "shell.execute_reply.started": "2024-08-11T10:16:36.628066Z"
    },
    "tags": []
   },
   "outputs": [],
   "source": [
    "def extract(input_text):\n",
    "    ans_pattern = re.compile(r\"答案是：(.*)\", re.S)\n",
    "\n",
    "    # 使用 findall 方法找到所有匹配的字符串\n",
    "    problems = ans_pattern.findall(input_text)\n",
    "\n",
    "    # 提取答案中出现的所有可能的答案字母\n",
    "    possible_answers = \"ABCDEFG\"  # 假设可能的答案字母是 A, B, C, D\n",
    "    answers = [match for match in problems[0] if match in possible_answers]\n",
    "\n",
    "#     print(answers)  # 输出：['A']\n",
    "#     ans_pattern = re.compile(r\"答案是：(.)\", re.S)\n",
    "#     problems = ans_pattern.findall(input_text)\n",
    "    if len(answers) == 0:\n",
    "        return ''\n",
    "        \n",
    "    return answers[0]"
   ]
  },
  {
   "cell_type": "code",
   "execution_count": 74,
   "id": "107a3ec7-4e77-47ec-8622-cac15253eda8",
   "metadata": {
    "ExecutionIndicator": {
     "show": false
    },
    "execution": {
     "iopub.execute_input": "2024-08-11T10:45:30.390536Z",
     "iopub.status.busy": "2024-08-11T10:45:30.390195Z",
     "iopub.status.idle": "2024-08-11T10:45:30.395140Z",
     "shell.execute_reply": "2024-08-11T10:45:30.394695Z",
     "shell.execute_reply.started": "2024-08-11T10:45:30.390517Z"
    },
    "tags": []
   },
   "outputs": [],
   "source": [
    "def produce(data, MODEL_NAME, return_list, pid):\n",
    "    tqdm1 = tqdm\n",
    "    for task in tqdm1(data):\n",
    "            problem = task['problem']\n",
    "            for question in task['questions']:\n",
    "                print(question)\n",
    "\n",
    "                prompt = get_prompt(problem, \n",
    "                                    question['question'],\n",
    "                                    question['options'],\n",
    "                                    )\n",
    "\n",
    "                response = call_qwen_api(MODEL_NAME, prompt)\n",
    "                try:\n",
    "                    attemp = 1\n",
    "                    while attemp <= 3:\n",
    "                        #print(f'try：{attemp}')\n",
    "                        extract_response = extract(response)\n",
    "                        question[MODEL_NAME] = extract_response\n",
    "                        if question[MODEL_NAME] == '':\n",
    "                            print(f'wtrong response：{response}')\n",
    "                            attemp += 1\n",
    "                            continue\n",
    "                        else:\n",
    "                            attemp = 3\n",
    "                    if pid == 0:\n",
    "                        pprint(extract_response)\n",
    "                    break\n",
    "                except:\n",
    "                    pass\n",
    "            return_list.append(task)"
   ]
  },
  {
   "cell_type": "code",
   "execution_count": 75,
   "id": "cdb0e780-bc1d-412c-8edc-759aa12c6ab3",
   "metadata": {
    "ExecutionIndicator": {
     "show": true
    },
    "execution": {
     "iopub.execute_input": "2024-08-11T10:45:37.922323Z",
     "iopub.status.busy": "2024-08-11T10:45:37.921957Z",
     "iopub.status.idle": "2024-08-11T10:45:37.927804Z",
     "shell.execute_reply": "2024-08-11T10:45:37.927309Z",
     "shell.execute_reply.started": "2024-08-11T10:45:37.922294Z"
    },
    "tags": []
   },
   "outputs": [],
   "source": [
    "def main(data, ofn):\n",
    "    # 如果输出文件已经存在，则不进行处理\n",
    "    # if os.path.exists(ofn):\n",
    "    #     pass\n",
    "\n",
    "    # 设置进程池大小\n",
    "    POOL_SIZE = 5\n",
    "    #data = []\n",
    "\n",
    "    # 将数据分割成POOL_SIZE个子列表\n",
    "    datas = [data[i::POOL_SIZE] for i in range(POOL_SIZE)]\n",
    "\n",
    "    # 使用Manager创建一个共享对象\n",
    "    with Manager() as manager:\n",
    "        # 创建一个共享列表，用于存储所有进程的结果\n",
    "        return_list = manager.list()\n",
    "\n",
    "        # 创建进程列表\n",
    "        producers = []\n",
    "        for i in range(POOL_SIZE):\n",
    "            # 创建每个进程，传递数据子集、模型名称、结果列表和进程编号\n",
    "            p = Process(target=produce,\n",
    "                        args=(datas[i],  # 数据子集\n",
    "                              MODEL_NAME,  # 模型名称\n",
    "                              return_list,  # 共享结果列表\n",
    "                              i,  # 进程编号\n",
    "                              )\n",
    "                        )\n",
    "            producers.append(p)\n",
    "\n",
    "        # 启动所有进程\n",
    "        for p in producers:\n",
    "            p.start()\n",
    "\n",
    "        # 等待所有进程完成\n",
    "        for p in producers:\n",
    "            p.join()\n",
    "\n",
    "        # 输出结果列表的长度\n",
    "        print(len(return_list))\n",
    "\n",
    "        # 写入输出文件\n",
    "        with open(ofn, 'w') as writer:\n",
    "            for sample in return_list:\n",
    "                # 将结果写入文件\n",
    "                writer.write(json.dumps(sample, ensure_ascii=False))\n",
    "                writer.write('\\n')\n",
    "\n",
    "    # 输出任务完成的消息\n",
    "    print(\"All tasks finished!\")\n",
    "\n",
    "    # 调用评估函数\n",
    "    evaluate(ofn)"
   ]
  },
  {
   "cell_type": "code",
   "execution_count": 76,
   "id": "5266c650-e79a-478d-b6a7-ea68b856aa81",
   "metadata": {
    "execution": {
     "iopub.execute_input": "2024-08-11T10:45:41.054404Z",
     "iopub.status.busy": "2024-08-11T10:45:41.054042Z",
     "iopub.status.idle": "2024-08-11T10:45:41.058408Z",
     "shell.execute_reply": "2024-08-11T10:45:41.057959Z",
     "shell.execute_reply.started": "2024-08-11T10:45:41.054375Z"
    },
    "tags": []
   },
   "outputs": [],
   "source": [
    "def evaluate(ofn):\n",
    "    data = []\n",
    "    with open(ofn) as reader:\n",
    "        for line in reader:\n",
    "            sample = json.loads(line)\n",
    "            data.append(sample)\n",
    "\n",
    "    pse = 0\n",
    "    cnt = 0\n",
    "    tot = 0\n",
    "    for task in data:\n",
    "        for question in task['questions']:\n",
    "            \n",
    "            if MODEL_NAME in question:\n",
    "                tot += 1\n",
    "                cnt += question[MODEL_NAME] == question['answer']\n",
    "            else:\n",
    "                pse += 1\n",
    "\n",
    "    print(cnt, tot, cnt/tot, pse)"
   ]
  },
  {
   "cell_type": "code",
   "execution_count": 77,
   "id": "b4b0fdf1-f702-4977-b5fe-3c1eb6c0b1b3",
   "metadata": {
    "ExecutionIndicator": {
     "show": true
    },
    "execution": {
     "iopub.execute_input": "2024-08-11T10:45:49.018092Z",
     "iopub.status.busy": "2024-08-11T10:45:49.017773Z",
     "iopub.status.idle": "2024-08-11T10:45:49.021387Z",
     "shell.execute_reply": "2024-08-11T10:45:49.020907Z",
     "shell.execute_reply.started": "2024-08-11T10:45:49.018073Z"
    },
    "tags": []
   },
   "outputs": [],
   "source": [
    "def read_file(ifn):\n",
    "    # 读取输入文件\n",
    "    data=[]\n",
    "    with open(ifn) as reader:\n",
    "        for line in reader:\n",
    "            # 解析每一行JSON数据\n",
    "            sample = json.loads(line)\n",
    "            data.append(sample)\n",
    "\n",
    "    # 打乱数据顺序\n",
    "    #random.shuffle(data)\n",
    "    return data"
   ]
  },
  {
   "cell_type": "code",
   "execution_count": 78,
   "id": "12c56d9c-ffd8-468d-9e7e-b7e881c914d1",
   "metadata": {
    "ExecutionIndicator": {
     "show": true
    },
    "execution": {
     "iopub.execute_input": "2024-08-11T10:45:54.513140Z",
     "iopub.status.busy": "2024-08-11T10:45:54.512792Z",
     "iopub.status.idle": "2024-08-11T10:45:59.762792Z",
     "shell.execute_reply": "2024-08-11T10:45:59.762148Z",
     "shell.execute_reply.started": "2024-08-11T10:45:54.513120Z"
    },
    "tags": []
   },
   "outputs": [
    {
     "name": "stderr",
     "output_type": "stream",
     "text": [
      "  0%|          | 0/1 [00:00<?, ?it/s]"
     ]
    },
    {
     "name": "stdout",
     "output_type": "stream",
     "text": [
      "\n",
      "{'question': '选择题 1：\\n英文句子 \"the cat jumps over the moon\" 翻译成法文是：', 'options': ['le chat saute sur la lune', 'le chat sauts sur le lune', 'le sauts chat sur le lune', 'le chat sauts sur le lune'], 'answer': 'D'}"
     ]
    },
    {
     "name": "stderr",
     "output_type": "stream",
     "text": [
      "  0%|          | 0/1 [00:00<?, ?it/s]"
     ]
    },
    {
     "name": "stdout",
     "output_type": "stream",
     "text": [
      "\n",
      "{'question': '选择题 1：\\n当系数A=7, B=9, C=5时，方程的解是什么？', 'options': ['-1.2857142857142858', '0', \"'+(-0.6428571428571429, *(0.5486532677049005, i))' 和 '-(-0.6428571428571429, *(0.5486532677049005, i))'\", '2.2857142857142856'], 'answer': 'C'}"
     ]
    },
    {
     "name": "stderr",
     "output_type": "stream",
     "text": [
      "0it [00:00, ?it/s]\n",
      "0it [00:00, ?it/s]\n",
      "0it [00:00, ?it/s]\n"
     ]
    },
    {
     "name": "stdout",
     "output_type": "stream",
     "text": [
      "'A'\n"
     ]
    },
    {
     "name": "stderr",
     "output_type": "stream",
     "text": [
      "100%|██████████| 1/1 [00:02<00:00,  2.30s/it]\n",
      "100%|██████████| 1/1 [00:05<00:00,  5.20s/it]\n"
     ]
    },
    {
     "name": "stdout",
     "output_type": "stream",
     "text": [
      "2\n",
      "All tasks finished!\n",
      "1 2 0.5 5\n"
     ]
    }
   ],
   "source": [
    "if __name__ == '__main__':\n",
    "\n",
    "    a = extract(\"\"\"根据欧几里得算法，逐步解析计算两个数6和7的最大公约数（gcd）的步骤如下：\n",
    "\n",
    "1. 判断6和7是否相等：不相等。\n",
    "2. 判断6和7大小关系，7 > 6，所以用更大的数7减去较小的数6得到结果1。\n",
    "3. 现在计算6和1的最大公约数。\n",
    "4. 6 > 1，根据算法用更大的数6减去较小的数1得到结果5。\n",
    "5. 再计算5和1的最大公约数。\n",
    "6. 5 > 1，用5减去1得到结果4。\n",
    "7. 再计算4和1的最大公约数。\n",
    "8. 4 > 1，用4减去1得到结果3。\n",
    "9. 再计算3和1的最大公约数。\n",
    "10. 3 > 1，用3减去1得到结果2。\n",
    "11. 再计算2和1的最大公约数。\n",
    "12. 2 > 1，用2减去1得到结果1。\n",
    "13. 最后计算1和1的最大公约数，两数相等，gcd即为这两个数，也就是1。\n",
    "\n",
    "因此，6和7的最大公约数是1。\n",
    "\n",
    "答案是：应该是阿飞.\"\"\")\n",
    "\n",
    "    data = read_file('data/round1_train_data.jsonl')\n",
    "    main(data[:2], 'result/qwen.jsonl')"
   ]
  },
  {
   "cell_type": "code",
   "execution_count": 79,
   "id": "48d8d057-606e-4d5b-869f-0543a11d6e41",
   "metadata": {
    "ExecutionIndicator": {
     "show": true
    },
    "execution": {
     "iopub.execute_input": "2024-08-11T10:46:33.805770Z",
     "iopub.status.busy": "2024-08-11T10:46:33.805400Z",
     "iopub.status.idle": "2024-08-11T10:46:33.809924Z",
     "shell.execute_reply": "2024-08-11T10:46:33.809447Z",
     "shell.execute_reply.started": "2024-08-11T10:46:33.805749Z"
    },
    "tags": []
   },
   "outputs": [
    {
     "data": {
      "text/plain": [
       "{'problem': '有一个英文到法文的词汇表，包含以下对应词汇：\\n\\n1. the -> le\\n2. cat -> chat\\n3. jumps -> sauts\\n4. over -> sur\\n5. moon -> lune\\n6. cow -> vache\\n7. plays -> jouer\\n8. fiddle -> violon\\n9. egg -> bougre\\n10. falls -> des chutes\\n11. off -> de\\n12. wall -> mur\\n\\n根据这个词汇表，翻译以下英文句子成法文：',\n",
       " 'questions': [{'question': '选择题 1：\\n英文句子 \"the cat jumps over the moon\" 翻译成法文是：',\n",
       "   'options': ['le chat saute sur la lune',\n",
       "    'le chat sauts sur le lune',\n",
       "    'le sauts chat sur le lune',\n",
       "    'le chat sauts sur le lune'],\n",
       "   'answer': 'D'},\n",
       "  {'question': '选择题 2：\\n英文句子 \"the cow plays the fiddle\" 翻译成法文是：',\n",
       "   'options': ['le vache jouer le violon',\n",
       "    'le jouer vache le violon',\n",
       "    'le vache jouer la vièle',\n",
       "    'la vache joue le violon'],\n",
       "   'answer': 'A'},\n",
       "  {'question': '选择题 3：\\n英文句子 \"the egg falls off the wall\" 翻译成法文是：',\n",
       "   'options': ['le bougre des chutes de le mur',\n",
       "    'le oeuf tombe de le mur',\n",
       "    'le bougre tomber de le mur',\n",
       "    'des chutes le bougre de le mur'],\n",
       "   'answer': 'A'}],\n",
       " 'id': 'round1_train_data_000'}"
      ]
     },
     "execution_count": 79,
     "metadata": {},
     "output_type": "execute_result"
    }
   ],
   "source": [
    "data[0]"
   ]
  },
  {
   "cell_type": "code",
   "execution_count": 33,
   "id": "90178acf-7e91-4d96-b6b3-76532c3eec7b",
   "metadata": {
    "ExecutionIndicator": {
     "show": false
    },
    "execution": {
     "iopub.execute_input": "2024-08-11T10:07:26.112886Z",
     "iopub.status.busy": "2024-08-11T10:07:26.112563Z",
     "iopub.status.idle": "2024-08-11T10:07:26.122245Z",
     "shell.execute_reply": "2024-08-11T10:07:26.121810Z",
     "shell.execute_reply.started": "2024-08-11T10:07:26.112868Z"
    },
    "tags": []
   },
   "outputs": [],
   "source": [
    "data = read_file('data/round1_train_data.jsonl')"
   ]
  },
  {
   "cell_type": "code",
   "execution_count": 68,
   "id": "90f7866b-faa6-4f0b-90f1-2d0c25e80daa",
   "metadata": {
    "ExecutionIndicator": {
     "show": true
    },
    "execution": {
     "iopub.execute_input": "2024-08-11T10:27:48.852237Z",
     "iopub.status.busy": "2024-08-11T10:27:48.851898Z",
     "iopub.status.idle": "2024-08-11T10:27:48.856092Z",
     "shell.execute_reply": "2024-08-11T10:27:48.855653Z",
     "shell.execute_reply.started": "2024-08-11T10:27:48.852214Z"
    },
    "tags": []
   },
   "outputs": [],
   "source": [
    "    data = []\n",
    "    with open('result/qwen.jsonl') as reader:\n",
    "        for line in reader:\n",
    "            sample = json.loads(line)\n",
    "            data.append(sample)"
   ]
  },
  {
   "cell_type": "code",
   "execution_count": 73,
   "id": "1f14b993-1b9f-43d5-aa45-d34bcaed3532",
   "metadata": {
    "ExecutionIndicator": {
     "show": true
    },
    "execution": {
     "iopub.execute_input": "2024-08-11T10:44:29.646878Z",
     "iopub.status.busy": "2024-08-11T10:44:29.646504Z",
     "iopub.status.idle": "2024-08-11T10:44:29.651041Z",
     "shell.execute_reply": "2024-08-11T10:44:29.650577Z",
     "shell.execute_reply.started": "2024-08-11T10:44:29.646860Z"
    },
    "tags": []
   },
   "outputs": [
    {
     "data": {
      "text/plain": [
       "[{'question': '选择题 1：\\n当系数A=7, B=9, C=5时，方程的解是什么？',\n",
       "  'options': ['-1.2857142857142858',\n",
       "   '0',\n",
       "   \"'+(-0.6428571428571429, *(0.5486532677049005, i))' 和 '-(-0.6428571428571429, *(0.5486532677049005, i))'\",\n",
       "   '2.2857142857142856'],\n",
       "  'answer': 'C',\n",
       "  'qwen2-7b-instruct': 'C'},\n",
       " {'question': '选择题 2：\\n当系数A=7, B=9, C=5时，方程是否有解为6？',\n",
       "  'options': ['是', '否'],\n",
       "  'answer': 'B'},\n",
       " {'question': '选择题 3：\\n当系数A=7, B=9, C=5时，方程是否有解为8？',\n",
       "  'options': ['是', '否'],\n",
       "  'answer': 'B'},\n",
       " {'question': '选择题 4：\\n当系数A=7, B=6, C=0时，方程是否有解为6？',\n",
       "  'options': ['是', '否'],\n",
       "  'answer': 'B'}]"
      ]
     },
     "execution_count": 73,
     "metadata": {},
     "output_type": "execute_result"
    }
   ],
   "source": [
    "data[2]['questions']"
   ]
  }
 ],
 "metadata": {
  "kernelspec": {
   "display_name": "Python 3 (ipykernel)",
   "language": "python",
   "name": "python3"
  },
  "language_info": {
   "codemirror_mode": {
    "name": "ipython",
    "version": 3
   },
   "file_extension": ".py",
   "mimetype": "text/x-python",
   "name": "python",
   "nbconvert_exporter": "python",
   "pygments_lexer": "ipython3",
   "version": "3.10.14"
  }
 },
 "nbformat": 4,
 "nbformat_minor": 5
}
