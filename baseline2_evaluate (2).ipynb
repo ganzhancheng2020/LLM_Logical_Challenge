{
 "cells": [
  {
   "cell_type": "code",
   "execution_count": 1,
   "metadata": {
    "ExecutionIndicator": {
     "show": true
    },
    "execution": {
     "iopub.execute_input": "2024-08-20T10:22:48.330569Z",
     "iopub.status.busy": "2024-08-20T10:22:48.330223Z",
     "iopub.status.idle": "2024-08-20T10:22:52.227179Z",
     "shell.execute_reply": "2024-08-20T10:22:52.226687Z",
     "shell.execute_reply.started": "2024-08-20T10:22:48.330551Z"
    },
    "scrolled": true,
    "tags": []
   },
   "outputs": [
    {
     "name": "stdout",
     "output_type": "stream",
     "text": [
      "Looking in indexes: https://mirrors.aliyun.com/pypi/simple\n",
      "Requirement already satisfied: scipy in /usr/local/lib/python3.10/site-packages (1.12.0)\n",
      "Requirement already satisfied: tiktoken in /usr/local/lib/python3.10/site-packages (0.7.0)\n",
      "Requirement already satisfied: retry in /usr/local/lib/python3.10/site-packages (0.9.2)\n",
      "Requirement already satisfied: loguru in /usr/local/lib/python3.10/site-packages (0.7.2)\n",
      "Requirement already satisfied: numpy<1.29.0,>=1.22.4 in /usr/local/lib/python3.10/site-packages (from scipy) (1.26.3)\n",
      "Requirement already satisfied: regex>=2022.1.18 in /usr/local/lib/python3.10/site-packages (from tiktoken) (2024.5.15)\n",
      "Requirement already satisfied: requests>=2.26.0 in /usr/local/lib/python3.10/site-packages (from tiktoken) (2.32.3)\n",
      "Requirement already satisfied: decorator>=3.4.2 in /usr/local/lib/python3.10/site-packages (from retry) (4.4.2)\n",
      "Requirement already satisfied: py<2.0.0,>=1.4.26 in /usr/local/lib/python3.10/site-packages (from retry) (1.11.0)\n",
      "Requirement already satisfied: charset-normalizer<4,>=2 in /usr/local/lib/python3.10/site-packages (from requests>=2.26.0->tiktoken) (3.3.2)\n",
      "Requirement already satisfied: idna<4,>=2.5 in /usr/local/lib/python3.10/site-packages (from requests>=2.26.0->tiktoken) (3.7)\n",
      "Requirement already satisfied: urllib3<3,>=1.21.1 in /usr/local/lib/python3.10/site-packages (from requests>=2.26.0->tiktoken) (2.2.1)\n",
      "Requirement already satisfied: certifi>=2017.4.17 in /usr/local/lib/python3.10/site-packages (from requests>=2.26.0->tiktoken) (2024.2.2)\n",
      "\u001b[33mWARNING: Running pip as the 'root' user can result in broken permissions and conflicting behaviour with the system package manager. It is recommended to use a virtual environment instead: https://pip.pypa.io/warnings/venv\u001b[0m\u001b[33m\n",
      "\u001b[0m\n",
      "\u001b[1m[\u001b[0m\u001b[34;49mnotice\u001b[0m\u001b[1;39;49m]\u001b[0m\u001b[39;49m A new release of pip is available: \u001b[0m\u001b[31;49m23.0.1\u001b[0m\u001b[39;49m -> \u001b[0m\u001b[32;49m24.2\u001b[0m\n",
      "\u001b[1m[\u001b[0m\u001b[34;49mnotice\u001b[0m\u001b[1;39;49m]\u001b[0m\u001b[39;49m To update, run: \u001b[0m\u001b[32;49mpip install --upgrade pip\u001b[0m\n"
     ]
    }
   ],
   "source": [
    "!pip install scipy  tiktoken retry loguru"
   ]
  },
  {
   "cell_type": "code",
   "execution_count": 2,
   "metadata": {
    "ExecutionIndicator": {
     "show": false
    },
    "execution": {
     "iopub.execute_input": "2024-08-20T10:22:52.230058Z",
     "iopub.status.busy": "2024-08-20T10:22:52.229761Z",
     "iopub.status.idle": "2024-08-20T10:22:52.695192Z",
     "shell.execute_reply": "2024-08-20T10:22:52.694621Z",
     "shell.execute_reply.started": "2024-08-20T10:22:52.230041Z"
    },
    "tags": []
   },
   "outputs": [],
   "source": [
    "import json\n",
    "import os\n",
    "from pprint import pprint\n",
    "import re\n",
    "from tqdm import tqdm\n",
    "import random\n",
    "\n",
    "import uuid\n",
    "import openai\n",
    "from openai import OpenAI\n",
    "import tiktoken\n",
    "import json\n",
    "import numpy as np\n",
    "import requests\n",
    "from scipy import sparse\n",
    "#from rank_bm25 import BM25Okapi\n",
    "#import jieba\n",
    "from http import HTTPStatus\n",
    "\n",
    "\n",
    "from concurrent.futures import ThreadPoolExecutor, as_completed\n",
    "from loguru import logger\n",
    "import json\n",
    "import time\n",
    "from tqdm import tqdm"
   ]
  },
  {
   "cell_type": "code",
   "execution_count": 3,
   "metadata": {
    "ExecutionIndicator": {
     "show": true
    },
    "execution": {
     "iopub.execute_input": "2024-08-20T10:22:52.696479Z",
     "iopub.status.busy": "2024-08-20T10:22:52.696209Z",
     "iopub.status.idle": "2024-08-20T10:23:04.779291Z",
     "shell.execute_reply": "2024-08-20T10:23:04.778784Z",
     "shell.execute_reply.started": "2024-08-20T10:22:52.696462Z"
    },
    "tags": []
   },
   "outputs": [
    {
     "name": "stderr",
     "output_type": "stream",
     "text": [
      "/usr/local/lib/python3.10/site-packages/_distutils_hack/__init__.py:55: UserWarning: Reliance on distutils from stdlib is deprecated. Users must rely on setuptools to provide the distutils module. Avoid importing distutils or import setuptools first, and avoid setting SETUPTOOLS_USE_DISTUTILS=stdlib. Register concerns at https://github.com/pypa/setuptools/issues/new?template=distutils-deprecation.yml\n",
      "  warnings.warn(\n",
      "Special tokens have been added in the vocabulary, make sure the associated word embeddings are fine-tuned or trained.\n"
     ]
    },
    {
     "data": {
      "application/vnd.jupyter.widget-view+json": {
       "model_id": "82fa24b7fd94464da3f73ef4a824604a",
       "version_major": 2,
       "version_minor": 0
      },
      "text/plain": [
       "Loading checkpoint shards:   0%|          | 0/4 [00:00<?, ?it/s]"
      ]
     },
     "metadata": {},
     "output_type": "display_data"
    }
   ],
   "source": [
    "from transformers import AutoModelForCausalLM, AutoTokenizer\n",
    "import torch\n",
    "from peft import PeftModel\n",
    "#模型下载\n",
    "from modelscope import snapshot_download\n",
    "\n",
    "mode_path = snapshot_download('qwen/Qwen2-7B-Instruct')\n",
    "#mode_path = '../qwen/Qwen2-7B-Instruct/'\n",
    "lora_path = './output/Qwen2_instruct_lora/20240818/checkpoint-400' # 这里改称你的 lora 输出对应 checkpoint 地址\n",
    "\n",
    "# 加载tokenizer\n",
    "tokenizer = AutoTokenizer.from_pretrained(mode_path, trust_remote_code=True)\n",
    "\n",
    "# 加载模型\n",
    "model = AutoModelForCausalLM.from_pretrained(mode_path, device_map=\"auto\",torch_dtype=torch.float16, trust_remote_code=True).eval()\n",
    "\n",
    "# 加载lora权重\n",
    "model = PeftModel.from_pretrained(model, model_id=lora_path)\n",
    "\n",
    "logger.remove()  # 移除默认的控制台输出\n",
    "logger.add(\"logs/app_{time:YYYY-MM-DD}.log\", level=\"INFO\", rotation=\"00:00\", retention=\"10 days\", compression=\"zip\")\n",
    "\n",
    "MODEL_NAME = 'Qwen2-7B-Instruct-lora'\n",
    "model = model.to('cuda:0')"
   ]
  },
  {
   "cell_type": "code",
   "execution_count": 4,
   "metadata": {
    "ExecutionIndicator": {
     "show": true
    },
    "execution": {
     "iopub.execute_input": "2024-08-20T10:23:04.780719Z",
     "iopub.status.busy": "2024-08-20T10:23:04.780178Z",
     "iopub.status.idle": "2024-08-20T10:23:04.784274Z",
     "shell.execute_reply": "2024-08-20T10:23:04.783776Z",
     "shell.execute_reply.started": "2024-08-20T10:23:04.780702Z"
    },
    "tags": []
   },
   "outputs": [],
   "source": [
    "def api_retry(MODEL_NAME, query):\n",
    "    max_retries = 5\n",
    "    retry_delay = 60  # in seconds\n",
    "    attempts = 0\n",
    "    while attempts < max_retries:\n",
    "        try:\n",
    "            return call_qwen_local(MODEL_NAME, query) #call_qwen_api(MODEL_NAME, query)\n",
    "        except Exception as e:\n",
    "            attempts += 1   \n",
    "            if attempts < max_retries:\n",
    "                logger.warning(f\"Attempt {attempts} failed for text: {query}. Retrying in {retry_delay} seconds...\")\n",
    "                time.sleep(retry_delay)\n",
    "            else:\n",
    "                logger.error(f\"All {max_retries} attempts failed for text: {query}. Error: {e}\")\n",
    "                raise"
   ]
  },
  {
   "cell_type": "code",
   "execution_count": 5,
   "metadata": {
    "execution": {
     "iopub.execute_input": "2024-08-20T10:23:05.816452Z",
     "iopub.status.busy": "2024-08-20T10:23:05.816078Z",
     "iopub.status.idle": "2024-08-20T10:23:05.821175Z",
     "shell.execute_reply": "2024-08-20T10:23:05.820622Z",
     "shell.execute_reply.started": "2024-08-20T10:23:05.816435Z"
    },
    "tags": []
   },
   "outputs": [],
   "source": [
    "def call_qwen_local(MODEL_NAME, query):\n",
    "    inputs = tokenizer.apply_chat_template([{\"role\": \"user\", \"content\": query}],\n",
    "                                       add_generation_prompt=True,\n",
    "                                       tokenize=True,\n",
    "                                       return_tensors=\"pt\",\n",
    "                                       return_dict=True\n",
    "                                       ).to('cuda')\n",
    "\n",
    "    gen_kwargs = {\"max_length\": 2500, \"do_sample\": True, \"top_k\": 1}\n",
    "    with torch.no_grad():\n",
    "        outputs = model.generate(**inputs, **gen_kwargs)\n",
    "        outputs = outputs[:, inputs['input_ids'].shape[1]:]\n",
    "        output = tokenizer.decode(outputs[0], skip_special_tokens=True)\n",
    "\n",
    "    return output"
   ]
  },
  {
   "cell_type": "code",
   "execution_count": 6,
   "metadata": {
    "ExecutionIndicator": {
     "show": true
    },
    "execution": {
     "iopub.execute_input": "2024-08-20T10:23:07.463519Z",
     "iopub.status.busy": "2024-08-20T10:23:07.463214Z",
     "iopub.status.idle": "2024-08-20T10:23:07.467850Z",
     "shell.execute_reply": "2024-08-20T10:23:07.467374Z",
     "shell.execute_reply.started": "2024-08-20T10:23:07.463501Z"
    },
    "tags": []
   },
   "outputs": [],
   "source": [
    "def call_qwen_api(MODEL_NAME, query):\n",
    "    # 这里采用dashscope的api调用模型推理，通过http传输的json封装返回结果\n",
    "    \n",
    "    client = OpenAI(\n",
    "        base_url=\"http://localhost:8000/v1\",\n",
    "        api_key=\"sk-xxx\", # 随便填写，只是为了通过接口参数校验\n",
    "    )\n",
    "    completion = client.chat.completions.create(\n",
    "      model=MODEL_NAME,\n",
    "      messages=[\n",
    "                # {'role':'system','content':'你是一个解决推理任务的专家，你需要分析出问题中的每个实体以及响应关系。然后根据问题一步步推理出结果。并且给出正确的结论。'},\n",
    "\n",
    "        {\"role\": \"user\", \"content\": query}\n",
    "      ]\n",
    "    )\n",
    "    return completion.choices[0].message.content"
   ]
  },
  {
   "cell_type": "code",
   "execution_count": 5,
   "metadata": {
    "ExecutionIndicator": {
     "show": false
    },
    "execution": {
     "iopub.execute_input": "2024-07-27T16:20:17.968937Z",
     "iopub.status.busy": "2024-07-27T16:20:17.968573Z",
     "iopub.status.idle": "2024-07-27T16:20:17.971527Z",
     "shell.execute_reply": "2024-07-27T16:20:17.971018Z",
     "shell.execute_reply.started": "2024-07-27T16:20:17.968912Z"
    },
    "tags": []
   },
   "outputs": [],
   "source": [
    "# call_qwen_api(MODEL_NAME,'你好')"
   ]
  },
  {
   "cell_type": "code",
   "execution_count": 7,
   "metadata": {
    "ExecutionIndicator": {
     "show": true
    },
    "execution": {
     "iopub.execute_input": "2024-08-20T10:23:09.960612Z",
     "iopub.status.busy": "2024-08-20T10:23:09.960296Z",
     "iopub.status.idle": "2024-08-20T10:23:09.964547Z",
     "shell.execute_reply": "2024-08-20T10:23:09.963991Z",
     "shell.execute_reply.started": "2024-08-20T10:23:09.960594Z"
    },
    "tags": []
   },
   "outputs": [],
   "source": [
    "# 这里定义了prompt推理模版\n",
    "import random\n",
    "def get_prompt(problem, question, options):\n",
    "\n",
    "    options = [f\"{'ABCDEFG'[i]}. {o}\" for i, o in enumerate(options)]\n",
    "    #random.shuffle(options)\n",
    "    options = '\\n'.join(options)\n",
    "\n",
    "    prompt = f\"\"\"你是一个逻辑推理专家，擅长解决逻辑推理问题。以下是一个逻辑推理的题目，形式为单项选择题。所有的问题都是（close-world assumption）闭世界假设，即未观测事实都为假。请逐步分析问题并在最后一行输出答案，最后一行的格式为\"答案是：A\"。题目如下：\n",
    "\n",
    "### 题目:\n",
    "{problem}\n",
    "### 问题:\n",
    "{question}\n",
    "### 选项:\n",
    "{options}\n",
    "\"\"\"\n",
    "    # print(prompt)\n",
    "    return prompt\n"
   ]
  },
  {
   "cell_type": "code",
   "execution_count": 8,
   "metadata": {
    "ExecutionIndicator": {
     "show": false
    },
    "execution": {
     "iopub.execute_input": "2024-08-20T10:23:12.919617Z",
     "iopub.status.busy": "2024-08-20T10:23:12.919274Z",
     "iopub.status.idle": "2024-08-20T10:23:12.924074Z",
     "shell.execute_reply": "2024-08-20T10:23:12.923543Z",
     "shell.execute_reply.started": "2024-08-20T10:23:12.919598Z"
    },
    "tags": []
   },
   "outputs": [],
   "source": [
    "# 这里使用extract抽取模获得抽取的结果\n",
    "\n",
    "def extract(input_text):\n",
    "    #ans_pattern = re.compile(r\"(.)\", re.S)\n",
    "    \n",
    "    ans_pattern = re.compile(r\"答案是：(.*)\", re.S)\n",
    "    problems = ans_pattern.findall(input_text)\n",
    "    if(problems == '' or len(problems) == 0):\n",
    "        return 'A'\n",
    "    possible_answers = \"ABCDEFG\"  # 假设可能的答案字母是 A, B, C, D\n",
    "    answers = [match for match in problems[0] if match in possible_answers]\n",
    "\n",
    "\n",
    "    problems = ans_pattern.findall(input_text)\n",
    "    # print(problems)\n",
    "    if len(answers) == 0:\n",
    "        return 'A'\n",
    "    return answers[0]"
   ]
  },
  {
   "cell_type": "code",
   "execution_count": 9,
   "metadata": {
    "ExecutionIndicator": {
     "show": true
    },
    "execution": {
     "iopub.execute_input": "2024-08-20T10:23:14.976092Z",
     "iopub.status.busy": "2024-08-20T10:23:14.975757Z",
     "iopub.status.idle": "2024-08-20T10:23:14.982768Z",
     "shell.execute_reply": "2024-08-20T10:23:14.982228Z",
     "shell.execute_reply.started": "2024-08-20T10:23:14.976066Z"
    },
    "tags": []
   },
   "outputs": [],
   "source": [
    "def process_datas(datas,MODEL_NAME):\n",
    "    results = []\n",
    "    with ThreadPoolExecutor(max_workers=16) as executor:\n",
    "        future_data = {}\n",
    "        lasttask = ''\n",
    "        lastmark = 0\n",
    "        lens = 0\n",
    "        # 送入多线程任务\n",
    "        for data in tqdm(datas, desc=\"Submitting tasks\", total=len(datas)):\n",
    "            problem = data['problem']\n",
    "            for id,question in enumerate(data['questions']):\n",
    "                prompt = get_prompt(problem, \n",
    "                                    question['question'], \n",
    "                                    question['options'],\n",
    "                                    )\n",
    "\n",
    "                future = executor.submit(api_retry, MODEL_NAME, prompt)\n",
    "                \n",
    "                future_data[future] = (data,id)\n",
    "                #time.sleep(0.6)  # 控制每0.6秒提交一个任务\n",
    "                lens += 1\n",
    "        # 处理多线程任务\n",
    "        for future in tqdm(as_completed(future_data), total=lens, desc=\"Processing tasks\"):\n",
    "            # print('data',data)\n",
    "            data = future_data[future][0]\n",
    "            problem_id = future_data[future][1]\n",
    "            try:\n",
    "                # res  = future.result()\n",
    "                # extract_response = extract(res)\n",
    "                # print('res',extract_response)\n",
    "                # data['questions'][problem_id]['answer'] = extract_response\n",
    "                \n",
    "                res, res1, res2 = future.result(), future.result(), future.result()\n",
    "                extract_response, extract_response1, extract_response2 = extract(res), extract(res1), extract(res2)\n",
    "                ans = most_frequent_char(extract_response, extract_response1, extract_response2)\n",
    "                data['questions'][problem_id]['qwen_respond'] = res\n",
    "                data['questions'][problem_id][MODEL_NAME] = ans\n",
    "               \n",
    "                results.append(data)\n",
    "                # print('data',data)\n",
    "                \n",
    "            except Exception as e:\n",
    "                logger.error(f\"Failed to process text: {data}. Error: {e}\")\n",
    "    \n",
    "    return results"
   ]
  },
  {
   "cell_type": "code",
   "execution_count": 10,
   "metadata": {
    "execution": {
     "iopub.execute_input": "2024-08-20T10:23:17.643897Z",
     "iopub.status.busy": "2024-08-20T10:23:17.643584Z",
     "iopub.status.idle": "2024-08-20T10:23:17.647295Z",
     "shell.execute_reply": "2024-08-20T10:23:17.646836Z",
     "shell.execute_reply.started": "2024-08-20T10:23:17.643878Z"
    },
    "tags": []
   },
   "outputs": [],
   "source": [
    "def most_frequent_char(char1, char2, char3):\n",
    "    # 创建一个字典来存储每个字符的出现次数\n",
    "    frequency = {char1: 0, char2: 0, char3: 0}\n",
    "    \n",
    "    # 增加每个字符的出现次数\n",
    "    frequency[char1] += 1\n",
    "    frequency[char2] += 1\n",
    "    frequency[char3] += 1\n",
    "    \n",
    "    # 找到出现次数最多的字符\n",
    "    most_frequent = max(frequency, key=frequency.get)\n",
    "    \n",
    "    return most_frequent"
   ]
  },
  {
   "cell_type": "code",
   "execution_count": 11,
   "metadata": {
    "ExecutionIndicator": {
     "show": true
    },
    "execution": {
     "iopub.execute_input": "2024-08-20T10:23:19.057993Z",
     "iopub.status.busy": "2024-08-20T10:23:19.057692Z",
     "iopub.status.idle": "2024-08-20T10:23:19.062067Z",
     "shell.execute_reply": "2024-08-20T10:23:19.061617Z",
     "shell.execute_reply.started": "2024-08-20T10:23:19.057976Z"
    },
    "tags": []
   },
   "outputs": [],
   "source": [
    "def main(ifn, ofn):\n",
    "    if os.path.exists(ofn):\n",
    "        pass\n",
    "    data = []\n",
    "    # 按行读取数据\n",
    "    with open(ifn) as reader:\n",
    "        for line in reader:\n",
    "            sample = json.loads(line)\n",
    "            data.append(sample)\n",
    "    datas = data[:10]\n",
    "    # print(data)\n",
    "    # 均匀地分成多个数据集\n",
    "    return_list = process_datas(datas,MODEL_NAME)\n",
    "    print(len(return_list))\n",
    "    print(\"All tasks finished!\")\n",
    "    return return_list"
   ]
  },
  {
   "cell_type": "code",
   "execution_count": 12,
   "metadata": {
    "execution": {
     "iopub.execute_input": "2024-08-20T10:23:21.191128Z",
     "iopub.status.busy": "2024-08-20T10:23:21.190792Z",
     "iopub.status.idle": "2024-08-20T10:23:21.194799Z",
     "shell.execute_reply": "2024-08-20T10:23:21.194285Z",
     "shell.execute_reply.started": "2024-08-20T10:23:21.191109Z"
    },
    "tags": []
   },
   "outputs": [],
   "source": [
    "def evaluate(data):\n",
    "    data = data\n",
    "\n",
    "    pse = 0\n",
    "    cnt = 0\n",
    "    tot = 0\n",
    "    for task in data:\n",
    "        for question in task['questions']:\n",
    "            print(task)\n",
    "            if MODEL_NAME in question:\n",
    "                \n",
    "                tot += 1\n",
    "                cnt += question[MODEL_NAME] == question['answer']\n",
    "            else:\n",
    "                pse += 1\n",
    "\n",
    "    print(cnt, tot, cnt/tot, pse)"
   ]
  },
  {
   "cell_type": "code",
   "execution_count": 13,
   "metadata": {
    "ExecutionIndicator": {
     "show": true
    },
    "execution": {
     "iopub.execute_input": "2024-08-20T10:23:28.142770Z",
     "iopub.status.busy": "2024-08-20T10:23:28.142442Z",
     "iopub.status.idle": "2024-08-20T10:27:38.800570Z",
     "shell.execute_reply": "2024-08-20T10:27:38.800113Z",
     "shell.execute_reply.started": "2024-08-20T10:23:28.142751Z"
    },
    "scrolled": true,
    "tags": []
   },
   "outputs": [
    {
     "name": "stdout",
     "output_type": "stream",
     "text": [
      "C\n"
     ]
    },
    {
     "name": "stderr",
     "output_type": "stream",
     "text": [
      "Submitting tasks: 100%|██████████| 10/10 [00:00<00:00, 1086.41it/s]\n",
      "Processing tasks:  48%|████▊     | 12/25 [01:12<01:29,  6.86s/it]../aten/src/ATen/native/cuda/Indexing.cu:1236: indexSelectSmallIndex: block: [15,0,0], thread: [0,0,0] Assertion `srcIndex < srcSelectDimSize` failed.\n",
      "../aten/src/ATen/native/cuda/Indexing.cu:1236: indexSelectSmallIndex: block: [15,0,0], thread: [1,0,0] Assertion `srcIndex < srcSelectDimSize` failed.\n",
      "../aten/src/ATen/native/cuda/Indexing.cu:1236: indexSelectSmallIndex: block: [15,0,0], thread: [2,0,0] Assertion `srcIndex < srcSelectDimSize` failed.\n",
      "../aten/src/ATen/native/cuda/Indexing.cu:1236: indexSelectSmallIndex: block: [15,0,0], thread: [3,0,0] Assertion `srcIndex < srcSelectDimSize` failed.\n",
      "../aten/src/ATen/native/cuda/Indexing.cu:1236: indexSelectSmallIndex: block: [15,0,0], thread: [4,0,0] Assertion `srcIndex < srcSelectDimSize` failed.\n",
      "../aten/src/ATen/native/cuda/Indexing.cu:1236: indexSelectSmallIndex: block: [15,0,0], thread: [5,0,0] Assertion `srcIndex < srcSelectDimSize` failed.\n",
      "../aten/src/ATen/native/cuda/Indexing.cu:1236: indexSelectSmallIndex: block: [15,0,0], thread: [6,0,0] Assertion `srcIndex < srcSelectDimSize` failed.\n",
      "../aten/src/ATen/native/cuda/Indexing.cu:1236: indexSelectSmallIndex: block: [15,0,0], thread: [7,0,0] Assertion `srcIndex < srcSelectDimSize` failed.\n",
      "../aten/src/ATen/native/cuda/Indexing.cu:1236: indexSelectSmallIndex: block: [15,0,0], thread: [8,0,0] Assertion `srcIndex < srcSelectDimSize` failed.\n",
      "../aten/src/ATen/native/cuda/Indexing.cu:1236: indexSelectSmallIndex: block: [15,0,0], thread: [9,0,0] Assertion `srcIndex < srcSelectDimSize` failed.\n",
      "../aten/src/ATen/native/cuda/Indexing.cu:1236: indexSelectSmallIndex: block: [15,0,0], thread: [10,0,0] Assertion `srcIndex < srcSelectDimSize` failed.\n",
      "../aten/src/ATen/native/cuda/Indexing.cu:1236: indexSelectSmallIndex: block: [15,0,0], thread: [11,0,0] Assertion `srcIndex < srcSelectDimSize` failed.\n",
      "../aten/src/ATen/native/cuda/Indexing.cu:1236: indexSelectSmallIndex: block: [15,0,0], thread: [12,0,0] Assertion `srcIndex < srcSelectDimSize` failed.\n",
      "../aten/src/ATen/native/cuda/Indexing.cu:1236: indexSelectSmallIndex: block: [15,0,0], thread: [13,0,0] Assertion `srcIndex < srcSelectDimSize` failed.\n",
      "../aten/src/ATen/native/cuda/Indexing.cu:1236: indexSelectSmallIndex: block: [15,0,0], thread: [14,0,0] Assertion `srcIndex < srcSelectDimSize` failed.\n",
      "../aten/src/ATen/native/cuda/Indexing.cu:1236: indexSelectSmallIndex: block: [15,0,0], thread: [15,0,0] Assertion `srcIndex < srcSelectDimSize` failed.\n",
      "../aten/src/ATen/native/cuda/Indexing.cu:1236: indexSelectSmallIndex: block: [15,0,0], thread: [16,0,0] Assertion `srcIndex < srcSelectDimSize` failed.\n",
      "../aten/src/ATen/native/cuda/Indexing.cu:1236: indexSelectSmallIndex: block: [15,0,0], thread: [17,0,0] Assertion `srcIndex < srcSelectDimSize` failed.\n",
      "../aten/src/ATen/native/cuda/Indexing.cu:1236: indexSelectSmallIndex: block: [15,0,0], thread: [18,0,0] Assertion `srcIndex < srcSelectDimSize` failed.\n",
      "../aten/src/ATen/native/cuda/Indexing.cu:1236: indexSelectSmallIndex: block: [15,0,0], thread: [19,0,0] Assertion `srcIndex < srcSelectDimSize` failed.\n",
      "../aten/src/ATen/native/cuda/Indexing.cu:1236: indexSelectSmallIndex: block: [15,0,0], thread: [20,0,0] Assertion `srcIndex < srcSelectDimSize` failed.\n",
      "../aten/src/ATen/native/cuda/Indexing.cu:1236: indexSelectSmallIndex: block: [15,0,0], thread: [21,0,0] Assertion `srcIndex < srcSelectDimSize` failed.\n",
      "../aten/src/ATen/native/cuda/Indexing.cu:1236: indexSelectSmallIndex: block: [15,0,0], thread: [22,0,0] Assertion `srcIndex < srcSelectDimSize` failed.\n",
      "../aten/src/ATen/native/cuda/Indexing.cu:1236: indexSelectSmallIndex: block: [15,0,0], thread: [23,0,0] Assertion `srcIndex < srcSelectDimSize` failed.\n",
      "../aten/src/ATen/native/cuda/Indexing.cu:1236: indexSelectSmallIndex: block: [15,0,0], thread: [24,0,0] Assertion `srcIndex < srcSelectDimSize` failed.\n",
      "../aten/src/ATen/native/cuda/Indexing.cu:1236: indexSelectSmallIndex: block: [15,0,0], thread: [25,0,0] Assertion `srcIndex < srcSelectDimSize` failed.\n",
      "../aten/src/ATen/native/cuda/Indexing.cu:1236: indexSelectSmallIndex: block: [15,0,0], thread: [26,0,0] Assertion `srcIndex < srcSelectDimSize` failed.\n",
      "../aten/src/ATen/native/cuda/Indexing.cu:1236: indexSelectSmallIndex: block: [15,0,0], thread: [27,0,0] Assertion `srcIndex < srcSelectDimSize` failed.\n",
      "../aten/src/ATen/native/cuda/Indexing.cu:1236: indexSelectSmallIndex: block: [15,0,0], thread: [28,0,0] Assertion `srcIndex < srcSelectDimSize` failed.\n",
      "../aten/src/ATen/native/cuda/Indexing.cu:1236: indexSelectSmallIndex: block: [15,0,0], thread: [29,0,0] Assertion `srcIndex < srcSelectDimSize` failed.\n",
      "../aten/src/ATen/native/cuda/Indexing.cu:1236: indexSelectSmallIndex: block: [15,0,0], thread: [30,0,0] Assertion `srcIndex < srcSelectDimSize` failed.\n",
      "../aten/src/ATen/native/cuda/Indexing.cu:1236: indexSelectSmallIndex: block: [15,0,0], thread: [31,0,0] Assertion `srcIndex < srcSelectDimSize` failed.\n",
      "../aten/src/ATen/native/cuda/Indexing.cu:1236: indexSelectSmallIndex: block: [7,0,0], thread: [96,0,0] Assertion `srcIndex < srcSelectDimSize` failed.\n",
      "../aten/src/ATen/native/cuda/Indexing.cu:1236: indexSelectSmallIndex: block: [7,0,0], thread: [97,0,0] Assertion `srcIndex < srcSelectDimSize` failed.\n",
      "../aten/src/ATen/native/cuda/Indexing.cu:1236: indexSelectSmallIndex: block: [7,0,0], thread: [98,0,0] Assertion `srcIndex < srcSelectDimSize` failed.\n",
      "../aten/src/ATen/native/cuda/Indexing.cu:1236: indexSelectSmallIndex: block: [7,0,0], thread: [99,0,0] Assertion `srcIndex < srcSelectDimSize` failed.\n",
      "../aten/src/ATen/native/cuda/Indexing.cu:1236: indexSelectSmallIndex: block: [7,0,0], thread: [100,0,0] Assertion `srcIndex < srcSelectDimSize` failed.\n",
      "../aten/src/ATen/native/cuda/Indexing.cu:1236: indexSelectSmallIndex: block: [7,0,0], thread: [101,0,0] Assertion `srcIndex < srcSelectDimSize` failed.\n",
      "../aten/src/ATen/native/cuda/Indexing.cu:1236: indexSelectSmallIndex: block: [7,0,0], thread: [102,0,0] Assertion `srcIndex < srcSelectDimSize` failed.\n",
      "../aten/src/ATen/native/cuda/Indexing.cu:1236: indexSelectSmallIndex: block: [7,0,0], thread: [103,0,0] Assertion `srcIndex < srcSelectDimSize` failed.\n",
      "../aten/src/ATen/native/cuda/Indexing.cu:1236: indexSelectSmallIndex: block: [7,0,0], thread: [104,0,0] Assertion `srcIndex < srcSelectDimSize` failed.\n",
      "../aten/src/ATen/native/cuda/Indexing.cu:1236: indexSelectSmallIndex: block: [7,0,0], thread: [105,0,0] Assertion `srcIndex < srcSelectDimSize` failed.\n",
      "../aten/src/ATen/native/cuda/Indexing.cu:1236: indexSelectSmallIndex: block: [7,0,0], thread: [106,0,0] Assertion `srcIndex < srcSelectDimSize` failed.\n",
      "../aten/src/ATen/native/cuda/Indexing.cu:1236: indexSelectSmallIndex: block: [7,0,0], thread: [107,0,0] Assertion `srcIndex < srcSelectDimSize` failed.\n",
      "../aten/src/ATen/native/cuda/Indexing.cu:1236: indexSelectSmallIndex: block: [7,0,0], thread: [108,0,0] Assertion `srcIndex < srcSelectDimSize` failed.\n",
      "../aten/src/ATen/native/cuda/Indexing.cu:1236: indexSelectSmallIndex: block: [7,0,0], thread: [109,0,0] Assertion `srcIndex < srcSelectDimSize` failed.\n",
      "../aten/src/ATen/native/cuda/Indexing.cu:1236: indexSelectSmallIndex: block: [7,0,0], thread: [110,0,0] Assertion `srcIndex < srcSelectDimSize` failed.\n",
      "../aten/src/ATen/native/cuda/Indexing.cu:1236: indexSelectSmallIndex: block: [7,0,0], thread: [111,0,0] Assertion `srcIndex < srcSelectDimSize` failed.\n",
      "../aten/src/ATen/native/cuda/Indexing.cu:1236: indexSelectSmallIndex: block: [7,0,0], thread: [112,0,0] Assertion `srcIndex < srcSelectDimSize` failed.\n",
      "../aten/src/ATen/native/cuda/Indexing.cu:1236: indexSelectSmallIndex: block: [7,0,0], thread: [113,0,0] Assertion `srcIndex < srcSelectDimSize` failed.\n",
      "../aten/src/ATen/native/cuda/Indexing.cu:1236: indexSelectSmallIndex: block: [7,0,0], thread: [114,0,0] Assertion `srcIndex < srcSelectDimSize` failed.\n",
      "../aten/src/ATen/native/cuda/Indexing.cu:1236: indexSelectSmallIndex: block: [7,0,0], thread: [115,0,0] Assertion `srcIndex < srcSelectDimSize` failed.\n",
      "../aten/src/ATen/native/cuda/Indexing.cu:1236: indexSelectSmallIndex: block: [7,0,0], thread: [116,0,0] Assertion `srcIndex < srcSelectDimSize` failed.\n",
      "../aten/src/ATen/native/cuda/Indexing.cu:1236: indexSelectSmallIndex: block: [7,0,0], thread: [117,0,0] Assertion `srcIndex < srcSelectDimSize` failed.\n",
      "../aten/src/ATen/native/cuda/Indexing.cu:1236: indexSelectSmallIndex: block: [7,0,0], thread: [118,0,0] Assertion `srcIndex < srcSelectDimSize` failed.\n",
      "../aten/src/ATen/native/cuda/Indexing.cu:1236: indexSelectSmallIndex: block: [7,0,0], thread: [119,0,0] Assertion `srcIndex < srcSelectDimSize` failed.\n",
      "../aten/src/ATen/native/cuda/Indexing.cu:1236: indexSelectSmallIndex: block: [7,0,0], thread: [120,0,0] Assertion `srcIndex < srcSelectDimSize` failed.\n",
      "../aten/src/ATen/native/cuda/Indexing.cu:1236: indexSelectSmallIndex: block: [7,0,0], thread: [121,0,0] Assertion `srcIndex < srcSelectDimSize` failed.\n",
      "../aten/src/ATen/native/cuda/Indexing.cu:1236: indexSelectSmallIndex: block: [7,0,0], thread: [122,0,0] Assertion `srcIndex < srcSelectDimSize` failed.\n",
      "../aten/src/ATen/native/cuda/Indexing.cu:1236: indexSelectSmallIndex: block: [7,0,0], thread: [123,0,0] Assertion `srcIndex < srcSelectDimSize` failed.\n",
      "../aten/src/ATen/native/cuda/Indexing.cu:1236: indexSelectSmallIndex: block: [7,0,0], thread: [124,0,0] Assertion `srcIndex < srcSelectDimSize` failed.\n",
      "../aten/src/ATen/native/cuda/Indexing.cu:1236: indexSelectSmallIndex: block: [7,0,0], thread: [125,0,0] Assertion `srcIndex < srcSelectDimSize` failed.\n",
      "../aten/src/ATen/native/cuda/Indexing.cu:1236: indexSelectSmallIndex: block: [7,0,0], thread: [126,0,0] Assertion `srcIndex < srcSelectDimSize` failed.\n",
      "../aten/src/ATen/native/cuda/Indexing.cu:1236: indexSelectSmallIndex: block: [7,0,0], thread: [127,0,0] Assertion `srcIndex < srcSelectDimSize` failed.\n",
      "../aten/src/ATen/native/cuda/Indexing.cu:1236: indexSelectSmallIndex: block: [16,0,0], thread: [96,0,0] Assertion `srcIndex < srcSelectDimSize` failed.\n",
      "../aten/src/ATen/native/cuda/Indexing.cu:1236: indexSelectSmallIndex: block: [16,0,0], thread: [97,0,0] Assertion `srcIndex < srcSelectDimSize` failed.\n",
      "../aten/src/ATen/native/cuda/Indexing.cu:1236: indexSelectSmallIndex: block: [16,0,0], thread: [98,0,0] Assertion `srcIndex < srcSelectDimSize` failed.\n",
      "../aten/src/ATen/native/cuda/Indexing.cu:1236: indexSelectSmallIndex: block: [16,0,0], thread: [99,0,0] Assertion `srcIndex < srcSelectDimSize` failed.\n",
      "../aten/src/ATen/native/cuda/Indexing.cu:1236: indexSelectSmallIndex: block: [16,0,0], thread: [100,0,0] Assertion `srcIndex < srcSelectDimSize` failed.\n",
      "../aten/src/ATen/native/cuda/Indexing.cu:1236: indexSelectSmallIndex: block: [16,0,0], thread: [101,0,0] Assertion `srcIndex < srcSelectDimSize` failed.\n",
      "../aten/src/ATen/native/cuda/Indexing.cu:1236: indexSelectSmallIndex: block: [16,0,0], thread: [102,0,0] Assertion `srcIndex < srcSelectDimSize` failed.\n",
      "../aten/src/ATen/native/cuda/Indexing.cu:1236: indexSelectSmallIndex: block: [16,0,0], thread: [103,0,0] Assertion `srcIndex < srcSelectDimSize` failed.\n",
      "../aten/src/ATen/native/cuda/Indexing.cu:1236: indexSelectSmallIndex: block: [16,0,0], thread: [104,0,0] Assertion `srcIndex < srcSelectDimSize` failed.\n",
      "../aten/src/ATen/native/cuda/Indexing.cu:1236: indexSelectSmallIndex: block: [16,0,0], thread: [105,0,0] Assertion `srcIndex < srcSelectDimSize` failed.\n",
      "../aten/src/ATen/native/cuda/Indexing.cu:1236: indexSelectSmallIndex: block: [16,0,0], thread: [106,0,0] Assertion `srcIndex < srcSelectDimSize` failed.\n",
      "../aten/src/ATen/native/cuda/Indexing.cu:1236: indexSelectSmallIndex: block: [16,0,0], thread: [107,0,0] Assertion `srcIndex < srcSelectDimSize` failed.\n",
      "../aten/src/ATen/native/cuda/Indexing.cu:1236: indexSelectSmallIndex: block: [16,0,0], thread: [108,0,0] Assertion `srcIndex < srcSelectDimSize` failed.\n",
      "../aten/src/ATen/native/cuda/Indexing.cu:1236: indexSelectSmallIndex: block: [16,0,0], thread: [109,0,0] Assertion `srcIndex < srcSelectDimSize` failed.\n",
      "../aten/src/ATen/native/cuda/Indexing.cu:1236: indexSelectSmallIndex: block: [16,0,0], thread: [110,0,0] Assertion `srcIndex < srcSelectDimSize` failed.\n",
      "../aten/src/ATen/native/cuda/Indexing.cu:1236: indexSelectSmallIndex: block: [16,0,0], thread: [111,0,0] Assertion `srcIndex < srcSelectDimSize` failed.\n",
      "../aten/src/ATen/native/cuda/Indexing.cu:1236: indexSelectSmallIndex: block: [16,0,0], thread: [112,0,0] Assertion `srcIndex < srcSelectDimSize` failed.\n",
      "../aten/src/ATen/native/cuda/Indexing.cu:1236: indexSelectSmallIndex: block: [16,0,0], thread: [113,0,0] Assertion `srcIndex < srcSelectDimSize` failed.\n",
      "../aten/src/ATen/native/cuda/Indexing.cu:1236: indexSelectSmallIndex: block: [16,0,0], thread: [114,0,0] Assertion `srcIndex < srcSelectDimSize` failed.\n",
      "../aten/src/ATen/native/cuda/Indexing.cu:1236: indexSelectSmallIndex: block: [16,0,0], thread: [115,0,0] Assertion `srcIndex < srcSelectDimSize` failed.\n",
      "../aten/src/ATen/native/cuda/Indexing.cu:1236: indexSelectSmallIndex: block: [16,0,0], thread: [116,0,0] Assertion `srcIndex < srcSelectDimSize` failed.\n",
      "../aten/src/ATen/native/cuda/Indexing.cu:1236: indexSelectSmallIndex: block: [16,0,0], thread: [117,0,0] Assertion `srcIndex < srcSelectDimSize` failed.\n",
      "../aten/src/ATen/native/cuda/Indexing.cu:1236: indexSelectSmallIndex: block: [16,0,0], thread: [118,0,0] Assertion `srcIndex < srcSelectDimSize` failed.\n",
      "../aten/src/ATen/native/cuda/Indexing.cu:1236: indexSelectSmallIndex: block: [16,0,0], thread: [119,0,0] Assertion `srcIndex < srcSelectDimSize` failed.\n",
      "../aten/src/ATen/native/cuda/Indexing.cu:1236: indexSelectSmallIndex: block: [16,0,0], thread: [120,0,0] Assertion `srcIndex < srcSelectDimSize` failed.\n",
      "../aten/src/ATen/native/cuda/Indexing.cu:1236: indexSelectSmallIndex: block: [16,0,0], thread: [121,0,0] Assertion `srcIndex < srcSelectDimSize` failed.\n",
      "../aten/src/ATen/native/cuda/Indexing.cu:1236: indexSelectSmallIndex: block: [16,0,0], thread: [122,0,0] Assertion `srcIndex < srcSelectDimSize` failed.\n",
      "../aten/src/ATen/native/cuda/Indexing.cu:1236: indexSelectSmallIndex: block: [16,0,0], thread: [123,0,0] Assertion `srcIndex < srcSelectDimSize` failed.\n",
      "../aten/src/ATen/native/cuda/Indexing.cu:1236: indexSelectSmallIndex: block: [16,0,0], thread: [124,0,0] Assertion `srcIndex < srcSelectDimSize` failed.\n",
      "../aten/src/ATen/native/cuda/Indexing.cu:1236: indexSelectSmallIndex: block: [16,0,0], thread: [125,0,0] Assertion `srcIndex < srcSelectDimSize` failed.\n",
      "../aten/src/ATen/native/cuda/Indexing.cu:1236: indexSelectSmallIndex: block: [16,0,0], thread: [126,0,0] Assertion `srcIndex < srcSelectDimSize` failed.\n",
      "../aten/src/ATen/native/cuda/Indexing.cu:1236: indexSelectSmallIndex: block: [16,0,0], thread: [127,0,0] Assertion `srcIndex < srcSelectDimSize` failed.\n",
      "../aten/src/ATen/native/cuda/Indexing.cu:1236: indexSelectSmallIndex: block: [17,0,0], thread: [96,0,0] Assertion `srcIndex < srcSelectDimSize` failed.\n",
      "../aten/src/ATen/native/cuda/Indexing.cu:1236: indexSelectSmallIndex: block: [17,0,0], thread: [97,0,0] Assertion `srcIndex < srcSelectDimSize` failed.\n",
      "../aten/src/ATen/native/cuda/Indexing.cu:1236: indexSelectSmallIndex: block: [17,0,0], thread: [98,0,0] Assertion `srcIndex < srcSelectDimSize` failed.\n",
      "../aten/src/ATen/native/cuda/Indexing.cu:1236: indexSelectSmallIndex: block: [17,0,0], thread: [99,0,0] Assertion `srcIndex < srcSelectDimSize` failed.\n",
      "../aten/src/ATen/native/cuda/Indexing.cu:1236: indexSelectSmallIndex: block: [17,0,0], thread: [100,0,0] Assertion `srcIndex < srcSelectDimSize` failed.\n",
      "../aten/src/ATen/native/cuda/Indexing.cu:1236: indexSelectSmallIndex: block: [17,0,0], thread: [101,0,0] Assertion `srcIndex < srcSelectDimSize` failed.\n",
      "../aten/src/ATen/native/cuda/Indexing.cu:1236: indexSelectSmallIndex: block: [17,0,0], thread: [102,0,0] Assertion `srcIndex < srcSelectDimSize` failed.\n",
      "../aten/src/ATen/native/cuda/Indexing.cu:1236: indexSelectSmallIndex: block: [17,0,0], thread: [103,0,0] Assertion `srcIndex < srcSelectDimSize` failed.\n",
      "../aten/src/ATen/native/cuda/Indexing.cu:1236: indexSelectSmallIndex: block: [17,0,0], thread: [104,0,0] Assertion `srcIndex < srcSelectDimSize` failed.\n",
      "../aten/src/ATen/native/cuda/Indexing.cu:1236: indexSelectSmallIndex: block: [17,0,0], thread: [105,0,0] Assertion `srcIndex < srcSelectDimSize` failed.\n",
      "../aten/src/ATen/native/cuda/Indexing.cu:1236: indexSelectSmallIndex: block: [17,0,0], thread: [106,0,0] Assertion `srcIndex < srcSelectDimSize` failed.\n",
      "../aten/src/ATen/native/cuda/Indexing.cu:1236: indexSelectSmallIndex: block: [17,0,0], thread: [107,0,0] Assertion `srcIndex < srcSelectDimSize` failed.\n",
      "../aten/src/ATen/native/cuda/Indexing.cu:1236: indexSelectSmallIndex: block: [17,0,0], thread: [108,0,0] Assertion `srcIndex < srcSelectDimSize` failed.\n",
      "../aten/src/ATen/native/cuda/Indexing.cu:1236: indexSelectSmallIndex: block: [17,0,0], thread: [109,0,0] Assertion `srcIndex < srcSelectDimSize` failed.\n",
      "../aten/src/ATen/native/cuda/Indexing.cu:1236: indexSelectSmallIndex: block: [17,0,0], thread: [110,0,0] Assertion `srcIndex < srcSelectDimSize` failed.\n",
      "../aten/src/ATen/native/cuda/Indexing.cu:1236: indexSelectSmallIndex: block: [17,0,0], thread: [111,0,0] Assertion `srcIndex < srcSelectDimSize` failed.\n",
      "../aten/src/ATen/native/cuda/Indexing.cu:1236: indexSelectSmallIndex: block: [17,0,0], thread: [112,0,0] Assertion `srcIndex < srcSelectDimSize` failed.\n",
      "../aten/src/ATen/native/cuda/Indexing.cu:1236: indexSelectSmallIndex: block: [17,0,0], thread: [113,0,0] Assertion `srcIndex < srcSelectDimSize` failed.\n",
      "../aten/src/ATen/native/cuda/Indexing.cu:1236: indexSelectSmallIndex: block: [17,0,0], thread: [114,0,0] Assertion `srcIndex < srcSelectDimSize` failed.\n",
      "../aten/src/ATen/native/cuda/Indexing.cu:1236: indexSelectSmallIndex: block: [17,0,0], thread: [115,0,0] Assertion `srcIndex < srcSelectDimSize` failed.\n",
      "../aten/src/ATen/native/cuda/Indexing.cu:1236: indexSelectSmallIndex: block: [17,0,0], thread: [116,0,0] Assertion `srcIndex < srcSelectDimSize` failed.\n",
      "../aten/src/ATen/native/cuda/Indexing.cu:1236: indexSelectSmallIndex: block: [17,0,0], thread: [117,0,0] Assertion `srcIndex < srcSelectDimSize` failed.\n",
      "../aten/src/ATen/native/cuda/Indexing.cu:1236: indexSelectSmallIndex: block: [17,0,0], thread: [118,0,0] Assertion `srcIndex < srcSelectDimSize` failed.\n",
      "../aten/src/ATen/native/cuda/Indexing.cu:1236: indexSelectSmallIndex: block: [17,0,0], thread: [119,0,0] Assertion `srcIndex < srcSelectDimSize` failed.\n",
      "../aten/src/ATen/native/cuda/Indexing.cu:1236: indexSelectSmallIndex: block: [17,0,0], thread: [120,0,0] Assertion `srcIndex < srcSelectDimSize` failed.\n",
      "../aten/src/ATen/native/cuda/Indexing.cu:1236: indexSelectSmallIndex: block: [17,0,0], thread: [121,0,0] Assertion `srcIndex < srcSelectDimSize` failed.\n",
      "../aten/src/ATen/native/cuda/Indexing.cu:1236: indexSelectSmallIndex: block: [17,0,0], thread: [122,0,0] Assertion `srcIndex < srcSelectDimSize` failed.\n",
      "../aten/src/ATen/native/cuda/Indexing.cu:1236: indexSelectSmallIndex: block: [17,0,0], thread: [123,0,0] Assertion `srcIndex < srcSelectDimSize` failed.\n",
      "../aten/src/ATen/native/cuda/Indexing.cu:1236: indexSelectSmallIndex: block: [17,0,0], thread: [124,0,0] Assertion `srcIndex < srcSelectDimSize` failed.\n",
      "../aten/src/ATen/native/cuda/Indexing.cu:1236: indexSelectSmallIndex: block: [17,0,0], thread: [125,0,0] Assertion `srcIndex < srcSelectDimSize` failed.\n",
      "../aten/src/ATen/native/cuda/Indexing.cu:1236: indexSelectSmallIndex: block: [17,0,0], thread: [126,0,0] Assertion `srcIndex < srcSelectDimSize` failed.\n",
      "../aten/src/ATen/native/cuda/Indexing.cu:1236: indexSelectSmallIndex: block: [17,0,0], thread: [127,0,0] Assertion `srcIndex < srcSelectDimSize` failed.\n",
      "../aten/src/ATen/native/cuda/Indexing.cu:1236: indexSelectSmallIndex: block: [23,0,0], thread: [64,0,0] Assertion `srcIndex < srcSelectDimSize` failed.\n",
      "../aten/src/ATen/native/cuda/Indexing.cu:1236: indexSelectSmallIndex: block: [23,0,0], thread: [65,0,0] Assertion `srcIndex < srcSelectDimSize` failed.\n",
      "../aten/src/ATen/native/cuda/Indexing.cu:1236: indexSelectSmallIndex: block: [23,0,0], thread: [66,0,0] Assertion `srcIndex < srcSelectDimSize` failed.\n",
      "../aten/src/ATen/native/cuda/Indexing.cu:1236: indexSelectSmallIndex: block: [23,0,0], thread: [67,0,0] Assertion `srcIndex < srcSelectDimSize` failed.\n",
      "../aten/src/ATen/native/cuda/Indexing.cu:1236: indexSelectSmallIndex: block: [23,0,0], thread: [68,0,0] Assertion `srcIndex < srcSelectDimSize` failed.\n",
      "../aten/src/ATen/native/cuda/Indexing.cu:1236: indexSelectSmallIndex: block: [23,0,0], thread: [69,0,0] Assertion `srcIndex < srcSelectDimSize` failed.\n",
      "../aten/src/ATen/native/cuda/Indexing.cu:1236: indexSelectSmallIndex: block: [23,0,0], thread: [70,0,0] Assertion `srcIndex < srcSelectDimSize` failed.\n",
      "../aten/src/ATen/native/cuda/Indexing.cu:1236: indexSelectSmallIndex: block: [23,0,0], thread: [71,0,0] Assertion `srcIndex < srcSelectDimSize` failed.\n",
      "../aten/src/ATen/native/cuda/Indexing.cu:1236: indexSelectSmallIndex: block: [23,0,0], thread: [72,0,0] Assertion `srcIndex < srcSelectDimSize` failed.\n",
      "../aten/src/ATen/native/cuda/Indexing.cu:1236: indexSelectSmallIndex: block: [23,0,0], thread: [73,0,0] Assertion `srcIndex < srcSelectDimSize` failed.\n",
      "../aten/src/ATen/native/cuda/Indexing.cu:1236: indexSelectSmallIndex: block: [23,0,0], thread: [74,0,0] Assertion `srcIndex < srcSelectDimSize` failed.\n",
      "../aten/src/ATen/native/cuda/Indexing.cu:1236: indexSelectSmallIndex: block: [23,0,0], thread: [75,0,0] Assertion `srcIndex < srcSelectDimSize` failed.\n",
      "../aten/src/ATen/native/cuda/Indexing.cu:1236: indexSelectSmallIndex: block: [23,0,0], thread: [76,0,0] Assertion `srcIndex < srcSelectDimSize` failed.\n",
      "../aten/src/ATen/native/cuda/Indexing.cu:1236: indexSelectSmallIndex: block: [23,0,0], thread: [77,0,0] Assertion `srcIndex < srcSelectDimSize` failed.\n",
      "../aten/src/ATen/native/cuda/Indexing.cu:1236: indexSelectSmallIndex: block: [23,0,0], thread: [78,0,0] Assertion `srcIndex < srcSelectDimSize` failed.\n",
      "../aten/src/ATen/native/cuda/Indexing.cu:1236: indexSelectSmallIndex: block: [23,0,0], thread: [79,0,0] Assertion `srcIndex < srcSelectDimSize` failed.\n",
      "../aten/src/ATen/native/cuda/Indexing.cu:1236: indexSelectSmallIndex: block: [23,0,0], thread: [80,0,0] Assertion `srcIndex < srcSelectDimSize` failed.\n",
      "../aten/src/ATen/native/cuda/Indexing.cu:1236: indexSelectSmallIndex: block: [23,0,0], thread: [81,0,0] Assertion `srcIndex < srcSelectDimSize` failed.\n",
      "../aten/src/ATen/native/cuda/Indexing.cu:1236: indexSelectSmallIndex: block: [23,0,0], thread: [82,0,0] Assertion `srcIndex < srcSelectDimSize` failed.\n",
      "../aten/src/ATen/native/cuda/Indexing.cu:1236: indexSelectSmallIndex: block: [23,0,0], thread: [83,0,0] Assertion `srcIndex < srcSelectDimSize` failed.\n",
      "../aten/src/ATen/native/cuda/Indexing.cu:1236: indexSelectSmallIndex: block: [23,0,0], thread: [84,0,0] Assertion `srcIndex < srcSelectDimSize` failed.\n",
      "../aten/src/ATen/native/cuda/Indexing.cu:1236: indexSelectSmallIndex: block: [23,0,0], thread: [85,0,0] Assertion `srcIndex < srcSelectDimSize` failed.\n",
      "../aten/src/ATen/native/cuda/Indexing.cu:1236: indexSelectSmallIndex: block: [23,0,0], thread: [86,0,0] Assertion `srcIndex < srcSelectDimSize` failed.\n",
      "../aten/src/ATen/native/cuda/Indexing.cu:1236: indexSelectSmallIndex: block: [23,0,0], thread: [87,0,0] Assertion `srcIndex < srcSelectDimSize` failed.\n",
      "../aten/src/ATen/native/cuda/Indexing.cu:1236: indexSelectSmallIndex: block: [23,0,0], thread: [88,0,0] Assertion `srcIndex < srcSelectDimSize` failed.\n",
      "../aten/src/ATen/native/cuda/Indexing.cu:1236: indexSelectSmallIndex: block: [23,0,0], thread: [89,0,0] Assertion `srcIndex < srcSelectDimSize` failed.\n",
      "../aten/src/ATen/native/cuda/Indexing.cu:1236: indexSelectSmallIndex: block: [23,0,0], thread: [90,0,0] Assertion `srcIndex < srcSelectDimSize` failed.\n",
      "../aten/src/ATen/native/cuda/Indexing.cu:1236: indexSelectSmallIndex: block: [23,0,0], thread: [91,0,0] Assertion `srcIndex < srcSelectDimSize` failed.\n",
      "../aten/src/ATen/native/cuda/Indexing.cu:1236: indexSelectSmallIndex: block: [23,0,0], thread: [92,0,0] Assertion `srcIndex < srcSelectDimSize` failed.\n",
      "../aten/src/ATen/native/cuda/Indexing.cu:1236: indexSelectSmallIndex: block: [23,0,0], thread: [93,0,0] Assertion `srcIndex < srcSelectDimSize` failed.\n",
      "../aten/src/ATen/native/cuda/Indexing.cu:1236: indexSelectSmallIndex: block: [23,0,0], thread: [94,0,0] Assertion `srcIndex < srcSelectDimSize` failed.\n",
      "../aten/src/ATen/native/cuda/Indexing.cu:1236: indexSelectSmallIndex: block: [23,0,0], thread: [95,0,0] Assertion `srcIndex < srcSelectDimSize` failed.\n",
      "Processing tasks: 100%|██████████| 25/25 [04:10<00:00, 10.03s/it]"
     ]
    },
    {
     "name": "stdout",
     "output_type": "stream",
     "text": [
      "12\n",
      "All tasks finished!\n"
     ]
    },
    {
     "name": "stderr",
     "output_type": "stream",
     "text": [
      "\n"
     ]
    }
   ],
   "source": [
    "if __name__ == '__main__':\n",
    "\n",
    "    a = extract(\"\"\"根据欧几里得算法，逐步解析计算两个数6和7的最大公约数（gcd）的步骤如下：\n",
    "\n",
    "1. 判断6和7是否相等：不相等。\n",
    "2. 判断6和7大小关系，7 > 6，所以用更大的数7减去较小的数6得到结果1。\n",
    "3. 现在计算6和1的最大公约数。\n",
    "4. 6 > 1，根据算法用更大的数6减去较小的数1得到结果5。\n",
    "5. 再计算5和1的最大公约数。\n",
    "6. 5 > 1，用5减去1得到结果4。\n",
    "7. 再计算4和1的最大公约数。\n",
    "8. 4 > 1，用4减去1得到结果3。\n",
    "9. 再计算3和1的最大公约数。\n",
    "10. 3 > 1，用3减去1得到结果2。\n",
    "11. 再计算2和1的最大公约数。\n",
    "12. 2 > 1，用2减去1得到结果1。\n",
    "13. 最后计算1和1的最大公约数，两数相等，gcd即为这两个数，也就是1。\n",
    "\n",
    "因此，6和7的最大公约数是1。\n",
    "\n",
    "答案是：C.\"\"\")\n",
    "\n",
    "    print(a)\n",
    "    return_list = main('data/round1_test_data.jsonl', 'upload_test.jsonl')\n"
   ]
  },
  {
   "cell_type": "code",
   "execution_count": 14,
   "metadata": {
    "ExecutionIndicator": {
     "show": true
    },
    "execution": {
     "iopub.execute_input": "2024-08-20T10:28:09.069081Z",
     "iopub.status.busy": "2024-08-20T10:28:09.068579Z",
     "iopub.status.idle": "2024-08-20T10:28:09.076947Z",
     "shell.execute_reply": "2024-08-20T10:28:09.076505Z",
     "shell.execute_reply.started": "2024-08-20T10:28:09.069051Z"
    },
    "scrolled": true,
    "tags": []
   },
   "outputs": [
    {
     "data": {
      "text/plain": [
       "[{'problem': '设有两个列表操作，第一个列表中包含若干元素，并且可以将第二个列表的元素追加到第一个列表的末尾形成一个新的列表。根据这个操作，请回答以下问题：',\n",
       "  'questions': [{'question': '选择题 1：\\n当第一个列表是[a, b, c]，第二个列表是[d, e]时，新的列表是什么？',\n",
       "    'options': ['[a, b, c, d]',\n",
       "     '[a, d, e, b, c]',\n",
       "     '[a, b, c, d, e]',\n",
       "     '[d, e, a, b, c]']},\n",
       "   {'question': '选择题 2：\\n如果新列表是[a, b, c, d, e]，而第二个列表是[d, e]，那么第一个列表是什么？',\n",
       "    'options': ['[a]', '[a, b]', '[a, b, c]', '[b, c]'],\n",
       "    'qwen_respond': '根据题目描述，操作是将第二个列表的元素追加到第一个列表的末尾。因此，如果新列表是[a, b, c, d, e]，并且第二个列表是[d, e]，那么第一个列表必须包含除了d和e之外的所有元素，即[a, b, c]。\\n\\n答案是：C',\n",
       "    'Qwen2-7B-Instruct-lora': 'C'},\n",
       "   {'question': '选择题 3：\\n当第一个列表是[a, b, c]，新的列表是[a, b, c, d, e]，那么第二个列表是什么？',\n",
       "    'options': ['[d, e]', '[b, c, d]', '[c, d, e]', '[b, d, e]']}],\n",
       "  'id': 'round1_test_data_001'},\n",
       " {'problem': '在一个社交场景中，有几个人互相间存在不同的情感关系。已知的关系如下：\\n\\n1. Scarlet, White, Peacock 和 Orchid 是女性。\\n2. Plum, Mustard 和 Green 是男性。\\n3. Scarlet 讨厌 Green。\\n4. Green 讨厌 White 和 Scarlet。\\n5. White 讨厌 Green 和 Plum。\\n6. Plum 讨厌 White。\\n7. Mustard 讨厌所有其他人。\\n8. Scarlet 喜欢 Orchid、White 和 Plum。\\n9. Peacock 喜欢 Orchid。\\n10. Orchid 喜欢 Peacock。\\n11. Plum 喜欢所有人，包括自己。\\n12. 如果两个人互相讨厌，他们是敌人。\\n13. 如果两个人互相喜欢，他们是朋友。\\n14. 如果某人的两个敌人是敌人，那么这两个敌人也是朋友。\\n\\n根据以上描述，回答以下选择题：',\n",
       "  'questions': [{'question': '选择题 1：\\nWhite 是朋友的名单包括哪些人？',\n",
       "    'options': ['Scarlet', 'Green', 'White', 'Mustard', 'Plum']},\n",
       "   {'question': '选择题 2：\\nOrchid 和 Scarlet 是否是朋友？', 'options': ['是', '否']},\n",
       "   {'question': '选择题 3：\\nMustard 和 Plum 是否是朋友？',\n",
       "    'options': ['是', '否'],\n",
       "    'qwen_respond': '根据题目中的信息，我们可以进行如下分析：\\n\\n- 根据第7条，Mustard 讨厌所有其他人，因此他与所有人都是敌对关系。\\n- 根据第11条，Plum 喜欢所有人，包括自己，这意味着 Plum 与所有人都是朋友关系。\\n\\n由于 Mustard 与所有人都是敌对关系，而 Plum 与所有人都是朋友关系，根据第14条规则，“如果某人的两个敌人是敌人，那么这两个敌人也是朋友”，我们可以推断出 Mustard 和 Plum 之间没有直接的敌对关系，因为他们各自的敌人（即所有人）并不构成敌对关系的条件。但是，这并不意味着他们必须成为朋友，因为题目中没有直接说明 Mustard 和 Plum 之间的具体情感关系。\\n\\n然而，在闭世界假设下，如果 Mustard 和 Plum 没有被明确指出为朋友或敌人，我们不能假设他们之间有任何特定的情感关系。因此，基于给定的信息，我们不能确定 Mustard 和 Plum 是否是朋友。\\n\\n答案是：B. 否',\n",
       "    'Qwen2-7B-Instruct-lora': 'B'},\n",
       "   {'question': '选择题 4：\\nPlum 和 Peacock 是否是朋友？',\n",
       "    'options': ['是', '否'],\n",
       "    'qwen_respond': '分析题目中的信息，我们可以得出以下几点：\\n\\n- Plum 喜欢所有人，包括自己。\\n- Peacock 喜欢 Orchid。\\n- Orchid 喜欢 Peacock。\\n\\n由于 Plum 喜欢所有人，包括 Peacock，而 Peacock 也喜欢 Orchid，且 Orchid 又喜欢 Peacock，这说明 Plum 和 Peacock 之间没有直接的敌对关系。同时，也没有任何信息表明他们之间存在敌对关系。因此，根据题目中的规则，如果两个人互相喜欢，他们是朋友，所以 Plum 和 Peacock 是朋友。\\n\\n答案是：A',\n",
       "    'Qwen2-7B-Instruct-lora': 'A'}],\n",
       "  'id': 'round1_test_data_006'},\n",
       " {'problem': '在一个社交场景中，有几个人互相间存在不同的情感关系。已知的关系如下：\\n\\n1. Scarlet, White, Peacock 和 Orchid 是女性。\\n2. Plum, Mustard 和 Green 是男性。\\n3. Scarlet 讨厌 Green。\\n4. Green 讨厌 White 和 Scarlet。\\n5. White 讨厌 Green 和 Plum。\\n6. Plum 讨厌 White。\\n7. Mustard 讨厌所有其他人。\\n8. Scarlet 喜欢 Orchid、White 和 Plum。\\n9. Peacock 喜欢 Orchid。\\n10. Orchid 喜欢 Peacock。\\n11. Plum 喜欢所有人，包括自己。\\n12. 如果两个人互相讨厌，他们是敌人。\\n13. 如果两个人互相喜欢，他们是朋友。\\n14. 如果某人的两个敌人是敌人，那么这两个敌人也是朋友。\\n\\n根据以上描述，回答以下选择题：',\n",
       "  'questions': [{'question': '选择题 1：\\nWhite 是朋友的名单包括哪些人？',\n",
       "    'options': ['Scarlet', 'Green', 'White', 'Mustard', 'Plum']},\n",
       "   {'question': '选择题 2：\\nOrchid 和 Scarlet 是否是朋友？', 'options': ['是', '否']},\n",
       "   {'question': '选择题 3：\\nMustard 和 Plum 是否是朋友？',\n",
       "    'options': ['是', '否'],\n",
       "    'qwen_respond': '根据题目中的信息，我们可以进行如下分析：\\n\\n- 根据第7条，Mustard 讨厌所有其他人，因此他与所有人都是敌对关系。\\n- 根据第11条，Plum 喜欢所有人，包括自己，这意味着 Plum 与所有人都是朋友关系。\\n\\n由于 Mustard 与所有人都是敌对关系，而 Plum 与所有人都是朋友关系，根据第14条规则，“如果某人的两个敌人是敌人，那么这两个敌人也是朋友”，我们可以推断出 Mustard 和 Plum 之间没有直接的敌对关系，因为他们各自的敌人（即所有人）并不构成敌对关系的条件。但是，这并不意味着他们必须成为朋友，因为题目中没有直接说明 Mustard 和 Plum 之间的具体情感关系。\\n\\n然而，在闭世界假设下，如果 Mustard 和 Plum 没有被明确指出为朋友或敌人，我们不能假设他们之间有任何特定的情感关系。因此，基于给定的信息，我们不能确定 Mustard 和 Plum 是否是朋友。\\n\\n答案是：B. 否',\n",
       "    'Qwen2-7B-Instruct-lora': 'B'},\n",
       "   {'question': '选择题 4：\\nPlum 和 Peacock 是否是朋友？',\n",
       "    'options': ['是', '否'],\n",
       "    'qwen_respond': '分析题目中的信息，我们可以得出以下几点：\\n\\n- Plum 喜欢所有人，包括自己。\\n- Peacock 喜欢 Orchid。\\n- Orchid 喜欢 Peacock。\\n\\n由于 Plum 喜欢所有人，包括 Peacock，而 Peacock 也喜欢 Orchid，且 Orchid 又喜欢 Peacock，这说明 Plum 和 Peacock 之间没有直接的敌对关系。同时，也没有任何信息表明他们之间存在敌对关系。因此，根据题目中的规则，如果两个人互相喜欢，他们是朋友，所以 Plum 和 Peacock 是朋友。\\n\\n答案是：A',\n",
       "    'Qwen2-7B-Instruct-lora': 'A'}],\n",
       "  'id': 'round1_test_data_006'},\n",
       " {'problem': \"某个程序可以将一个列表中的字母按特定规则进行替换，规则如下：\\n\\n1. 将字母 'a' 替换成 'b'。\\n2. 将字母 'b' 替换成 'c'。\\n3. 将字母 'c' 替换成 'a'。\\n4. 其他字母保持不变。\\n\\n根据上述规则，回答以下选择题：\",\n",
       "  'questions': [{'question': '选择题 1：\\n对于输入 `[a, c, b, a, b, c, e]`，输出是什么？',\n",
       "    'options': ['[b, a, c, b, c, a, e]',\n",
       "     '[b, b, c, c, a, a, e]',\n",
       "     '[c, a, b, c, b, a, e]',\n",
       "     '[a, c, b, a, b, c, e]'],\n",
       "    'qwen_respond': \"我们按照给定的规则对输入列表进行逐个元素的替换：\\n\\n- 输入的第一个元素是 'a'，根据规则1，将其替换为'b'。\\n- 第二个元素是 'c'，根据规则3，将其替换为'a'。\\n- 第三个元素是 'b'，根据规则2，将其替换为'c'。\\n- 第四个元素是 'a'，根据规则1，将其替换为'b'。\\n- 第五个元素是 'b'，根据规则2，将其替换为'c'。\\n- 第六个元素是 'c'，根据规则3，将其替换为'a'。\\n- 最后一个元素是 'e'，根据规则4，保持不变。\\n\\n因此，经过替换后的列表为 [b, a, c, b, c, a, e]。\\n\\n答案是：A\",\n",
       "    'Qwen2-7B-Instruct-lora': 'A'}],\n",
       "  'id': 'round1_test_data_007'},\n",
       " {'problem': '在一个火车网络中，存在以下直达火车连接：\\n\\n1. 从萨尔布吕肯到杜德维勒\\n2. 从福尔巴到萨尔布吕肯\\n3. 从弗雷明到福尔巴\\n4. 从圣阿沃尔德到弗雷明\\n5. 从法尔克蒙到圣阿沃尔德\\n6. 从梅斯到法尔克蒙\\n7. 从南锡到梅斯\\n\\n乘客可以直接乘坐火车或通过转乘到达目的地。基于上述信息，请回答以下问题：',\n",
       "  'questions': [{'question': '选择题 1：\\n可以直接或间接从梅斯到弗雷明吗？',\n",
       "    'options': ['是', '否'],\n",
       "    'qwen_respond': '分析：根据题目中的火车连接信息，我们可以看到从梅斯到法尔克蒙有直达火车（第6条），而从法尔克蒙到圣阿沃尔德也有直达火车（第5条）。接着，从圣阿沃尔德到弗雷明也有直达火车（第4条）。因此，乘客可以从梅斯出发，先到法尔克蒙，再转乘到圣阿沃尔德，最后到达弗雷明。\\n\\n答案是：A. 是',\n",
       "    'Qwen2-7B-Instruct-lora': 'A'},\n",
       "   {'question': '选择题 2：\\n可以直接或间接从弗雷明到杜德维勒吗？',\n",
       "    'options': ['是', '否'],\n",
       "    'qwen_respond': '分析：根据题目中的直达火车连接，我们可以看到没有直接从弗雷明到杜德维勒的火车。但是，可以通过中间站点进行转乘。具体路径如下：\\n\\n- 弗雷明 → 福尔巴 → 萨尔布吕肯 → 杜德维勒\\n\\n因此，虽然不是直接的，但可以通过转乘实现从弗雷明到杜德维勒。\\n\\n答案是：A',\n",
       "    'Qwen2-7B-Instruct-lora': 'A'}],\n",
       "  'id': 'round1_test_data_008'},\n",
       " {'problem': '在一个火车网络中，存在以下直达火车连接：\\n\\n1. 从萨尔布吕肯到杜德维勒\\n2. 从福尔巴到萨尔布吕肯\\n3. 从弗雷明到福尔巴\\n4. 从圣阿沃尔德到弗雷明\\n5. 从法尔克蒙到圣阿沃尔德\\n6. 从梅斯到法尔克蒙\\n7. 从南锡到梅斯\\n\\n乘客可以直接乘坐火车或通过转乘到达目的地。基于上述信息，请回答以下问题：',\n",
       "  'questions': [{'question': '选择题 1：\\n可以直接或间接从梅斯到弗雷明吗？',\n",
       "    'options': ['是', '否'],\n",
       "    'qwen_respond': '分析：根据题目中的火车连接信息，我们可以看到从梅斯到法尔克蒙有直达火车（第6条），而从法尔克蒙到圣阿沃尔德也有直达火车（第5条）。接着，从圣阿沃尔德到弗雷明也有直达火车（第4条）。因此，乘客可以从梅斯出发，先到法尔克蒙，再转乘到圣阿沃尔德，最后到达弗雷明。\\n\\n答案是：A. 是',\n",
       "    'Qwen2-7B-Instruct-lora': 'A'},\n",
       "   {'question': '选择题 2：\\n可以直接或间接从弗雷明到杜德维勒吗？',\n",
       "    'options': ['是', '否'],\n",
       "    'qwen_respond': '分析：根据题目中的直达火车连接，我们可以看到没有直接从弗雷明到杜德维勒的火车。但是，可以通过中间站点进行转乘。具体路径如下：\\n\\n- 弗雷明 → 福尔巴 → 萨尔布吕肯 → 杜德维勒\\n\\n因此，虽然不是直接的，但可以通过转乘实现从弗雷明到杜德维勒。\\n\\n答案是：A',\n",
       "    'Qwen2-7B-Instruct-lora': 'A'}],\n",
       "  'id': 'round1_test_data_008'},\n",
       " {'problem': '**背景信息：**\\n\\n家谱信息如下：\\n- 亚当是该隐、亚伯和塞特的父亲。\\n- 塞特是恩诺斯的父亲。\\n\\n另外，我们在此家谱中定义：\\n- 父亲的父亲称为祖父。\\n- 有相同父亲的两个人是兄弟。\\n- 祖父的儿子及其孙子之间的关系是伯、叔与侄的关系，其中伯、叔不是侄子的直接父亲。\\n\\n根据以上定义，回答下列选择题：',\n",
       "  'questions': [{'question': '选择题 1:\\n恩诺斯的叔伯是谁？',\n",
       "    'options': ['亚当，塞特', '亚伯，该隐', '该隐，塞特', '塞特，亚当'],\n",
       "    'qwen_respond': '根据题目中的信息，恩诺斯的父亲是塞特，而塞特是亚当的儿子。因此，亚当是恩诺斯的祖父。在闭世界假设下，没有其他信息表明恩诺斯有其他祖父或伯、叔。所以，恩诺斯的叔伯只能是他的父亲塞特和他的祖父亚当。\\n\\n答案是：A. 亚当，塞特',\n",
       "    'Qwen2-7B-Instruct-lora': 'A'},\n",
       "   {'question': '选择题 2:\\n该隐是谁的叔伯？',\n",
       "    'options': ['亚当', '亚伯', '恩诺斯', '无'],\n",
       "    'qwen_respond': '根据题目中的信息，我们知道：\\n- 亚当是该隐、亚伯和塞特的父亲。\\n- 塞特是恩诺斯的父亲。\\n\\n因此，该隐是亚当的儿子，而塞特是亚当的孙子。由于塞特是恩诺斯的父亲，那么该隐作为亚当的儿子，就是恩诺斯的叔伯。\\n\\n答案是：C. 恩诺斯',\n",
       "    'Qwen2-7B-Instruct-lora': 'C'},\n",
       "   {'question': '选择题 3:\\n该隐是否是恩诺斯的叔伯？',\n",
       "    'options': ['是', '否'],\n",
       "    'qwen_respond': '分析：根据题目中的信息，亚当是该隐、亚伯和塞特的父亲，而塞特是恩诺斯的父亲。因此，该隐和恩诺斯没有共同的父亲，所以他们之间不是兄弟关系。同时，由于该隐和恩诺斯没有共同的祖父，他们之间也不是伯、叔与侄的关系。因此，该隐不是恩诺斯的叔伯。\\n\\n答案是：B',\n",
       "    'Qwen2-7B-Instruct-lora': 'B'},\n",
       "   {'question': '选择题 4:\\n亚当是否是自己的叔伯？',\n",
       "    'options': ['是', '否'],\n",
       "    'qwen_respond': '分析：根据题目中的定义，“伯、叔与侄的关系”指的是祖父的儿子和他的孙子之间的关系，而“伯、叔不是侄子的直接父亲”。因此，亚当作为祖父的儿子，与自己没有形成伯、叔与侄的关系，而是父子关系。所以，亚当不可能是自己的叔伯。\\n\\n答案是：B. 否',\n",
       "    'Qwen2-7B-Instruct-lora': 'B'}],\n",
       "  'id': 'round1_test_data_009'},\n",
       " {'problem': '**背景信息：**\\n\\n家谱信息如下：\\n- 亚当是该隐、亚伯和塞特的父亲。\\n- 塞特是恩诺斯的父亲。\\n\\n另外，我们在此家谱中定义：\\n- 父亲的父亲称为祖父。\\n- 有相同父亲的两个人是兄弟。\\n- 祖父的儿子及其孙子之间的关系是伯、叔与侄的关系，其中伯、叔不是侄子的直接父亲。\\n\\n根据以上定义，回答下列选择题：',\n",
       "  'questions': [{'question': '选择题 1:\\n恩诺斯的叔伯是谁？',\n",
       "    'options': ['亚当，塞特', '亚伯，该隐', '该隐，塞特', '塞特，亚当'],\n",
       "    'qwen_respond': '根据题目中的信息，恩诺斯的父亲是塞特，而塞特是亚当的儿子。因此，亚当是恩诺斯的祖父。在闭世界假设下，没有其他信息表明恩诺斯有其他祖父或伯、叔。所以，恩诺斯的叔伯只能是他的父亲塞特和他的祖父亚当。\\n\\n答案是：A. 亚当，塞特',\n",
       "    'Qwen2-7B-Instruct-lora': 'A'},\n",
       "   {'question': '选择题 2:\\n该隐是谁的叔伯？',\n",
       "    'options': ['亚当', '亚伯', '恩诺斯', '无'],\n",
       "    'qwen_respond': '根据题目中的信息，我们知道：\\n- 亚当是该隐、亚伯和塞特的父亲。\\n- 塞特是恩诺斯的父亲。\\n\\n因此，该隐是亚当的儿子，而塞特是亚当的孙子。由于塞特是恩诺斯的父亲，那么该隐作为亚当的儿子，就是恩诺斯的叔伯。\\n\\n答案是：C. 恩诺斯',\n",
       "    'Qwen2-7B-Instruct-lora': 'C'},\n",
       "   {'question': '选择题 3:\\n该隐是否是恩诺斯的叔伯？',\n",
       "    'options': ['是', '否'],\n",
       "    'qwen_respond': '分析：根据题目中的信息，亚当是该隐、亚伯和塞特的父亲，而塞特是恩诺斯的父亲。因此，该隐和恩诺斯没有共同的父亲，所以他们之间不是兄弟关系。同时，由于该隐和恩诺斯没有共同的祖父，他们之间也不是伯、叔与侄的关系。因此，该隐不是恩诺斯的叔伯。\\n\\n答案是：B',\n",
       "    'Qwen2-7B-Instruct-lora': 'B'},\n",
       "   {'question': '选择题 4:\\n亚当是否是自己的叔伯？',\n",
       "    'options': ['是', '否'],\n",
       "    'qwen_respond': '分析：根据题目中的定义，“伯、叔与侄的关系”指的是祖父的儿子和他的孙子之间的关系，而“伯、叔不是侄子的直接父亲”。因此，亚当作为祖父的儿子，与自己没有形成伯、叔与侄的关系，而是父子关系。所以，亚当不可能是自己的叔伯。\\n\\n答案是：B. 否',\n",
       "    'Qwen2-7B-Instruct-lora': 'B'}],\n",
       "  'id': 'round1_test_data_009'},\n",
       " {'problem': '**背景信息：**\\n\\n家谱信息如下：\\n- 亚当是该隐、亚伯和塞特的父亲。\\n- 塞特是恩诺斯的父亲。\\n\\n另外，我们在此家谱中定义：\\n- 父亲的父亲称为祖父。\\n- 有相同父亲的两个人是兄弟。\\n- 祖父的儿子及其孙子之间的关系是伯、叔与侄的关系，其中伯、叔不是侄子的直接父亲。\\n\\n根据以上定义，回答下列选择题：',\n",
       "  'questions': [{'question': '选择题 1:\\n恩诺斯的叔伯是谁？',\n",
       "    'options': ['亚当，塞特', '亚伯，该隐', '该隐，塞特', '塞特，亚当'],\n",
       "    'qwen_respond': '根据题目中的信息，恩诺斯的父亲是塞特，而塞特是亚当的儿子。因此，亚当是恩诺斯的祖父。在闭世界假设下，没有其他信息表明恩诺斯有其他祖父或伯、叔。所以，恩诺斯的叔伯只能是他的父亲塞特和他的祖父亚当。\\n\\n答案是：A. 亚当，塞特',\n",
       "    'Qwen2-7B-Instruct-lora': 'A'},\n",
       "   {'question': '选择题 2:\\n该隐是谁的叔伯？',\n",
       "    'options': ['亚当', '亚伯', '恩诺斯', '无'],\n",
       "    'qwen_respond': '根据题目中的信息，我们知道：\\n- 亚当是该隐、亚伯和塞特的父亲。\\n- 塞特是恩诺斯的父亲。\\n\\n因此，该隐是亚当的儿子，而塞特是亚当的孙子。由于塞特是恩诺斯的父亲，那么该隐作为亚当的儿子，就是恩诺斯的叔伯。\\n\\n答案是：C. 恩诺斯',\n",
       "    'Qwen2-7B-Instruct-lora': 'C'},\n",
       "   {'question': '选择题 3:\\n该隐是否是恩诺斯的叔伯？',\n",
       "    'options': ['是', '否'],\n",
       "    'qwen_respond': '分析：根据题目中的信息，亚当是该隐、亚伯和塞特的父亲，而塞特是恩诺斯的父亲。因此，该隐和恩诺斯没有共同的父亲，所以他们之间不是兄弟关系。同时，由于该隐和恩诺斯没有共同的祖父，他们之间也不是伯、叔与侄的关系。因此，该隐不是恩诺斯的叔伯。\\n\\n答案是：B',\n",
       "    'Qwen2-7B-Instruct-lora': 'B'},\n",
       "   {'question': '选择题 4:\\n亚当是否是自己的叔伯？',\n",
       "    'options': ['是', '否'],\n",
       "    'qwen_respond': '分析：根据题目中的定义，“伯、叔与侄的关系”指的是祖父的儿子和他的孙子之间的关系，而“伯、叔不是侄子的直接父亲”。因此，亚当作为祖父的儿子，与自己没有形成伯、叔与侄的关系，而是父子关系。所以，亚当不可能是自己的叔伯。\\n\\n答案是：B. 否',\n",
       "    'Qwen2-7B-Instruct-lora': 'B'}],\n",
       "  'id': 'round1_test_data_009'},\n",
       " {'problem': '**背景信息：**\\n\\n家谱信息如下：\\n- 亚当是该隐、亚伯和塞特的父亲。\\n- 塞特是恩诺斯的父亲。\\n\\n另外，我们在此家谱中定义：\\n- 父亲的父亲称为祖父。\\n- 有相同父亲的两个人是兄弟。\\n- 祖父的儿子及其孙子之间的关系是伯、叔与侄的关系，其中伯、叔不是侄子的直接父亲。\\n\\n根据以上定义，回答下列选择题：',\n",
       "  'questions': [{'question': '选择题 1:\\n恩诺斯的叔伯是谁？',\n",
       "    'options': ['亚当，塞特', '亚伯，该隐', '该隐，塞特', '塞特，亚当'],\n",
       "    'qwen_respond': '根据题目中的信息，恩诺斯的父亲是塞特，而塞特是亚当的儿子。因此，亚当是恩诺斯的祖父。在闭世界假设下，没有其他信息表明恩诺斯有其他祖父或伯、叔。所以，恩诺斯的叔伯只能是他的父亲塞特和他的祖父亚当。\\n\\n答案是：A. 亚当，塞特',\n",
       "    'Qwen2-7B-Instruct-lora': 'A'},\n",
       "   {'question': '选择题 2:\\n该隐是谁的叔伯？',\n",
       "    'options': ['亚当', '亚伯', '恩诺斯', '无'],\n",
       "    'qwen_respond': '根据题目中的信息，我们知道：\\n- 亚当是该隐、亚伯和塞特的父亲。\\n- 塞特是恩诺斯的父亲。\\n\\n因此，该隐是亚当的儿子，而塞特是亚当的孙子。由于塞特是恩诺斯的父亲，那么该隐作为亚当的儿子，就是恩诺斯的叔伯。\\n\\n答案是：C. 恩诺斯',\n",
       "    'Qwen2-7B-Instruct-lora': 'C'},\n",
       "   {'question': '选择题 3:\\n该隐是否是恩诺斯的叔伯？',\n",
       "    'options': ['是', '否'],\n",
       "    'qwen_respond': '分析：根据题目中的信息，亚当是该隐、亚伯和塞特的父亲，而塞特是恩诺斯的父亲。因此，该隐和恩诺斯没有共同的父亲，所以他们之间不是兄弟关系。同时，由于该隐和恩诺斯没有共同的祖父，他们之间也不是伯、叔与侄的关系。因此，该隐不是恩诺斯的叔伯。\\n\\n答案是：B',\n",
       "    'Qwen2-7B-Instruct-lora': 'B'},\n",
       "   {'question': '选择题 4:\\n亚当是否是自己的叔伯？',\n",
       "    'options': ['是', '否'],\n",
       "    'qwen_respond': '分析：根据题目中的定义，“伯、叔与侄的关系”指的是祖父的儿子和他的孙子之间的关系，而“伯、叔不是侄子的直接父亲”。因此，亚当作为祖父的儿子，与自己没有形成伯、叔与侄的关系，而是父子关系。所以，亚当不可能是自己的叔伯。\\n\\n答案是：B. 否',\n",
       "    'Qwen2-7B-Instruct-lora': 'B'}],\n",
       "  'id': 'round1_test_data_009'},\n",
       " {'problem': '有一个列表，找出该列表的最后一个元素。\\n\\n下列选项中哪个是列表 `[a, b, c, d]` 的最后一个元素？',\n",
       "  'questions': [{'question': '选择题 1：',\n",
       "    'options': ['a', 'b', 'c', 'd'],\n",
       "    'qwen_respond': '答案是gressue.',\n",
       "    'Qwen2-7B-Instruct-lora': 'A'}],\n",
       "  'id': 'round1_test_data_002'},\n",
       " {'problem': '有两个数学概念需要测试，第一个是判断一个整数是否是素数，第二个是验证一个数是否能被另一个数平方后且小于或等于这个数地整除。以下是数学问题的表述：\\n\\n1. 一个大于1的整数被称为素数，如果它没有正除数（除了1和它自身）。\\n2. 一个整数X能被另一个数Y整除的条件是：Y的平方小于等于X，且X除以Y的余数为0。如果没有这样Y使得X能被整除，那么X是一个素数。\\n\\n根据以上定义，回答以下选择题：',\n",
       "  'questions': [{'question': '选择题 1：\\n整数7是否是一个素数？',\n",
       "    'options': ['是', '否'],\n",
       "    'qwen_respond': '根据题目中的定义，一个大于1的整数被称为素数，如果它没有正除数（除了1和它自身）。对于整数7，它的正除数只有1和7本身，因此7满足素数的定义。\\n\\n答案是：A',\n",
       "    'Qwen2-7B-Instruct-lora': 'A'},\n",
       "   {'question': '选择题 2：\\n整数2是否是一个素数？', 'options': ['是', '否']},\n",
       "   {'question': '选择题 3：\\n整数6是否能被整数3平方后且小于或等于这个数地整除？', 'options': ['是', '否']},\n",
       "   {'question': '选择题 4：\\n整数4是否能被整数3平方后且小于或等于这个数地整除？', 'options': ['是', '否']}],\n",
       "  'id': 'round1_test_data_003'}]"
      ]
     },
     "execution_count": 14,
     "metadata": {},
     "output_type": "execute_result"
    }
   ],
   "source": [
    "return_list"
   ]
  },
  {
   "cell_type": "code",
   "execution_count": 16,
   "metadata": {
    "execution": {
     "iopub.execute_input": "2024-08-20T10:14:27.394349Z",
     "iopub.status.busy": "2024-08-20T10:14:27.394003Z",
     "iopub.status.idle": "2024-08-20T10:14:27.398913Z",
     "shell.execute_reply": "2024-08-20T10:14:27.398448Z",
     "shell.execute_reply.started": "2024-08-20T10:14:27.394329Z"
    },
    "tags": []
   },
   "outputs": [],
   "source": [
    "def has_complete_answer(questions):\n",
    "    # 这里假设完整答案的判断逻辑是：每个question都有一个'answer'键\n",
    "    for question in questions:\n",
    "        if MODEL_NAME not in question:\n",
    "            return False\n",
    "    return True\n",
    "\n",
    "def filter_problems(data):\n",
    "    result = []\n",
    "    problem_set = set()\n",
    "\n",
    "    for item in data:\n",
    "        # print('处理的item' ,item)\n",
    "        problem = item['problem']\n",
    "        if problem in problem_set:\n",
    "            # 找到已存在的字典\n",
    "            for existing_item in result:\n",
    "                if existing_item['problem'] == problem:\n",
    "                    # 如果当前字典有完整答案，替换已存在的字典\n",
    "                    if has_complete_answer(item['questions']):\n",
    "                        existing_item['questions'] = item['questions']\n",
    "                        existing_item['id'] = item['id']\n",
    "                    break\n",
    "        else:\n",
    "            # 如果当前字典有完整答案，添加到结果列表\n",
    "            if has_complete_answer(item['questions']):\n",
    "                result.append(item)\n",
    "                problem_set.add(problem)\n",
    "\n",
    "    return result"
   ]
  },
  {
   "cell_type": "code",
   "execution_count": 34,
   "metadata": {
    "execution": {
     "iopub.execute_input": "2024-08-20T09:52:39.706462Z",
     "iopub.status.busy": "2024-08-20T09:52:39.706144Z",
     "iopub.status.idle": "2024-08-20T09:52:39.710552Z",
     "shell.execute_reply": "2024-08-20T09:52:39.710088Z",
     "shell.execute_reply.started": "2024-08-20T09:52:39.706442Z"
    },
    "tags": []
   },
   "outputs": [
    {
     "data": {
      "text/plain": [
       "[]"
      ]
     },
     "execution_count": 34,
     "metadata": {},
     "output_type": "execute_result"
    }
   ],
   "source": [
    "return_list"
   ]
  },
  {
   "cell_type": "code",
   "execution_count": 17,
   "metadata": {
    "execution": {
     "iopub.execute_input": "2024-08-20T10:14:30.024003Z",
     "iopub.status.busy": "2024-08-20T10:14:30.023683Z",
     "iopub.status.idle": "2024-08-20T10:14:30.027535Z",
     "shell.execute_reply": "2024-08-20T10:14:30.027047Z",
     "shell.execute_reply.started": "2024-08-20T10:14:30.023982Z"
    },
    "scrolled": true,
    "tags": []
   },
   "outputs": [
    {
     "name": "stdout",
     "output_type": "stream",
     "text": [
      "[{'problem': '有一个列表，找出该列表的最后一个元素。\\n\\n下列选项中哪个是列表 `[a, b, c, d]` 的最后一个元素？', 'questions': [{'question': '选择题 1：', 'options': ['a', 'b', 'c', 'd'], 'qwen_respond': '答案是：D', 'Qwen2-7B-Instruct-lora': 'D'}], 'id': 'round1_test_data_002'}, {'problem': '在一个社交场景中，有几个人互相间存在不同的情感关系。已知的关系如下：\\n\\n1. Scarlet, White, Peacock 和 Orchid 是女性。\\n2. Plum, Mustard 和 Green 是男性。\\n3. Scarlet 讨厌 Green。\\n4. Green 讨厌 White 和 Scarlet。\\n5. White 讨厌 Green 和 Plum。\\n6. Plum 讨厌 White。\\n7. Mustard 讨厌所有其他人。\\n8. Scarlet 喜欢 Orchid、White 和 Plum。\\n9. Peacock 喜欢 Orchid。\\n10. Orchid 喜欢 Peacock。\\n11. Plum 喜欢所有人，包括自己。\\n12. 如果两个人互相讨厌，他们是敌人。\\n13. 如果两个人互相喜欢，他们是朋友。\\n14. 如果某人的两个敌人是敌人，那么这两个敌人也是朋友。\\n\\n根据以上描述，回答以下选择题：', 'questions': [{'question': '选择题 1：\\nWhite 是朋友的名单包括哪些人？', 'options': ['Scarlet', 'Green', 'White', 'Mustard', 'Plum'], 'qwen_respond': '首先，我们根据已知信息来确定每个人的情感关系。\\n\\n- Scarlet, White, Peacock 和 Orchid 是女性。\\n- Plum, Mustard 和 Green 是男性。\\n- Scarlet 讨厌 Green。\\n- Green 讨厌 White 和 Scarlet。\\n- White 讨厌 Green 和 Plum。\\n- Plum �已经在第6条中被提及，没有其他信息，所以直接跳过。\\n- Mustard 讨厌所有其他人，这意味着他与所有人都是敌对关系。\\n- 因此，Mustard 不是 White 的朋友。\\n\\n接下来，我们分析 White 的情况：\\n\\n- White 讨厌 Green 和 Plum。\\n- 根据第12条规则，如果两个人互相讨厌，他们是敌人。因此，White 与 Green 和 Plum 是敌人。\\n- 根据第13条规则，如果两个人互相喜欢，他们是朋友。由于 White 喜欢 Orchid，而 Orchid 也喜欢 White，所以他们之间是朋友。\\n- 根据第14条规则，如果某人的两个敌人是敌人，那么这两个敌人也是朋友。这里 White 的两个敌人是 Green 和 Plum，但因为 Green 和 Plum 本身不是朋友（Green 和 Plum 相互讨厌），这条规则不适用。\\n\\n综上所述，White 的朋友名单中包括 Orchid。\\n\\n答案是：C. White', 'Qwen2-7B-Instruct-lora': 'C'}, {'question': '选择题 2：\\nOrchid 和 Scarlet 是否是朋友？', 'options': ['是', '否'], 'qwen_respond': '分析题目中的信息，我们知道：\\n- Scarlet 讨厌 Green。\\n- Green 讨厌 White 和 Scarlet。\\n- Scarlet 喜欢 Orchid、White 和 Plum。\\n- Orchid 喜欢 Peacock。\\n- Peacock 喜欢 Orchid。\\n\\n从这些信息中，我们可以推断出：\\n- 因为 Scarlet 喜欢 Orchid，而 Orchid 也喜欢 Peacock，所以 Scarlet 和 Orchid间没有直接的敌对关系。\\n- 但是，由于 Scarlet 讨厌 Green，而 Green 又讨厌 Scarlet，这说明 Scarlet 和 Green 是敌人。\\n- 同样地，因为 Scarlet 讨厌 White，而 White 也讨厌 Scarlet，这也表明 Scarlet 和 White 是敌人。\\n- 由于 Scarlet 和 Orchid 没有直接的敌对关系，且 Scarlet 的两个敌人（Green 和 White）与 Orchid 也没有直接的敌对关系，根据规则14，如果某人的两个敌人是敌人，那么这两个敌人也是朋友，因此可以推断出 Scarlet 和 Orchid 是朋友。\\n\\n答案是：A. 是', 'Qwen2-7B-Instruct-lora': 'A'}, {'question': '选择题 3：\\nMustard 和 Plum 是否是朋友？', 'options': ['是', '否'], 'qwen_respond': '根据题目中的信息，我们可以进行如下分析：\\n\\n- 根据第7条，Mustard 讨厌所有其他人，因此他与所有人都是敌对关系。\\n- 根据第11条，Plum 喜欢所有人，包括自己，这意味着 Plum 与所有人都是朋友关系。\\n\\n由于 Mustard 与所有人都是敌对关系，而 Plum 与所有人都是朋友关系，根据第14条规则，“如果某人的两个敌人是敌人，那么这两个敌人也是朋友”，我们可以推断出 Mustard 和 Plum 之间没有直接的敌对关系，因为他们各自的敌人（即所有人）并不构成敌对关系的条件。但是，这并不意味着他们必须成为朋友，因为题目中没有直接说明 Mustard 和 Plum 之间的具体情感关系。\\n\\n然而，在闭世界假设下，如果 Mustard 和 Plum 没有被明确指出为朋友或敌人，我们不能假设他们之间有任何特定的情感关系。因此，基于给定的信息，我们不能确定 Mustard 和 Plum 是否是朋友。\\n\\n答案是：B. 否', 'Qwen2-7B-Instruct-lora': 'B'}, {'question': '选择题 4：\\nPlum 和 Peacock 是否是朋友？', 'options': ['是', '否'], 'qwen_respond': '分析题目中的信息，我们可以得出以下几点：\\n\\n- Plum 喜欢所有人，包括自己。\\n- Peacock 喜欢 Orchid。\\n- Orchid 喜欢 Peacock。\\n\\n由于 Plum 喜欢所有人，包括 Peacock，而 Peacock 也喜欢 Orchid，且 Orchid 又喜欢 Peacock，这说明 Plum 和 Peacock 之间没有直接的敌对关系。同时，也没有任何信息表明他们之间存在敌对关系。因此，根据题目中的规则，如果两个人互相喜欢，他们是朋友，所以 Plum 和 Peacock 是朋友。\\n\\n答案是：A', 'Qwen2-7B-Instruct-lora': 'A'}], 'id': 'round1_test_data_006'}, {'problem': \"某个程序可以将一个列表中的字母按特定规则进行替换，规则如下：\\n\\n1. 将字母 'a' 替换成 'b'。\\n2. 将字母 'b' 替换成 'c'。\\n3. 将字母 'c' 替换成 'a'。\\n4. 其他字母保持不变。\\n\\n根据上述规则，回答以下选择题：\", 'questions': [{'question': '选择题 1：\\n对于输入 `[a, c, b, a, b, c, e]`，输出是什么？', 'options': ['[b, a, c, b, c, a, e]', '[b, b, c, c, a, a, e]', '[c, a, b, c, b, a, e]', '[a, c, b, a, b, c, e]'], 'qwen_respond': \"我们按照给定的规则对输入列表进行逐个元素的替换：\\n\\n- 输入的第一个元素是 'a'，根据规则1，将其替换为'b'。\\n- 第二个元素是 'c'，根据规则3，将其替换为'a'。\\n- 第三个元素是 'b'，根据规则2，将其替换为'c'。\\n- 第四个元素是 'a'，根据规则1，将其替换为'b'。\\n- 第五个元素是 'b'，根据规则2，将其替换为'c'。\\n- 第六个元素是 'c'，根据规则3，将其替换为'a'。\\n- 最后一个元素是 'e'，根据规则4，保持不变。\\n\\n因此，经过替换后的列表为 [b, a, c, b, c, a, e]。\\n\\n答案是：A\", 'Qwen2-7B-Instruct-lora': 'A'}], 'id': 'round1_test_data_007'}, {'problem': '在一个火车网络中，存在以下直达火车连接：\\n\\n1. 从萨尔布吕肯到杜德维勒\\n2. 从福尔巴到萨尔布吕肯\\n3. 从弗雷明到福尔巴\\n4. 从圣阿沃尔德到弗雷明\\n5. 从法尔克蒙到圣阿沃尔德\\n6. 从梅斯到法尔克蒙\\n7. 从南锡到梅斯\\n\\n乘客可以直接乘坐火车或通过转乘到达目的地。基于上述信息，请回答以下问题：', 'questions': [{'question': '选择题 1：\\n可以直接或间接从梅斯到弗雷明吗？', 'options': ['是', '否'], 'qwen_respond': '分析：根据题目中的火车连接信息，我们可以看到从梅斯到法尔克蒙有直达火车（第6条），而从法尔克蒙到圣阿沃尔德也有直达火车（第5条）。接着，从圣阿沃尔德到弗雷明也有直达火车（第4条）。因此，乘客可以从梅斯出发，先到法尔克蒙，再转乘到圣阿沃尔德，最后到达弗雷明。\\n\\n答案是：A. 是', 'Qwen2-7B-Instruct-lora': 'A'}, {'question': '选择题 2：\\n可以直接或间接从弗雷明到杜德维勒吗？', 'options': ['是', '否'], 'qwen_respond': '分析：根据题目中的直达火车连接，我们可以看到没有直接从弗雷明到杜德维勒的火车。但是，可以通过中间站点进行转乘。具体路径如下：\\n\\n- 弗雷明 → 福尔巴 → 萨尔布吕肯 → 杜德维勒\\n\\n因此，虽然不是直接的，但可以通过转乘实现从弗雷明到杜德维勒。\\n\\n答案是：A', 'Qwen2-7B-Instruct-lora': 'A'}], 'id': 'round1_test_data_008'}, {'problem': '**背景信息：**\\n\\n家谱信息如下：\\n- 亚当是该隐、亚伯和塞特的父亲。\\n- 塞特是恩诺斯的父亲。\\n\\n另外，我们在此家谱中定义：\\n- 父亲的父亲称为祖父。\\n- 有相同父亲的两个人是兄弟。\\n- 祖父的儿子及其孙子之间的关系是伯、叔与侄的关系，其中伯、叔不是侄子的直接父亲。\\n\\n根据以上定义，回答下列选择题：', 'questions': [{'question': '选择题 1:\\n恩诺斯的叔伯是谁？', 'options': ['亚当，塞特', '亚伯，该隐', '该隐，塞特', '塞特，亚当'], 'qwen_respond': '根据题目中的信息，恩诺斯的父亲是塞特，而塞特是亚当的儿子。因此，恩诺斯的叔伯应该是亚当和塞特。\\n\\n答案是：A', 'Qwen2-7B-Instruct-lora': 'A'}, {'question': '选择题 2:\\n该隐是谁的叔伯？', 'options': ['亚当', '亚伯', '恩诺斯', '无'], 'qwen_respond': '根据题目中的信息，我们知道：\\n- 亚当是该隐、亚伯和塞特的父亲。\\n- 塞特是恩诺斯的父亲。\\n\\n因此，该隐是亚当的儿子，而塞特是亚当的孙子。由于塞特是恩诺斯的父亲，那么该隐作为亚当的儿子，就是恩诺斯的叔伯。\\n\\n答案是：C. 恩诺斯', 'Qwen2-7B-Instruct-lora': 'C'}, {'question': '选择题 3:\\n该隐是否是恩诺斯的叔伯？', 'options': ['是', '否'], 'qwen_respond': '分析：根据题目中的信息，亚当是该隐、亚伯和塞特的父亲，而塞特是恩诺斯的父亲。因此，该隐和恩诺斯没有共同的父亲，所以他们之间不是兄弟关系。同时，由于该隐和恩诺斯没有共同的祖父，他们之间也不是伯、叔与侄的关系。因此，该隐不是恩诺斯的叔伯。\\n\\n答案是：B. 否', 'Qwen2-7B-Instruct-lora': 'B'}, {'question': '选择题 4:\\n亚当是否是自己的叔伯？', 'options': ['是', '否'], 'qwen_respond': '分析：根据题目中的定义，“伯、叔与侄的关系”指的是祖父的儿子和他的孙子之间的关系，而“伯、叔不是侄子的直接父亲”。因此，亚当作为祖父的儿子，与自己没有形成伯、叔与侄的关系，而是父子关系。所以，亚当不可能是自己的叔伯。\\n\\n答案是：B. 否', 'Qwen2-7B-Instruct-lora': 'B'}], 'id': 'round1_test_data_009'}]\n"
     ]
    }
   ],
   "source": [
    "return_list\n",
    "return_list = filter_problems(return_list)\n",
    "sorted_data = sorted(return_list, key=lambda x: int(str(x['id'])[-3:]))\n",
    "print(sorted_data)"
   ]
  },
  {
   "cell_type": "code",
   "execution_count": 18,
   "metadata": {
    "execution": {
     "iopub.execute_input": "2024-08-20T10:14:46.350759Z",
     "iopub.status.busy": "2024-08-20T10:14:46.350425Z",
     "iopub.status.idle": "2024-08-20T10:14:46.354992Z",
     "shell.execute_reply": "2024-08-20T10:14:46.354555Z",
     "shell.execute_reply.started": "2024-08-20T10:14:46.350739Z"
    },
    "tags": []
   },
   "outputs": [
    {
     "data": {
      "text/plain": [
       "5"
      ]
     },
     "execution_count": 18,
     "metadata": {},
     "output_type": "execute_result"
    }
   ],
   "source": [
    "len(sorted_data)"
   ]
  },
  {
   "cell_type": "code",
   "execution_count": null,
   "metadata": {
    "ExecutionIndicator": {
     "show": true
    },
    "execution": {
     "iopub.status.busy": "2024-07-27T16:20:18.392699Z",
     "iopub.status.idle": "2024-07-27T16:20:18.393082Z",
     "shell.execute_reply": "2024-07-27T16:20:18.392922Z",
     "shell.execute_reply.started": "2024-07-27T16:20:18.392907Z"
    },
    "tags": []
   },
   "outputs": [
    {
     "name": "stdout",
     "output_type": "stream",
     "text": [
      "缺失的序号: []\n"
     ]
    }
   ],
   "source": [
    "def find_missing_ids(dict_list):\n",
    "    # 提取所有序号\n",
    "    extracted_ids = {int(d['id'][-3:]) for d in dict_list}\n",
    "    \n",
    "    # 创建0-500的序号集合\n",
    "    all_ids = set(range(10))\n",
    "    \n",
    "    # 找出缺失的序号\n",
    "    missing_ids = all_ids - extracted_ids\n",
    "    \n",
    "    return sorted(missing_ids)\n",
    "\n",
    "# 示例字典列表\n",
    "dict_list = sorted_data\n",
    "\n",
    "# 找出缺失的序号\n",
    "missing_ids = find_missing_ids(dict_list)\n",
    "print(\"缺失的序号:\", missing_ids)"
   ]
  },
  {
   "cell_type": "code",
   "execution_count": null,
   "metadata": {
    "execution": {
     "iopub.status.busy": "2024-07-27T16:20:18.393850Z",
     "iopub.status.idle": "2024-07-27T16:20:18.394076Z",
     "shell.execute_reply": "2024-07-27T16:20:18.393961Z",
     "shell.execute_reply.started": "2024-07-27T16:20:18.393951Z"
    },
    "tags": []
   },
   "outputs": [
    {
     "data": {
      "text/plain": [
       "0"
      ]
     },
     "execution_count": 19,
     "metadata": {},
     "output_type": "execute_result"
    }
   ],
   "source": [
    "len(missing_ids)"
   ]
  },
  {
   "cell_type": "code",
   "execution_count": null,
   "metadata": {
    "ExecutionIndicator": {
     "show": true
    },
    "execution": {
     "iopub.status.busy": "2024-07-27T16:20:18.394854Z",
     "iopub.status.idle": "2024-07-27T16:20:18.395234Z",
     "shell.execute_reply": "2024-07-27T16:20:18.395099Z",
     "shell.execute_reply.started": "2024-07-27T16:20:18.395085Z"
    },
    "tags": []
   },
   "outputs": [],
   "source": [
    "data  = []\n",
    "with open('round1_test_data.jsonl') as reader:\n",
    "    for id,line in enumerate(reader):\n",
    "        if(id in missing_ids):\n",
    "            sample = json.loads(line)\n",
    "            for question in sample['questions']:\n",
    "                question['answer'] = 'A'\n",
    "            sorted_data.append(sample)\n",
    "sorted_data = sorted(sorted_data, key=lambda x: int(str(x['id'])[-3:]))\n",
    "        "
   ]
  },
  {
   "cell_type": "code",
   "execution_count": null,
   "metadata": {
    "ExecutionIndicator": {
     "show": false
    },
    "execution": {
     "iopub.status.busy": "2024-07-27T16:20:18.396190Z",
     "iopub.status.idle": "2024-07-27T16:20:18.396696Z",
     "shell.execute_reply": "2024-07-27T16:20:18.396577Z",
     "shell.execute_reply.started": "2024-07-27T16:20:18.396565Z"
    },
    "tags": []
   },
   "outputs": [],
   "source": [
    "with open('upload_test.jsonl', 'w') as writer:\n",
    "    for sample in sorted_data:\n",
    "        writer.write(json.dumps(sample, ensure_ascii=False))\n",
    "        writer.write('\\n')"
   ]
  },
  {
   "cell_type": "code",
   "execution_count": null,
   "metadata": {
    "execution": {
     "iopub.status.busy": "2024-07-27T16:20:18.397514Z",
     "iopub.status.idle": "2024-07-27T16:20:18.397814Z",
     "shell.execute_reply": "2024-07-27T16:20:18.397697Z",
     "shell.execute_reply.started": "2024-07-27T16:20:18.397685Z"
    },
    "scrolled": true,
    "tags": []
   },
   "outputs": [
    {
     "name": "stdout",
     "output_type": "stream",
     "text": [
      "{'problem': '有一个英文到法文的词汇表，包含以下对应词汇：\\n\\n1. the -> le\\n2. cat -> chat\\n3. jumps -> sauts\\n4. over -> sur\\n5. moon -> lune\\n6. cow -> vache\\n7. plays -> jouer\\n8. fiddle -> violon\\n9. egg -> bougre\\n10. falls -> des chutes\\n11. off -> de\\n12. wall -> mur\\n\\n根据这个词汇表，翻译以下英文句子成法文：', 'questions': [{'question': '选择题 1：\\n英文句子 \"the cat jumps over the moon\" 翻译成法文是：', 'options': ['le chat saute sur la lune', 'le chat sauts sur le lune', 'le sauts chat sur le lune', 'le chat sauts sur le lune'], 'answer': 'D', 'Qwen2-7B-Instruct-lora': 'A'}, {'question': '选择题 2：\\n英文句子 \"the cow plays the fiddle\" 翻译成法文是：', 'options': ['le vache jouer le violon', 'le jouer vache le violon', 'le vache jouer la vièle', 'la vache joue le violon'], 'answer': 'A', 'Qwen2-7B-Instruct-lora': 'A'}, {'question': '选择题 3：\\n英文句子 \"the egg falls off the wall\" 翻译成法文是：', 'options': ['le bougre des chutes de le mur', 'le oeuf tombe de le mur', 'le bougre tomber de le mur', 'des chutes le bougre de le mur'], 'answer': 'A', 'Qwen2-7B-Instruct-lora': 'B'}], 'id': 'round1_train_data_000'}\n",
      "{'problem': '有一个英文到法文的词汇表，包含以下对应词汇：\\n\\n1. the -> le\\n2. cat -> chat\\n3. jumps -> sauts\\n4. over -> sur\\n5. moon -> lune\\n6. cow -> vache\\n7. plays -> jouer\\n8. fiddle -> violon\\n9. egg -> bougre\\n10. falls -> des chutes\\n11. off -> de\\n12. wall -> mur\\n\\n根据这个词汇表，翻译以下英文句子成法文：', 'questions': [{'question': '选择题 1：\\n英文句子 \"the cat jumps over the moon\" 翻译成法文是：', 'options': ['le chat saute sur la lune', 'le chat sauts sur le lune', 'le sauts chat sur le lune', 'le chat sauts sur le lune'], 'answer': 'D', 'Qwen2-7B-Instruct-lora': 'A'}, {'question': '选择题 2：\\n英文句子 \"the cow plays the fiddle\" 翻译成法文是：', 'options': ['le vache jouer le violon', 'le jouer vache le violon', 'le vache jouer la vièle', 'la vache joue le violon'], 'answer': 'A', 'Qwen2-7B-Instruct-lora': 'A'}, {'question': '选择题 3：\\n英文句子 \"the egg falls off the wall\" 翻译成法文是：', 'options': ['le bougre des chutes de le mur', 'le oeuf tombe de le mur', 'le bougre tomber de le mur', 'des chutes le bougre de le mur'], 'answer': 'A', 'Qwen2-7B-Instruct-lora': 'B'}], 'id': 'round1_train_data_000'}\n",
      "{'problem': '有一个英文到法文的词汇表，包含以下对应词汇：\\n\\n1. the -> le\\n2. cat -> chat\\n3. jumps -> sauts\\n4. over -> sur\\n5. moon -> lune\\n6. cow -> vache\\n7. plays -> jouer\\n8. fiddle -> violon\\n9. egg -> bougre\\n10. falls -> des chutes\\n11. off -> de\\n12. wall -> mur\\n\\n根据这个词汇表，翻译以下英文句子成法文：', 'questions': [{'question': '选择题 1：\\n英文句子 \"the cat jumps over the moon\" 翻译成法文是：', 'options': ['le chat saute sur la lune', 'le chat sauts sur le lune', 'le sauts chat sur le lune', 'le chat sauts sur le lune'], 'answer': 'D', 'Qwen2-7B-Instruct-lora': 'A'}, {'question': '选择题 2：\\n英文句子 \"the cow plays the fiddle\" 翻译成法文是：', 'options': ['le vache jouer le violon', 'le jouer vache le violon', 'le vache jouer la vièle', 'la vache joue le violon'], 'answer': 'A', 'Qwen2-7B-Instruct-lora': 'A'}, {'question': '选择题 3：\\n英文句子 \"the egg falls off the wall\" 翻译成法文是：', 'options': ['le bougre des chutes de le mur', 'le oeuf tombe de le mur', 'le bougre tomber de le mur', 'des chutes le bougre de le mur'], 'answer': 'A', 'Qwen2-7B-Instruct-lora': 'B'}], 'id': 'round1_train_data_000'}\n",
      "{'problem': '有一个方程的系数分别为A, B和C，下面是一些已知的规则：\\n\\n1. 如果B^2 - 4AC = 0，则方程有一个实数解。\\n2. 如果B^2 - 4AC > 0，则方程有两个不同的实数解。\\n3. 如果B^2 - 4AC < 0，则方程有两个不同的复数解。\\n\\n根据以上规则，回答以下选择题：', 'questions': [{'question': '选择题 1：\\n当系数A=7, B=9, C=5时，方程的解是什么？', 'options': ['-1.2857142857142858', '0', \"'+(-0.6428571428571429, *(0.5486532677049005, i))' 和 '-(-0.6428571428571429, *(0.5486532677049005, i))'\", '2.2857142857142856'], 'answer': 'C', 'Qwen2-7B-Instruct-lora': 'C'}, {'question': '选择题 2：\\n当系数A=7, B=9, C=5时，方程是否有解为6？', 'options': ['是', '否'], 'answer': 'B', 'Qwen2-7B-Instruct-lora': 'B'}, {'question': '选择题 3：\\n当系数A=7, B=9, C=5时，方程是否有解为8？', 'options': ['是', '否'], 'answer': 'B', 'Qwen2-7B-Instruct-lora': 'B'}, {'question': '选择题 4：\\n当系数A=7, B=6, C=0时，方程是否有解为6？', 'options': ['是', '否'], 'answer': 'B', 'Qwen2-7B-Instruct-lora': 'B'}], 'id': 'round1_train_data_001'}\n",
      "{'problem': '有一个方程的系数分别为A, B和C，下面是一些已知的规则：\\n\\n1. 如果B^2 - 4AC = 0，则方程有一个实数解。\\n2. 如果B^2 - 4AC > 0，则方程有两个不同的实数解。\\n3. 如果B^2 - 4AC < 0，则方程有两个不同的复数解。\\n\\n根据以上规则，回答以下选择题：', 'questions': [{'question': '选择题 1：\\n当系数A=7, B=9, C=5时，方程的解是什么？', 'options': ['-1.2857142857142858', '0', \"'+(-0.6428571428571429, *(0.5486532677049005, i))' 和 '-(-0.6428571428571429, *(0.5486532677049005, i))'\", '2.2857142857142856'], 'answer': 'C', 'Qwen2-7B-Instruct-lora': 'C'}, {'question': '选择题 2：\\n当系数A=7, B=9, C=5时，方程是否有解为6？', 'options': ['是', '否'], 'answer': 'B', 'Qwen2-7B-Instruct-lora': 'B'}, {'question': '选择题 3：\\n当系数A=7, B=9, C=5时，方程是否有解为8？', 'options': ['是', '否'], 'answer': 'B', 'Qwen2-7B-Instruct-lora': 'B'}, {'question': '选择题 4：\\n当系数A=7, B=6, C=0时，方程是否有解为6？', 'options': ['是', '否'], 'answer': 'B', 'Qwen2-7B-Instruct-lora': 'B'}], 'id': 'round1_train_data_001'}\n",
      "{'problem': '有一个方程的系数分别为A, B和C，下面是一些已知的规则：\\n\\n1. 如果B^2 - 4AC = 0，则方程有一个实数解。\\n2. 如果B^2 - 4AC > 0，则方程有两个不同的实数解。\\n3. 如果B^2 - 4AC < 0，则方程有两个不同的复数解。\\n\\n根据以上规则，回答以下选择题：', 'questions': [{'question': '选择题 1：\\n当系数A=7, B=9, C=5时，方程的解是什么？', 'options': ['-1.2857142857142858', '0', \"'+(-0.6428571428571429, *(0.5486532677049005, i))' 和 '-(-0.6428571428571429, *(0.5486532677049005, i))'\", '2.2857142857142856'], 'answer': 'C', 'Qwen2-7B-Instruct-lora': 'C'}, {'question': '选择题 2：\\n当系数A=7, B=9, C=5时，方程是否有解为6？', 'options': ['是', '否'], 'answer': 'B', 'Qwen2-7B-Instruct-lora': 'B'}, {'question': '选择题 3：\\n当系数A=7, B=9, C=5时，方程是否有解为8？', 'options': ['是', '否'], 'answer': 'B', 'Qwen2-7B-Instruct-lora': 'B'}, {'question': '选择题 4：\\n当系数A=7, B=6, C=0时，方程是否有解为6？', 'options': ['是', '否'], 'answer': 'B', 'Qwen2-7B-Instruct-lora': 'B'}], 'id': 'round1_train_data_001'}\n",
      "{'problem': '有一个方程的系数分别为A, B和C，下面是一些已知的规则：\\n\\n1. 如果B^2 - 4AC = 0，则方程有一个实数解。\\n2. 如果B^2 - 4AC > 0，则方程有两个不同的实数解。\\n3. 如果B^2 - 4AC < 0，则方程有两个不同的复数解。\\n\\n根据以上规则，回答以下选择题：', 'questions': [{'question': '选择题 1：\\n当系数A=7, B=9, C=5时，方程的解是什么？', 'options': ['-1.2857142857142858', '0', \"'+(-0.6428571428571429, *(0.5486532677049005, i))' 和 '-(-0.6428571428571429, *(0.5486532677049005, i))'\", '2.2857142857142856'], 'answer': 'C', 'Qwen2-7B-Instruct-lora': 'C'}, {'question': '选择题 2：\\n当系数A=7, B=9, C=5时，方程是否有解为6？', 'options': ['是', '否'], 'answer': 'B', 'Qwen2-7B-Instruct-lora': 'B'}, {'question': '选择题 3：\\n当系数A=7, B=9, C=5时，方程是否有解为8？', 'options': ['是', '否'], 'answer': 'B', 'Qwen2-7B-Instruct-lora': 'B'}, {'question': '选择题 4：\\n当系数A=7, B=6, C=0时，方程是否有解为6？', 'options': ['是', '否'], 'answer': 'B', 'Qwen2-7B-Instruct-lora': 'B'}], 'id': 'round1_train_data_001'}\n",
      "{'problem': '在一场山地自行车比赛中，四位选手分别取得了第一、第二、第三和第四名。不同的颜色代表不同的排名。下面是一些关于这场比赛和选手排名的信息：\\n\\n1. Alan 名列第一。\\n2. 第二名的选手穿红色服装。\\n3. John 没有穿黄色服装。\\n4. 第四名的选手穿蓝色服装。\\n5. Steve 的排名和他的服装色是相同的名次。\\n6. Kev 的名次排在 Steve 前面。\\n7. 第二名的选手穿的不是青色。\\n8. 黄色服穿的选手的成绩排在绿色服穿的选手前面。\\n9. 确保每四个参数中的所有元素都不相同和符合排名顺序。\\n\\n根据上述信息， 回答以下选择题：', 'questions': [{'question': '选择题 1:\\n根据比赛结果，排在第二名之后的可能是哪些名次？', 'options': ['第一名 第三名', '第三名 第四名'], 'answer': 'B', 'Qwen2-7B-Instruct-lora': 'B'}, {'question': '选择题 2:\\n第一名是不是在第三名之前？', 'options': ['是', '否'], 'answer': 'A', 'Qwen2-7B-Instruct-lora': 'B'}, {'question': '选择题 3:\\n第一名是不是在第一名之前？', 'options': ['是', '否'], 'answer': 'B', 'Qwen2-7B-Instruct-lora': 'B'}, {'question': '选择题 4:\\n第一名是不是在第四名之前？', 'options': ['是', '否'], 'answer': 'A', 'Qwen2-7B-Instruct-lora': 'B'}], 'id': 'round1_train_data_002'}\n",
      "{'problem': '在一场山地自行车比赛中，四位选手分别取得了第一、第二、第三和第四名。不同的颜色代表不同的排名。下面是一些关于这场比赛和选手排名的信息：\\n\\n1. Alan 名列第一。\\n2. 第二名的选手穿红色服装。\\n3. John 没有穿黄色服装。\\n4. 第四名的选手穿蓝色服装。\\n5. Steve 的排名和他的服装色是相同的名次。\\n6. Kev 的名次排在 Steve 前面。\\n7. 第二名的选手穿的不是青色。\\n8. 黄色服穿的选手的成绩排在绿色服穿的选手前面。\\n9. 确保每四个参数中的所有元素都不相同和符合排名顺序。\\n\\n根据上述信息， 回答以下选择题：', 'questions': [{'question': '选择题 1:\\n根据比赛结果，排在第二名之后的可能是哪些名次？', 'options': ['第一名 第三名', '第三名 第四名'], 'answer': 'B', 'Qwen2-7B-Instruct-lora': 'B'}, {'question': '选择题 2:\\n第一名是不是在第三名之前？', 'options': ['是', '否'], 'answer': 'A', 'Qwen2-7B-Instruct-lora': 'B'}, {'question': '选择题 3:\\n第一名是不是在第一名之前？', 'options': ['是', '否'], 'answer': 'B', 'Qwen2-7B-Instruct-lora': 'B'}, {'question': '选择题 4:\\n第一名是不是在第四名之前？', 'options': ['是', '否'], 'answer': 'A', 'Qwen2-7B-Instruct-lora': 'B'}], 'id': 'round1_train_data_002'}\n",
      "{'problem': '在一场山地自行车比赛中，四位选手分别取得了第一、第二、第三和第四名。不同的颜色代表不同的排名。下面是一些关于这场比赛和选手排名的信息：\\n\\n1. Alan 名列第一。\\n2. 第二名的选手穿红色服装。\\n3. John 没有穿黄色服装。\\n4. 第四名的选手穿蓝色服装。\\n5. Steve 的排名和他的服装色是相同的名次。\\n6. Kev 的名次排在 Steve 前面。\\n7. 第二名的选手穿的不是青色。\\n8. 黄色服穿的选手的成绩排在绿色服穿的选手前面。\\n9. 确保每四个参数中的所有元素都不相同和符合排名顺序。\\n\\n根据上述信息， 回答以下选择题：', 'questions': [{'question': '选择题 1:\\n根据比赛结果，排在第二名之后的可能是哪些名次？', 'options': ['第一名 第三名', '第三名 第四名'], 'answer': 'B', 'Qwen2-7B-Instruct-lora': 'B'}, {'question': '选择题 2:\\n第一名是不是在第三名之前？', 'options': ['是', '否'], 'answer': 'A', 'Qwen2-7B-Instruct-lora': 'B'}, {'question': '选择题 3:\\n第一名是不是在第一名之前？', 'options': ['是', '否'], 'answer': 'B', 'Qwen2-7B-Instruct-lora': 'B'}, {'question': '选择题 4:\\n第一名是不是在第四名之前？', 'options': ['是', '否'], 'answer': 'A', 'Qwen2-7B-Instruct-lora': 'B'}], 'id': 'round1_train_data_002'}\n",
      "{'problem': '在一场山地自行车比赛中，四位选手分别取得了第一、第二、第三和第四名。不同的颜色代表不同的排名。下面是一些关于这场比赛和选手排名的信息：\\n\\n1. Alan 名列第一。\\n2. 第二名的选手穿红色服装。\\n3. John 没有穿黄色服装。\\n4. 第四名的选手穿蓝色服装。\\n5. Steve 的排名和他的服装色是相同的名次。\\n6. Kev 的名次排在 Steve 前面。\\n7. 第二名的选手穿的不是青色。\\n8. 黄色服穿的选手的成绩排在绿色服穿的选手前面。\\n9. 确保每四个参数中的所有元素都不相同和符合排名顺序。\\n\\n根据上述信息， 回答以下选择题：', 'questions': [{'question': '选择题 1:\\n根据比赛结果，排在第二名之后的可能是哪些名次？', 'options': ['第一名 第三名', '第三名 第四名'], 'answer': 'B', 'Qwen2-7B-Instruct-lora': 'B'}, {'question': '选择题 2:\\n第一名是不是在第三名之前？', 'options': ['是', '否'], 'answer': 'A', 'Qwen2-7B-Instruct-lora': 'B'}, {'question': '选择题 3:\\n第一名是不是在第一名之前？', 'options': ['是', '否'], 'answer': 'B', 'Qwen2-7B-Instruct-lora': 'B'}, {'question': '选择题 4:\\n第一名是不是在第四名之前？', 'options': ['是', '否'], 'answer': 'A', 'Qwen2-7B-Instruct-lora': 'B'}], 'id': 'round1_train_data_002'}\n",
      "{'problem': '有一组程序可以用来计算两个数的最小公倍数（LCM）。该程序使用了最大公约数（GCD）来帮助计算。具体过程如下：\\n\\n1. 如果两个数相等，则它们的GCD就是其中任意一个数。\\n2. 如果第一个数小于第二个数，则用第二个数减去第一个数，并对新结果递归地计算GCD。\\n3. 如果第一个数大于第二个数，则交换两个数并递归地计算GCD。\\n\\n基于此GCD的计算，我们可以通过以下公式计算两个数的LCM：\\n\\\\[ \\\\text{LCM}(x, y) = \\\\frac{x}{\\\\text{GCD}(x, y)} \\\\times y \\\\]\\n\\n根据上述原理，请回答以下选择题：', 'questions': [{'question': '选择题 1：\\n已知一个数和9的最小公倍数是9，这个数是多少？', 'options': ['1', '3', '6', '9'], 'answer': 'D', 'Qwen2-7B-Instruct-lora': 'D'}, {'question': '选择题 2：\\n7和2的最小公倍数是8，这个说法正确吗？', 'options': ['正确', '错误', '取决于7和2的最大公约数', '以上都不对'], 'answer': 'B', 'Qwen2-7B-Instruct-lora': 'B'}, {'question': '选择题 3：\\n3和9的最小公倍数是3，这个说法正确吗？', 'options': ['正确', '错误', '取决于3和9的最大公约数', '以上都不对'], 'answer': 'B', 'Qwen2-7B-Instruct-lora': 'B'}, {'question': '选择题 4：\\n3和4的最小公倍数是3，这个说法正确吗？', 'options': ['正确', '错误', '取决于3和4的最大公约数', '以上都不对'], 'answer': 'B', 'Qwen2-7B-Instruct-lora': 'B'}], 'id': 'round1_train_data_003'}\n",
      "{'problem': '有一组程序可以用来计算两个数的最小公倍数（LCM）。该程序使用了最大公约数（GCD）来帮助计算。具体过程如下：\\n\\n1. 如果两个数相等，则它们的GCD就是其中任意一个数。\\n2. 如果第一个数小于第二个数，则用第二个数减去第一个数，并对新结果递归地计算GCD。\\n3. 如果第一个数大于第二个数，则交换两个数并递归地计算GCD。\\n\\n基于此GCD的计算，我们可以通过以下公式计算两个数的LCM：\\n\\\\[ \\\\text{LCM}(x, y) = \\\\frac{x}{\\\\text{GCD}(x, y)} \\\\times y \\\\]\\n\\n根据上述原理，请回答以下选择题：', 'questions': [{'question': '选择题 1：\\n已知一个数和9的最小公倍数是9，这个数是多少？', 'options': ['1', '3', '6', '9'], 'answer': 'D', 'Qwen2-7B-Instruct-lora': 'D'}, {'question': '选择题 2：\\n7和2的最小公倍数是8，这个说法正确吗？', 'options': ['正确', '错误', '取决于7和2的最大公约数', '以上都不对'], 'answer': 'B', 'Qwen2-7B-Instruct-lora': 'B'}, {'question': '选择题 3：\\n3和9的最小公倍数是3，这个说法正确吗？', 'options': ['正确', '错误', '取决于3和9的最大公约数', '以上都不对'], 'answer': 'B', 'Qwen2-7B-Instruct-lora': 'B'}, {'question': '选择题 4：\\n3和4的最小公倍数是3，这个说法正确吗？', 'options': ['正确', '错误', '取决于3和4的最大公约数', '以上都不对'], 'answer': 'B', 'Qwen2-7B-Instruct-lora': 'B'}], 'id': 'round1_train_data_003'}\n",
      "{'problem': '有一组程序可以用来计算两个数的最小公倍数（LCM）。该程序使用了最大公约数（GCD）来帮助计算。具体过程如下：\\n\\n1. 如果两个数相等，则它们的GCD就是其中任意一个数。\\n2. 如果第一个数小于第二个数，则用第二个数减去第一个数，并对新结果递归地计算GCD。\\n3. 如果第一个数大于第二个数，则交换两个数并递归地计算GCD。\\n\\n基于此GCD的计算，我们可以通过以下公式计算两个数的LCM：\\n\\\\[ \\\\text{LCM}(x, y) = \\\\frac{x}{\\\\text{GCD}(x, y)} \\\\times y \\\\]\\n\\n根据上述原理，请回答以下选择题：', 'questions': [{'question': '选择题 1：\\n已知一个数和9的最小公倍数是9，这个数是多少？', 'options': ['1', '3', '6', '9'], 'answer': 'D', 'Qwen2-7B-Instruct-lora': 'D'}, {'question': '选择题 2：\\n7和2的最小公倍数是8，这个说法正确吗？', 'options': ['正确', '错误', '取决于7和2的最大公约数', '以上都不对'], 'answer': 'B', 'Qwen2-7B-Instruct-lora': 'B'}, {'question': '选择题 3：\\n3和9的最小公倍数是3，这个说法正确吗？', 'options': ['正确', '错误', '取决于3和9的最大公约数', '以上都不对'], 'answer': 'B', 'Qwen2-7B-Instruct-lora': 'B'}, {'question': '选择题 4：\\n3和4的最小公倍数是3，这个说法正确吗？', 'options': ['正确', '错误', '取决于3和4的最大公约数', '以上都不对'], 'answer': 'B', 'Qwen2-7B-Instruct-lora': 'B'}], 'id': 'round1_train_data_003'}\n",
      "{'problem': '有一组程序可以用来计算两个数的最小公倍数（LCM）。该程序使用了最大公约数（GCD）来帮助计算。具体过程如下：\\n\\n1. 如果两个数相等，则它们的GCD就是其中任意一个数。\\n2. 如果第一个数小于第二个数，则用第二个数减去第一个数，并对新结果递归地计算GCD。\\n3. 如果第一个数大于第二个数，则交换两个数并递归地计算GCD。\\n\\n基于此GCD的计算，我们可以通过以下公式计算两个数的LCM：\\n\\\\[ \\\\text{LCM}(x, y) = \\\\frac{x}{\\\\text{GCD}(x, y)} \\\\times y \\\\]\\n\\n根据上述原理，请回答以下选择题：', 'questions': [{'question': '选择题 1：\\n已知一个数和9的最小公倍数是9，这个数是多少？', 'options': ['1', '3', '6', '9'], 'answer': 'D', 'Qwen2-7B-Instruct-lora': 'D'}, {'question': '选择题 2：\\n7和2的最小公倍数是8，这个说法正确吗？', 'options': ['正确', '错误', '取决于7和2的最大公约数', '以上都不对'], 'answer': 'B', 'Qwen2-7B-Instruct-lora': 'B'}, {'question': '选择题 3：\\n3和9的最小公倍数是3，这个说法正确吗？', 'options': ['正确', '错误', '取决于3和9的最大公约数', '以上都不对'], 'answer': 'B', 'Qwen2-7B-Instruct-lora': 'B'}, {'question': '选择题 4：\\n3和4的最小公倍数是3，这个说法正确吗？', 'options': ['正确', '错误', '取决于3和4的最大公约数', '以上都不对'], 'answer': 'B', 'Qwen2-7B-Instruct-lora': 'B'}], 'id': 'round1_train_data_003'}\n",
      "{'problem': '在安大略省，我们有关于不同城市及它们之间位置关系的信息。我们知道各个城市的人口以及哪些城市在给定的城市西边。以下是我们已知的信息：\\n\\n- 布兰普顿的人口是590000。\\n- 汉密尔顿的人口是540000。\\n- 金斯顿的人口是130000。\\n- 基奇纳的人口是230000。\\n- 伦敦的人口是380000。\\n- 马克翰的人口是330000。\\n- 密西沙加的人口是720000。\\n- 渥太华的人口是930000。\\n- 多伦多的人口是2700000。\\n- 旺市的人口是310000。\\n- 温莎的人口是220000。\\n\\n并且我们知道以下城市在彼此的西边：\\n\\n- 温莎在伦敦的西边。\\n- 伦敦在汉密尔顿的西边。\\n- 汉密尔顿在密西沙加的西边。\\n- 密西沙加在多伦多的西边。\\n- 多伦多在金斯顿的西边。\\n- 金斯顿在渥太华的西边。\\n- 旺市在马克翰的西边。\\n\\n还有些城市位于其他城市的北边：\\n\\n- 布兰普顿在密西沙加的北边。\\n- 基奇纳在伦敦的北边。\\n- 旺市在多伦多的北边。\\n\\n根据以上信息，回答以下选择题：', 'questions': [{'question': '选择题 1：\\n位于布兰普顿以西的城市是哪一个？', 'options': ['多伦多', '金斯顿', '渥太华', '汉密尔顿'], 'answer': 'D', 'Qwen2-7B-Instruct-lora': 'D'}], 'id': 'round1_train_data_004'}\n",
      "{'problem': '有一所大学，部分学生和教授的信息如下：\\n\\n1. Holvoet教授授课课程有：BVP和SWOP。\\n2. Moens教授授课课程：BVP。\\n3. Demoen教授授课课程有：FI和AI。\\n4. Dedecker教授授课课程：SOCS。\\n5. Jacobs教授授课课程：SWOP。\\n6. Deschreye教授授课课程：AI。\\n\\n以下学生参加的课程情况：\\n\\n1. Joachim同学参加的课程有：BVP、FI和AI。\\n2. Matthias同学参加的课程有：BVP和AI。\\n3. Thomas同学参加的课程有：SOCS和SWOP。\\n4. Ingmar同学参加的课程有：SWOP。\\n\\n请根据信息回答以下选择题：', 'questions': [{'question': '选择题 1：\\n哪些教授教授了多个课程？', 'options': ['Demoen和Deschreye', 'Holvoet和Demoen', 'Moens和Holvoet', 'Dedecker和Jacobs'], 'answer': 'B', 'Qwen2-7B-Instruct-lora': 'B'}], 'id': 'round1_train_data_005'}\n",
      "{'problem': '在数学中，一个“完全数”是指它的所有正除数（不包括它本身）之和等于它本身的数。例如，28是一个完全数，因为它的正除数1、2、4、7和14相加的和刚好是28。以下是与完全数相关的一些情况：\\n\\n- 我们以2开始，向上计算到给定的数N，寻找所有可能的完全数。\\n- 我们把一个数X视为可能的完全数，并检查从2开始到比X的平方根大的连续整数，计算其正除数的和（包括1）是否等于X本身。\\n\\n根据这些情况，回答以下选择题：', 'questions': [{'question': '选择题 1：\\n数0是完全数吗？', 'options': ['是', '否'], 'answer': 'B', 'Qwen2-7B-Instruct-lora': 'B'}, {'question': '选择题 2：\\n数7是完全数吗？', 'options': ['是', '否'], 'answer': 'B', 'Qwen2-7B-Instruct-lora': 'B'}, {'question': '选择题 3：\\n数3是完全数吗？', 'options': ['是', '否'], 'answer': 'B', 'Qwen2-7B-Instruct-lora': 'B'}, {'question': '选择题 4：\\n在计算正除数和时，数6（已包含1）加上之后的连续整数直到满足条件的数，累加的总和是9。这种计算情况是否正确？', 'options': ['正确', '错误'], 'answer': 'B', 'Qwen2-7B-Instruct-lora': 'A'}], 'id': 'round1_train_data_006'}\n",
      "{'problem': '在数学中，一个“完全数”是指它的所有正除数（不包括它本身）之和等于它本身的数。例如，28是一个完全数，因为它的正除数1、2、4、7和14相加的和刚好是28。以下是与完全数相关的一些情况：\\n\\n- 我们以2开始，向上计算到给定的数N，寻找所有可能的完全数。\\n- 我们把一个数X视为可能的完全数，并检查从2开始到比X的平方根大的连续整数，计算其正除数的和（包括1）是否等于X本身。\\n\\n根据这些情况，回答以下选择题：', 'questions': [{'question': '选择题 1：\\n数0是完全数吗？', 'options': ['是', '否'], 'answer': 'B', 'Qwen2-7B-Instruct-lora': 'B'}, {'question': '选择题 2：\\n数7是完全数吗？', 'options': ['是', '否'], 'answer': 'B', 'Qwen2-7B-Instruct-lora': 'B'}, {'question': '选择题 3：\\n数3是完全数吗？', 'options': ['是', '否'], 'answer': 'B', 'Qwen2-7B-Instruct-lora': 'B'}, {'question': '选择题 4：\\n在计算正除数和时，数6（已包含1）加上之后的连续整数直到满足条件的数，累加的总和是9。这种计算情况是否正确？', 'options': ['正确', '错误'], 'answer': 'B', 'Qwen2-7B-Instruct-lora': 'A'}], 'id': 'round1_train_data_006'}\n",
      "{'problem': '在数学中，一个“完全数”是指它的所有正除数（不包括它本身）之和等于它本身的数。例如，28是一个完全数，因为它的正除数1、2、4、7和14相加的和刚好是28。以下是与完全数相关的一些情况：\\n\\n- 我们以2开始，向上计算到给定的数N，寻找所有可能的完全数。\\n- 我们把一个数X视为可能的完全数，并检查从2开始到比X的平方根大的连续整数，计算其正除数的和（包括1）是否等于X本身。\\n\\n根据这些情况，回答以下选择题：', 'questions': [{'question': '选择题 1：\\n数0是完全数吗？', 'options': ['是', '否'], 'answer': 'B', 'Qwen2-7B-Instruct-lora': 'B'}, {'question': '选择题 2：\\n数7是完全数吗？', 'options': ['是', '否'], 'answer': 'B', 'Qwen2-7B-Instruct-lora': 'B'}, {'question': '选择题 3：\\n数3是完全数吗？', 'options': ['是', '否'], 'answer': 'B', 'Qwen2-7B-Instruct-lora': 'B'}, {'question': '选择题 4：\\n在计算正除数和时，数6（已包含1）加上之后的连续整数直到满足条件的数，累加的总和是9。这种计算情况是否正确？', 'options': ['正确', '错误'], 'answer': 'B', 'Qwen2-7B-Instruct-lora': 'A'}], 'id': 'round1_train_data_006'}\n",
      "{'problem': '在数学中，一个“完全数”是指它的所有正除数（不包括它本身）之和等于它本身的数。例如，28是一个完全数，因为它的正除数1、2、4、7和14相加的和刚好是28。以下是与完全数相关的一些情况：\\n\\n- 我们以2开始，向上计算到给定的数N，寻找所有可能的完全数。\\n- 我们把一个数X视为可能的完全数，并检查从2开始到比X的平方根大的连续整数，计算其正除数的和（包括1）是否等于X本身。\\n\\n根据这些情况，回答以下选择题：', 'questions': [{'question': '选择题 1：\\n数0是完全数吗？', 'options': ['是', '否'], 'answer': 'B', 'Qwen2-7B-Instruct-lora': 'B'}, {'question': '选择题 2：\\n数7是完全数吗？', 'options': ['是', '否'], 'answer': 'B', 'Qwen2-7B-Instruct-lora': 'B'}, {'question': '选择题 3：\\n数3是完全数吗？', 'options': ['是', '否'], 'answer': 'B', 'Qwen2-7B-Instruct-lora': 'B'}, {'question': '选择题 4：\\n在计算正除数和时，数6（已包含1）加上之后的连续整数直到满足条件的数，累加的总和是9。这种计算情况是否正确？', 'options': ['正确', '错误'], 'answer': 'B', 'Qwen2-7B-Instruct-lora': 'A'}], 'id': 'round1_train_data_006'}\n",
      "{'problem': '下述为五个人的出生顺序问题，每个人的出生次序不同。以下是关于他们出生顺序的已知线索：\\n\\n1. Julio出生早于Gloria。\\n2. Julio出生早于Pablo。\\n3. Miguel出生晚于Silvia。\\n4. Miguel出生晚于Pablo。\\n5. Miguel出生早于Gloria。\\n6. Julio出生晚于Silvia。\\n\\n根据以上线索，回答以下选择题：', 'questions': [{'question': '选择题 1:\\n从早到晚的出生顺序是什么？', 'options': ['Silvia, Julio, Pablo, Gloria, Miguel', 'Silvia, Julio, Pablo, Miguel, Gloria', 'Julio, Pablo, Silvia, Miguel, Gloria', 'Silvia, Julio, Miguel, Pablo, Gloria'], 'answer': 'B', 'Qwen2-7B-Instruct-lora': 'B'}, {'question': '选择题 2:\\n哪个人是第一个出生的？', 'options': ['Julio', 'Gloria', 'Silvia', 'Miguel'], 'answer': 'C', 'Qwen2-7B-Instruct-lora': 'C'}], 'id': 'round1_train_data_007'}\n",
      "{'problem': '下述为五个人的出生顺序问题，每个人的出生次序不同。以下是关于他们出生顺序的已知线索：\\n\\n1. Julio出生早于Gloria。\\n2. Julio出生早于Pablo。\\n3. Miguel出生晚于Silvia。\\n4. Miguel出生晚于Pablo。\\n5. Miguel出生早于Gloria。\\n6. Julio出生晚于Silvia。\\n\\n根据以上线索，回答以下选择题：', 'questions': [{'question': '选择题 1:\\n从早到晚的出生顺序是什么？', 'options': ['Silvia, Julio, Pablo, Gloria, Miguel', 'Silvia, Julio, Pablo, Miguel, Gloria', 'Julio, Pablo, Silvia, Miguel, Gloria', 'Silvia, Julio, Miguel, Pablo, Gloria'], 'answer': 'B', 'Qwen2-7B-Instruct-lora': 'B'}, {'question': '选择题 2:\\n哪个人是第一个出生的？', 'options': ['Julio', 'Gloria', 'Silvia', 'Miguel'], 'answer': 'C', 'Qwen2-7B-Instruct-lora': 'C'}], 'id': 'round1_train_data_007'}\n",
      "{'problem': '在一个社区中下面的居民特点已知：\\n\\n1. Lakeram是玩家。\\n2. Efaan是黑客。\\n3. David和Wakeel都喜欢动漫。\\n4. Hemrant是流氓。\\n\\n任何被分类为黑客的人也被认为是酷的。\\n\\nAcquila讨厌所有酷的人和所有的玩家。  \\nKheeram讨厌所有酷的人和喜欢动漫的人，也讨厌所有的流氓。\\n\\n此外，以下居民曾经在同一所学校上过学：\\n- Sarid和Aaliya\\n- Aaliya和Rudeshwar\\n- Rudeshwar和Christopher\\n\\n同校的关系是可以传递的，如果A和B曾经同校，B和C也同校，那么A和C亦然。\\n\\n根据以上信息，回答以下选择题。', 'questions': [{'question': '选择题 1：\\n谁讨厌Efaan？', 'options': ['Acquila', 'Kheeram', 'David', 'Wakeel'], 'answer': 'A', 'Qwen2-7B-Instruct-lora': 'A'}, {'question': '选择题 2：\\n谁讨厌Lakeram？', 'options': ['Acquila', 'Kheeram', 'David', 'Wakeel'], 'answer': 'A', 'Qwen2-7B-Instruct-lora': 'B'}, {'question': '选择题 3：\\n谁讨厌Hemrant？', 'options': ['Acquila', 'Hemrant', 'Kheeram', 'Sarid'], 'answer': 'C', 'Qwen2-7B-Instruct-lora': 'A'}, {'question': '选择题 4：\\nAaliya是否与自己曾在同一所学校上学？', 'options': ['是', '否'], 'answer': 'B', 'Qwen2-7B-Instruct-lora': 'B'}], 'id': 'round1_train_data_008'}\n",
      "{'problem': '在一个社区中下面的居民特点已知：\\n\\n1. Lakeram是玩家。\\n2. Efaan是黑客。\\n3. David和Wakeel都喜欢动漫。\\n4. Hemrant是流氓。\\n\\n任何被分类为黑客的人也被认为是酷的。\\n\\nAcquila讨厌所有酷的人和所有的玩家。  \\nKheeram讨厌所有酷的人和喜欢动漫的人，也讨厌所有的流氓。\\n\\n此外，以下居民曾经在同一所学校上过学：\\n- Sarid和Aaliya\\n- Aaliya和Rudeshwar\\n- Rudeshwar和Christopher\\n\\n同校的关系是可以传递的，如果A和B曾经同校，B和C也同校，那么A和C亦然。\\n\\n根据以上信息，回答以下选择题。', 'questions': [{'question': '选择题 1：\\n谁讨厌Efaan？', 'options': ['Acquila', 'Kheeram', 'David', 'Wakeel'], 'answer': 'A', 'Qwen2-7B-Instruct-lora': 'A'}, {'question': '选择题 2：\\n谁讨厌Lakeram？', 'options': ['Acquila', 'Kheeram', 'David', 'Wakeel'], 'answer': 'A', 'Qwen2-7B-Instruct-lora': 'B'}, {'question': '选择题 3：\\n谁讨厌Hemrant？', 'options': ['Acquila', 'Hemrant', 'Kheeram', 'Sarid'], 'answer': 'C', 'Qwen2-7B-Instruct-lora': 'A'}, {'question': '选择题 4：\\nAaliya是否与自己曾在同一所学校上学？', 'options': ['是', '否'], 'answer': 'B', 'Qwen2-7B-Instruct-lora': 'B'}], 'id': 'round1_train_data_008'}\n",
      "{'problem': '在一个社区中下面的居民特点已知：\\n\\n1. Lakeram是玩家。\\n2. Efaan是黑客。\\n3. David和Wakeel都喜欢动漫。\\n4. Hemrant是流氓。\\n\\n任何被分类为黑客的人也被认为是酷的。\\n\\nAcquila讨厌所有酷的人和所有的玩家。  \\nKheeram讨厌所有酷的人和喜欢动漫的人，也讨厌所有的流氓。\\n\\n此外，以下居民曾经在同一所学校上过学：\\n- Sarid和Aaliya\\n- Aaliya和Rudeshwar\\n- Rudeshwar和Christopher\\n\\n同校的关系是可以传递的，如果A和B曾经同校，B和C也同校，那么A和C亦然。\\n\\n根据以上信息，回答以下选择题。', 'questions': [{'question': '选择题 1：\\n谁讨厌Efaan？', 'options': ['Acquila', 'Kheeram', 'David', 'Wakeel'], 'answer': 'A', 'Qwen2-7B-Instruct-lora': 'A'}, {'question': '选择题 2：\\n谁讨厌Lakeram？', 'options': ['Acquila', 'Kheeram', 'David', 'Wakeel'], 'answer': 'A', 'Qwen2-7B-Instruct-lora': 'B'}, {'question': '选择题 3：\\n谁讨厌Hemrant？', 'options': ['Acquila', 'Hemrant', 'Kheeram', 'Sarid'], 'answer': 'C', 'Qwen2-7B-Instruct-lora': 'A'}, {'question': '选择题 4：\\nAaliya是否与自己曾在同一所学校上学？', 'options': ['是', '否'], 'answer': 'B', 'Qwen2-7B-Instruct-lora': 'B'}], 'id': 'round1_train_data_008'}\n",
      "{'problem': '在一个社区中下面的居民特点已知：\\n\\n1. Lakeram是玩家。\\n2. Efaan是黑客。\\n3. David和Wakeel都喜欢动漫。\\n4. Hemrant是流氓。\\n\\n任何被分类为黑客的人也被认为是酷的。\\n\\nAcquila讨厌所有酷的人和所有的玩家。  \\nKheeram讨厌所有酷的人和喜欢动漫的人，也讨厌所有的流氓。\\n\\n此外，以下居民曾经在同一所学校上过学：\\n- Sarid和Aaliya\\n- Aaliya和Rudeshwar\\n- Rudeshwar和Christopher\\n\\n同校的关系是可以传递的，如果A和B曾经同校，B和C也同校，那么A和C亦然。\\n\\n根据以上信息，回答以下选择题。', 'questions': [{'question': '选择题 1：\\n谁讨厌Efaan？', 'options': ['Acquila', 'Kheeram', 'David', 'Wakeel'], 'answer': 'A', 'Qwen2-7B-Instruct-lora': 'A'}, {'question': '选择题 2：\\n谁讨厌Lakeram？', 'options': ['Acquila', 'Kheeram', 'David', 'Wakeel'], 'answer': 'A', 'Qwen2-7B-Instruct-lora': 'B'}, {'question': '选择题 3：\\n谁讨厌Hemrant？', 'options': ['Acquila', 'Hemrant', 'Kheeram', 'Sarid'], 'answer': 'C', 'Qwen2-7B-Instruct-lora': 'A'}, {'question': '选择题 4：\\nAaliya是否与自己曾在同一所学校上学？', 'options': ['是', '否'], 'answer': 'B', 'Qwen2-7B-Instruct-lora': 'B'}], 'id': 'round1_train_data_008'}\n",
      "{'problem': '**自然语言测试题:**\\n\\n有三个角色：Hermione、Ron 和 Harry。以下是关于他们的一些事实及推理规则：\\n\\n1. Hermione 是女巫。\\n2. Ron 是巫师。\\n3. Harry 有一根魔杖。\\n4. Harry 是魁地奇球员。\\n5. 任何拥有扫帚和魔杖的人都是巫师。\\n6. 所有魁地奇球员都有扫帚。\\n\\n根据以上事实和规则，回答以下选择题：', 'questions': [{'question': '选择题 1：\\nHarry是不是巫师？', 'options': ['是', '不是'], 'answer': 'A', 'Qwen2-7B-Instruct-lora': 'A'}], 'id': 'round1_train_data_009'}\n",
      "21 28 0.75 0\n"
     ]
    }
   ],
   "source": [
    "evaluate(sorted_data)"
   ]
  },
  {
   "cell_type": "code",
   "execution_count": 11,
   "metadata": {
    "ExecutionIndicator": {
     "show": false
    },
    "execution": {
     "iopub.execute_input": "2024-08-20T06:23:30.866471Z",
     "iopub.status.busy": "2024-08-20T06:23:30.866155Z",
     "iopub.status.idle": "2024-08-20T06:23:30.869676Z",
     "shell.execute_reply": "2024-08-20T06:23:30.869278Z",
     "shell.execute_reply.started": "2024-08-20T06:23:30.866451Z"
    },
    "tags": []
   },
   "outputs": [
    {
     "data": {
      "text/plain": [
       "False"
      ]
     },
     "execution_count": 11,
     "metadata": {},
     "output_type": "execute_result"
    }
   ],
   "source": [
    "def format_submit_file(file):\n",
    "    validated_problem_sets = []\n",
    "    for data in file:\n",
    "        problem = data['problem']\n",
    "        questions = data['questions']\n",
    "        _id = data['id']\n",
    "        validated_questions = []\n",
    "        for question in questions:\n",
    "            answer = question['answer']\n",
    "            # 检查答案是否为大写字母\n",
    "            if len(answer) == 1 and answer.isupper():\n",
    "                validated_questions.append(question)\n",
    "            else:\n",
    "                print(f\"Invalid answer '{answer}' for question: {question['question']}\")\n",
    "        # 创建一个新的问题集字典，只包含有效的问题\n",
    "        validated_problem_set = {\n",
    "            'problem': problem,\n",
    "            'questions': validated_questions,\n",
    "            'id': _id\n",
    "        }\n",
    "        validated_problem_sets.append(validated_problem_set)\n",
    "    return validated_problem_sets"
   ]
  },
  {
   "cell_type": "code",
   "execution_count": null,
   "metadata": {},
   "outputs": [],
   "source": [
    "def write_jsonl(results, filename):\n",
    "    with open(f'result/{filename}.json', 'w',encoding='utf-8') as outfile:\n",
    "        for entry in results:\n",
    "            json.dump(entry, outfile, ensure_ascii=False)\n",
    "            outfile.write('\\n')"
   ]
  },
  {
   "cell_type": "code",
   "execution_count": null,
   "metadata": {},
   "outputs": [],
   "source": [
    "submit = format_submit_file(sorted_data)\n",
    "write_jsonl(submit,\"submit\")\n"
   ]
  }
 ],
 "metadata": {
  "kernelspec": {
   "display_name": "Python 3 (ipykernel)",
   "language": "python",
   "name": "python3"
  },
  "language_info": {
   "codemirror_mode": {
    "name": "ipython",
    "version": 3
   },
   "file_extension": ".py",
   "mimetype": "text/x-python",
   "name": "python",
   "nbconvert_exporter": "python",
   "pygments_lexer": "ipython3",
   "version": "3.10.14"
  }
 },
 "nbformat": 4,
 "nbformat_minor": 4
}
