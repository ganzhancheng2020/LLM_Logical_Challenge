{
 "cells": [
  {
   "cell_type": "code",
   "execution_count": 1,
   "id": "5f3645f3-134f-480a-93a7-271bce6255bc",
   "metadata": {
    "ExecutionIndicator": {
     "show": true
    },
    "execution": {
     "iopub.execute_input": "2024-08-15T16:12:04.604915Z",
     "iopub.status.busy": "2024-08-15T16:12:04.604673Z",
     "iopub.status.idle": "2024-08-15T16:12:04.774415Z",
     "shell.execute_reply": "2024-08-15T16:12:04.774009Z",
     "shell.execute_reply.started": "2024-08-15T16:12:04.604898Z"
    },
    "tags": []
   },
   "outputs": [],
   "source": [
    "import json\n",
    "from http import HTTPStatus\n",
    "import dashscope\n",
    "from dotenv import dotenv_values\n",
    "from retry import retry\n",
    "config = dotenv_values('.env')"
   ]
  },
  {
   "cell_type": "code",
   "execution_count": 2,
   "id": "54ac6800-b185-4661-9624-6ed32ba9eb78",
   "metadata": {
    "ExecutionIndicator": {
     "show": true
    },
    "execution": {
     "iopub.execute_input": "2024-08-15T16:12:04.775614Z",
     "iopub.status.busy": "2024-08-15T16:12:04.775345Z",
     "iopub.status.idle": "2024-08-15T16:12:04.779682Z",
     "shell.execute_reply": "2024-08-15T16:12:04.779262Z",
     "shell.execute_reply.started": "2024-08-15T16:12:04.775596Z"
    },
    "tags": []
   },
   "outputs": [],
   "source": [
    "MODEL_NAME = 'qwen-max'\n",
    "dashscope.api_key = config['qwen_key'],\n",
    "\n",
    "@retry(delay=60, tries=3)\n",
    "def call_qwen_api(MODEL_NAME, query):\n",
    "    messages = [\n",
    "        {'role': 'user', 'content': query}]\n",
    "    response = dashscope.Generation.call(\n",
    "        MODEL_NAME,\n",
    "        messages=messages,\n",
    "        result_format='message',  # set the result is message format.\n",
    "    )\n",
    "    if response.status_code == HTTPStatus.OK:\n",
    "        #print(response)\n",
    "        return response['output']['choices'][0]['message']['content']\n",
    "    else:\n",
    "        print('Request id: %s, Status code: %s, error code: %s, error message: %s' % (\n",
    "            response.request_id, response.status_code,\n",
    "            response.code, response.message\n",
    "        ))\n",
    "        raise Exception()"
   ]
  },
  {
   "cell_type": "code",
   "execution_count": 3,
   "id": "4eb180cf-37a6-494f-b70b-7ff5499ba919",
   "metadata": {
    "execution": {
     "iopub.execute_input": "2024-08-15T16:12:04.780387Z",
     "iopub.status.busy": "2024-08-15T16:12:04.780207Z",
     "iopub.status.idle": "2024-08-15T16:12:04.783400Z",
     "shell.execute_reply": "2024-08-15T16:12:04.782979Z",
     "shell.execute_reply.started": "2024-08-15T16:12:04.780373Z"
    },
    "tags": []
   },
   "outputs": [],
   "source": [
    "def get_prompt(problem, question, options):\n",
    "\n",
    "    options = '\\n'.join(f\"{'ABCDEFG'[i]}. {o}\" for i, o in enumerate(options))\n",
    "\n",
    "    prompt = f\"\"\"你是一个逻辑推理专家，擅长解决逻辑推理问题。以下是一个逻辑推理的题目，形式为单项选择题。所有的问题都是（close-world assumption）闭世界假设，即未观测事实都为假。请逐步分析问题并在最后一行输出答案，最后一行的格式为\"答案是：A\"。题目如下：\n",
    "\n",
    "### 题目:\n",
    "{problem}\n",
    "\n",
    "### 问题:\n",
    "{question}\n",
    "{options}\n",
    "\"\"\"\n",
    "\n",
    "    return prompt"
   ]
  },
  {
   "cell_type": "code",
   "execution_count": 4,
   "id": "a8c92f03-4807-4cc4-826f-d8f24e673fc1",
   "metadata": {
    "ExecutionIndicator": {
     "show": true
    },
    "execution": {
     "iopub.execute_input": "2024-08-15T16:12:04.784162Z",
     "iopub.status.busy": "2024-08-15T16:12:04.783951Z",
     "iopub.status.idle": "2024-08-15T16:12:04.786501Z",
     "shell.execute_reply": "2024-08-15T16:12:04.786051Z",
     "shell.execute_reply.started": "2024-08-15T16:12:04.784147Z"
    },
    "tags": []
   },
   "outputs": [],
   "source": [
    "def get_question_prompt(data):\n",
    "    prompt = f\"\"\"你是一个逻辑推理问题出题专家，以下json是一个problem，对应一些子问题。除了这些子问题外再生成三个其他子问题，保持格式一致并给出参考答案。\n",
    "### promble如下：\n",
    "{data}\n",
    "### 输出格式如下:\n",
    "{{\n",
    "promble:\n",
    "questions:[\n",
    "question:\n",
    "options:[]\n",
    "]\n",
    "}}\n",
    "\"\"\"\n",
    "    return prompt\n"
   ]
  },
  {
   "cell_type": "code",
   "execution_count": 5,
   "id": "781a25fa-0782-4192-a175-535727cfd590",
   "metadata": {
    "ExecutionIndicator": {
     "show": true
    },
    "execution": {
     "iopub.execute_input": "2024-08-15T16:12:04.787280Z",
     "iopub.status.busy": "2024-08-15T16:12:04.787065Z",
     "iopub.status.idle": "2024-08-15T16:12:04.790797Z",
     "shell.execute_reply": "2024-08-15T16:12:04.790369Z",
     "shell.execute_reply.started": "2024-08-15T16:12:04.787265Z"
    },
    "tags": []
   },
   "outputs": [],
   "source": [
    "def read_file(ifn):\n",
    "    # 读取输入文件\n",
    "    data = []\n",
    "    with open(ifn) as reader:\n",
    "        for line in reader:\n",
    "            # 解析每一行JSON数据\n",
    "            sample = json.loads(line)\n",
    "            data.append(sample)\n",
    "\n",
    "    return data"
   ]
  },
  {
   "cell_type": "code",
   "execution_count": 6,
   "id": "42de68a5-927e-4662-8760-de361646a961",
   "metadata": {
    "ExecutionIndicator": {
     "show": true
    },
    "execution": {
     "iopub.execute_input": "2024-08-15T16:12:04.792354Z",
     "iopub.status.busy": "2024-08-15T16:12:04.792040Z",
     "iopub.status.idle": "2024-08-15T16:12:04.794766Z",
     "shell.execute_reply": "2024-08-15T16:12:04.794353Z",
     "shell.execute_reply.started": "2024-08-15T16:12:04.792338Z"
    },
    "tags": []
   },
   "outputs": [],
   "source": [
    "def write_jsonl(data):\n",
    "    with open('data/output.jsonl', 'w', encoding='utf-8') as file:\n",
    "        for item in data:\n",
    "            json.dump(item, file)\n",
    "            file.write('\\n')"
   ]
  },
  {
   "cell_type": "code",
   "execution_count": 7,
   "id": "fd3648ae-b808-48fa-9c89-e9f6e93831ed",
   "metadata": {
    "ExecutionIndicator": {
     "show": true
    },
    "execution": {
     "iopub.execute_input": "2024-08-15T16:12:04.795510Z",
     "iopub.status.busy": "2024-08-15T16:12:04.795271Z",
     "iopub.status.idle": "2024-08-15T16:12:04.800826Z",
     "shell.execute_reply": "2024-08-15T16:12:04.800394Z",
     "shell.execute_reply.started": "2024-08-15T16:12:04.795465Z"
    },
    "tags": []
   },
   "outputs": [],
   "source": [
    "import re\n",
    "\n",
    "\n",
    "def extract_json(response):\n",
    "    # 使用正则表达式匹配 JSON 数据\n",
    "    match = re.search(r'```json\\s*(.*?)\\s*```', response, re.DOTALL)\n",
    "    if match:\n",
    "        # 如果找到了 JSON 数据，则返回清理后的 JSON 字符串\n",
    "        return match.group(1).strip()\n",
    "    else:\n",
    "        # 如果没有找到 JSON 数据，则返回原始响应\n",
    "        return response\n",
    "\n",
    "\n",
    "def process_data(data):\n",
    "    query = get_question_prompt(data)\n",
    "    respond = ''\n",
    "    try:\n",
    "        respond = call_qwen_api(MODEL_NAME, query)\n",
    "        # 清理 JSON 字符串\n",
    "        extract_json(respond)\n",
    "        # 解析 JSON 字符串\n",
    "        data = json.loads(respond)\n",
    "    except Exception as e:\n",
    "        print(respond)\n",
    "        print(f\"Error: {str(e)}\")\n",
    "    return data"
   ]
  },
  {
   "cell_type": "code",
   "execution_count": 8,
   "id": "eaa4fe23-812b-47c9-9548-fbf126ad49cb",
   "metadata": {
    "ExecutionIndicator": {
     "show": false
    },
    "execution": {
     "iopub.execute_input": "2024-08-15T16:12:04.801532Z",
     "iopub.status.busy": "2024-08-15T16:12:04.801324Z",
     "iopub.status.idle": "2024-08-15T16:12:04.813963Z",
     "shell.execute_reply": "2024-08-15T16:12:04.813551Z",
     "shell.execute_reply.started": "2024-08-15T16:12:04.801513Z"
    },
    "tags": []
   },
   "outputs": [],
   "source": [
    "file = read_file('data/round1_train_data.jsonl')"
   ]
  },
  {
   "cell_type": "code",
   "execution_count": 9,
   "id": "fa5c4abb-d27a-483f-8ebe-5fbd798ca388",
   "metadata": {
    "ExecutionIndicator": {
     "show": true
    },
    "execution": {
     "iopub.execute_input": "2024-08-15T16:12:04.814782Z",
     "iopub.status.busy": "2024-08-15T16:12:04.814504Z",
     "iopub.status.idle": "2024-08-15T16:12:50.208246Z",
     "shell.execute_reply": "2024-08-15T16:12:50.207781Z",
     "shell.execute_reply.started": "2024-08-15T16:12:04.814767Z"
    },
    "tags": []
   },
   "outputs": [
    {
     "name": "stderr",
     "output_type": "stream",
     "text": [
      " 20%|██        | 1/5 [00:32<02:10, 32.73s/it]"
     ]
    },
    {
     "name": "stdout",
     "output_type": "stream",
     "text": [
      "```json\n",
      "{\n",
      "\"problem\": \"有一个方程的系数分别为A, B和C，下面是一些已知的规则：\\n\\n1. 如果B^2 - 4AC = 0，则方程有一个实数解。\\n2. 如果B^2 - 4AC > 0，则方程有两个不同的实数解。\\n3. 如果B^2 - 4AC < 0，则方程有两个不同的复数解。\\n\\n根据以上规则，回答以下选择题：\",\n",
      "\"questions\": [\n",
      "{\"question\": \"选择题 1：\\n当系数A=7, B=9, C=5时，方程的解是什么？\", \"options\": [\"-1.2857142857142858\", \"0\", \"+(-0.6428571428571429, *(0.5486532677049005, i)) 和 -(-0.6428571428571429, *(0.5486532677049005, i))\", \"2.2857142857142856\"], \"answer\": \"C\"},\n",
      "{\"question\": \"选择题 2：\\n当系数A=7, B=9, C=5时，方程是否有解为6？\", \"options\": [\"是\", \"否\"], \"answer\": \"B\"},\n",
      "{\"question\": \"选择题 3：\\n当系数A=7, B=9, C=5时，方程是否有解为8？\", \"options\": [\"是\", \"否\"], \"answer\": \"B\"},\n",
      "{\"question\": \"选择题 4：\\n当系数A=7, B=6, C=0时，方程是否有解为6？\", \"options\": [\"是\", \"否\"], \"answer\": \"B\"},\n",
      "{\"question\": \"选择题 5：\\n如果一个方程的解为两个相同的实数解，那么B^2 - 4AC应该等于什么？\", \"options\": [\"0\", \"正数\", \"负数\"], \"answer\": \"0\"},\n",
      "{\"question\": \"选择题 6：\\n当系数A=1, B=2, C=1时，方程的解是实数还是复数？\", \"options\": [\"实数\", \"复数\"], \"answer\": \"实数\"},\n",
      "{\"question\": \"选择题 7：\\n如果B^2 - 4AC = 25，这说明方程有几个实数解？\", \"options\": [\"0\", \"1\", \"2\"], \"answer\": \"2\"}\n",
      "],\n",
      "\"id\": \"round1_train_data_001\"\n",
      "}\n",
      "```\n",
      "Error: Expecting value: line 1 column 1 (char 0)\n"
     ]
    },
    {
     "name": "stderr",
     "output_type": "stream",
     "text": [
      " 40%|████      | 2/5 [00:34<00:43, 14.51s/it]"
     ]
    },
    {
     "name": "stdout",
     "output_type": "stream",
     "text": [
      "```json\n",
      "{\n",
      "\"problem\": \"有一组程序可以用来计算两个数的最小公倍数（LCM）。该程序使用了最大公约数（GCD）来帮助计算。具体过程如下：\\n\\n1. 如果两个数相等，则它们的GCD就是其中任意一个数。\\n2. 如果第一个数小于第二个数，则用第二个数减去第一个数，并对新结果递归地计算GCD。\\n3. 如果第一个数大于第二个数，则交换两个数并递归地计算GCD。\\n\\n基于此GCD的计算，我们可以通过以下公式计算两个数的LCM：\\n\\\\[ \\\\text{LCM}(x, y) = \\\\frac{x}{\\\\text{GCD}(x, y)} \\\\times y \\\\]\\n\\n根据上述原理，请回答以下选择题：\",\n",
      "\"questions\": [\n",
      "{\"question\": \"选择题 1：\\n已知一个数和9的最小公倍数是9，这个数是多少？\", \"options\": [\"1\", \"3\", \"6\", \"9\"], \"answer\": \"D\"},\n",
      "{\"question\": \"选择题 2：\\n7和2的最小公倍数是8，这个说法正确吗？\", \"options\": [\"正确\", \"错误\", \"取决于7和2的最大公约数\", \"以上都不对\"], \"answer\": \"B\"},\n",
      "{\"question\": \"选择题 3：\\n3和9的最小公倍数是3，这个说法正确吗？\", \"options\": [\"正确\", \"错误\", \"取决于3和9的最大公约数\", \"以上都不对\"], \"answer\": \"B\"},\n",
      "{\"question\": \"选择题 4：\\n3和4的最小公倍数是3，这个说法正确吗？\", \"options\": [\"正确\", \"错误\", \"取决于3和4的最大公约数\", \"以上都不对\"], \"answer\": \"B\"},\n",
      "{\"question\": \"选择题 5：\\n如果两个数的最大公约数是1，它们的最小公倍数等于什么？\", \"options\": [\"两数之和\", \"两数之积\", \"两数中较大的那个\", \"无法确定\"], \"answer\": \"B\"},\n",
      "{\"question\": \"选择题 6：\\n计算15和25的最大公约数后，利用该GCD计算它们的最小公倍数应该是多少？\", \"options\": [\"375\", \"75\", \"150\", \"50\"], \"answer\": \"A\"},\n",
      "{\"question\": \"选择题 7：\\n若两个数分别为质数p和q（p≠q），则它们的最小公倍数为？\", \"options\": [\"pq\", \"p+q\", \"p*q\", \"gcd(p,q)\"], \"answer\": \"C\"}\n",
      "]\n",
      "\"id\": \"round1_train_data_003\"\n",
      "}\n",
      "```\n",
      "Error: Expecting value: line 1 column 1 (char 0)\n"
     ]
    },
    {
     "name": "stderr",
     "output_type": "stream",
     "text": [
      " 60%|██████    | 3/5 [00:40<00:21, 10.76s/it]"
     ]
    },
    {
     "name": "stdout",
     "output_type": "stream",
     "text": [
      "```json\n",
      "{\n",
      "\"problem\": \"在一场山地自行车比赛中，四位选手分别取得了第一、第二、第三和第四名。不同的颜色代表不同的排名。下面是一些关于这场比赛和选手排名的信息：\\n\\n1. Alan 名列第一。\\n2. 第二名的选手穿红色服装。\\n3. John 没有穿黄色服装。\\n4. 第四名的选手穿蓝色服装。\\n5. Steve 的排名和他的服装色是相同的名次。\\n6. Kev 的名次排在 Steve 前面。\\n7. 第二名的选手穿的不是青色。\\n8. 黄色服穿的选手的成绩排在绿色服穿的选手前面。\\n9. 确保每四个参数中的所有元素都不相同和符合排名顺序。\\n\\n根据上述信息， 回答以下选择题：\",\n",
      "\"questions\": [\n",
      "{\"question\": \"选择题 1:\\n根据比赛结果，排在第二名之后的可能是哪些名次？\", \"options\": [\"第一名 第三名\", \"第三名 第四名\"], \"answer\": \"B\"},\n",
      "{\"question\": \"选择题 2:\\n第一名是不是在第三名之前？\", \"options\": [\"是\", \"否\"], \"answer\": \"A\"},\n",
      "{\"question\": \"选择题 3:\\n第一名是不是在第一名之前？\", \"options\": [\"是\", \"否\"], \"answer\": \"B\"},\n",
      "{\"question\": \"选择题 4:\\n第一名是不是在第四名之前？\", \"options\": [\"是\", \"否\"], \"answer\": \"A\"},\n",
      "{\"question\": \"选择题 5:\\nSteve 有没有可能穿绿色服装？\", \"options\": [\"是\", \"否\"], \"answer\": \"否\"},\n",
      "{\"question\": \"选择题 6:\\nKev 的服装颜色能否确定？如果能，是什么颜色？\", \"options\": [\"能，红色\", \"能，黄色\", \"不能确定\"], \"answer\": \"不能确定\"},\n",
      "{\"question\": \"选择题 7:\\nJohn 的排名是否一定在第三名或第四名？\", \"options\": [\"是\", \"否\"], \"answer\": \"是\"}\n",
      "],\n",
      "\"id\": \"round1_train_data_002\"\n",
      "}\n",
      "```\n",
      "\n",
      "### 参考答案说明：\n",
      "\n",
      "- **选择题 5**: Steve 的排名和他的服装色是相同的名次，且Kev的名次在Steve前面，所以Steve不可能是第一名（已被Alan获得），也不可能是第二名（穿红色），也不可能是第四名（穿蓝色），因此Steve只能是第三名，故他不可能穿绿色服装。\n",
      "- **选择题 6**: 由于Steve穿的是与名次相同的颜色（即第三名），且第二名穿红色，第四名穿蓝色，我们无法直接从给定信息中确定Kev的服装颜色，因此答案是“不能确定”。\n",
      "- **选择题 7**: John没有穿黄色服装，而黄色服装的选手成绩在绿色服装前，结合第四名穿蓝色的信息，John只能是第三名或第四名，但由于每个名次和颜色都是唯一的，且已知第三名（Steve）的颜色与名次相同，John实际上只能是剩下的那个名次，但这个问题的表述方式要求确认John排名的限制性，所以答案是“是”。\n",
      "Error: Expecting value: line 1 column 1 (char 0)\n"
     ]
    },
    {
     "name": "stderr",
     "output_type": "stream",
     "text": [
      " 80%|████████  | 4/5 [00:44<00:07,  7.94s/it]"
     ]
    },
    {
     "name": "stdout",
     "output_type": "stream",
     "text": [
      "```json\n",
      "{\n",
      "  \"problem\": \"有一个英文到法文的词汇表，包含以下对应词汇：\\n\\n1. the -> le\\n2. cat -> chat\\n3. jumps -> sauts\\n4. over -> sur\\n5. moon -> lune\\n6. cow -> vache\\n7. plays -> joue\\n8. fiddle -> violon\\n9. egg -> œuf\\n10. falls -> tombe\\n11. off -> de\\n12. wall -> mur\\n\\n根据这个词汇表，翻译以下英文句子成法文：\",\n",
      "  \"questions\": [\n",
      "    {\n",
      "      \"question\": \"选择题 1：\\n英文句子 \\\"the cat jumps over the moon\\\" 翻译成法文是：\",\n",
      "      \"options\": [\"le chat saute sur la lune\", \"le chat sauts sur le lune\", \"le sauts chat sur le lune\", \"le chat sauts sur le lune\"],\n",
      "      \"answer\": \"A\"\n",
      "    },\n",
      "    {\n",
      "      \"question\": \"选择题 2：\\n英文句子 \\\"the cow plays the fiddle\\\" 翻译成法文是：\",\n",
      "      \"options\": [\"le vache jouer le violon\", \"le jouer vache le violon\", \"le vache jouer la vièle\", \"la vache joue le violon\"],\n",
      "      \"answer\": \"D\"\n",
      "    },\n",
      "    {\n",
      "      \"question\": \"选择题 3：\\n英文句子 \\\"the egg falls off the wall\\\" 翻译成法文是：\",\n",
      "      \"options\": [\"le bougre des chutes de le mur\", \"le oeuf tombe de le mur\", \"le bougre tomber de le mur\", \"des chutes le bougre de le mur\"],\n",
      "      \"answer\": \"B\"\n",
      "    },\n",
      "    {\n",
      "      \"question\": \"选择题 4：\\n英文句子 \\\"the dog barks at the postman\\\" 翻译成法文是：\",\n",
      "      \"options\": [\"le chien aboie au facteur\", \"le chien aboyer au facteur\", \"au chien aboie le facteur\", \"le facteur aboie au chien\"],\n",
      "      \"answer\": \"A\"\n",
      "    },\n",
      "    {\n",
      "      \"question\": \"选择题 5：\\n英文句子 \\\"the bird flies in the sky\\\" 翻译成法文是：\",\n",
      "      \"options\": [\"l'oiseau vole dans le ciel\", \"l'oiseau voler dans le ciel\", \"dans l'oiseau vole le ciel\", \"le ciel vole l'oiseau dedans\"],\n",
      "      \"answer\": \"A\"\n",
      "    },\n",
      "    {\n",
      "      \"question\": \"选择题 6：\\n英文句子 \\\"the child reads a book\\\" 翻译成法文是：\",\n",
      "      \"options\": [\"l'enfant lit un livre\", \"un livre lit l'enfant\", \"l'enfant lire un livre\", \"lit l'enfant un livre\"],\n",
      "      \"answer\": \"A\"\n",
      "    }\n",
      "  ],\n",
      "  \"id\": \"round1_train_data_000\"\n",
      "}\n",
      "```\n",
      "Error: Expecting value: line 1 column 1 (char 0)\n"
     ]
    },
    {
     "name": "stderr",
     "output_type": "stream",
     "text": [
      "100%|██████████| 5/5 [00:45<00:00,  9.08s/it]"
     ]
    },
    {
     "name": "stdout",
     "output_type": "stream",
     "text": [
      "```json\n",
      "{\n",
      "\"problem\": \"在安大略省，我们有关于不同城市及它们之间位置关系的信息。我们知道各个城市的人口以及哪些城市在给定的城市西边。以下是我们已知的信息：\\n\\n- 布兰普顿的人口是590000。\\n- 汉密尔顿的人口是540000。\\n- 金斯顿的人口是130000。\\n- 基奇纳的人口是230000。\\n- 伦敦的人口是380000。\\n- 马克翰的人口是330000。\\n- 密西沙加的人口是720000。\\n- 渥太华的人口是930000。\\n- 多伦多的人口是2700000。\\n- 旺市的人口是310000。\\n- 温莎的人口是220000。\\n\\n并且我们知道以下城市在彼此的西边：\\n\\n- 温莎在伦敦的西边。\\n- 伦敦在汉密尔顿的西边。\\n- 汉密尔顿在密西沙加的西边。\\n- 密西沙加在多伦多的西边。\\n- 多伦多在金斯顿的西边。\\n- 金斯顿在渥太华的西边。\\n- 旺市在马克翰的西边。\\n\\n还有些城市位于其他城市的北边：\\n\\n- 布兰普顿在密西沙加的北边。\\n- 基奇纳在伦敦的北边。\\n- 旺市在多伦多的北边。\\n\\n根据以上信息，回答以下选择题：\",\n",
      "\"questions\": [\n",
      "{\n",
      "\"question\": \"选择题 1：\\n位于布兰普顿以西的城市是哪一个？\",\n",
      "\"options\": [\"多伦多\", \"金斯顿\", \"渥太华\", \"汉密尔顿\"],\n",
      "\"answer\": \"D\"\n",
      "},\n",
      "{\n",
      "\"question\": \"选择题 2：\\n哪个城市的人口最多，且直接相邻于人口第二多的城市？\",\n",
      "\"options\": [\"多伦多\", \"温莎\", \"密西沙加\", \"汉密尔顿\"],\n",
      "\"answer\": \"A\"\n",
      "},\n",
      "{\n",
      "\"question\": \"选择题 3：\\n哪两个城市之间不存在直接的西-东或北-南的位置关系，但通过其他城市间接相连？\",\n",
      "\"options\": [\"基奇纳与温莎\", \"布兰普顿与金斯顿\", \"伦敦与渥太华\", \"旺市与汉密尔顿\"],\n",
      "\"answer\": \"C\"\n",
      "},\n",
      "{\n",
      "\"question\": \"选择题 4：\\n哪个城市既不在任何其他城市西边也不在北边，同时人口少于500,000？\",\n",
      "\"options\": [\"基奇纳\", \"金斯顿\", \"马克翰\", \"温莎\"],\n",
      "\"answer\": \"B\"\n",
      "}\n",
      "],\n",
      "\"id\": \"round1_train_data_004\"\n",
      "}\n",
      "```\n",
      "Error: Expecting value: line 1 column 1 (char 0)\n"
     ]
    },
    {
     "name": "stderr",
     "output_type": "stream",
     "text": [
      "\n"
     ]
    }
   ],
   "source": [
    "from tqdm import tqdm\n",
    "import concurrent.futures\n",
    "file = file[:5]\n",
    "\n",
    "# 并行批量处理\n",
    "def batch_process_questions(file, max_workers=5):\n",
    "    with concurrent.futures.ThreadPoolExecutor(max_workers=max_workers) as executor:\n",
    "        futures = [executor.submit(process_data, data) for data in file]\n",
    "        results = [future.result() for future in tqdm(concurrent.futures.as_completed(futures), total=len(file))]\n",
    "    return results\n",
    "\n",
    "results = batch_process_questions(file)\n",
    "\n",
    "write_jsonl(results)"
   ]
  },
  {
   "cell_type": "code",
   "execution_count": null,
   "id": "c2c8fd37-c64c-4c6b-943a-b5847ff337bb",
   "metadata": {},
   "outputs": [],
   "source": [
    "extract_json(response)"
   ]
  },
  {
   "cell_type": "code",
   "execution_count": null,
   "id": "8ce44156-fef8-411c-b8ed-5733ac546165",
   "metadata": {},
   "outputs": [],
   "source": []
  }
 ],
 "metadata": {
  "kernelspec": {
   "display_name": "Python 3 (ipykernel)",
   "language": "python",
   "name": "python3"
  },
  "language_info": {
   "codemirror_mode": {
    "name": "ipython",
    "version": 3
   },
   "file_extension": ".py",
   "mimetype": "text/x-python",
   "name": "python",
   "nbconvert_exporter": "python",
   "pygments_lexer": "ipython3",
   "version": "3.10.14"
  }
 },
 "nbformat": 4,
 "nbformat_minor": 5
}
