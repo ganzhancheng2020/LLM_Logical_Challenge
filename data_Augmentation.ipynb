{
 "cells": [
  {
   "cell_type": "code",
   "execution_count": 1,
   "id": "5f3645f3-134f-480a-93a7-271bce6255bc",
   "metadata": {
    "ExecutionIndicator": {
     "show": true
    },
    "execution": {
     "iopub.execute_input": "2024-08-15T15:20:59.821577Z",
     "iopub.status.busy": "2024-08-15T15:20:59.821400Z",
     "iopub.status.idle": "2024-08-15T15:20:59.992105Z",
     "shell.execute_reply": "2024-08-15T15:20:59.991693Z",
     "shell.execute_reply.started": "2024-08-15T15:20:59.821557Z"
    },
    "tags": []
   },
   "outputs": [],
   "source": [
    "import json\n",
    "from http import HTTPStatus\n",
    "import dashscope\n",
    "from dotenv import dotenv_values\n",
    "from retry import retry\n",
    "config = dotenv_values('.env')"
   ]
  },
  {
   "cell_type": "code",
   "execution_count": 2,
   "id": "54ac6800-b185-4661-9624-6ed32ba9eb78",
   "metadata": {
    "ExecutionIndicator": {
     "show": true
    },
    "execution": {
     "iopub.execute_input": "2024-08-15T15:20:59.993394Z",
     "iopub.status.busy": "2024-08-15T15:20:59.993048Z",
     "iopub.status.idle": "2024-08-15T15:20:59.997054Z",
     "shell.execute_reply": "2024-08-15T15:20:59.996658Z",
     "shell.execute_reply.started": "2024-08-15T15:20:59.993378Z"
    },
    "tags": []
   },
   "outputs": [],
   "source": [
    "MODEL_NAME = 'qwen-max'\n",
    "dashscope.api_key = config['qwen_key'],\n",
    "\n",
    "@retry(delay=60, tries=3)\n",
    "def call_qwen_api(MODEL_NAME, query):\n",
    "    messages = [\n",
    "        {'role': 'user', 'content': query}]\n",
    "    response = dashscope.Generation.call(\n",
    "        MODEL_NAME,\n",
    "        messages=messages,\n",
    "        result_format='message',  # set the result is message format.\n",
    "    )\n",
    "    if response.status_code == HTTPStatus.OK:\n",
    "        #print(response)\n",
    "        return response['output']['choices'][0]['message']['content']\n",
    "    else:\n",
    "        print('Request id: %s, Status code: %s, error code: %s, error message: %s' % (\n",
    "            response.request_id, response.status_code,\n",
    "            response.code, response.message\n",
    "        ))\n",
    "        raise Exception()"
   ]
  },
  {
   "cell_type": "code",
   "execution_count": 3,
   "id": "4eb180cf-37a6-494f-b70b-7ff5499ba919",
   "metadata": {
    "execution": {
     "iopub.execute_input": "2024-08-15T15:20:59.997840Z",
     "iopub.status.busy": "2024-08-15T15:20:59.997576Z",
     "iopub.status.idle": "2024-08-15T15:21:00.001429Z",
     "shell.execute_reply": "2024-08-15T15:21:00.000874Z",
     "shell.execute_reply.started": "2024-08-15T15:20:59.997825Z"
    },
    "tags": []
   },
   "outputs": [],
   "source": [
    "def get_prompt(problem, question, options):\n",
    "\n",
    "    options = '\\n'.join(f\"{'ABCDEFG'[i]}. {o}\" for i, o in enumerate(options))\n",
    "\n",
    "    prompt = f\"\"\"你是一个逻辑推理专家，擅长解决逻辑推理问题。以下是一个逻辑推理的题目，形式为单项选择题。所有的问题都是（close-world assumption）闭世界假设，即未观测事实都为假。请逐步分析问题并在最后一行输出答案，最后一行的格式为\"答案是：A\"。题目如下：\n",
    "\n",
    "### 题目:\n",
    "{problem}\n",
    "\n",
    "### 问题:\n",
    "{question}\n",
    "{options}\n",
    "\"\"\"\n",
    "\n",
    "    return prompt"
   ]
  },
  {
   "cell_type": "code",
   "execution_count": 4,
   "id": "a8c92f03-4807-4cc4-826f-d8f24e673fc1",
   "metadata": {
    "ExecutionIndicator": {
     "show": false
    },
    "execution": {
     "iopub.execute_input": "2024-08-15T15:21:00.002633Z",
     "iopub.status.busy": "2024-08-15T15:21:00.002395Z",
     "iopub.status.idle": "2024-08-15T15:21:00.005512Z",
     "shell.execute_reply": "2024-08-15T15:21:00.004946Z",
     "shell.execute_reply.started": "2024-08-15T15:21:00.002613Z"
    },
    "tags": []
   },
   "outputs": [],
   "source": [
    "def get_question_prompt(data):\n",
    "    prompt = f\"\"\"你是一个逻辑推理问题出题专家，以下json是一个problem，对应一些子问题。除了这些子问题外再生成三个其他子问题，保持格式一致并给出参考答案。\n",
    "## problem如下\n",
    "{data}\n",
    "## 输出格式如下\n",
    "'''json{{\n",
    "promble:''\n",
    "questions:[\n",
    "question:''\n",
    "options:[]\n",
    "]\n",
    "}}...\n",
    "\"\"\"\n",
    "    return prompt\n"
   ]
  },
  {
   "cell_type": "code",
   "execution_count": 5,
   "id": "781a25fa-0782-4192-a175-535727cfd590",
   "metadata": {
    "ExecutionIndicator": {
     "show": true
    },
    "execution": {
     "iopub.execute_input": "2024-08-15T15:21:00.006165Z",
     "iopub.status.busy": "2024-08-15T15:21:00.005997Z",
     "iopub.status.idle": "2024-08-15T15:21:00.010994Z",
     "shell.execute_reply": "2024-08-15T15:21:00.010540Z",
     "shell.execute_reply.started": "2024-08-15T15:21:00.006148Z"
    },
    "tags": []
   },
   "outputs": [],
   "source": [
    "def read_file(ifn):\n",
    "    # 读取输入文件\n",
    "    data = []\n",
    "    with open(ifn) as reader:\n",
    "        for line in reader:\n",
    "            # 解析每一行JSON数据\n",
    "            sample = json.loads(line)\n",
    "            data.append(sample)\n",
    "\n",
    "    return data"
   ]
  },
  {
   "cell_type": "code",
   "execution_count": 6,
   "id": "42de68a5-927e-4662-8760-de361646a961",
   "metadata": {
    "ExecutionIndicator": {
     "show": true
    },
    "execution": {
     "iopub.execute_input": "2024-08-15T15:21:00.012451Z",
     "iopub.status.busy": "2024-08-15T15:21:00.012103Z",
     "iopub.status.idle": "2024-08-15T15:21:00.014909Z",
     "shell.execute_reply": "2024-08-15T15:21:00.014460Z",
     "shell.execute_reply.started": "2024-08-15T15:21:00.012437Z"
    },
    "tags": []
   },
   "outputs": [],
   "source": [
    "def write_jsonl(data):\n",
    "    with open('data/output.jsonl', 'w', encoding='utf-8') as file:\n",
    "        for item in data:\n",
    "            json.dump(item, file)\n",
    "            file.write('\\n')"
   ]
  },
  {
   "cell_type": "code",
   "execution_count": 13,
   "id": "fd3648ae-b808-48fa-9c89-e9f6e93831ed",
   "metadata": {
    "ExecutionIndicator": {
     "show": true
    },
    "execution": {
     "iopub.execute_input": "2024-08-15T15:33:56.631017Z",
     "iopub.status.busy": "2024-08-15T15:33:56.630696Z",
     "iopub.status.idle": "2024-08-15T15:33:56.635994Z",
     "shell.execute_reply": "2024-08-15T15:33:56.634126Z",
     "shell.execute_reply.started": "2024-08-15T15:33:56.630999Z"
    },
    "tags": []
   },
   "outputs": [],
   "source": [
    "def process_data(data):\n",
    "    query = get_question_prompt(data)\n",
    "    try:\n",
    "        respond = call_qwen_api(MODEL_NAME, query)\n",
    "        # 清理 JSON 字符串\n",
    "        if respond.startswith('```json'):\n",
    "            # 如果有前缀，则清理\n",
    "            respond = respond.replace('```json', '', 1).replace('```', '')\n",
    "        # 解析 JSON 字符串\n",
    "        data = json.loads(respond)\n",
    "    except Exception as e:\n",
    "        print(data)\n",
    "        print(f\"Error: {str(e)}\")\n",
    "    return data"
   ]
  },
  {
   "cell_type": "code",
   "execution_count": 11,
   "id": "eaa4fe23-812b-47c9-9548-fbf126ad49cb",
   "metadata": {
    "ExecutionIndicator": {
     "show": false
    },
    "execution": {
     "iopub.execute_input": "2024-08-15T15:23:00.482288Z",
     "iopub.status.busy": "2024-08-15T15:23:00.481960Z",
     "iopub.status.idle": "2024-08-15T15:23:00.515110Z",
     "shell.execute_reply": "2024-08-15T15:23:00.514581Z",
     "shell.execute_reply.started": "2024-08-15T15:23:00.482269Z"
    },
    "tags": []
   },
   "outputs": [],
   "source": [
    "file = read_file('data/round1_train_data.jsonl')"
   ]
  },
  {
   "cell_type": "code",
   "execution_count": 12,
   "id": "fa5c4abb-d27a-483f-8ebe-5fbd798ca388",
   "metadata": {
    "ExecutionIndicator": {
     "show": true
    },
    "execution": {
     "iopub.execute_input": "2024-08-15T15:23:03.311247Z",
     "iopub.status.busy": "2024-08-15T15:23:03.310914Z",
     "iopub.status.idle": "2024-08-15T15:23:47.000064Z",
     "shell.execute_reply": "2024-08-15T15:23:46.999474Z",
     "shell.execute_reply.started": "2024-08-15T15:23:03.311228Z"
    },
    "tags": []
   },
   "outputs": [
    {
     "name": "stderr",
     "output_type": "stream",
     "text": [
      " 80%|████████  | 4/5 [00:42<00:06,  6.66s/it]"
     ]
    },
    {
     "name": "stdout",
     "output_type": "stream",
     "text": [
      "{'problem': '有一组程序可以用来计算两个数的最小公倍数（LCM）。该程序使用了最大公约数（GCD）来帮助计算。具体过程如下：\\n\\n1. 如果两个数相等，则它们的GCD就是其中任意一个数。\\n2. 如果第一个数小于第二个数，则用第二个数减去第一个数，并对新结果递归地计算GCD。\\n3. 如果第一个数大于第二个数，则交换两个数并递归地计算GCD。\\n\\n基于此GCD的计算，我们可以通过以下公式计算两个数的LCM：\\n\\\\[ \\\\text{LCM}(x, y) = \\\\frac{x}{\\\\text{GCD}(x, y)} \\\\times y \\\\]\\n\\n根据上述原理，请回答以下选择题：', 'questions': [{'question': '选择题 1：\\n已知一个数和9的最小公倍数是9，这个数是多少？', 'options': ['1', '3', '6', '9'], 'answer': 'D'}, {'question': '选择题 2：\\n7和2的最小公倍数是8，这个说法正确吗？', 'options': ['正确', '错误', '取决于7和2的最大公约数', '以上都不对'], 'answer': 'B'}, {'question': '选择题 3：\\n3和9的最小公倍数是3，这个说法正确吗？', 'options': ['正确', '错误', '取决于3和9的最大公约数', '以上都不对'], 'answer': 'B'}, {'question': '选择题 4：\\n3和4的最小公倍数是3，这个说法正确吗？', 'options': ['正确', '错误', '取决于3和4的最大公约数', '以上都不对'], 'answer': 'B'}], 'id': 'round1_train_data_003'}\n",
      "Error: Expecting value: line 5 column 61 (char 381)\n"
     ]
    },
    {
     "name": "stderr",
     "output_type": "stream",
     "text": [
      "100%|██████████| 5/5 [00:43<00:00,  8.74s/it]"
     ]
    },
    {
     "name": "stdout",
     "output_type": "stream",
     "text": [
      "{'problem': '在一场山地自行车比赛中，四位选手分别取得了第一、第二、第三和第四名。不同的颜色代表不同的排名。下面是一些关于这场比赛和选手排名的信息：\\n\\n1. Alan 名列第一。\\n2. 第二名的选手穿红色服装。\\n3. John 没有穿黄色服装。\\n4. 第四名的选手穿蓝色服装。\\n5. Steve 的排名和他的服装色是相同的名次。\\n6. Kev 的名次排在 Steve 前面。\\n7. 第二名的选手穿的不是青色。\\n8. 黄色服穿的选手的成绩排在绿色服穿的选手前面。\\n9. 确保每四个参数中的所有元素都不相同和符合排名顺序。\\n\\n根据上述信息， 回答以下选择题：', 'questions': [{'question': '选择题 1:\\n根据比赛结果，排在第二名之后的可能是哪些名次？', 'options': ['第一名 第三名', '第三名 第四名'], 'answer': 'B'}, {'question': '选择题 2:\\n第一名是不是在第三名之前？', 'options': ['是', '否'], 'answer': 'A'}, {'question': '选择题 3:\\n第一名是不是在第一名之前？', 'options': ['是', '否'], 'answer': 'B'}, {'question': '选择题 4:\\n第一名是不是在第四名之前？', 'options': ['是', '否'], 'answer': 'A'}], 'id': 'round1_train_data_002'}\n",
      "Error: Extra data: line 17 column 1 (char 979)\n"
     ]
    },
    {
     "name": "stderr",
     "output_type": "stream",
     "text": [
      "\n"
     ]
    }
   ],
   "source": [
    "from tqdm import tqdm\n",
    "import concurrent.futures\n",
    "file = file[:5]\n",
    "\n",
    "# 并行批量处理\n",
    "def batch_process_questions(file, max_workers=5):\n",
    "    with concurrent.futures.ThreadPoolExecutor(max_workers=max_workers) as executor:\n",
    "        futures = [executor.submit(process_data, data) for data in file]\n",
    "        results = [future.result() for future in tqdm(concurrent.futures.as_completed(futures), total=len(file))]\n",
    "    return results\n",
    "\n",
    "results = batch_process_questions(file)\n",
    "\n",
    "write_jsonl(results)"
   ]
  }
 ],
 "metadata": {
  "kernelspec": {
   "display_name": "Python 3 (ipykernel)",
   "language": "python",
   "name": "python3"
  },
  "language_info": {
   "codemirror_mode": {
    "name": "ipython",
    "version": 3
   },
   "file_extension": ".py",
   "mimetype": "text/x-python",
   "name": "python",
   "nbconvert_exporter": "python",
   "pygments_lexer": "ipython3",
   "version": "3.10.14"
  }
 },
 "nbformat": 4,
 "nbformat_minor": 5
}
