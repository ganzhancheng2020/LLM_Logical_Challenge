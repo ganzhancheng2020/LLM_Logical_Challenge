{
 "cells": [
  {
   "cell_type": "code",
   "execution_count": 36,
   "id": "5f3645f3-134f-480a-93a7-271bce6255bc",
   "metadata": {
    "ExecutionIndicator": {
     "show": true
    },
    "execution": {
     "iopub.execute_input": "2024-08-15T10:57:08.121102Z",
     "iopub.status.busy": "2024-08-15T10:57:08.120788Z",
     "iopub.status.idle": "2024-08-15T10:57:08.124270Z",
     "shell.execute_reply": "2024-08-15T10:57:08.123844Z",
     "shell.execute_reply.started": "2024-08-15T10:57:08.121082Z"
    },
    "tags": []
   },
   "outputs": [],
   "source": [
    "import json\n",
    "from http import HTTPStatus\n",
    "import dashscope\n",
    "from dotenv import dotenv_values\n",
    "from retry import retry\n",
    "config = dotenv_values('.env')"
   ]
  },
  {
   "cell_type": "code",
   "execution_count": 37,
   "id": "54ac6800-b185-4661-9624-6ed32ba9eb78",
   "metadata": {
    "ExecutionIndicator": {
     "show": true
    },
    "execution": {
     "iopub.execute_input": "2024-08-15T10:57:09.052819Z",
     "iopub.status.busy": "2024-08-15T10:57:09.052523Z",
     "iopub.status.idle": "2024-08-15T10:57:09.056826Z",
     "shell.execute_reply": "2024-08-15T10:57:09.056398Z",
     "shell.execute_reply.started": "2024-08-15T10:57:09.052800Z"
    },
    "tags": []
   },
   "outputs": [],
   "source": [
    "MODEL_NAME = 'qwen-max'\n",
    "dashscope.api_key = config['qwen_key'],\n",
    "\n",
    "@retry(delay=60, tries=3)\n",
    "def call_qwen_api(MODEL_NAME, query):\n",
    "    messages = [\n",
    "        {'role': 'user', 'content': query}]\n",
    "    response = dashscope.Generation.call(\n",
    "        MODEL_NAME,\n",
    "        messages=messages,\n",
    "        result_format='message',  # set the result is message format.\n",
    "    )\n",
    "    if response.status_code == HTTPStatus.OK:\n",
    "        #print(response)\n",
    "        return response['output']['choices'][0]['message']['content']\n",
    "    else:\n",
    "        print('Request id: %s, Status code: %s, error code: %s, error message: %s' % (\n",
    "            response.request_id, response.status_code,\n",
    "            response.code, response.message\n",
    "        ))\n",
    "        raise Exception()"
   ]
  },
  {
   "cell_type": "code",
   "execution_count": 38,
   "id": "4eb180cf-37a6-494f-b70b-7ff5499ba919",
   "metadata": {
    "execution": {
     "iopub.execute_input": "2024-08-15T10:57:10.687784Z",
     "iopub.status.busy": "2024-08-15T10:57:10.687462Z",
     "iopub.status.idle": "2024-08-15T10:57:10.690966Z",
     "shell.execute_reply": "2024-08-15T10:57:10.690544Z",
     "shell.execute_reply.started": "2024-08-15T10:57:10.687764Z"
    },
    "tags": []
   },
   "outputs": [],
   "source": [
    "def get_prompt(problem, question, options):\n",
    "\n",
    "    options = '\\n'.join(f\"{'ABCDEFG'[i]}. {o}\" for i, o in enumerate(options))\n",
    "\n",
    "    prompt = f\"\"\"你是一个逻辑推理专家，擅长解决逻辑推理问题。以下是一个逻辑推理的题目，形式为单项选择题。所有的问题都是（close-world assumption）闭世界假设，即未观测事实都为假。请逐步分析问题并在最后一行输出答案，最后一行的格式为\"答案是：A\"。题目如下：\n",
    "\n",
    "### 题目:\n",
    "{problem}\n",
    "\n",
    "### 问题:\n",
    "{question}\n",
    "{options}\n",
    "\"\"\"\n",
    "\n",
    "    return prompt"
   ]
  },
  {
   "cell_type": "code",
   "execution_count": 39,
   "id": "a8c92f03-4807-4cc4-826f-d8f24e673fc1",
   "metadata": {
    "ExecutionIndicator": {
     "show": true
    },
    "execution": {
     "iopub.execute_input": "2024-08-15T10:57:12.096044Z",
     "iopub.status.busy": "2024-08-15T10:57:12.095736Z",
     "iopub.status.idle": "2024-08-15T10:57:12.099021Z",
     "shell.execute_reply": "2024-08-15T10:57:12.098600Z",
     "shell.execute_reply.started": "2024-08-15T10:57:12.096024Z"
    },
    "tags": []
   },
   "outputs": [],
   "source": [
    "def get_question_prompt(data):\n",
    "    prompt = f\"\"\"# Role \n",
    "你是一个逻辑推理问题出题专家。以下是一个包含问题的 JSON 数据。请在原有子问题的基础上，额外生成三个新的子问题，保持格式一致并给出参考答案。\n",
    "\n",
    "## Skills\n",
    "1. 逻辑推理问题的设计与编写\n",
    "2. 生成符合既定格式的题目\n",
    "3. 提供高质量的参考答案\n",
    "\n",
    "## Rules\n",
    "1. 新生成的子问题需与原有问题逻辑一致。\n",
    "2. 保持 JSON 数据的格式统一。\n",
    "3. 提供的参考答案应清晰、准确。\n",
    "4. 仅按照JSON格式回复。\n",
    "\n",
    "## Workflows\n",
    "1. 分析现有的 JSON 数据及其子问题。\n",
    "2. 设计三个新的逻辑推理子问题。\n",
    "3. 编写对应的参考答案。\n",
    "4. 确保格式的一致性与准确性。\n",
    "\n",
    "## JSON数据如下\n",
    "{data}\n",
    "\"\"\"\n",
    "    return prompt\n"
   ]
  },
  {
   "cell_type": "code",
   "execution_count": 40,
   "id": "781a25fa-0782-4192-a175-535727cfd590",
   "metadata": {
    "ExecutionIndicator": {
     "show": true
    },
    "execution": {
     "iopub.execute_input": "2024-08-15T10:57:13.978441Z",
     "iopub.status.busy": "2024-08-15T10:57:13.978122Z",
     "iopub.status.idle": "2024-08-15T10:57:13.981389Z",
     "shell.execute_reply": "2024-08-15T10:57:13.980969Z",
     "shell.execute_reply.started": "2024-08-15T10:57:13.978422Z"
    },
    "tags": []
   },
   "outputs": [],
   "source": [
    "def read_file(ifn):\n",
    "    # 读取输入文件\n",
    "    data = []\n",
    "    with open(ifn) as reader:\n",
    "        for line in reader:\n",
    "            # 解析每一行JSON数据\n",
    "            sample = json.loads(line)\n",
    "            data.append(sample)\n",
    "\n",
    "    return data"
   ]
  },
  {
   "cell_type": "markdown",
   "id": "36854b9f-cc5a-4934-baf2-f795885a7965",
   "metadata": {},
   "source": []
  },
  {
   "cell_type": "code",
   "execution_count": 41,
   "id": "eaa4fe23-812b-47c9-9548-fbf126ad49cb",
   "metadata": {
    "execution": {
     "iopub.execute_input": "2024-08-15T10:57:15.920431Z",
     "iopub.status.busy": "2024-08-15T10:57:15.920090Z",
     "iopub.status.idle": "2024-08-15T10:57:15.929043Z",
     "shell.execute_reply": "2024-08-15T10:57:15.928625Z",
     "shell.execute_reply.started": "2024-08-15T10:57:15.920411Z"
    },
    "tags": []
   },
   "outputs": [],
   "source": [
    "data = read_file('data/round1_train_data.jsonl')"
   ]
  },
  {
   "cell_type": "code",
   "execution_count": 43,
   "id": "1a2ae3ad-6e09-4083-b01f-d712760ac815",
   "metadata": {
    "ExecutionIndicator": {
     "show": true
    },
    "execution": {
     "iopub.execute_input": "2024-08-15T10:57:21.383575Z",
     "iopub.status.busy": "2024-08-15T10:57:21.383236Z",
     "iopub.status.idle": "2024-08-15T10:58:07.202656Z",
     "shell.execute_reply": "2024-08-15T10:58:07.202222Z",
     "shell.execute_reply.started": "2024-08-15T10:57:21.383557Z"
    },
    "tags": []
   },
   "outputs": [
    {
     "data": {
      "text/plain": [
       "'```json\\n{\\n  \"problem\": \"有一个英文到法文的词汇表，包含以下对应词汇：\\\\n\\\\n1. the -> le\\\\n2. cat -> chat\\\\n3. jumps -> sauts\\\\n4. over -> sur\\\\n5. moon -> lune\\\\n6. cow -> vache\\\\n7. plays -> joue\\\\n8. fiddle -> violon\\\\n9. egg -> œuf\\\\n10. falls -> tombe\\\\n11. off -> de\\\\n12. wall -> mur\\\\n\\\\n根据这个词汇表，翻译以下英文句子成法文：\",\\n  \"questions\": [\\n    {\\n      \"question\": \"选择题 1：\\\\n英文句子 \\\\\"the cat jumps over the moon\\\\\" 翻译成法文是：\",\\n      \"options\": [\"le chat saute sur la lune\", \"le chat sauts sur le lune\", \"le sauts chat sur le lune\", \"le chat sauts sur le lune\"],\\n      \"answer\": \"A\"\\n    },\\n    {\\n      \"question\": \"选择题 2：\\\\n英文句子 \\\\\"the cow plays the fiddle\\\\\" 翻译成法文是：\",\\n      \"options\": [\"le vache jouer le violon\", \"le jouer vache le violon\", \"le vache jouer la vièle\", \"la vache joue le violon\"],\\n      \"answer\": \"D\"\\n    },\\n    {\\n      \"question\": \"选择题 3：\\\\n英文句子 \\\\\"the egg falls off the wall\\\\\" 翻译成法文是：\",\\n      \"options\": [\"le bougre des chutes de le mur\", \"le oeuf tombe de le mur\", \"le bougre tomber de le mur\", \"des chutes le bougre de le mur\"],\\n      \"answer\": \"B\"\\n    },\\n    {\\n      \"question\": \"选择题 4：\\\\n英文句子 \\\\\"the cat plays with the egg\\\\\" 翻译成法文是：\",\\n      \"options\": [\"le chat joue avec l\\'œuf\", \"le chat joue de l\\'œuf\", \"le joue chat avec l\\'œuf\", \"le chat joue l\\'œuf avec\"],\\n      \"answer\": \"A\"\\n    },\\n    {\\n      \"question\": \"选择题 5：\\\\n英文句子 \\\\\"the moon shines over the cow\\\\\" 翻译成法文是：\",\\n      \"options\": [\"la lune brille sur la vache\", \"la lune briller sur la vache\", \"sur la vache brille la lune\", \"la vache brille sous la lune\"],\\n      \"answer\": \"A\"\\n    },\\n    {\\n      \"question\": \"选择题 6：\\\\n英文句子 \\\\\"the dog jumps off the table\\\\\" 翻译成法文是：\",\\n      \"options\": [\"le chien saute de la table\", \"le chien sauts de la table\", \"de la table saute le chien\", \"le sauts chien de la table\"],\\n      \"answer\": \"A\"\\n    }\\n  ],\\n  \"id\": \"round1_train_data_000\"\\n}\\n```'"
      ]
     },
     "execution_count": 43,
     "metadata": {},
     "output_type": "execute_result"
    }
   ],
   "source": [
    "query = get_question_prompt(data[0])\n",
    "call_qwen_api(MODEL_NAME, query)"
   ]
  }
 ],
 "metadata": {
  "kernelspec": {
   "display_name": "Python 3 (ipykernel)",
   "language": "python",
   "name": "python3"
  },
  "language_info": {
   "codemirror_mode": {
    "name": "ipython",
    "version": 3
   },
   "file_extension": ".py",
   "mimetype": "text/x-python",
   "name": "python",
   "nbconvert_exporter": "python",
   "pygments_lexer": "ipython3",
   "version": "3.10.14"
  }
 },
 "nbformat": 4,
 "nbformat_minor": 5
}
