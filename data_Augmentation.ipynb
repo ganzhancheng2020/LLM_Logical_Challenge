{
 "cells": [
  {
   "cell_type": "code",
   "execution_count": 1,
   "id": "5f3645f3-134f-480a-93a7-271bce6255bc",
   "metadata": {
    "ExecutionIndicator": {
     "show": true
    },
    "execution": {
     "iopub.execute_input": "2024-08-16T03:01:48.538032Z",
     "iopub.status.busy": "2024-08-16T03:01:48.537894Z",
     "iopub.status.idle": "2024-08-16T03:01:48.711021Z",
     "shell.execute_reply": "2024-08-16T03:01:48.710562Z",
     "shell.execute_reply.started": "2024-08-16T03:01:48.538016Z"
    },
    "tags": []
   },
   "outputs": [],
   "source": [
    "import json\n",
    "from http import HTTPStatus\n",
    "import dashscope\n",
    "from dotenv import dotenv_values\n",
    "from retry import retry\n",
    "config = dotenv_values('.env')"
   ]
  },
  {
   "cell_type": "code",
   "execution_count": 2,
   "id": "54ac6800-b185-4661-9624-6ed32ba9eb78",
   "metadata": {
    "ExecutionIndicator": {
     "show": true
    },
    "execution": {
     "iopub.execute_input": "2024-08-16T03:01:48.712329Z",
     "iopub.status.busy": "2024-08-16T03:01:48.712078Z",
     "iopub.status.idle": "2024-08-16T03:01:48.716112Z",
     "shell.execute_reply": "2024-08-16T03:01:48.715733Z",
     "shell.execute_reply.started": "2024-08-16T03:01:48.712313Z"
    },
    "tags": []
   },
   "outputs": [],
   "source": [
    "MODEL_NAME = 'qwen-max'\n",
    "dashscope.api_key = config['qwen_key'],\n",
    "\n",
    "@retry(delay=60, tries=3)\n",
    "def call_qwen_api(MODEL_NAME, query):\n",
    "    messages = [\n",
    "        {'role': 'user', 'content': query}]\n",
    "    response = dashscope.Generation.call(\n",
    "        MODEL_NAME,\n",
    "        messages=messages,\n",
    "        result_format='message',  # set the result is message format.\n",
    "    )\n",
    "    if response.status_code == HTTPStatus.OK:\n",
    "        #print(response)\n",
    "        return response['output']['choices'][0]['message']['content']\n",
    "    else:\n",
    "        print('Request id: %s, Status code: %s, error code: %s, error message: %s' % (\n",
    "            response.request_id, response.status_code,\n",
    "            response.code, response.message\n",
    "        ))\n",
    "        raise Exception()"
   ]
  },
  {
   "cell_type": "code",
   "execution_count": 3,
   "id": "4eb180cf-37a6-494f-b70b-7ff5499ba919",
   "metadata": {
    "execution": {
     "iopub.execute_input": "2024-08-16T03:01:48.716760Z",
     "iopub.status.busy": "2024-08-16T03:01:48.716613Z",
     "iopub.status.idle": "2024-08-16T03:01:48.719757Z",
     "shell.execute_reply": "2024-08-16T03:01:48.719375Z",
     "shell.execute_reply.started": "2024-08-16T03:01:48.716736Z"
    },
    "tags": []
   },
   "outputs": [],
   "source": [
    "def get_prompt(problem, question, options):\n",
    "\n",
    "    options = '\\n'.join(f\"{'ABCDEFG'[i]}. {o}\" for i, o in enumerate(options))\n",
    "\n",
    "    prompt = f\"\"\"你是一个逻辑推理专家，擅长解决逻辑推理问题。以下是一个逻辑推理的题目，形式为单项选择题。所有的问题都是（close-world assumption）闭世界假设，即未观测事实都为假。请逐步分析问题并在最后一行输出答案，最后一行的格式为\"答案是：A\"。题目如下：\n",
    "\n",
    "### 题目:\n",
    "{problem}\n",
    "\n",
    "### 问题:\n",
    "{question}\n",
    "{options}\n",
    "\"\"\"\n",
    "\n",
    "    return prompt"
   ]
  },
  {
   "cell_type": "code",
   "execution_count": 4,
   "id": "a8c92f03-4807-4cc4-826f-d8f24e673fc1",
   "metadata": {
    "ExecutionIndicator": {
     "show": true
    },
    "execution": {
     "iopub.execute_input": "2024-08-16T03:01:48.720506Z",
     "iopub.status.busy": "2024-08-16T03:01:48.720260Z",
     "iopub.status.idle": "2024-08-16T03:01:48.722865Z",
     "shell.execute_reply": "2024-08-16T03:01:48.722483Z",
     "shell.execute_reply.started": "2024-08-16T03:01:48.720491Z"
    },
    "tags": []
   },
   "outputs": [],
   "source": [
    "def get_question_prompt(data):\n",
    "    prompt = f\"\"\"你是一个逻辑推理问题出题专家，以下JSON是一个problem，对应一些子问题。除了这些子问题外再生成三个其他子问题，保持格式一致并给出参考答案。answer格式为子母序号：\"A\"\n",
    "### promble如下：\n",
    "{data}\n",
    "### 输出格式如下:\n",
    "{{\n",
    "promble:\n",
    "questions:[\n",
    "question:\n",
    "options:[]\n",
    "answer:\n",
    "]\n",
    "id:\n",
    "}}\n",
    "\"\"\"\n",
    "    return prompt\n"
   ]
  },
  {
   "cell_type": "code",
   "execution_count": 5,
   "id": "781a25fa-0782-4192-a175-535727cfd590",
   "metadata": {
    "ExecutionIndicator": {
     "show": true
    },
    "execution": {
     "iopub.execute_input": "2024-08-16T03:01:48.723584Z",
     "iopub.status.busy": "2024-08-16T03:01:48.723385Z",
     "iopub.status.idle": "2024-08-16T03:01:48.726113Z",
     "shell.execute_reply": "2024-08-16T03:01:48.725696Z",
     "shell.execute_reply.started": "2024-08-16T03:01:48.723569Z"
    },
    "tags": []
   },
   "outputs": [],
   "source": [
    "def read_file(ifn):\n",
    "    # 读取输入文件\n",
    "    data = []\n",
    "    with open(ifn) as reader:\n",
    "        for line in reader:\n",
    "            # 解析每一行JSON数据\n",
    "            sample = json.loads(line)\n",
    "            data.append(sample)\n",
    "\n",
    "    return data"
   ]
  },
  {
   "cell_type": "code",
   "execution_count": 6,
   "id": "42de68a5-927e-4662-8760-de361646a961",
   "metadata": {
    "ExecutionIndicator": {
     "show": true
    },
    "execution": {
     "iopub.execute_input": "2024-08-16T03:01:48.726737Z",
     "iopub.status.busy": "2024-08-16T03:01:48.726599Z",
     "iopub.status.idle": "2024-08-16T03:01:48.729735Z",
     "shell.execute_reply": "2024-08-16T03:01:48.729399Z",
     "shell.execute_reply.started": "2024-08-16T03:01:48.726724Z"
    },
    "tags": []
   },
   "outputs": [],
   "source": [
    "def write_jsonl(results, filename):\n",
    "    with open(f'data/{filename}.json', 'w',encoding='utf-8') as outfile:\n",
    "        for entry in results:\n",
    "            json.dump(entry, outfile, ensure_ascii=False)\n",
    "            outfile.write('\\n')\n",
    "            \n",
    "def write_json(data, filename):\n",
    "    with open(f'data/{filename}.json', 'w',encoding='utf-8') as file:\n",
    "        json.dump(data, file)"
   ]
  },
  {
   "cell_type": "code",
   "execution_count": 7,
   "id": "fd3648ae-b808-48fa-9c89-e9f6e93831ed",
   "metadata": {
    "ExecutionIndicator": {
     "show": true
    },
    "execution": {
     "iopub.execute_input": "2024-08-16T03:01:48.731118Z",
     "iopub.status.busy": "2024-08-16T03:01:48.730914Z",
     "iopub.status.idle": "2024-08-16T03:01:48.734435Z",
     "shell.execute_reply": "2024-08-16T03:01:48.734047Z",
     "shell.execute_reply.started": "2024-08-16T03:01:48.731104Z"
    },
    "tags": []
   },
   "outputs": [],
   "source": [
    "import re\n",
    "\n",
    "\n",
    "def extract_json(response):\n",
    "    # 使用正则表达式匹配 JSON 数据\n",
    "    match = re.search(r'```json\\s*(.*?)\\s*```', response, re.DOTALL)\n",
    "    if match:\n",
    "        # 如果找到了 JSON 数据，则返回清理后的 JSON 字符串\n",
    "        return match.group(1).strip()\n",
    "    else:\n",
    "        # 如果没有找到 JSON 数据，则返回原始响应\n",
    "        return response\n",
    "\n",
    "\n",
    "def process_data(data):\n",
    "    query = get_question_prompt(data)\n",
    "    respond = ''\n",
    "    try:\n",
    "        respond = call_qwen_api(MODEL_NAME, query)\n",
    "        # 清理 JSON 字符串\n",
    "        respond = extract_json(respond)\n",
    "        # 解析 JSON 字符串\n",
    "        data = json.loads(respond)\n",
    "    except Exception as e:\n",
    "        #print(respond)\n",
    "        print(f\"Error: {str(e)}\")\n",
    "    return data"
   ]
  },
  {
   "cell_type": "code",
   "execution_count": 8,
   "id": "eaa4fe23-812b-47c9-9548-fbf126ad49cb",
   "metadata": {
    "ExecutionIndicator": {
     "show": false
    },
    "execution": {
     "iopub.execute_input": "2024-08-16T03:01:48.735163Z",
     "iopub.status.busy": "2024-08-16T03:01:48.734986Z",
     "iopub.status.idle": "2024-08-16T03:01:48.746262Z",
     "shell.execute_reply": "2024-08-16T03:01:48.745861Z",
     "shell.execute_reply.started": "2024-08-16T03:01:48.735149Z"
    },
    "tags": []
   },
   "outputs": [],
   "source": [
    "file = read_file('data/round1_train_data.jsonl')"
   ]
  },
  {
   "cell_type": "code",
   "execution_count": 9,
   "id": "fa5c4abb-d27a-483f-8ebe-5fbd798ca388",
   "metadata": {
    "ExecutionIndicator": {
     "show": true
    },
    "execution": {
     "iopub.execute_input": "2024-08-16T03:01:48.747118Z",
     "iopub.status.busy": "2024-08-16T03:01:48.746836Z",
     "iopub.status.idle": "2024-08-16T04:10:26.038262Z",
     "shell.execute_reply": "2024-08-16T04:10:26.037794Z",
     "shell.execute_reply.started": "2024-08-16T03:01:48.747099Z"
    },
    "tags": []
   },
   "outputs": [
    {
     "name": "stderr",
     "output_type": "stream",
     "text": [
      "  1%|          | 6/500 [01:13<1:28:21, 10.73s/it]"
     ]
    },
    {
     "name": "stdout",
     "output_type": "stream",
     "text": [
      "Error: Expecting value: line 6 column 13 (char 400)\n"
     ]
    },
    {
     "name": "stderr",
     "output_type": "stream",
     "text": [
      "  3%|▎         | 13/500 [02:00<58:30,  7.21s/it]  "
     ]
    },
    {
     "name": "stdout",
     "output_type": "stream",
     "text": [
      "Error: Expecting value: line 6 column 13 (char 230)\n"
     ]
    },
    {
     "name": "stderr",
     "output_type": "stream",
     "text": [
      "  4%|▍         | 19/500 [02:48<55:48,  6.96s/it]  "
     ]
    },
    {
     "name": "stdout",
     "output_type": "stream",
     "text": [
      "Request id: 00249c6a-b572-9f01-ad4b-fc70ba2a9f0d, Status code: 400, error code: DataInspectionFailed, error message: Output data may contain inappropriate content.\n"
     ]
    },
    {
     "name": "stderr",
     "output_type": "stream",
     "text": [
      "  6%|▌         | 28/500 [04:28<1:25:11, 10.83s/it]"
     ]
    },
    {
     "name": "stdout",
     "output_type": "stream",
     "text": [
      "Error: Expecting value: line 6 column 13 (char 347)\n",
      "Request id: 94fe2504-d10d-9685-9900-f654df48bb7b, Status code: 400, error code: DataInspectionFailed, error message: Output data may contain inappropriate content.\n"
     ]
    },
    {
     "name": "stderr",
     "output_type": "stream",
     "text": [
      "  7%|▋         | 37/500 [05:54<1:04:30,  8.36s/it]"
     ]
    },
    {
     "name": "stdout",
     "output_type": "stream",
     "text": [
      "Error: Unterminated string starting at: line 2 column 12 (char 13)\n"
     ]
    },
    {
     "name": "stderr",
     "output_type": "stream",
     "text": [
      "  8%|▊         | 40/500 [06:28<1:23:23, 10.88s/it]"
     ]
    },
    {
     "name": "stdout",
     "output_type": "stream",
     "text": [
      "Request id: 404d39a4-6dd5-9aa5-a2e4-71cdc1cc167a, Status code: 400, error code: DataInspectionFailed, error message: Output data may contain inappropriate content.\n",
      "Error: \n"
     ]
    },
    {
     "name": "stderr",
     "output_type": "stream",
     "text": [
      " 10%|█         | 52/500 [07:54<57:50,  7.75s/it]  "
     ]
    },
    {
     "name": "stdout",
     "output_type": "stream",
     "text": [
      "Error: Expecting value: line 11 column 13 (char 524)\n"
     ]
    },
    {
     "name": "stderr",
     "output_type": "stream",
     "text": [
      " 12%|█▏        | 62/500 [09:13<32:16,  4.42s/it]  "
     ]
    },
    {
     "name": "stdout",
     "output_type": "stream",
     "text": [
      "Error: Expecting value: line 8 column 72 (char 560)\n"
     ]
    },
    {
     "name": "stderr",
     "output_type": "stream",
     "text": [
      " 13%|█▎        | 64/500 [09:50<1:17:33, 10.67s/it]"
     ]
    },
    {
     "name": "stdout",
     "output_type": "stream",
     "text": [
      "Error: Expecting value: line 6 column 13 (char 593)\n"
     ]
    },
    {
     "name": "stderr",
     "output_type": "stream",
     "text": [
      " 15%|█▌        | 77/500 [11:41<1:06:32,  9.44s/it]"
     ]
    },
    {
     "name": "stdout",
     "output_type": "stream",
     "text": [
      "Error: Expecting value: line 6 column 13 (char 1147)\n"
     ]
    },
    {
     "name": "stderr",
     "output_type": "stream",
     "text": [
      " 16%|█▌        | 79/500 [11:50<49:56,  7.12s/it]  "
     ]
    },
    {
     "name": "stdout",
     "output_type": "stream",
     "text": [
      "Error: Expecting value: line 6 column 13 (char 200)\n"
     ]
    },
    {
     "name": "stderr",
     "output_type": "stream",
     "text": [
      " 17%|█▋        | 83/500 [12:16<35:30,  5.11s/it]  "
     ]
    },
    {
     "name": "stdout",
     "output_type": "stream",
     "text": [
      "Error: Expecting value: line 5 column 58 (char 160)\n"
     ]
    },
    {
     "name": "stderr",
     "output_type": "stream",
     "text": [
      " 25%|██▌       | 126/500 [18:31<1:25:18, 13.69s/it]"
     ]
    },
    {
     "name": "stdout",
     "output_type": "stream",
     "text": [
      "Error: Expecting ',' delimiter: line 16 column 147 (char 742)\n"
     ]
    },
    {
     "name": "stderr",
     "output_type": "stream",
     "text": [
      " 29%|██▉       | 147/500 [21:08<48:37,  8.26s/it]  "
     ]
    },
    {
     "name": "stdout",
     "output_type": "stream",
     "text": [
      "Error: Unterminated string starting at: line 2 column 12 (char 13)\n"
     ]
    },
    {
     "name": "stderr",
     "output_type": "stream",
     "text": [
      " 31%|███       | 154/500 [21:51<31:16,  5.42s/it]"
     ]
    },
    {
     "name": "stdout",
     "output_type": "stream",
     "text": [
      "Error: Expecting value: line 4 column 1 (char 117)\n"
     ]
    },
    {
     "name": "stderr",
     "output_type": "stream",
     "text": [
      " 36%|███▌      | 180/500 [25:41<47:50,  8.97s/it]  "
     ]
    },
    {
     "name": "stdout",
     "output_type": "stream",
     "text": [
      "Error: Expecting value: line 6 column 13 (char 163)\n"
     ]
    },
    {
     "name": "stderr",
     "output_type": "stream",
     "text": [
      " 37%|███▋      | 187/500 [26:31<43:40,  8.37s/it]"
     ]
    },
    {
     "name": "stdout",
     "output_type": "stream",
     "text": [
      "Error: Expecting value: line 6 column 13 (char 219)\n"
     ]
    },
    {
     "name": "stderr",
     "output_type": "stream",
     "text": [
      " 42%|████▏     | 208/500 [29:23<38:54,  7.99s/it]  "
     ]
    },
    {
     "name": "stdout",
     "output_type": "stream",
     "text": [
      "Error: Expecting value: line 6 column 13 (char 428)\n"
     ]
    },
    {
     "name": "stderr",
     "output_type": "stream",
     "text": [
      " 45%|████▍     | 224/500 [31:33<31:30,  6.85s/it]"
     ]
    },
    {
     "name": "stdout",
     "output_type": "stream",
     "text": [
      "Error: Invalid \\escape: line 2 column 85 (char 86)\n"
     ]
    },
    {
     "name": "stderr",
     "output_type": "stream",
     "text": [
      " 49%|████▊     | 243/500 [34:00<29:22,  6.86s/it]"
     ]
    },
    {
     "name": "stdout",
     "output_type": "stream",
     "text": [
      "Error: Expecting value: line 6 column 13 (char 444)\n"
     ]
    },
    {
     "name": "stderr",
     "output_type": "stream",
     "text": [
      " 49%|████▉     | 245/500 [34:27<42:57, 10.11s/it]"
     ]
    },
    {
     "name": "stdout",
     "output_type": "stream",
     "text": [
      "Error: Expecting value: line 6 column 13 (char 752)\n"
     ]
    },
    {
     "name": "stderr",
     "output_type": "stream",
     "text": [
      " 50%|█████     | 251/500 [35:14<31:17,  7.54s/it]"
     ]
    },
    {
     "name": "stdout",
     "output_type": "stream",
     "text": [
      "Error: Expecting value: line 6 column 13 (char 229)\n"
     ]
    },
    {
     "name": "stderr",
     "output_type": "stream",
     "text": [
      " 53%|█████▎    | 265/500 [37:10<27:47,  7.10s/it]"
     ]
    },
    {
     "name": "stdout",
     "output_type": "stream",
     "text": [
      "Error: Expecting property name enclosed in double quotes: line 2 column 1 (char 2)\n"
     ]
    },
    {
     "name": "stderr",
     "output_type": "stream",
     "text": [
      " 54%|█████▍    | 269/500 [37:50<34:31,  8.97s/it]"
     ]
    },
    {
     "name": "stdout",
     "output_type": "stream",
     "text": [
      "Error: Unterminated string starting at: line 2 column 12 (char 13)\n"
     ]
    },
    {
     "name": "stderr",
     "output_type": "stream",
     "text": [
      " 54%|█████▍    | 272/500 [38:14<37:24,  9.84s/it]"
     ]
    },
    {
     "name": "stdout",
     "output_type": "stream",
     "text": [
      "Error: Expecting value: line 5 column 13 (char 262)\n"
     ]
    },
    {
     "name": "stderr",
     "output_type": "stream",
     "text": [
      " 57%|█████▋    | 285/500 [39:33<16:00,  4.47s/it]"
     ]
    },
    {
     "name": "stdout",
     "output_type": "stream",
     "text": [
      "Error: Expecting ',' delimiter: line 2 column 66 (char 67)\n"
     ]
    },
    {
     "name": "stderr",
     "output_type": "stream",
     "text": [
      " 63%|██████▎   | 316/500 [43:54<23:07,  7.54s/it]"
     ]
    },
    {
     "name": "stdout",
     "output_type": "stream",
     "text": [
      "Error: Expecting value: line 4 column 218 (char 519)\n"
     ]
    },
    {
     "name": "stderr",
     "output_type": "stream",
     "text": [
      " 73%|███████▎  | 364/500 [50:20<19:51,  8.76s/it]"
     ]
    },
    {
     "name": "stdout",
     "output_type": "stream",
     "text": [
      "Error: Unterminated string starting at: line 2 column 12 (char 13)\n"
     ]
    },
    {
     "name": "stderr",
     "output_type": "stream",
     "text": [
      " 78%|███████▊  | 388/500 [53:36<13:26,  7.20s/it]"
     ]
    },
    {
     "name": "stdout",
     "output_type": "stream",
     "text": [
      "Error: Unterminated string starting at: line 2 column 12 (char 13)\n"
     ]
    },
    {
     "name": "stderr",
     "output_type": "stream",
     "text": [
      " 78%|███████▊  | 390/500 [53:57<17:09,  9.36s/it]"
     ]
    },
    {
     "name": "stdout",
     "output_type": "stream",
     "text": [
      "Error: Unterminated string starting at: line 2 column 12 (char 13)\n"
     ]
    },
    {
     "name": "stderr",
     "output_type": "stream",
     "text": [
      " 78%|███████▊  | 391/500 [54:00<13:24,  7.38s/it]"
     ]
    },
    {
     "name": "stdout",
     "output_type": "stream",
     "text": [
      "Error: Expecting value: line 6 column 13 (char 367)\n"
     ]
    },
    {
     "name": "stderr",
     "output_type": "stream",
     "text": [
      " 79%|███████▉  | 396/500 [54:48<16:17,  9.39s/it]"
     ]
    },
    {
     "name": "stdout",
     "output_type": "stream",
     "text": [
      "Error: Expecting value: line 6 column 13 (char 473)\n"
     ]
    },
    {
     "name": "stderr",
     "output_type": "stream",
     "text": [
      " 83%|████████▎ | 416/500 [57:32<09:20,  6.67s/it]"
     ]
    },
    {
     "name": "stdout",
     "output_type": "stream",
     "text": [
      "Error: Expecting value: line 6 column 13 (char 396)\n"
     ]
    },
    {
     "name": "stderr",
     "output_type": "stream",
     "text": [
      " 89%|████████▊ | 443/500 [1:00:57<06:50,  7.21s/it]"
     ]
    },
    {
     "name": "stdout",
     "output_type": "stream",
     "text": [
      "Error: Expecting value: line 6 column 13 (char 311)\n"
     ]
    },
    {
     "name": "stderr",
     "output_type": "stream",
     "text": [
      " 90%|█████████ | 452/500 [1:02:12<08:11, 10.24s/it]"
     ]
    },
    {
     "name": "stdout",
     "output_type": "stream",
     "text": [
      "Error: Expecting value: line 6 column 13 (char 264)\n"
     ]
    },
    {
     "name": "stderr",
     "output_type": "stream",
     "text": [
      " 91%|█████████ | 454/500 [1:02:18<05:11,  6.77s/it]"
     ]
    },
    {
     "name": "stdout",
     "output_type": "stream",
     "text": [
      "Error: Unterminated string starting at: line 2 column 12 (char 13)\n"
     ]
    },
    {
     "name": "stderr",
     "output_type": "stream",
     "text": [
      " 92%|█████████▏| 458/500 [1:02:47<04:12,  6.00s/it]"
     ]
    },
    {
     "name": "stdout",
     "output_type": "stream",
     "text": [
      "Error: Expecting value: line 6 column 13 (char 451)\n"
     ]
    },
    {
     "name": "stderr",
     "output_type": "stream",
     "text": [
      " 96%|█████████▋| 482/500 [1:05:58<02:00,  6.70s/it]"
     ]
    },
    {
     "name": "stdout",
     "output_type": "stream",
     "text": [
      "Error: Expecting value: line 6 column 13 (char 594)\n"
     ]
    },
    {
     "name": "stderr",
     "output_type": "stream",
     "text": [
      " 97%|█████████▋| 483/500 [1:06:03<01:43,  6.06s/it]"
     ]
    },
    {
     "name": "stdout",
     "output_type": "stream",
     "text": [
      "Error: Expecting value: line 6 column 65 (char 309)\n"
     ]
    },
    {
     "name": "stderr",
     "output_type": "stream",
     "text": [
      "100%|██████████| 500/500 [1:08:37<00:00,  8.23s/it]\n"
     ]
    }
   ],
   "source": [
    "from tqdm import tqdm\n",
    "import concurrent.futures\n",
    "#file = file[:5]\n",
    "\n",
    "# 并行批量处理\n",
    "def batch_process_questions(file, max_workers=5):\n",
    "    with concurrent.futures.ThreadPoolExecutor(max_workers=max_workers) as executor:\n",
    "        futures = [executor.submit(process_data, data) for data in file]\n",
    "        results = [future.result() for future in tqdm(concurrent.futures.as_completed(futures), total=len(file))]\n",
    "    return results\n",
    "\n",
    "results = batch_process_questions(file)\n",
    "\n",
    "write_json(results,\"output\")"
   ]
  }
 ],
 "metadata": {
  "kernelspec": {
   "display_name": "Python 3 (ipykernel)",
   "language": "python",
   "name": "python3"
  },
  "language_info": {
   "codemirror_mode": {
    "name": "ipython",
    "version": 3
   },
   "file_extension": ".py",
   "mimetype": "text/x-python",
   "name": "python",
   "nbconvert_exporter": "python",
   "pygments_lexer": "ipython3",
   "version": "3.10.14"
  }
 },
 "nbformat": 4,
 "nbformat_minor": 5
}
